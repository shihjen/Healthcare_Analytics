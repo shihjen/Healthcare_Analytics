{
 "cells": [
  {
   "cell_type": "markdown",
   "id": "fc1ffb79-5d6f-4605-b26d-8cdfd7be583f",
   "metadata": {},
   "source": [
    "## Breast Cancer Prediction"
   ]
  },
  {
   "cell_type": "markdown",
   "id": "0d45e9d1-8fb7-4826-9150-0fce15c8cd0f",
   "metadata": {},
   "source": [
    "### Source of Dataset\n",
    "\n",
    "UCI Machine Learning Repository: [Breast Cancer Coimbra](https://archive.ics.uci.edu/dataset/451/breast+cancer+coimbra)"
   ]
  },
  {
   "cell_type": "markdown",
   "id": "b681ec94-ecae-4c83-bad9-07ab6837b9aa",
   "metadata": {},
   "source": [
    "### Import Essential Dependencies"
   ]
  },
  {
   "cell_type": "code",
   "execution_count": 1,
   "id": "4003cb12",
   "metadata": {},
   "outputs": [],
   "source": [
    "# import essential libraries\n",
    "import pandas as pd\n",
    "import numpy as np\n",
    "import matplotlib.pyplot as plt\n",
    "import seaborn as sns\n",
    "\n",
    "%matplotlib inline"
   ]
  },
  {
   "cell_type": "markdown",
   "id": "46252c53-a4be-42c2-99fc-08e5329e8cbc",
   "metadata": {},
   "source": [
    "### Dataset Loading"
   ]
  },
  {
   "cell_type": "code",
   "execution_count": 2,
   "id": "cb40ed20",
   "metadata": {},
   "outputs": [
    {
     "name": "stdout",
     "output_type": "stream",
     "text": [
      "(116, 10)\n"
     ]
    },
    {
     "data": {
      "text/html": [
       "<div>\n",
       "<style scoped>\n",
       "    .dataframe tbody tr th:only-of-type {\n",
       "        vertical-align: middle;\n",
       "    }\n",
       "\n",
       "    .dataframe tbody tr th {\n",
       "        vertical-align: top;\n",
       "    }\n",
       "\n",
       "    .dataframe thead th {\n",
       "        text-align: right;\n",
       "    }\n",
       "</style>\n",
       "<table border=\"1\" class=\"dataframe\">\n",
       "  <thead>\n",
       "    <tr style=\"text-align: right;\">\n",
       "      <th></th>\n",
       "      <th>Age</th>\n",
       "      <th>BMI</th>\n",
       "      <th>Glucose</th>\n",
       "      <th>Insulin</th>\n",
       "      <th>HOMA</th>\n",
       "      <th>Leptin</th>\n",
       "      <th>Adiponectin</th>\n",
       "      <th>Resistin</th>\n",
       "      <th>MCP.1</th>\n",
       "      <th>Classification</th>\n",
       "    </tr>\n",
       "  </thead>\n",
       "  <tbody>\n",
       "    <tr>\n",
       "      <th>0</th>\n",
       "      <td>48</td>\n",
       "      <td>23.500000</td>\n",
       "      <td>70</td>\n",
       "      <td>2.707</td>\n",
       "      <td>0.467409</td>\n",
       "      <td>8.8071</td>\n",
       "      <td>9.702400</td>\n",
       "      <td>7.99585</td>\n",
       "      <td>417.114</td>\n",
       "      <td>1</td>\n",
       "    </tr>\n",
       "    <tr>\n",
       "      <th>1</th>\n",
       "      <td>83</td>\n",
       "      <td>20.690495</td>\n",
       "      <td>92</td>\n",
       "      <td>3.115</td>\n",
       "      <td>0.706897</td>\n",
       "      <td>8.8438</td>\n",
       "      <td>5.429285</td>\n",
       "      <td>4.06405</td>\n",
       "      <td>468.786</td>\n",
       "      <td>1</td>\n",
       "    </tr>\n",
       "    <tr>\n",
       "      <th>2</th>\n",
       "      <td>82</td>\n",
       "      <td>23.124670</td>\n",
       "      <td>91</td>\n",
       "      <td>4.498</td>\n",
       "      <td>1.009651</td>\n",
       "      <td>17.9393</td>\n",
       "      <td>22.432040</td>\n",
       "      <td>9.27715</td>\n",
       "      <td>554.697</td>\n",
       "      <td>1</td>\n",
       "    </tr>\n",
       "    <tr>\n",
       "      <th>3</th>\n",
       "      <td>68</td>\n",
       "      <td>21.367521</td>\n",
       "      <td>77</td>\n",
       "      <td>3.226</td>\n",
       "      <td>0.612725</td>\n",
       "      <td>9.8827</td>\n",
       "      <td>7.169560</td>\n",
       "      <td>12.76600</td>\n",
       "      <td>928.220</td>\n",
       "      <td>1</td>\n",
       "    </tr>\n",
       "    <tr>\n",
       "      <th>4</th>\n",
       "      <td>86</td>\n",
       "      <td>21.111111</td>\n",
       "      <td>92</td>\n",
       "      <td>3.549</td>\n",
       "      <td>0.805386</td>\n",
       "      <td>6.6994</td>\n",
       "      <td>4.819240</td>\n",
       "      <td>10.57635</td>\n",
       "      <td>773.920</td>\n",
       "      <td>1</td>\n",
       "    </tr>\n",
       "  </tbody>\n",
       "</table>\n",
       "</div>"
      ],
      "text/plain": [
       "   Age        BMI  Glucose  Insulin      HOMA   Leptin  Adiponectin  Resistin  \\\n",
       "0   48  23.500000       70    2.707  0.467409   8.8071     9.702400   7.99585   \n",
       "1   83  20.690495       92    3.115  0.706897   8.8438     5.429285   4.06405   \n",
       "2   82  23.124670       91    4.498  1.009651  17.9393    22.432040   9.27715   \n",
       "3   68  21.367521       77    3.226  0.612725   9.8827     7.169560  12.76600   \n",
       "4   86  21.111111       92    3.549  0.805386   6.6994     4.819240  10.57635   \n",
       "\n",
       "     MCP.1  Classification  \n",
       "0  417.114               1  \n",
       "1  468.786               1  \n",
       "2  554.697               1  \n",
       "3  928.220               1  \n",
       "4  773.920               1  "
      ]
     },
     "execution_count": 2,
     "metadata": {},
     "output_type": "execute_result"
    }
   ],
   "source": [
    "# load the dataset\n",
    "data = pd.read_csv('../data/Coimbra_breast_cancer_dataset.csv')\n",
    "\n",
    "# check the dimension of the dataset\n",
    "print(data.shape)\n",
    "\n",
    "# view the first 5 rows of the dataset\n",
    "data.head()"
   ]
  },
  {
   "cell_type": "markdown",
   "id": "befdea52",
   "metadata": {},
   "source": [
    "### Attributes Description:\n",
    "\n",
    "1. Age (years): Age of the individuals.\n",
    "2. BMI (kg/m²): Body Mass Index, a measure of body fat based on weight and height.\n",
    "3. Glucose (mg/dL): Blood glucose levels, an important metabolic indicator.\n",
    "4. Insulin (µU/mL): Insulin levels, a hormone related to glucose regulation.\n",
    "5. HOMA: Homeostatic Model Assessment, a method for assessing insulin resistance and beta-cell function.\n",
    "6. Leptin (ng/mL): Leptin levels, a hormone involved in regulating appetite and energy balance.\n",
    "7. Adiponectin (µg/mL): Adiponectin levels, a protein associated with metabolic regulation.\n",
    "8. Resistin (ng/mL): Resistin levels, a protein implicated in insulin resistance.\n",
    "9. MCP-1 (pg/dL): Monocyte Chemoattractant Protein-1, a cytokine involved in inflammation.\n",
    "10. Classification: 1: Healthy Controls, 2: Patients"
   ]
  },
  {
   "cell_type": "code",
   "execution_count": 3,
   "id": "a2672841",
   "metadata": {},
   "outputs": [
    {
     "name": "stdout",
     "output_type": "stream",
     "text": [
      "<class 'pandas.core.frame.DataFrame'>\n",
      "RangeIndex: 116 entries, 0 to 115\n",
      "Data columns (total 10 columns):\n",
      " #   Column          Non-Null Count  Dtype  \n",
      "---  ------          --------------  -----  \n",
      " 0   Age             116 non-null    int64  \n",
      " 1   BMI             116 non-null    float64\n",
      " 2   Glucose         116 non-null    int64  \n",
      " 3   Insulin         116 non-null    float64\n",
      " 4   HOMA            116 non-null    float64\n",
      " 5   Leptin          116 non-null    float64\n",
      " 6   Adiponectin     116 non-null    float64\n",
      " 7   Resistin        116 non-null    float64\n",
      " 8   MCP.1           116 non-null    float64\n",
      " 9   Classification  116 non-null    int64  \n",
      "dtypes: float64(7), int64(3)\n",
      "memory usage: 9.2 KB\n"
     ]
    }
   ],
   "source": [
    "# top level overview of the dataset\n",
    "data.info()"
   ]
  },
  {
   "cell_type": "markdown",
   "id": "d83a46f8-4c40-4017-acb1-fb7e2f1480f8",
   "metadata": {},
   "source": [
    "### Exploratory Data Analysis (EDA)"
   ]
  },
  {
   "cell_type": "markdown",
   "id": "8dabaa23",
   "metadata": {},
   "source": [
    "#### Distribution of Samples by Labels `Healthy Control` vs `Patients`"
   ]
  },
  {
   "cell_type": "code",
   "execution_count": 4,
   "id": "c48fd8e3",
   "metadata": {},
   "outputs": [
    {
     "data": {
      "image/png": "[encoded data removed]",
      "text/plain": [
       "<Figure size 1080x360 with 2 Axes>"
      ]
     },
     "metadata": {
      "needs_background": "light"
     },
     "output_type": "display_data"
    }
   ],
   "source": [
    "# distribution of the samples by labels\n",
    "\n",
    "labels = data['Classification'].value_counts()\n",
    "colors = ['lightgreen','lightcoral']\n",
    "\n",
    "# visualization (bar chart and pie chart)\n",
    "figure, axes = plt.subplots(1,2, figsize=(15,5), gridspec_kw={'width_ratios':[1.5,1]})\n",
    "axes[0].barh(y=labels.index.astype(str), width=labels.values, color=colors)\n",
    "axes[0].set_xlabel('Frequency')\n",
    "\n",
    "for index, values in enumerate(labels):\n",
    "    axes[0].text(values+1, index, str(values), va='center')\n",
    "\n",
    "axes[0].grid(alpha=0.4)\n",
    "\n",
    "axes[1].pie(labels.values, labels=labels.index, colors=colors, explode=([0.05]*len(labels.index)), autopct='%.2f%%')\n",
    "figure.suptitle('Distribution of Samples (Healthy Controls vs. Patients)', fontsize=15)\n",
    "plt.tight_layout(pad=1)\n",
    "plt.show()"
   ]
  },
  {
   "cell_type": "code",
   "execution_count": 5,
   "id": "5373463c",
   "metadata": {},
   "outputs": [],
   "source": [
    "# define a helper function to perform the statistical analysis\n",
    "from scipy.stats import ttest_ind\n",
    "\n",
    "def analyzed(feature):\n",
    "    # visualization (histogram and boxplot)\n",
    "    figure, axes = plt.subplots(1,2, figsize=(15,5), gridspec_kw={'width_ratios':[1.5,1]})\n",
    "    sns.histplot(data=data, x=data[feature], hue=data['Classification'], bins=15, palette=colors, ax=axes[0])\n",
    "    axes[0].grid(alpha=0.4)\n",
    "    sns.boxplot(data=data, x=data['Classification'], y=data[feature], palette=colors, ax=axes[1])\n",
    "    axes[1].grid(alpha=0.4)\n",
    "    figure.suptitle(f'Distribution of {feature} between Healthy Controls and Patients', fontsize=15)\n",
    "    plt.tight_layout(pad=1)\n",
    "    plt.show()\n",
    "\n",
    "    # display the summary statistic\n",
    "    groups = data.groupby('Classification')\n",
    "    display(groups[feature].describe())\n",
    "\n",
    "    controls = groups.get_group(1)\n",
    "    patients = groups.get_group(2)\n",
    "\n",
    "    # perform independent T-test to compare between 2 groups\n",
    "    res = ttest_ind(controls[feature], patients[feature])\n",
    "    test_stat = round(res[0], 4)\n",
    "    pvalue = round(res[1], 4)\n",
    "\n",
    "    print('Test statistic: ', test_stat)\n",
    "    print('Test p-value: ', pvalue)\n",
    "\n",
    "    alpha = 0.05\n",
    "    if pvalue < alpha:\n",
    "        print(f'Reject null hypothesis. There is a statistically significant difference of the mean {feature} between health controls and patients. Statistically significant association between {feature} and breast cancer exists in the analyzed data.')\n",
    "    else:\n",
    "        print(f'Failed to reject null hypothesis. Lack of evidence to conclude a statistically significant association between {feature} and breast cancer in the analyzed data.')"
   ]
  },
  {
   "cell_type": "markdown",
   "id": "75fefe09",
   "metadata": {},
   "source": [
    "#### Question 1 | Is there a statistically significant association between age and breast cancer, as evidenced by a difference in the age distribution between patient and control groups?"
   ]
  },
  {
   "cell_type": "code",
   "execution_count": 6,
   "id": "e33f5181",
   "metadata": {},
   "outputs": [
    {
     "name": "stderr",
     "output_type": "stream",
     "text": [
      "C:\\Users\\65814\\AppData\\Local\\Temp\\ipykernel_1140\\3438313220.py:9: FutureWarning: \n",
      "\n",
      "Passing `palette` without assigning `hue` is deprecated and will be removed in v0.14.0. Assign the `x` variable to `hue` and set `legend=False` for the same effect.\n",
      "\n",
      "  sns.boxplot(data=data, x=data['Classification'], y=data[feature], palette=colors, ax=axes[1])\n"
     ]
    },
    {
     "data": {
      "image/png": "[encoded data removed]",
      "text/plain": [
       "<Figure size 1080x360 with 2 Axes>"
      ]
     },
     "metadata": {
      "needs_background": "light"
     },
     "output_type": "display_data"
    },
    {
     "data": {
      "text/html": [
       "<div>\n",
       "<style scoped>\n",
       "    .dataframe tbody tr th:only-of-type {\n",
       "        vertical-align: middle;\n",
       "    }\n",
       "\n",
       "    .dataframe tbody tr th {\n",
       "        vertical-align: top;\n",
       "    }\n",
       "\n",
       "    .dataframe thead th {\n",
       "        text-align: right;\n",
       "    }\n",
       "</style>\n",
       "<table border=\"1\" class=\"dataframe\">\n",
       "  <thead>\n",
       "    <tr style=\"text-align: right;\">\n",
       "      <th></th>\n",
       "      <th>count</th>\n",
       "      <th>mean</th>\n",
       "      <th>std</th>\n",
       "      <th>min</th>\n",
       "      <th>25%</th>\n",
       "      <th>50%</th>\n",
       "      <th>75%</th>\n",
       "      <th>max</th>\n",
       "    </tr>\n",
       "    <tr>\n",
       "      <th>Classification</th>\n",
       "      <th></th>\n",
       "      <th></th>\n",
       "      <th></th>\n",
       "      <th></th>\n",
       "      <th></th>\n",
       "      <th></th>\n",
       "      <th></th>\n",
       "      <th></th>\n",
       "    </tr>\n",
       "  </thead>\n",
       "  <tbody>\n",
       "    <tr>\n",
       "      <th>1</th>\n",
       "      <td>52.0</td>\n",
       "      <td>58.076923</td>\n",
       "      <td>18.957999</td>\n",
       "      <td>24.0</td>\n",
       "      <td>41.75</td>\n",
       "      <td>65.0</td>\n",
       "      <td>75.0</td>\n",
       "      <td>89.0</td>\n",
       "    </tr>\n",
       "    <tr>\n",
       "      <th>2</th>\n",
       "      <td>64.0</td>\n",
       "      <td>56.671875</td>\n",
       "      <td>13.493155</td>\n",
       "      <td>34.0</td>\n",
       "      <td>45.00</td>\n",
       "      <td>53.0</td>\n",
       "      <td>68.0</td>\n",
       "      <td>86.0</td>\n",
       "    </tr>\n",
       "  </tbody>\n",
       "</table>\n",
       "</div>"
      ],
      "text/plain": [
       "                count       mean        std   min    25%   50%   75%   max\n",
       "Classification                                                            \n",
       "1                52.0  58.076923  18.957999  24.0  41.75  65.0  75.0  89.0\n",
       "2                64.0  56.671875  13.493155  34.0  45.00  53.0  68.0  86.0"
      ]
     },
     "metadata": {},
     "output_type": "display_data"
    },
    {
     "name": "stdout",
     "output_type": "stream",
     "text": [
      "Test statistic:  0.4655\n",
      "Test p-value:  0.6425\n",
      "Failed to reject null hypothesis. Lack of evidence to conclude a statistically significant association between Age and breast cancer in the analyzed data.\n"
     ]
    }
   ],
   "source": [
    "analyzed('Age')"
   ]
  },
  {
   "cell_type": "markdown",
   "id": "ce5610ce",
   "metadata": {},
   "source": [
    "#### Question 2 | Is there a statistically significant association between BMI and breast cancer, as evidenced by a difference in the BMI distribution between patient and control groups?"
   ]
  },
  {
   "cell_type": "code",
   "execution_count": 7,
   "id": "9fd20172",
   "metadata": {},
   "outputs": [
    {
     "name": "stderr",
     "output_type": "stream",
     "text": [
      "C:\\Users\\65814\\AppData\\Local\\Temp\\ipykernel_1140\\3438313220.py:9: FutureWarning: \n",
      "\n",
      "Passing `palette` without assigning `hue` is deprecated and will be removed in v0.14.0. Assign the `x` variable to `hue` and set `legend=False` for the same effect.\n",
      "\n",
      "  sns.boxplot(data=data, x=data['Classification'], y=data[feature], palette=colors, ax=axes[1])\n"
     ]
    },
    {
     "data": {
      "image/png": "[encoded data removed]",
      "text/plain": [
       "<Figure size 1080x360 with 2 Axes>"
      ]
     },
     "metadata": {
      "needs_background": "light"
     },
     "output_type": "display_data"
    },
    {
     "data": {
      "text/html": [
       "<div>\n",
       "<style scoped>\n",
       "    .dataframe tbody tr th:only-of-type {\n",
       "        vertical-align: middle;\n",
       "    }\n",
       "\n",
       "    .dataframe tbody tr th {\n",
       "        vertical-align: top;\n",
       "    }\n",
       "\n",
       "    .dataframe thead th {\n",
       "        text-align: right;\n",
       "    }\n",
       "</style>\n",
       "<table border=\"1\" class=\"dataframe\">\n",
       "  <thead>\n",
       "    <tr style=\"text-align: right;\">\n",
       "      <th></th>\n",
       "      <th>count</th>\n",
       "      <th>mean</th>\n",
       "      <th>std</th>\n",
       "      <th>min</th>\n",
       "      <th>25%</th>\n",
       "      <th>50%</th>\n",
       "      <th>75%</th>\n",
       "      <th>max</th>\n",
       "    </tr>\n",
       "    <tr>\n",
       "      <th>Classification</th>\n",
       "      <th></th>\n",
       "      <th></th>\n",
       "      <th></th>\n",
       "      <th></th>\n",
       "      <th></th>\n",
       "      <th></th>\n",
       "      <th></th>\n",
       "      <th></th>\n",
       "    </tr>\n",
       "  </thead>\n",
       "  <tbody>\n",
       "    <tr>\n",
       "      <th>1</th>\n",
       "      <td>52.0</td>\n",
       "      <td>28.317336</td>\n",
       "      <td>5.427465</td>\n",
       "      <td>18.67</td>\n",
       "      <td>23.096003</td>\n",
       "      <td>27.694389</td>\n",
       "      <td>32.328091</td>\n",
       "      <td>38.578759</td>\n",
       "    </tr>\n",
       "    <tr>\n",
       "      <th>2</th>\n",
       "      <td>64.0</td>\n",
       "      <td>26.984740</td>\n",
       "      <td>4.620398</td>\n",
       "      <td>18.37</td>\n",
       "      <td>22.788722</td>\n",
       "      <td>27.408027</td>\n",
       "      <td>30.810069</td>\n",
       "      <td>37.109375</td>\n",
       "    </tr>\n",
       "  </tbody>\n",
       "</table>\n",
       "</div>"
      ],
      "text/plain": [
       "                count       mean       std    min        25%        50%  \\\n",
       "Classification                                                            \n",
       "1                52.0  28.317336  5.427465  18.67  23.096003  27.694389   \n",
       "2                64.0  26.984740  4.620398  18.37  22.788722  27.408027   \n",
       "\n",
       "                      75%        max  \n",
       "Classification                        \n",
       "1               32.328091  38.578759  \n",
       "2               30.810069  37.109375  "
      ]
     },
     "metadata": {},
     "output_type": "display_data"
    },
    {
     "name": "stdout",
     "output_type": "stream",
     "text": [
      "Test statistic:  1.4282\n",
      "Test p-value:  0.156\n",
      "Failed to reject null hypothesis. Lack of evidence to conclude a statistically significant association between BMI and breast cancer in the analyzed data.\n"
     ]
    }
   ],
   "source": [
    "analyzed('BMI')"
   ]
  },
  {
   "cell_type": "markdown",
   "id": "030813aa",
   "metadata": {},
   "source": [
    "#### Question 3 | Is there a statistically significant association between blood glucose level and breast cancer, as evidenced by a difference in the blood glucose level between patient and control groups?"
   ]
  },
  {
   "cell_type": "code",
   "execution_count": 8,
   "id": "41de1613",
   "metadata": {},
   "outputs": [
    {
     "name": "stderr",
     "output_type": "stream",
     "text": [
      "C:\\Users\\65814\\AppData\\Local\\Temp\\ipykernel_1140\\3438313220.py:9: FutureWarning: \n",
      "\n",
      "Passing `palette` without assigning `hue` is deprecated and will be removed in v0.14.0. Assign the `x` variable to `hue` and set `legend=False` for the same effect.\n",
      "\n",
      "  sns.boxplot(data=data, x=data['Classification'], y=data[feature], palette=colors, ax=axes[1])\n"
     ]
    },
    {
     "data": {
      "image/png": "[encoded data removed]",
      "text/plain": [
       "<Figure size 1080x360 with 2 Axes>"
      ]
     },
     "metadata": {
      "needs_background": "light"
     },
     "output_type": "display_data"
    },
    {
     "data": {
      "text/html": [
       "<div>\n",
       "<style scoped>\n",
       "    .dataframe tbody tr th:only-of-type {\n",
       "        vertical-align: middle;\n",
       "    }\n",
       "\n",
       "    .dataframe tbody tr th {\n",
       "        vertical-align: top;\n",
       "    }\n",
       "\n",
       "    .dataframe thead th {\n",
       "        text-align: right;\n",
       "    }\n",
       "</style>\n",
       "<table border=\"1\" class=\"dataframe\">\n",
       "  <thead>\n",
       "    <tr style=\"text-align: right;\">\n",
       "      <th></th>\n",
       "      <th>count</th>\n",
       "      <th>mean</th>\n",
       "      <th>std</th>\n",
       "      <th>min</th>\n",
       "      <th>25%</th>\n",
       "      <th>50%</th>\n",
       "      <th>75%</th>\n",
       "      <th>max</th>\n",
       "    </tr>\n",
       "    <tr>\n",
       "      <th>Classification</th>\n",
       "      <th></th>\n",
       "      <th></th>\n",
       "      <th></th>\n",
       "      <th></th>\n",
       "      <th></th>\n",
       "      <th></th>\n",
       "      <th></th>\n",
       "      <th></th>\n",
       "    </tr>\n",
       "  </thead>\n",
       "  <tbody>\n",
       "    <tr>\n",
       "      <th>1</th>\n",
       "      <td>52.0</td>\n",
       "      <td>88.230769</td>\n",
       "      <td>10.191529</td>\n",
       "      <td>60.0</td>\n",
       "      <td>82.75</td>\n",
       "      <td>87.0</td>\n",
       "      <td>93.25</td>\n",
       "      <td>118.0</td>\n",
       "    </tr>\n",
       "    <tr>\n",
       "      <th>2</th>\n",
       "      <td>64.0</td>\n",
       "      <td>105.562500</td>\n",
       "      <td>26.557440</td>\n",
       "      <td>70.0</td>\n",
       "      <td>92.00</td>\n",
       "      <td>98.5</td>\n",
       "      <td>109.00</td>\n",
       "      <td>201.0</td>\n",
       "    </tr>\n",
       "  </tbody>\n",
       "</table>\n",
       "</div>"
      ],
      "text/plain": [
       "                count        mean        std   min    25%   50%     75%    max\n",
       "Classification                                                                \n",
       "1                52.0   88.230769  10.191529  60.0  82.75  87.0   93.25  118.0\n",
       "2                64.0  105.562500  26.557440  70.0  92.00  98.5  109.00  201.0"
      ]
     },
     "metadata": {},
     "output_type": "display_data"
    },
    {
     "name": "stdout",
     "output_type": "stream",
     "text": [
      "Test statistic:  -4.4447\n",
      "Test p-value:  0.0\n",
      "Reject null hypothesis. There is a statistically significant difference of the mean Glucose between health controls and patients. Statistically significant association between Glucose and breast cancer exists in the analyzed data.\n"
     ]
    }
   ],
   "source": [
    "analyzed('Glucose')"
   ]
  },
  {
   "cell_type": "markdown",
   "id": "6f6243ad",
   "metadata": {},
   "source": [
    "#### Question 4 | Is there a statistically significant association between insulin level and breast cancer, as evidenced by a difference in the insulin level distribution between patient and control groups?"
   ]
  },
  {
   "cell_type": "code",
   "execution_count": 9,
   "id": "18d0dfeb",
   "metadata": {},
   "outputs": [
    {
     "name": "stderr",
     "output_type": "stream",
     "text": [
      "C:\\Users\\65814\\AppData\\Local\\Temp\\ipykernel_1140\\3438313220.py:9: FutureWarning: \n",
      "\n",
      "Passing `palette` without assigning `hue` is deprecated and will be removed in v0.14.0. Assign the `x` variable to `hue` and set `legend=False` for the same effect.\n",
      "\n",
      "  sns.boxplot(data=data, x=data['Classification'], y=data[feature], palette=colors, ax=axes[1])\n"
     ]
    },
    {
     "data": {
      "image/png": "[encoded data removed]",
      "text/plain": [
       "<Figure size 1080x360 with 2 Axes>"
      ]
     },
     "metadata": {
      "needs_background": "light"
     },
     "output_type": "display_data"
    },
    {
     "data": {
      "text/html": [
       "<div>\n",
       "<style scoped>\n",
       "    .dataframe tbody tr th:only-of-type {\n",
       "        vertical-align: middle;\n",
       "    }\n",
       "\n",
       "    .dataframe tbody tr th {\n",
       "        vertical-align: top;\n",
       "    }\n",
       "\n",
       "    .dataframe thead th {\n",
       "        text-align: right;\n",
       "    }\n",
       "</style>\n",
       "<table border=\"1\" class=\"dataframe\">\n",
       "  <thead>\n",
       "    <tr style=\"text-align: right;\">\n",
       "      <th></th>\n",
       "      <th>count</th>\n",
       "      <th>mean</th>\n",
       "      <th>std</th>\n",
       "      <th>min</th>\n",
       "      <th>25%</th>\n",
       "      <th>50%</th>\n",
       "      <th>75%</th>\n",
       "      <th>max</th>\n",
       "    </tr>\n",
       "    <tr>\n",
       "      <th>Classification</th>\n",
       "      <th></th>\n",
       "      <th></th>\n",
       "      <th></th>\n",
       "      <th></th>\n",
       "      <th></th>\n",
       "      <th></th>\n",
       "      <th></th>\n",
       "      <th></th>\n",
       "    </tr>\n",
       "  </thead>\n",
       "  <tbody>\n",
       "    <tr>\n",
       "      <th>1</th>\n",
       "      <td>52.0</td>\n",
       "      <td>6.933769</td>\n",
       "      <td>4.859793</td>\n",
       "      <td>2.707</td>\n",
       "      <td>4.304</td>\n",
       "      <td>5.4835</td>\n",
       "      <td>7.001</td>\n",
       "      <td>26.211</td>\n",
       "    </tr>\n",
       "    <tr>\n",
       "      <th>2</th>\n",
       "      <td>64.0</td>\n",
       "      <td>12.513219</td>\n",
       "      <td>12.317738</td>\n",
       "      <td>2.432</td>\n",
       "      <td>4.406</td>\n",
       "      <td>7.5800</td>\n",
       "      <td>16.063</td>\n",
       "      <td>58.460</td>\n",
       "    </tr>\n",
       "  </tbody>\n",
       "</table>\n",
       "</div>"
      ],
      "text/plain": [
       "                count       mean        std    min    25%     50%     75%  \\\n",
       "Classification                                                              \n",
       "1                52.0   6.933769   4.859793  2.707  4.304  5.4835   7.001   \n",
       "2                64.0  12.513219  12.317738  2.432  4.406  7.5800  16.063   \n",
       "\n",
       "                   max  \n",
       "Classification          \n",
       "1               26.211  \n",
       "2               58.460  "
      ]
     },
     "metadata": {},
     "output_type": "display_data"
    },
    {
     "name": "stdout",
     "output_type": "stream",
     "text": [
      "Test statistic:  -3.0756\n",
      "Test p-value:  0.0026\n",
      "Reject null hypothesis. There is a statistically significant difference of the mean Insulin between health controls and patients. Statistically significant association between Insulin and breast cancer exists in the analyzed data.\n"
     ]
    }
   ],
   "source": [
    "analyzed('Insulin')"
   ]
  },
  {
   "cell_type": "markdown",
   "id": "b95a9cb7",
   "metadata": {},
   "source": [
    "#### Question 5 | Is there a statistically significant association between insulin resistance and breast cancer, as evidenced by a difference in the HOMA measurement between patient and control groups?"
   ]
  },
  {
   "cell_type": "code",
   "execution_count": 10,
   "id": "e472c64e",
   "metadata": {},
   "outputs": [
    {
     "name": "stderr",
     "output_type": "stream",
     "text": [
      "C:\\Users\\65814\\AppData\\Local\\Temp\\ipykernel_1140\\3438313220.py:9: FutureWarning: \n",
      "\n",
      "Passing `palette` without assigning `hue` is deprecated and will be removed in v0.14.0. Assign the `x` variable to `hue` and set `legend=False` for the same effect.\n",
      "\n",
      "  sns.boxplot(data=data, x=data['Classification'], y=data[feature], palette=colors, ax=axes[1])\n"
     ]
    },
    {
     "data": {
      "image/png": "[encoded data removed]",
      "text/plain": [
       "<Figure size 1080x360 with 2 Axes>"
      ]
     },
     "metadata": {
      "needs_background": "light"
     },
     "output_type": "display_data"
    },
    {
     "data": {
      "text/html": [
       "<div>\n",
       "<style scoped>\n",
       "    .dataframe tbody tr th:only-of-type {\n",
       "        vertical-align: middle;\n",
       "    }\n",
       "\n",
       "    .dataframe tbody tr th {\n",
       "        vertical-align: top;\n",
       "    }\n",
       "\n",
       "    .dataframe thead th {\n",
       "        text-align: right;\n",
       "    }\n",
       "</style>\n",
       "<table border=\"1\" class=\"dataframe\">\n",
       "  <thead>\n",
       "    <tr style=\"text-align: right;\">\n",
       "      <th></th>\n",
       "      <th>count</th>\n",
       "      <th>mean</th>\n",
       "      <th>std</th>\n",
       "      <th>min</th>\n",
       "      <th>25%</th>\n",
       "      <th>50%</th>\n",
       "      <th>75%</th>\n",
       "      <th>max</th>\n",
       "    </tr>\n",
       "    <tr>\n",
       "      <th>Classification</th>\n",
       "      <th></th>\n",
       "      <th></th>\n",
       "      <th></th>\n",
       "      <th></th>\n",
       "      <th></th>\n",
       "      <th></th>\n",
       "      <th></th>\n",
       "      <th></th>\n",
       "    </tr>\n",
       "  </thead>\n",
       "  <tbody>\n",
       "    <tr>\n",
       "      <th>1</th>\n",
       "      <td>52.0</td>\n",
       "      <td>1.552398</td>\n",
       "      <td>1.218256</td>\n",
       "      <td>0.467409</td>\n",
       "      <td>0.879510</td>\n",
       "      <td>1.139683</td>\n",
       "      <td>1.774561</td>\n",
       "      <td>7.111918</td>\n",
       "    </tr>\n",
       "    <tr>\n",
       "      <th>2</th>\n",
       "      <td>64.0</td>\n",
       "      <td>3.623342</td>\n",
       "      <td>4.588943</td>\n",
       "      <td>0.507936</td>\n",
       "      <td>1.036842</td>\n",
       "      <td>2.052256</td>\n",
       "      <td>4.461312</td>\n",
       "      <td>25.050342</td>\n",
       "    </tr>\n",
       "  </tbody>\n",
       "</table>\n",
       "</div>"
      ],
      "text/plain": [
       "                count      mean       std       min       25%       50%  \\\n",
       "Classification                                                            \n",
       "1                52.0  1.552398  1.218256  0.467409  0.879510  1.139683   \n",
       "2                64.0  3.623342  4.588943  0.507936  1.036842  2.052256   \n",
       "\n",
       "                     75%        max  \n",
       "Classification                       \n",
       "1               1.774561   7.111918  \n",
       "2               4.461312  25.050342  "
      ]
     },
     "metadata": {},
     "output_type": "display_data"
    },
    {
     "name": "stdout",
     "output_type": "stream",
     "text": [
      "Test statistic:  -3.1627\n",
      "Test p-value:  0.002\n",
      "Reject null hypothesis. There is a statistically significant difference of the mean HOMA between health controls and patients. Statistically significant association between HOMA and breast cancer exists in the analyzed data.\n"
     ]
    }
   ],
   "source": [
    "analyzed('HOMA')"
   ]
  },
  {
   "cell_type": "markdown",
   "id": "1d783058",
   "metadata": {},
   "source": [
    "#### Question 6 | Is there a statistically significant association between leptin levels and breast cancer, as evidenced by a difference in the leptin level distribution between patient and control groups?"
   ]
  },
  {
   "cell_type": "code",
   "execution_count": 11,
   "id": "02ca5892",
   "metadata": {},
   "outputs": [
    {
     "name": "stderr",
     "output_type": "stream",
     "text": [
      "C:\\Users\\65814\\AppData\\Local\\Temp\\ipykernel_1140\\3438313220.py:9: FutureWarning: \n",
      "\n",
      "Passing `palette` without assigning `hue` is deprecated and will be removed in v0.14.0. Assign the `x` variable to `hue` and set `legend=False` for the same effect.\n",
      "\n",
      "  sns.boxplot(data=data, x=data['Classification'], y=data[feature], palette=colors, ax=axes[1])\n"
     ]
    },
    {
     "data": {
      "image/png": "[encoded data removed]",
      "text/plain": [
       "<Figure size 1080x360 with 2 Axes>"
      ]
     },
     "metadata": {
      "needs_background": "light"
     },
     "output_type": "display_data"
    },
    {
     "data": {
      "text/html": [
       "<div>\n",
       "<style scoped>\n",
       "    .dataframe tbody tr th:only-of-type {\n",
       "        vertical-align: middle;\n",
       "    }\n",
       "\n",
       "    .dataframe tbody tr th {\n",
       "        vertical-align: top;\n",
       "    }\n",
       "\n",
       "    .dataframe thead th {\n",
       "        text-align: right;\n",
       "    }\n",
       "</style>\n",
       "<table border=\"1\" class=\"dataframe\">\n",
       "  <thead>\n",
       "    <tr style=\"text-align: right;\">\n",
       "      <th></th>\n",
       "      <th>count</th>\n",
       "      <th>mean</th>\n",
       "      <th>std</th>\n",
       "      <th>min</th>\n",
       "      <th>25%</th>\n",
       "      <th>50%</th>\n",
       "      <th>75%</th>\n",
       "      <th>max</th>\n",
       "    </tr>\n",
       "    <tr>\n",
       "      <th>Classification</th>\n",
       "      <th></th>\n",
       "      <th></th>\n",
       "      <th></th>\n",
       "      <th></th>\n",
       "      <th></th>\n",
       "      <th></th>\n",
       "      <th></th>\n",
       "      <th></th>\n",
       "    </tr>\n",
       "  </thead>\n",
       "  <tbody>\n",
       "    <tr>\n",
       "      <th>1</th>\n",
       "      <td>52.0</td>\n",
       "      <td>26.637933</td>\n",
       "      <td>19.334699</td>\n",
       "      <td>4.3110</td>\n",
       "      <td>11.845750</td>\n",
       "      <td>21.49485</td>\n",
       "      <td>36.7216</td>\n",
       "      <td>83.4821</td>\n",
       "    </tr>\n",
       "    <tr>\n",
       "      <th>2</th>\n",
       "      <td>64.0</td>\n",
       "      <td>26.596512</td>\n",
       "      <td>19.212451</td>\n",
       "      <td>6.3339</td>\n",
       "      <td>12.402925</td>\n",
       "      <td>18.87765</td>\n",
       "      <td>37.3783</td>\n",
       "      <td>90.2800</td>\n",
       "    </tr>\n",
       "  </tbody>\n",
       "</table>\n",
       "</div>"
      ],
      "text/plain": [
       "                count       mean        std     min        25%       50%  \\\n",
       "Classification                                                             \n",
       "1                52.0  26.637933  19.334699  4.3110  11.845750  21.49485   \n",
       "2                64.0  26.596512  19.212451  6.3339  12.402925  18.87765   \n",
       "\n",
       "                    75%      max  \n",
       "Classification                    \n",
       "1               36.7216  83.4821  \n",
       "2               37.3783  90.2800  "
      ]
     },
     "metadata": {},
     "output_type": "display_data"
    },
    {
     "name": "stdout",
     "output_type": "stream",
     "text": [
      "Test statistic:  0.0115\n",
      "Test p-value:  0.9908\n",
      "Failed to reject null hypothesis. Lack of evidence to conclude a statistically significant association between Leptin and breast cancer in the analyzed data.\n"
     ]
    }
   ],
   "source": [
    "analyzed('Leptin')"
   ]
  },
  {
   "cell_type": "markdown",
   "id": "b2af848e",
   "metadata": {},
   "source": [
    "#### Question 7 | Is there a statistically significant association between adiponectin and breast cancer, as evidenced by a difference in the adiponectin level distribution between patient and control groups?"
   ]
  },
  {
   "cell_type": "code",
   "execution_count": 12,
   "id": "d203685a",
   "metadata": {},
   "outputs": [
    {
     "name": "stderr",
     "output_type": "stream",
     "text": [
      "C:\\Users\\65814\\AppData\\Local\\Temp\\ipykernel_1140\\3438313220.py:9: FutureWarning: \n",
      "\n",
      "Passing `palette` without assigning `hue` is deprecated and will be removed in v0.14.0. Assign the `x` variable to `hue` and set `legend=False` for the same effect.\n",
      "\n",
      "  sns.boxplot(data=data, x=data['Classification'], y=data[feature], palette=colors, ax=axes[1])\n"
     ]
    },
    {
     "data": {
      "image/png": "[encoded data removed]",
      "text/plain": [
       "<Figure size 1080x360 with 2 Axes>"
      ]
     },
     "metadata": {
      "needs_background": "light"
     },
     "output_type": "display_data"
    },
    {
     "data": {
      "text/html": [
       "<div>\n",
       "<style scoped>\n",
       "    .dataframe tbody tr th:only-of-type {\n",
       "        vertical-align: middle;\n",
       "    }\n",
       "\n",
       "    .dataframe tbody tr th {\n",
       "        vertical-align: top;\n",
       "    }\n",
       "\n",
       "    .dataframe thead th {\n",
       "        text-align: right;\n",
       "    }\n",
       "</style>\n",
       "<table border=\"1\" class=\"dataframe\">\n",
       "  <thead>\n",
       "    <tr style=\"text-align: right;\">\n",
       "      <th></th>\n",
       "      <th>count</th>\n",
       "      <th>mean</th>\n",
       "      <th>std</th>\n",
       "      <th>min</th>\n",
       "      <th>25%</th>\n",
       "      <th>50%</th>\n",
       "      <th>75%</th>\n",
       "      <th>max</th>\n",
       "    </tr>\n",
       "    <tr>\n",
       "      <th>Classification</th>\n",
       "      <th></th>\n",
       "      <th></th>\n",
       "      <th></th>\n",
       "      <th></th>\n",
       "      <th></th>\n",
       "      <th></th>\n",
       "      <th></th>\n",
       "      <th></th>\n",
       "    </tr>\n",
       "  </thead>\n",
       "  <tbody>\n",
       "    <tr>\n",
       "      <th>1</th>\n",
       "      <td>52.0</td>\n",
       "      <td>10.328205</td>\n",
       "      <td>7.631281</td>\n",
       "      <td>2.19428</td>\n",
       "      <td>5.454286</td>\n",
       "      <td>8.127775</td>\n",
       "      <td>10.820219</td>\n",
       "      <td>38.04</td>\n",
       "    </tr>\n",
       "    <tr>\n",
       "      <th>2</th>\n",
       "      <td>64.0</td>\n",
       "      <td>10.061167</td>\n",
       "      <td>6.189466</td>\n",
       "      <td>1.65602</td>\n",
       "      <td>5.484117</td>\n",
       "      <td>8.446438</td>\n",
       "      <td>12.254740</td>\n",
       "      <td>33.75</td>\n",
       "    </tr>\n",
       "  </tbody>\n",
       "</table>\n",
       "</div>"
      ],
      "text/plain": [
       "                count       mean       std      min       25%       50%  \\\n",
       "Classification                                                            \n",
       "1                52.0  10.328205  7.631281  2.19428  5.454286  8.127775   \n",
       "2                64.0  10.061167  6.189466  1.65602  5.484117  8.446438   \n",
       "\n",
       "                      75%    max  \n",
       "Classification                    \n",
       "1               10.820219  38.04  \n",
       "2               12.254740  33.75  "
      ]
     },
     "metadata": {},
     "output_type": "display_data"
    },
    {
     "name": "stdout",
     "output_type": "stream",
     "text": [
      "Test statistic:  0.2081\n",
      "Test p-value:  0.8355\n",
      "Failed to reject null hypothesis. Lack of evidence to conclude a statistically significant association between Adiponectin and breast cancer in the analyzed data.\n"
     ]
    }
   ],
   "source": [
    "analyzed('Adiponectin')"
   ]
  },
  {
   "cell_type": "markdown",
   "id": "66fb0750",
   "metadata": {},
   "source": [
    "#### Question 8 | Is there a statistically significant association between resistin levels and breast cancer, as evidenced by a difference in the resistin level distribution between patient and control groups?"
   ]
  },
  {
   "cell_type": "code",
   "execution_count": 13,
   "id": "3ef58b7e",
   "metadata": {},
   "outputs": [
    {
     "name": "stderr",
     "output_type": "stream",
     "text": [
      "C:\\Users\\65814\\AppData\\Local\\Temp\\ipykernel_1140\\3438313220.py:9: FutureWarning: \n",
      "\n",
      "Passing `palette` without assigning `hue` is deprecated and will be removed in v0.14.0. Assign the `x` variable to `hue` and set `legend=False` for the same effect.\n",
      "\n",
      "  sns.boxplot(data=data, x=data['Classification'], y=data[feature], palette=colors, ax=axes[1])\n"
     ]
    },
    {
     "data": {
      "image/png": "[encoded data removed]",
      "text/plain": [
       "<Figure size 1080x360 with 2 Axes>"
      ]
     },
     "metadata": {
      "needs_background": "light"
     },
     "output_type": "display_data"
    },
    {
     "data": {
      "text/html": [
       "<div>\n",
       "<style scoped>\n",
       "    .dataframe tbody tr th:only-of-type {\n",
       "        vertical-align: middle;\n",
       "    }\n",
       "\n",
       "    .dataframe tbody tr th {\n",
       "        vertical-align: top;\n",
       "    }\n",
       "\n",
       "    .dataframe thead th {\n",
       "        text-align: right;\n",
       "    }\n",
       "</style>\n",
       "<table border=\"1\" class=\"dataframe\">\n",
       "  <thead>\n",
       "    <tr style=\"text-align: right;\">\n",
       "      <th></th>\n",
       "      <th>count</th>\n",
       "      <th>mean</th>\n",
       "      <th>std</th>\n",
       "      <th>min</th>\n",
       "      <th>25%</th>\n",
       "      <th>50%</th>\n",
       "      <th>75%</th>\n",
       "      <th>max</th>\n",
       "    </tr>\n",
       "    <tr>\n",
       "      <th>Classification</th>\n",
       "      <th></th>\n",
       "      <th></th>\n",
       "      <th></th>\n",
       "      <th></th>\n",
       "      <th></th>\n",
       "      <th></th>\n",
       "      <th></th>\n",
       "      <th></th>\n",
       "    </tr>\n",
       "  </thead>\n",
       "  <tbody>\n",
       "    <tr>\n",
       "      <th>1</th>\n",
       "      <td>52.0</td>\n",
       "      <td>11.614813</td>\n",
       "      <td>11.447053</td>\n",
       "      <td>3.29175</td>\n",
       "      <td>6.597523</td>\n",
       "      <td>8.929190</td>\n",
       "      <td>12.808525</td>\n",
       "      <td>82.1000</td>\n",
       "    </tr>\n",
       "    <tr>\n",
       "      <th>2</th>\n",
       "      <td>64.0</td>\n",
       "      <td>17.253777</td>\n",
       "      <td>12.636979</td>\n",
       "      <td>3.21000</td>\n",
       "      <td>8.113675</td>\n",
       "      <td>14.371825</td>\n",
       "      <td>22.965170</td>\n",
       "      <td>55.2153</td>\n",
       "    </tr>\n",
       "  </tbody>\n",
       "</table>\n",
       "</div>"
      ],
      "text/plain": [
       "                count       mean        std      min       25%        50%  \\\n",
       "Classification                                                              \n",
       "1                52.0  11.614813  11.447053  3.29175  6.597523   8.929190   \n",
       "2                64.0  17.253777  12.636979  3.21000  8.113675  14.371825   \n",
       "\n",
       "                      75%      max  \n",
       "Classification                      \n",
       "1               12.808525  82.1000  \n",
       "2               22.965170  55.2153  "
      ]
     },
     "metadata": {},
     "output_type": "display_data"
    },
    {
     "name": "stdout",
     "output_type": "stream",
     "text": [
      "Test statistic:  -2.4923\n",
      "Test p-value:  0.0141\n",
      "Reject null hypothesis. There is a statistically significant difference of the mean Resistin between health controls and patients. Statistically significant association between Resistin and breast cancer exists in the analyzed data.\n"
     ]
    }
   ],
   "source": [
    "analyzed('Resistin')"
   ]
  },
  {
   "cell_type": "markdown",
   "id": "78986c51",
   "metadata": {},
   "source": [
    "#### Question 9 | Is there a statistically significant association between monocyte chemoattractant Protein-1 (MCP-1) level and breast cancer, as evidenced by a difference in the MCP-1 level distribution between patient and control groups?"
   ]
  },
  {
   "cell_type": "code",
   "execution_count": 14,
   "id": "1c33f0c8",
   "metadata": {},
   "outputs": [
    {
     "name": "stderr",
     "output_type": "stream",
     "text": [
      "C:\\Users\\65814\\AppData\\Local\\Temp\\ipykernel_1140\\3438313220.py:9: FutureWarning: \n",
      "\n",
      "Passing `palette` without assigning `hue` is deprecated and will be removed in v0.14.0. Assign the `x` variable to `hue` and set `legend=False` for the same effect.\n",
      "\n",
      "  sns.boxplot(data=data, x=data['Classification'], y=data[feature], palette=colors, ax=axes[1])\n"
     ]
    },
    {
     "data": {
      "image/png": "[encoded data removed]",
      "text/plain": [
       "<Figure size 1080x360 with 2 Axes>"
      ]
     },
     "metadata": {
      "needs_background": "light"
     },
     "output_type": "display_data"
    },
    {
     "data": {
      "text/html": [
       "<div>\n",
       "<style scoped>\n",
       "    .dataframe tbody tr th:only-of-type {\n",
       "        vertical-align: middle;\n",
       "    }\n",
       "\n",
       "    .dataframe tbody tr th {\n",
       "        vertical-align: top;\n",
       "    }\n",
       "\n",
       "    .dataframe thead th {\n",
       "        text-align: right;\n",
       "    }\n",
       "</style>\n",
       "<table border=\"1\" class=\"dataframe\">\n",
       "  <thead>\n",
       "    <tr style=\"text-align: right;\">\n",
       "      <th></th>\n",
       "      <th>count</th>\n",
       "      <th>mean</th>\n",
       "      <th>std</th>\n",
       "      <th>min</th>\n",
       "      <th>25%</th>\n",
       "      <th>50%</th>\n",
       "      <th>75%</th>\n",
       "      <th>max</th>\n",
       "    </tr>\n",
       "    <tr>\n",
       "      <th>Classification</th>\n",
       "      <th></th>\n",
       "      <th></th>\n",
       "      <th></th>\n",
       "      <th></th>\n",
       "      <th></th>\n",
       "      <th></th>\n",
       "      <th></th>\n",
       "      <th></th>\n",
       "    </tr>\n",
       "  </thead>\n",
       "  <tbody>\n",
       "    <tr>\n",
       "      <th>1</th>\n",
       "      <td>52.0</td>\n",
       "      <td>499.730692</td>\n",
       "      <td>292.242157</td>\n",
       "      <td>45.843</td>\n",
       "      <td>260.73650</td>\n",
       "      <td>471.3225</td>\n",
       "      <td>642.9335</td>\n",
       "      <td>1256.083</td>\n",
       "    </tr>\n",
       "    <tr>\n",
       "      <th>2</th>\n",
       "      <td>64.0</td>\n",
       "      <td>563.016500</td>\n",
       "      <td>384.001622</td>\n",
       "      <td>90.090</td>\n",
       "      <td>299.18825</td>\n",
       "      <td>465.3740</td>\n",
       "      <td>737.7625</td>\n",
       "      <td>1698.440</td>\n",
       "    </tr>\n",
       "  </tbody>\n",
       "</table>\n",
       "</div>"
      ],
      "text/plain": [
       "                count        mean         std     min        25%       50%  \\\n",
       "Classification                                                               \n",
       "1                52.0  499.730692  292.242157  45.843  260.73650  471.3225   \n",
       "2                64.0  563.016500  384.001622  90.090  299.18825  465.3740   \n",
       "\n",
       "                     75%       max  \n",
       "Classification                      \n",
       "1               642.9335  1256.083  \n",
       "2               737.7625  1698.440  "
      ]
     },
     "metadata": {},
     "output_type": "display_data"
    },
    {
     "name": "stdout",
     "output_type": "stream",
     "text": [
      "Test statistic:  -0.9798\n",
      "Test p-value:  0.3293\n",
      "Failed to reject null hypothesis. Lack of evidence to conclude a statistically significant association between MCP.1 and breast cancer in the analyzed data.\n"
     ]
    }
   ],
   "source": [
    "analyzed('MCP.1')"
   ]
  },
  {
   "cell_type": "markdown",
   "id": "eb91c265",
   "metadata": {},
   "source": [
    "#### Question 10 | Is there a correlation between various features in the samples?"
   ]
  },
  {
   "cell_type": "code",
   "execution_count": 15,
   "id": "f4b92793",
   "metadata": {},
   "outputs": [
    {
     "data": {
      "image/png": "[encoded data removed]",
      "text/plain": [
       "<Figure size 576x432 with 2 Axes>"
      ]
     },
     "metadata": {
      "needs_background": "light"
     },
     "output_type": "display_data"
    }
   ],
   "source": [
    "# calcualte the Pearson's correlation between features\n",
    "fil_df = data.drop(columns=['Classification'], axis=1)\n",
    "correlation = fil_df.corr()\n",
    "\n",
    "# visualize the correlation in heatmap\n",
    "plt.figure(figsize=(8,6))\n",
    "sns.heatmap(correlation, annot=True, cmap='plasma')\n",
    "plt.show()"
   ]
  },
  {
   "cell_type": "markdown",
   "id": "2c88f375",
   "metadata": {},
   "source": [
    "### Classification\n",
    "#### Data Pre-processing for Training Models"
   ]
  },
  {
   "cell_type": "code",
   "execution_count": 16,
   "id": "118c68c5",
   "metadata": {},
   "outputs": [
    {
     "name": "stdout",
     "output_type": "stream",
     "text": [
      "Training data:  (92, 10)\n",
      "Test data:  (24, 10)\n"
     ]
    }
   ],
   "source": [
    "from sklearn.model_selection import train_test_split\n",
    "\n",
    "# split the dataset into training and test data (80:20 ratio)\n",
    "train, test = train_test_split(data, test_size=0.2, random_state=122)\n",
    "\n",
    "# check the dimension of the train and test data\n",
    "print('Training data: ', train.shape)\n",
    "print('Test data: ', test.shape)"
   ]
  },
  {
   "cell_type": "code",
   "execution_count": 17,
   "id": "46c73ea1",
   "metadata": {},
   "outputs": [],
   "source": [
    "# segregate the feature matrix and target vector from train and test data\n",
    "Xtrain = train.drop(columns=['Classification'], axis=1)\n",
    "ytrain = train['Classification']\n",
    "\n",
    "Xtest = test.drop(columns=['Classification'], axis=1)\n",
    "ytest = test['Classification']"
   ]
  },
  {
   "cell_type": "code",
   "execution_count": 18,
   "id": "2bec8d0c",
   "metadata": {},
   "outputs": [],
   "source": [
    "# scale the training and test data\n",
    "from sklearn.preprocessing import MinMaxScaler\n",
    "\n",
    "# initialize a MinMaxScaler object\n",
    "scaler = MinMaxScaler()\n",
    "Xtrain_scaled = scaler.fit_transform(Xtrain)\n",
    "Xtest_scaled = scaler.transform(Xtest)"
   ]
  },
  {
   "cell_type": "markdown",
   "id": "b15678ef",
   "metadata": {},
   "source": [
    "#### Model 1 | Decision Tree"
   ]
  },
  {
   "cell_type": "code",
   "execution_count": 20,
   "id": "73e5dec9",
   "metadata": {},
   "outputs": [
    {
     "name": "stdout",
     "output_type": "stream",
     "text": [
      "Best Parameters:  {'criterion': 'gini', 'max_depth': 20, 'min_samples_leaf': 2, 'min_samples_split': 2, 'splitter': 'random'}\n",
      "Best AUROC:  0.76875\n"
     ]
    }
   ],
   "source": [
    "from sklearn.tree import DecisionTreeClassifier\n",
    "from sklearn.model_selection import GridSearchCV\n",
    "\n",
    "# create a Decision Tree Classifier\n",
    "tree = DecisionTreeClassifier(random_state=122)\n",
    "\n",
    "# Define the hyperparameter grid\n",
    "param_grid = {\n",
    "    'criterion': ['gini', 'entropy'],\n",
    "    'splitter': ['best', 'random'],\n",
    "    'max_depth': [10, 20, 30],\n",
    "    'min_samples_split': [2, 5, 10],\n",
    "    'min_samples_leaf': [2, 4]\n",
    "}\n",
    "\n",
    "# create the GridSearchCV object\n",
    "grid_search_tree = GridSearchCV(tree, param_grid, cv=5, scoring='roc_auc', n_jobs=-1)\n",
    "\n",
    "# fit the grid search to the data\n",
    "grid_search_tree.fit(Xtrain_scaled, ytrain)\n",
    "\n",
    "# print the best parameters and the corresponding accuracy\n",
    "print('Best Parameters: ', grid_search_tree.best_params_)\n",
    "print('Best AUROC: ', grid_search_tree.best_score_)\n",
    "\n",
    "# get the best model\n",
    "best_tree = grid_search_tree.best_estimator_"
   ]
  },
  {
   "cell_type": "code",
   "execution_count": 21,
   "id": "0dd85c39",
   "metadata": {},
   "outputs": [
    {
     "name": "stdout",
     "output_type": "stream",
     "text": [
      "Test Accuracy:  0.75\n"
     ]
    }
   ],
   "source": [
    "# evaluate the best model on the test set\n",
    "test_accuracy = best_tree.score(Xtest_scaled, ytest)\n",
    "print('Test Accuracy: ', test_accuracy)"
   ]
  },
  {
   "cell_type": "code",
   "execution_count": 22,
   "id": "f3a58978",
   "metadata": {},
   "outputs": [
    {
     "data": {
      "image/png": "[encoded data removed]",
      "text/plain": [
       "<Figure size 432x288 with 2 Axes>"
      ]
     },
     "metadata": {
      "needs_background": "light"
     },
     "output_type": "display_data"
    }
   ],
   "source": [
    "# visualize the confusion matrix using a heatmap\n",
    "from sklearn.metrics import confusion_matrix\n",
    "\n",
    "ypred_tree = best_tree.predict(Xtest_scaled)\n",
    "\n",
    "labels = ytest.unique()\n",
    "\n",
    "cm_tree = confusion_matrix(ytest, ypred_tree, normalize='true')\n",
    "plt.figure()\n",
    "sns.heatmap(cm_tree, annot=True, cmap='BuPu', xticklabels=labels, yticklabels=labels)\n",
    "plt.show()"
   ]
  },
  {
   "cell_type": "code",
   "execution_count": 23,
   "id": "8341d4f4",
   "metadata": {},
   "outputs": [
    {
     "name": "stdout",
     "output_type": "stream",
     "text": [
      "              precision    recall  f1-score   support\n",
      "\n",
      "           1       0.71      0.83      0.77        12\n",
      "           2       0.80      0.67      0.73        12\n",
      "\n",
      "    accuracy                           0.75        24\n",
      "   macro avg       0.76      0.75      0.75        24\n",
      "weighted avg       0.76      0.75      0.75        24\n",
      "\n"
     ]
    }
   ],
   "source": [
    "# classification report\n",
    "from sklearn.metrics import classification_report\n",
    "\n",
    "tree_report = classification_report(ytest, ypred_tree)\n",
    "print(tree_report)"
   ]
  },
  {
   "cell_type": "markdown",
   "id": "1287f659",
   "metadata": {},
   "source": [
    "#### Model 2 | Logistic Regression"
   ]
  },
  {
   "cell_type": "code",
   "execution_count": 24,
   "id": "4b6a9a02",
   "metadata": {},
   "outputs": [
    {
     "name": "stdout",
     "output_type": "stream",
     "text": [
      "Best Parameters:  {'C': 1, 'penalty': 'l1', 'solver': 'saga'}\n",
      "Best AUROC:  0.8309090909090908\n"
     ]
    }
   ],
   "source": [
    "from sklearn.linear_model import LogisticRegression\n",
    "\n",
    "# create a logistic regression Classifier\n",
    "logreg = LogisticRegression(random_state=122, max_iter=5000)\n",
    "\n",
    "# define the hyperparameter grid\n",
    "param_grid = {\n",
    "    'penalty': ['l1', 'l2'],\n",
    "    'C': [0.001, 0.01, 0.1, 1, 10, 100],\n",
    "    'solver': ['liblinear', 'saga']\n",
    "}\n",
    "\n",
    "# create the GridSearchCV object\n",
    "grid_search_logreg = GridSearchCV(logreg, param_grid, cv=5, scoring='roc_auc', n_jobs=-1)\n",
    "\n",
    "# fit the grid search to the data\n",
    "grid_search_logreg.fit(Xtrain_scaled, ytrain)\n",
    "\n",
    "# print the best parameters and the corresponding accuracy\n",
    "print('Best Parameters: ', grid_search_logreg.best_params_)\n",
    "print('Best AUROC: ', grid_search_logreg.best_score_)\n",
    "\n",
    "# get the best model\n",
    "best_logreg = grid_search_logreg.best_estimator_"
   ]
  },
  {
   "cell_type": "code",
   "execution_count": 25,
   "id": "22766851",
   "metadata": {},
   "outputs": [
    {
     "name": "stdout",
     "output_type": "stream",
     "text": [
      "Test Accuracy:  0.6666666666666666\n"
     ]
    }
   ],
   "source": [
    "# evaluate the best model on the test set\n",
    "test_accuracy = best_logreg.score(Xtest_scaled, ytest)\n",
    "print('Test Accuracy: ', test_accuracy)"
   ]
  },
  {
   "cell_type": "code",
   "execution_count": 26,
   "id": "c44953ae",
   "metadata": {},
   "outputs": [
    {
     "data": {
      "image/png": "[encoded data removed]",
      "text/plain": [
       "<Figure size 432x288 with 2 Axes>"
      ]
     },
     "metadata": {
      "needs_background": "light"
     },
     "output_type": "display_data"
    }
   ],
   "source": [
    "# visualize the confusion matrix using a heatmap\n",
    "ypred_lr = best_logreg.predict(Xtest_scaled)\n",
    "\n",
    "labels = ytest.unique()\n",
    "\n",
    "cm_logistic = confusion_matrix(ytest, ypred_lr, normalize='true')\n",
    "plt.figure()\n",
    "sns.heatmap(cm_logistic, annot=True, cmap='BuPu', xticklabels=labels, yticklabels=labels)\n",
    "plt.show()"
   ]
  },
  {
   "cell_type": "code",
   "execution_count": 27,
   "id": "4b1dab37",
   "metadata": {},
   "outputs": [
    {
     "name": "stdout",
     "output_type": "stream",
     "text": [
      "              precision    recall  f1-score   support\n",
      "\n",
      "           1       0.70      0.58      0.64        12\n",
      "           2       0.64      0.75      0.69        12\n",
      "\n",
      "    accuracy                           0.67        24\n",
      "   macro avg       0.67      0.67      0.66        24\n",
      "weighted avg       0.67      0.67      0.66        24\n",
      "\n"
     ]
    }
   ],
   "source": [
    "# classification report\n",
    "print(classification_report(ytest, ypred_lr))"
   ]
  },
  {
   "cell_type": "markdown",
   "id": "15b175e5",
   "metadata": {},
   "source": [
    "#### Feature Selection (by selecting features that are statistically significant associated with the target)"
   ]
  },
  {
   "cell_type": "code",
   "execution_count": 28,
   "id": "83bece07",
   "metadata": {},
   "outputs": [],
   "source": [
    "# subset the features statistically significant to target labels\n",
    "imp_feats = ['Glucose','Insulin','Resistin']\n",
    "\n",
    "fil_data = data[imp_feats]"
   ]
  },
  {
   "cell_type": "code",
   "execution_count": 29,
   "id": "65e2e6f0",
   "metadata": {},
   "outputs": [],
   "source": [
    "# split the filtered dataset into training and test data (80:20 ratio)\n",
    "Xtrain_fil, Xtest_fil, ytrain_fil, ytest_fil = train_test_split(fil_data, data['Classification'], test_size=0.2, random_state=122)"
   ]
  },
  {
   "cell_type": "code",
   "execution_count": 30,
   "id": "97779c0c",
   "metadata": {},
   "outputs": [],
   "source": [
    "# initialize a MinMaxScaler object\n",
    "scaler2 = MinMaxScaler()\n",
    "Xtrain_scaled2 = scaler2.fit_transform(Xtrain_fil)\n",
    "Xtest_scaled2 = scaler2.transform(Xtest_fil)"
   ]
  },
  {
   "cell_type": "markdown",
   "id": "0acc2a48",
   "metadata": {},
   "source": [
    "#### Model 3 | Decision Tree (with selected Features)"
   ]
  },
  {
   "cell_type": "code",
   "execution_count": 31,
   "id": "f77d2f8f",
   "metadata": {},
   "outputs": [
    {
     "name": "stdout",
     "output_type": "stream",
     "text": [
      "Best Parameters:  {'criterion': 'entropy', 'max_depth': 10, 'min_samples_leaf': 4, 'min_samples_split': 10, 'splitter': 'random'}\n",
      "Best AUROC:  0.7830681818181817\n"
     ]
    }
   ],
   "source": [
    "from sklearn.tree import DecisionTreeClassifier\n",
    "from sklearn.model_selection import GridSearchCV\n",
    "\n",
    "# create a Decision Tree Classifier\n",
    "tree = DecisionTreeClassifier(random_state=122)\n",
    "\n",
    "# Define the hyperparameter grid\n",
    "param_grid = {\n",
    "    'criterion': ['gini', 'entropy'],\n",
    "    'splitter': ['best', 'random'],\n",
    "    'max_depth': [10, 20, 30],\n",
    "    'min_samples_split': [2, 5, 10],\n",
    "    'min_samples_leaf': [2, 4]\n",
    "}\n",
    "\n",
    "# create the GridSearchCV object\n",
    "grid_search_tree2 = GridSearchCV(tree, param_grid, cv=5, scoring='roc_auc', n_jobs=-1)\n",
    "\n",
    "# fit the grid search to the data\n",
    "grid_search_tree2.fit(Xtrain_scaled2, ytrain_fil)\n",
    "\n",
    "# print the best parameters and the corresponding accuracy\n",
    "print('Best Parameters: ', grid_search_tree2.best_params_)\n",
    "print('Best AUROC: ', grid_search_tree2.best_score_)\n",
    "\n",
    "# get the best model\n",
    "best_tree2 = grid_search_tree2.best_estimator_"
   ]
  },
  {
   "cell_type": "code",
   "execution_count": 32,
   "id": "d65982f4",
   "metadata": {},
   "outputs": [
    {
     "name": "stdout",
     "output_type": "stream",
     "text": [
      "Test Accuracy:  0.5833333333333334\n"
     ]
    }
   ],
   "source": [
    "# evaluate the best model on the test set\n",
    "test_accuracy = best_tree2.score(Xtest_scaled2, ytest_fil)\n",
    "print('Test Accuracy: ', test_accuracy)"
   ]
  },
  {
   "cell_type": "code",
   "execution_count": 33,
   "id": "17c41f86",
   "metadata": {},
   "outputs": [
    {
     "data": {
      "image/png": "[encoded data removed]",
      "text/plain": [
       "<Figure size 432x288 with 2 Axes>"
      ]
     },
     "metadata": {
      "needs_background": "light"
     },
     "output_type": "display_data"
    }
   ],
   "source": [
    "# confusion matrix\n",
    "ypred_tree2 = best_tree2.predict(Xtest_scaled2)\n",
    "\n",
    "labels = ytest.unique()\n",
    "\n",
    "cm_tree2 = confusion_matrix(ytest_fil, ypred_tree2, normalize='true')\n",
    "plt.figure()\n",
    "sns.heatmap(cm_tree2, annot=True, cmap='BuPu', xticklabels=labels, yticklabels=labels)\n",
    "plt.show()"
   ]
  },
  {
   "cell_type": "code",
   "execution_count": 34,
   "id": "a3c780fe",
   "metadata": {},
   "outputs": [
    {
     "name": "stdout",
     "output_type": "stream",
     "text": [
      "              precision    recall  f1-score   support\n",
      "\n",
      "           1       0.62      0.42      0.50        12\n",
      "           2       0.56      0.75      0.64        12\n",
      "\n",
      "    accuracy                           0.58        24\n",
      "   macro avg       0.59      0.58      0.57        24\n",
      "weighted avg       0.59      0.58      0.57        24\n",
      "\n"
     ]
    }
   ],
   "source": [
    "# classification report\n",
    "tree_report2 = classification_report(ytest_fil, ypred_tree2)\n",
    "print(tree_report2)"
   ]
  },
  {
   "cell_type": "markdown",
   "id": "139a2633",
   "metadata": {},
   "source": [
    "#### Model 4 | Logistic Regression (with selected Features)"
   ]
  },
  {
   "cell_type": "code",
   "execution_count": 35,
   "id": "fb437b2b",
   "metadata": {},
   "outputs": [
    {
     "name": "stdout",
     "output_type": "stream",
     "text": [
      "Best Parameters:  {'C': 10, 'penalty': 'l1', 'solver': 'liblinear'}\n",
      "Best AUROC:  0.8286363636363635\n"
     ]
    }
   ],
   "source": [
    "from sklearn.linear_model import LogisticRegression\n",
    "\n",
    "# create a logistic regression Classifier\n",
    "logreg = LogisticRegression(random_state=122, max_iter=5000)\n",
    "\n",
    "# define the hyperparameter grid\n",
    "param_grid = {\n",
    "    'penalty': ['l1', 'l2'],\n",
    "    'C': [0.001, 0.01, 0.1, 1, 10, 100],\n",
    "    'solver': ['liblinear', 'saga']\n",
    "}\n",
    "\n",
    "# create the GridSearchCV object\n",
    "grid_search_logreg2 = GridSearchCV(logreg, param_grid, cv=5, scoring='roc_auc', n_jobs=-1)\n",
    "\n",
    "# fit the grid search to the data\n",
    "grid_search_logreg2.fit(Xtrain_scaled2, ytrain_fil)\n",
    "\n",
    "# print the best parameters and the corresponding accuracy\n",
    "print('Best Parameters: ', grid_search_logreg2.best_params_)\n",
    "print('Best AUROC: ', grid_search_logreg2.best_score_)\n",
    "\n",
    "# get the best model\n",
    "best_logreg2 = grid_search_logreg2.best_estimator_"
   ]
  },
  {
   "cell_type": "code",
   "execution_count": 36,
   "id": "cc4499c3",
   "metadata": {},
   "outputs": [
    {
     "name": "stdout",
     "output_type": "stream",
     "text": [
      "Test Accuracy:  0.6666666666666666\n"
     ]
    }
   ],
   "source": [
    "# evaluate the best model on the test set\n",
    "test_accuracy = best_logreg2.score(Xtest_scaled2, ytest_fil)\n",
    "print('Test Accuracy: ', test_accuracy)"
   ]
  },
  {
   "cell_type": "code",
   "execution_count": 37,
   "id": "d352ef87",
   "metadata": {},
   "outputs": [
    {
     "data": {
      "image/png": "[encoded data removed]",
      "text/plain": [
       "<Figure size 432x288 with 2 Axes>"
      ]
     },
     "metadata": {
      "needs_background": "light"
     },
     "output_type": "display_data"
    }
   ],
   "source": [
    "# visualize the confusion matrix using a heatmap\n",
    "ypred_lr2 = best_logreg2.predict(Xtest_scaled2)\n",
    "\n",
    "labels = ytest.unique()\n",
    "\n",
    "cm_logistic2 = confusion_matrix(ytest_fil, ypred_lr2, normalize='true')\n",
    "plt.figure()\n",
    "sns.heatmap(cm_logistic2, annot=True, cmap='BuPu', xticklabels=labels, yticklabels=labels)\n",
    "plt.show()"
   ]
  },
  {
   "cell_type": "code",
   "execution_count": 38,
   "id": "ba2170cd",
   "metadata": {},
   "outputs": [
    {
     "name": "stdout",
     "output_type": "stream",
     "text": [
      "              precision    recall  f1-score   support\n",
      "\n",
      "           1       0.67      0.67      0.67        12\n",
      "           2       0.67      0.67      0.67        12\n",
      "\n",
      "    accuracy                           0.67        24\n",
      "   macro avg       0.67      0.67      0.67        24\n",
      "weighted avg       0.67      0.67      0.67        24\n",
      "\n"
     ]
    }
   ],
   "source": [
    "# classification report\n",
    "print(classification_report(ytest_fil, ypred_lr2))"
   ]
  },
  {
   "cell_type": "markdown",
   "id": "cc203740",
   "metadata": {},
   "source": [
    "### Comparison of Classification Models"
   ]
  },
  {
   "cell_type": "code",
   "execution_count": 39,
   "id": "7746b6f5",
   "metadata": {},
   "outputs": [],
   "source": [
    "# define a helper function to perform model evaluation based on key metrics\n",
    "from sklearn.metrics import precision_recall_fscore_support\n",
    "\n",
    "def performance_evaluation(X,y,clf,classifier_name=''):\n",
    "    ypred = clf.predict(X)\n",
    "    accuracy = clf.score(X,y)\n",
    "    precision, recall, fscore, support = precision_recall_fscore_support(y, ypred, average='weighted', zero_division=0)\n",
    "    metricName = ['Accuracy','Precision','Recall','F1_Score']\n",
    "    metricValue = [accuracy,precision,recall,fscore]\n",
    "    res = pd.DataFrame(metricValue, index=metricName, columns=[classifier_name])\n",
    "    return res"
   ]
  },
  {
   "cell_type": "code",
   "execution_count": 40,
   "id": "c582b191",
   "metadata": {},
   "outputs": [
    {
     "data": {
      "text/html": [
       "<div>\n",
       "<style scoped>\n",
       "    .dataframe tbody tr th:only-of-type {\n",
       "        vertical-align: middle;\n",
       "    }\n",
       "\n",
       "    .dataframe tbody tr th {\n",
       "        vertical-align: top;\n",
       "    }\n",
       "\n",
       "    .dataframe thead th {\n",
       "        text-align: right;\n",
       "    }\n",
       "</style>\n",
       "<table border=\"1\" class=\"dataframe\">\n",
       "  <thead>\n",
       "    <tr style=\"text-align: right;\">\n",
       "      <th></th>\n",
       "      <th>Decision Tree (All Features)</th>\n",
       "      <th>Logistic Regression (All Features)</th>\n",
       "      <th>Decision Tree (Selected Features)</th>\n",
       "      <th>Logistic Regression (Selected Features)</th>\n",
       "    </tr>\n",
       "  </thead>\n",
       "  <tbody>\n",
       "    <tr>\n",
       "      <th>Accuracy</th>\n",
       "      <td>0.750000</td>\n",
       "      <td>0.666667</td>\n",
       "      <td>0.583333</td>\n",
       "      <td>0.666667</td>\n",
       "    </tr>\n",
       "    <tr>\n",
       "      <th>Precision</th>\n",
       "      <td>0.757143</td>\n",
       "      <td>0.671429</td>\n",
       "      <td>0.593750</td>\n",
       "      <td>0.666667</td>\n",
       "    </tr>\n",
       "    <tr>\n",
       "      <th>Recall</th>\n",
       "      <td>0.750000</td>\n",
       "      <td>0.666667</td>\n",
       "      <td>0.583333</td>\n",
       "      <td>0.666667</td>\n",
       "    </tr>\n",
       "    <tr>\n",
       "      <th>F1_Score</th>\n",
       "      <td>0.748252</td>\n",
       "      <td>0.664336</td>\n",
       "      <td>0.571429</td>\n",
       "      <td>0.666667</td>\n",
       "    </tr>\n",
       "  </tbody>\n",
       "</table>\n",
       "</div>"
      ],
      "text/plain": [
       "           Decision Tree (All Features)  Logistic Regression (All Features)  \\\n",
       "Accuracy                       0.750000                            0.666667   \n",
       "Precision                      0.757143                            0.671429   \n",
       "Recall                         0.750000                            0.666667   \n",
       "F1_Score                       0.748252                            0.664336   \n",
       "\n",
       "           Decision Tree (Selected Features)  \\\n",
       "Accuracy                            0.583333   \n",
       "Precision                           0.593750   \n",
       "Recall                              0.583333   \n",
       "F1_Score                            0.571429   \n",
       "\n",
       "           Logistic Regression (Selected Features)  \n",
       "Accuracy                                  0.666667  \n",
       "Precision                                 0.666667  \n",
       "Recall                                    0.666667  \n",
       "F1_Score                                  0.666667  "
      ]
     },
     "metadata": {},
     "output_type": "display_data"
    }
   ],
   "source": [
    "# generate the performance summary for various models trained\n",
    "tree_summary = performance_evaluation(Xtest_scaled,ytest,best_tree,'Decision Tree (All Features)')\n",
    "logistic_summary = performance_evaluation(Xtest_scaled,ytest,best_logreg,'Logistic Regression (All Features)')\n",
    "\n",
    "tree_summary2 = performance_evaluation(Xtest_scaled2,ytest,best_tree2,'Decision Tree (Selected Features)')\n",
    "logistic_summary2 = performance_evaluation(Xtest_scaled2,ytest,best_logreg2,'Logistic Regression (Selected Features)')\n",
    "\n",
    "# combine the summary of each model into a dataframe \n",
    "comparison_df = pd.concat([tree_summary,logistic_summary,tree_summary2,logistic_summary2], axis=1)\n",
    "\n",
    "# disply the summary dafaframe\n",
    "display(comparison_df)"
   ]
  },
  {
   "cell_type": "code",
   "execution_count": 41,
   "id": "219f7957",
   "metadata": {},
   "outputs": [
    {
     "data": {
      "image/png": "[encoded data removed]",
      "text/plain": [
       "<Figure size 864x360 with 2 Axes>"
      ]
     },
     "metadata": {
      "needs_background": "light"
     },
     "output_type": "display_data"
    },
    {
     "data": {
      "image/png": "[encoded data removed]",
      "text/plain": [
       "<Figure size 864x360 with 2 Axes>"
      ]
     },
     "metadata": {
      "needs_background": "light"
     },
     "output_type": "display_data"
    }
   ],
   "source": [
    "# confusion matrix for classification models\n",
    "\n",
    "labels = ['Healthy Control', 'Cancer Patients']\n",
    "\n",
    "figure, axes = plt.subplots(1,2, figsize=(12,5))\n",
    "sns.heatmap(cm_tree, annot=True, cmap='BuPu', xticklabels=labels, yticklabels=labels, cbar=False, ax=axes[0])\n",
    "axes[0].set_title('Decision Tree', fontsize=14)\n",
    "sns.heatmap(cm_logistic, annot=True, cmap='BuPu', xticklabels=labels, yticklabels=labels, cbar=False, ax=axes[1])\n",
    "axes[1].set_title('Logistic Regression', fontsize=14)\n",
    "figure.suptitle('Confusion Matrix of Decision Tree & Logistic Regression (All Features)', fontsize=15)\n",
    "plt.tight_layout(pad=2)\n",
    "plt.show()\n",
    "\n",
    "figure, axes = plt.subplots(1,2, figsize=(12,5))\n",
    "sns.heatmap(cm_tree2, annot=True, cmap='BuPu', xticklabels=labels, yticklabels=labels, cbar=False, ax=axes[0])\n",
    "axes[0].set_title('Decision Tree', fontsize=14)\n",
    "sns.heatmap(cm_logistic2, annot=True, cmap='BuPu', xticklabels=labels, yticklabels=labels, cbar=False, ax=axes[1])\n",
    "axes[1].set_title('Logistic Regression', fontsize=14)\n",
    "figure.suptitle('Confusion Matrix of Decision Tree & Logistic Regression (Selected Features)', fontsize=15)\n",
    "plt.tight_layout(pad=2)\n",
    "plt.show()"
   ]
  },
  {
   "cell_type": "markdown",
   "id": "cbfb281e",
   "metadata": {},
   "source": [
    "### Summary\n",
    "\n",
    "In the analysis of various clinical features in the Coimbra Breast Cancer dataset, it was found that there is a lack of evidence to support a statistically significant association between age and BMI with breast cancer. However, a significant association was identified in the levels of Glucose, Insulin, and HOMA, where the mean values differed significantly between healthy controls and breast cancer patients. Leptin and Adiponectin did not show a statistically significant association with breast cancer. Interestingly, Resistin exhibited a significant difference in mean values between the two groups, suggesting a potential association with breast cancer. Conversely, MCP-1 did not demonstrate a statistically significant relationship with breast cancer. These findings contribute valuable insights into the specific clinical features that may be implicated in breast cancer, providing a nuanced understanding of their potential roles in the disease.\n",
    "\n",
    "Based on the performance summary of classification models using both Decision Tree and Logistic Regression with all features and selected features, several conclusions can be drawn. It is important to note that these findings are based on a relatively small dataset, and caution should be exercised in generalizing the results to larger populations. The performance metrics indicate that while the Decision Tree model initially outperforms Logistic Regression with all features, the latter exhibits more stable performance, especially after feature selection. However, the dataset's small size introduces a caveat, as feature selection based on statistical analysis does not necessarily guarantee improved model performance. In fact, in the case of the Decision Tree, feature selection led to a decrease in predictive accuracy, underscoring the potential limitations of relying solely on statistical measures for feature selection in small datasets. To enhance model robustness and generalization, it is recommended to consider incorporating domain expertise to guide the feature selection process. Moreover, increasing the dataset size through data augmentation or acquiring additional samples could further strengthen the models' reliability and generalizability. Additionally, exploring more advanced machine learning models or ensemble methods may provide insights into capturing complex relationships within the data. Overall, while these results provide valuable insights, the small dataset size necessitates a cautious interpretation and encourages further exploration with larger datasets and diverse modeling approaches."
   ]
  }
 ],
 "metadata": {
  "kernelspec": {
   "display_name": "Python 3 (ipykernel)",
   "language": "python",
   "name": "python3"
  },
  "language_info": {
   "codemirror_mode": {
    "name": "ipython",
    "version": 3
   },
   "file_extension": ".py",
   "mimetype": "text/x-python",
   "name": "python",
   "nbconvert_exporter": "python",
   "pygments_lexer": "ipython3",
   "version": "3.9.12"
  }
 },
 "nbformat": 4,
 "nbformat_minor": 5
}
