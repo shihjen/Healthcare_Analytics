{
 "cells": [
  {
   "cell_type": "markdown",
   "id": "a97393ea",
   "metadata": {},
   "source": [
    "### Deciphering Angiographic Disease: An In-depth Analysis of Predictive Markers\n",
    "\n",
    "In this study, we embark on a dual-phase analysis to unravel the intricate associations and predictive capabilities surrounding angiographic disease status. The initial phase unfolds through exploratory data analysis (EDA), a critical lens through which we scrutinize the interplay between numerous features and the status of angiographic disease. Employing statistical analysis such as the chi-square test, independent t-test, and Pearson correlation analysis, we delve into the intricate web of relationships that each feature weaves with the severity of angiographic disease. Subsequently, in the second phase, our focus shifts towards predictive analytics, where the spotlight is cast on six distinct classification models. Through exploration of these models, including Decision Tree, Random Forest, Logistic Regression, Naive Bayes, K Nearest Neighbors, and Support Vector Machine, we evaluate their prowess in forecasting angiographic disease status. Metrics such as accuracy, precision, recall, and F1 Score serve as our guiding beacons in assessing the performance of each model, allowing us to glean valuable insights into their strengths and limitations. Together, these dual analyses provide a comprehensive understanding of both the nuanced associations and the predictive prowess inherent in our dataset, laying a robust foundation for informed decision-making in the realm of cardiovascular health."
   ]
  },
  {
   "cell_type": "markdown",
   "id": "90aaa44d",
   "metadata": {},
   "source": [
    "### Initial Data Understanding"
   ]
  },
  {
   "cell_type": "code",
   "execution_count": 1,
   "id": "83d01215",
   "metadata": {},
   "outputs": [],
   "source": [
    "# import essential libraries\n",
    "import pandas as pd\n",
    "import numpy as np\n",
    "import matplotlib.pyplot as plt\n",
    "import seaborn as sns\n",
    "\n",
    "%matplotlib inline"
   ]
  },
  {
   "cell_type": "code",
   "execution_count": 2,
   "id": "c4562de5",
   "metadata": {},
   "outputs": [
    {
     "name": "stdout",
     "output_type": "stream",
     "text": [
      "Dataset dimension:  (1025, 14)\n",
      "Attributes in the dataset:  ['age' 'sex' 'cp' 'trestbps' 'chol' 'fbs' 'restecg' 'thalach' 'exang'\n",
      " 'oldpeak' 'slope' 'ca' 'thal' 'target']\n"
     ]
    },
    {
     "data": {
      "text/html": [
       "<div>\n",
       "<style scoped>\n",
       "    .dataframe tbody tr th:only-of-type {\n",
       "        vertical-align: middle;\n",
       "    }\n",
       "\n",
       "    .dataframe tbody tr th {\n",
       "        vertical-align: top;\n",
       "    }\n",
       "\n",
       "    .dataframe thead th {\n",
       "        text-align: right;\n",
       "    }\n",
       "</style>\n",
       "<table border=\"1\" class=\"dataframe\">\n",
       "  <thead>\n",
       "    <tr style=\"text-align: right;\">\n",
       "      <th></th>\n",
       "      <th>age</th>\n",
       "      <th>sex</th>\n",
       "      <th>cp</th>\n",
       "      <th>trestbps</th>\n",
       "      <th>chol</th>\n",
       "      <th>fbs</th>\n",
       "      <th>restecg</th>\n",
       "      <th>thalach</th>\n",
       "      <th>exang</th>\n",
       "      <th>oldpeak</th>\n",
       "      <th>slope</th>\n",
       "      <th>ca</th>\n",
       "      <th>thal</th>\n",
       "      <th>target</th>\n",
       "    </tr>\n",
       "  </thead>\n",
       "  <tbody>\n",
       "    <tr>\n",
       "      <th>0</th>\n",
       "      <td>52</td>\n",
       "      <td>1</td>\n",
       "      <td>0</td>\n",
       "      <td>125</td>\n",
       "      <td>212</td>\n",
       "      <td>0</td>\n",
       "      <td>1</td>\n",
       "      <td>168</td>\n",
       "      <td>0</td>\n",
       "      <td>1.0</td>\n",
       "      <td>2</td>\n",
       "      <td>2</td>\n",
       "      <td>3</td>\n",
       "      <td>0</td>\n",
       "    </tr>\n",
       "    <tr>\n",
       "      <th>1</th>\n",
       "      <td>53</td>\n",
       "      <td>1</td>\n",
       "      <td>0</td>\n",
       "      <td>140</td>\n",
       "      <td>203</td>\n",
       "      <td>1</td>\n",
       "      <td>0</td>\n",
       "      <td>155</td>\n",
       "      <td>1</td>\n",
       "      <td>3.1</td>\n",
       "      <td>0</td>\n",
       "      <td>0</td>\n",
       "      <td>3</td>\n",
       "      <td>0</td>\n",
       "    </tr>\n",
       "    <tr>\n",
       "      <th>2</th>\n",
       "      <td>70</td>\n",
       "      <td>1</td>\n",
       "      <td>0</td>\n",
       "      <td>145</td>\n",
       "      <td>174</td>\n",
       "      <td>0</td>\n",
       "      <td>1</td>\n",
       "      <td>125</td>\n",
       "      <td>1</td>\n",
       "      <td>2.6</td>\n",
       "      <td>0</td>\n",
       "      <td>0</td>\n",
       "      <td>3</td>\n",
       "      <td>0</td>\n",
       "    </tr>\n",
       "    <tr>\n",
       "      <th>3</th>\n",
       "      <td>61</td>\n",
       "      <td>1</td>\n",
       "      <td>0</td>\n",
       "      <td>148</td>\n",
       "      <td>203</td>\n",
       "      <td>0</td>\n",
       "      <td>1</td>\n",
       "      <td>161</td>\n",
       "      <td>0</td>\n",
       "      <td>0.0</td>\n",
       "      <td>2</td>\n",
       "      <td>1</td>\n",
       "      <td>3</td>\n",
       "      <td>0</td>\n",
       "    </tr>\n",
       "    <tr>\n",
       "      <th>4</th>\n",
       "      <td>62</td>\n",
       "      <td>0</td>\n",
       "      <td>0</td>\n",
       "      <td>138</td>\n",
       "      <td>294</td>\n",
       "      <td>1</td>\n",
       "      <td>1</td>\n",
       "      <td>106</td>\n",
       "      <td>0</td>\n",
       "      <td>1.9</td>\n",
       "      <td>1</td>\n",
       "      <td>3</td>\n",
       "      <td>2</td>\n",
       "      <td>0</td>\n",
       "    </tr>\n",
       "  </tbody>\n",
       "</table>\n",
       "</div>"
      ],
      "text/plain": [
       "   age  sex  cp  trestbps  chol  fbs  restecg  thalach  exang  oldpeak  slope  \\\n",
       "0   52    1   0       125   212    0        1      168      0      1.0      2   \n",
       "1   53    1   0       140   203    1        0      155      1      3.1      0   \n",
       "2   70    1   0       145   174    0        1      125      1      2.6      0   \n",
       "3   61    1   0       148   203    0        1      161      0      0.0      2   \n",
       "4   62    0   0       138   294    1        1      106      0      1.9      1   \n",
       "\n",
       "   ca  thal  target  \n",
       "0   2     3       0  \n",
       "1   0     3       0  \n",
       "2   0     3       0  \n",
       "3   1     3       0  \n",
       "4   3     2       0  "
      ]
     },
     "execution_count": 2,
     "metadata": {},
     "output_type": "execute_result"
    }
   ],
   "source": [
    "# laod the dataset\n",
    "data = pd.read_csv('../data/heart_disease.csv')\n",
    "\n",
    "# check the dimension of the data\n",
    "print('Dataset dimension: ', data.shape)\n",
    "\n",
    "# check the dataset's attributes\n",
    "print('Attributes in the dataset: ', data.columns.values)\n",
    "\n",
    "# view first 5 rows of the data\n",
    "data.head()"
   ]
  },
  {
   "cell_type": "markdown",
   "id": "f5055ae2",
   "metadata": {},
   "source": [
    "#### Attributes Description:\n",
    "\n",
    "1. age - age of individual in years\n",
    "2. sex - gender of the individual\n",
    "3. cp - chest pain (4 categories --- 1: typical angina, 2: atypical angina, 3: non-anginal pain, 4: asymptomatic)\n",
    "4. trestbps - resting blood pressure (in mm Hg on admission to the hospital)\n",
    "5. chol - serum cholestoral in mg/dl\n",
    "6. fbs - (fasting blood sugar > 120 mg/dl) (1 = true; 0 = false)\n",
    "7. restecg - resting electrocardiographic results (3 categories --- 0: normal, 1: having ST-T wave abnormality (T wave inversions and/or ST elevation or depression of > 0.05 mV), 2: showing probable or definite left ventricular hypertrophy by Estes' criteria)\n",
    "8. thalach - maximum heart rate achieved\n",
    "9. exang - exercise induced angina (1 = yes; 0 = no)\n",
    "10. oldpeak - ST depression induced by exercise relative to rest (ST depression refers to a finding on an electrocardiogram, wherein the trace in the ST segment is abnormally low below the baseline.)\n",
    "11. slope - the slope of the peak exercise ST segment (1: upsloping, 2: flat, 3: downsloping)\n",
    "12. ca - number of major vessels (0-3) colored by flourosopy (refers to a medical observation or measurement related to coronary angiography, a procedure used to visualize the blood vessels (coronary arteries) supplying the heart muscle)\n",
    "13. thal - findings from the Thallium-201 imaging (3 categories --- Thal 0 (normal): This suggests that there are no significant perfusion abnormalities in the heart. The Thallium-201 imaging shows normal blood flow to the myocardium, Thal 1 (fixed defect): This indicates an area of the heart where there is reduced blood flow, and this reduction is consistent and not influenced by stress (e.g., exercise). It may suggest scar tissue or permanent damage in that region, Thal 2 (reversible defect): This suggests an area of the heart with reduced blood flow that is influenced by stress. During stress (such as exercise or pharmacological stress testing), the blood flow to this region may become more compromised, but it can improve when the stress is relieved. This may indicate ischemia, which is a reversible reduction in blood flow to the heart muscle)\n",
    "14. target - diagnosis of heart disease (angiographic disease status) (2 categories --- 0: < 50% diameter narrowing, 1: > 50% diameter narrowing)"
   ]
  },
  {
   "cell_type": "code",
   "execution_count": 3,
   "id": "e9fb6d03",
   "metadata": {},
   "outputs": [
    {
     "name": "stdout",
     "output_type": "stream",
     "text": [
      "<class 'pandas.core.frame.DataFrame'>\n",
      "RangeIndex: 1025 entries, 0 to 1024\n",
      "Data columns (total 14 columns):\n",
      " #   Column    Non-Null Count  Dtype  \n",
      "---  ------    --------------  -----  \n",
      " 0   age       1025 non-null   int64  \n",
      " 1   sex       1025 non-null   int64  \n",
      " 2   cp        1025 non-null   int64  \n",
      " 3   trestbps  1025 non-null   int64  \n",
      " 4   chol      1025 non-null   int64  \n",
      " 5   fbs       1025 non-null   int64  \n",
      " 6   restecg   1025 non-null   int64  \n",
      " 7   thalach   1025 non-null   int64  \n",
      " 8   exang     1025 non-null   int64  \n",
      " 9   oldpeak   1025 non-null   float64\n",
      " 10  slope     1025 non-null   int64  \n",
      " 11  ca        1025 non-null   int64  \n",
      " 12  thal      1025 non-null   int64  \n",
      " 13  target    1025 non-null   int64  \n",
      "dtypes: float64(1), int64(13)\n",
      "memory usage: 112.2 KB\n"
     ]
    }
   ],
   "source": [
    "# top level overview of the dataset\n",
    "data.info()"
   ]
  },
  {
   "cell_type": "markdown",
   "id": "db1084a2",
   "metadata": {},
   "source": [
    "### Exploratory Data Analysis (EDA)"
   ]
  },
  {
   "cell_type": "code",
   "execution_count": 4,
   "id": "edae4625",
   "metadata": {},
   "outputs": [
    {
     "data": {
      "image/png": "[encoded data removed]",
      "text/plain": [
       "<Figure size 1080x360 with 2 Axes>"
      ]
     },
     "metadata": {
      "needs_background": "light"
     },
     "output_type": "display_data"
    }
   ],
   "source": [
    "# distribution of samples by target label\n",
    "\n",
    "target = data['target'].value_counts()\n",
    "target_labels = ['> 50% Diameter Narrowing', '< 50% Diameter Narrowing']\n",
    "colors = ['aquamarine', 'crimson']\n",
    "\n",
    "figure, axes = plt.subplots(1,2, figsize=(15,5), gridspec_kw={'width_ratios':[1.5,1]})\n",
    "axes[0].barh(y=target.index.astype(str), width=target.values, color=colors)\n",
    "axes[0].set_xlabel('Frequency')\n",
    "axes[0].set_ylabel('Angiographic Disease Status')\n",
    "axes[0].grid(alpha=0.4)\n",
    "\n",
    "for index, values in enumerate(target):\n",
    "    axes[0].text(values+5, index, str(values), va='center')\n",
    "    \n",
    "axes[1].pie(target.values, labels=target_labels, explode=([0.05]*len(target.index)), autopct='%.2f%%', colors=colors)\n",
    "\n",
    "figure.suptitle('Distribution of Samples by Angiographic Disease Status (< 50% vs > 50% Diameter Narrowing)', fontsize=15)\n",
    "plt.tight_layout(pad=1)\n",
    "plt.show()"
   ]
  },
  {
   "cell_type": "markdown",
   "id": "ba911f04",
   "metadata": {},
   "source": [
    "#### Question 1 | What is the average age of individuals with < 50% diameter narrowing (target = 0) compared to those with > 50% diameter narrowing (target = 1)? Is there a statistically significant difference in age between the two groups?"
   ]
  },
  {
   "cell_type": "code",
   "execution_count": 5,
   "id": "168c0b80",
   "metadata": {},
   "outputs": [
    {
     "name": "stderr",
     "output_type": "stream",
     "text": [
      "C:\\Users\\65814\\AppData\\Local\\Temp\\ipykernel_22776\\3818081032.py:7: FutureWarning: \n",
      "\n",
      "Passing `palette` without assigning `hue` is deprecated and will be removed in v0.14.0. Assign the `x` variable to `hue` and set `legend=False` for the same effect.\n",
      "\n",
      "  sns.boxplot(data=data, x=data['target'], y=data['age'], palette=colors, ax=axes[1])\n"
     ]
    },
    {
     "data": {
      "image/png": "[encoded data removed]",
      "text/plain": [
       "<Figure size 1080x360 with 2 Axes>"
      ]
     },
     "metadata": {
      "needs_background": "light"
     },
     "output_type": "display_data"
    },
    {
     "data": {
      "text/html": [
       "<div>\n",
       "<style scoped>\n",
       "    .dataframe tbody tr th:only-of-type {\n",
       "        vertical-align: middle;\n",
       "    }\n",
       "\n",
       "    .dataframe tbody tr th {\n",
       "        vertical-align: top;\n",
       "    }\n",
       "\n",
       "    .dataframe thead th {\n",
       "        text-align: right;\n",
       "    }\n",
       "</style>\n",
       "<table border=\"1\" class=\"dataframe\">\n",
       "  <thead>\n",
       "    <tr style=\"text-align: right;\">\n",
       "      <th></th>\n",
       "      <th>count</th>\n",
       "      <th>mean</th>\n",
       "      <th>std</th>\n",
       "      <th>min</th>\n",
       "      <th>25%</th>\n",
       "      <th>50%</th>\n",
       "      <th>75%</th>\n",
       "      <th>max</th>\n",
       "    </tr>\n",
       "    <tr>\n",
       "      <th>target</th>\n",
       "      <th></th>\n",
       "      <th></th>\n",
       "      <th></th>\n",
       "      <th></th>\n",
       "      <th></th>\n",
       "      <th></th>\n",
       "      <th></th>\n",
       "      <th></th>\n",
       "    </tr>\n",
       "  </thead>\n",
       "  <tbody>\n",
       "    <tr>\n",
       "      <th>0</th>\n",
       "      <td>499.0</td>\n",
       "      <td>56.569138</td>\n",
       "      <td>7.908153</td>\n",
       "      <td>35.0</td>\n",
       "      <td>52.0</td>\n",
       "      <td>58.0</td>\n",
       "      <td>62.0</td>\n",
       "      <td>77.0</td>\n",
       "    </tr>\n",
       "    <tr>\n",
       "      <th>1</th>\n",
       "      <td>526.0</td>\n",
       "      <td>52.408745</td>\n",
       "      <td>9.631804</td>\n",
       "      <td>29.0</td>\n",
       "      <td>44.0</td>\n",
       "      <td>52.0</td>\n",
       "      <td>59.0</td>\n",
       "      <td>76.0</td>\n",
       "    </tr>\n",
       "  </tbody>\n",
       "</table>\n",
       "</div>"
      ],
      "text/plain": [
       "        count       mean       std   min   25%   50%   75%   max\n",
       "target                                                          \n",
       "0       499.0  56.569138  7.908153  35.0  52.0  58.0  62.0  77.0\n",
       "1       526.0  52.408745  9.631804  29.0  44.0  52.0  59.0  76.0"
      ]
     },
     "metadata": {},
     "output_type": "display_data"
    },
    {
     "name": "stdout",
     "output_type": "stream",
     "text": [
      "Test statistic:  7.5356\n",
      "Test p-value:  0.0\n",
      "Reject the null hypothesis. The analysis reveals a statistically significant age difference between individuals with Angiographic Disease Status characterized by < 50% diameter narrowing and those with > 50% diameter narrowing.\n"
     ]
    }
   ],
   "source": [
    "from scipy.stats import ttest_ind\n",
    "# visualization (histogram and boxplot)\n",
    "figure, axes = plt.subplots(1,2, figsize=(15,5,), gridspec_kw={'width_ratios':[1.5,1]})\n",
    "sns.histplot(data=data, x=data['age'], hue=data['target'], palette=colors, ax=axes[0])\n",
    "axes[0].set_ylabel('Frequency')\n",
    "axes[0].grid(alpha=0.4)\n",
    "sns.boxplot(data=data, x=data['target'], y=data['age'], palette=colors, ax=axes[1])\n",
    "axes[1].set_xlabel('Angiographic Disease Status')\n",
    "axes[1].grid(alpha=0.4)\n",
    "figure.suptitle('Distribution of Sample Age by Angiographic Disease Status (< 50% vs > 50% Diameter Narrowing)', fontsize=15)\n",
    "plt.tight_layout(pad=1)\n",
    "plt.show()\n",
    "\n",
    "# display the 5 summary statistic\n",
    "targets = data.groupby('target')\n",
    "min_narrowing = targets.get_group(0)\n",
    "sig_narrowing = targets.get_group(1)\n",
    "display(targets['age'].describe())\n",
    "\n",
    "# perform an independent T-Test\n",
    "res = ttest_ind(min_narrowing['age'], sig_narrowing['age'])\n",
    "test_stat = round(res[0], 4)\n",
    "pvalue = round(res[1], 4)\n",
    "\n",
    "print('Test statistic: ', test_stat)\n",
    "print('Test p-value: ', pvalue)\n",
    "\n",
    "alpha = 0.05\n",
    "if pvalue < alpha:\n",
    "    print('Reject the null hypothesis. The analysis reveals a statistically significant age difference between individuals with Angiographic Disease Status characterized by < 50% diameter narrowing and those with > 50% diameter narrowing.')\n",
    "else:\n",
    "    print('Failed to reject null hypothesis. Lack of evidence to conclude a statistically significant difference in age between individuals with Angiographic Disease Status characterized by < 50% diameter narrowing and those with > 50% diameter narrowing.')"
   ]
  },
  {
   "cell_type": "markdown",
   "id": "1971272a",
   "metadata": {},
   "source": [
    "#### Question 2 |     What is the distribution of heart disease diagnosis based on gender? Is there a significant association between gender and the likelihood of > 50% diameter narrowing?"
   ]
  },
  {
   "cell_type": "code",
   "execution_count": 6,
   "id": "d2aba155",
   "metadata": {},
   "outputs": [
    {
     "data": {
      "image/png": "[encoded data removed]",
      "text/plain": [
       "<Figure size 1080x360 with 1 Axes>"
      ]
     },
     "metadata": {
      "needs_background": "light"
     },
     "output_type": "display_data"
    },
    {
     "name": "stdout",
     "output_type": "stream",
     "text": [
      "Contingency Table: \n"
     ]
    },
    {
     "data": {
      "text/html": [
       "<div>\n",
       "<style scoped>\n",
       "    .dataframe tbody tr th:only-of-type {\n",
       "        vertical-align: middle;\n",
       "    }\n",
       "\n",
       "    .dataframe tbody tr th {\n",
       "        vertical-align: top;\n",
       "    }\n",
       "\n",
       "    .dataframe thead th {\n",
       "        text-align: right;\n",
       "    }\n",
       "</style>\n",
       "<table border=\"1\" class=\"dataframe\">\n",
       "  <thead>\n",
       "    <tr style=\"text-align: right;\">\n",
       "      <th>target</th>\n",
       "      <th>0</th>\n",
       "      <th>1</th>\n",
       "    </tr>\n",
       "    <tr>\n",
       "      <th>sex</th>\n",
       "      <th></th>\n",
       "      <th></th>\n",
       "    </tr>\n",
       "  </thead>\n",
       "  <tbody>\n",
       "    <tr>\n",
       "      <th>0</th>\n",
       "      <td>86</td>\n",
       "      <td>226</td>\n",
       "    </tr>\n",
       "    <tr>\n",
       "      <th>1</th>\n",
       "      <td>413</td>\n",
       "      <td>300</td>\n",
       "    </tr>\n",
       "  </tbody>\n",
       "</table>\n",
       "</div>"
      ],
      "text/plain": [
       "target    0    1\n",
       "sex             \n",
       "0        86  226\n",
       "1       413  300"
      ]
     },
     "metadata": {},
     "output_type": "display_data"
    },
    {
     "name": "stdout",
     "output_type": "stream",
     "text": [
      "Expected Frequency: \n"
     ]
    },
    {
     "data": {
      "text/html": [
       "<div>\n",
       "<style scoped>\n",
       "    .dataframe tbody tr th:only-of-type {\n",
       "        vertical-align: middle;\n",
       "    }\n",
       "\n",
       "    .dataframe tbody tr th {\n",
       "        vertical-align: top;\n",
       "    }\n",
       "\n",
       "    .dataframe thead th {\n",
       "        text-align: right;\n",
       "    }\n",
       "</style>\n",
       "<table border=\"1\" class=\"dataframe\">\n",
       "  <thead>\n",
       "    <tr style=\"text-align: right;\">\n",
       "      <th>target</th>\n",
       "      <th>0</th>\n",
       "      <th>1</th>\n",
       "    </tr>\n",
       "    <tr>\n",
       "      <th>sex</th>\n",
       "      <th></th>\n",
       "      <th></th>\n",
       "    </tr>\n",
       "  </thead>\n",
       "  <tbody>\n",
       "    <tr>\n",
       "      <th>0</th>\n",
       "      <td>151.890732</td>\n",
       "      <td>160.109268</td>\n",
       "    </tr>\n",
       "    <tr>\n",
       "      <th>1</th>\n",
       "      <td>347.109268</td>\n",
       "      <td>365.890732</td>\n",
       "    </tr>\n",
       "  </tbody>\n",
       "</table>\n",
       "</div>"
      ],
      "text/plain": [
       "target           0           1\n",
       "sex                           \n",
       "0       151.890732  160.109268\n",
       "1       347.109268  365.890732"
      ]
     },
     "metadata": {},
     "output_type": "display_data"
    },
    {
     "name": "stdout",
     "output_type": "stream",
     "text": [
      "Test statistic:  78.8631\n",
      "Test p-value:  0.0\n",
      "Reject the null hypothesis, indicating a statistically significant link between gender and an increased likelihood of > 50% diameter narrowing.\n"
     ]
    }
   ],
   "source": [
    "from scipy.stats import chi2_contingency\n",
    "\n",
    "# visualization (bar chart)\n",
    "plt.figure(figsize=(15,5))\n",
    "sns.countplot(data=data, x=data['sex'], hue=data['target'], palette=colors)\n",
    "plt.xlabel('Gender')\n",
    "plt.xticks(ticks=[0, 1], labels=['Female','Male'])\n",
    "plt.title('Distribution of Samples by Gender and Angiographic Disease Status', fontsize=15)\n",
    "plt.grid(alpha=0.4)\n",
    "plt.show()\n",
    "\n",
    "# perform a chi-square test\n",
    "contingency_table = pd.crosstab(data['sex'], data['target'])\n",
    "print('Contingency Table: ')\n",
    "display(contingency_table)\n",
    "\n",
    "res = chi2_contingency(contingency_table)\n",
    "test_stat = round(res[0], 4)\n",
    "pvalue = round(res[1], 4)\n",
    "expected_freq = res[3]\n",
    "\n",
    "print('Expected Frequency: ')\n",
    "display(pd.DataFrame(expected_freq, columns=contingency_table.columns, index=contingency_table.index))\n",
    "print('Test statistic: ', test_stat)\n",
    "print('Test p-value: ', pvalue)\n",
    "\n",
    "alpha = 0.05\n",
    "if pvalue < alpha:\n",
    "    print('Reject the null hypothesis, indicating a statistically significant link between gender and an increased likelihood of > 50% diameter narrowing.')\n",
    "else:\n",
    "    print('Failed to reject null hypothesis. Lack of evidence to conclude a statistically significant association between gender and the likelihood of > 50% diameter narrowing.')"
   ]
  },
  {
   "cell_type": "markdown",
   "id": "1dcb5fe1",
   "metadata": {},
   "source": [
    "#### Question 3 | How does the distribution of chest pain types differ between individuals with < 50% and > 50% diameter narrowing? Is there a statistically significant association between chest pain type and the likelihood of heart disease?"
   ]
  },
  {
   "cell_type": "code",
   "execution_count": 7,
   "id": "8e32f2e8",
   "metadata": {},
   "outputs": [
    {
     "data": {
      "image/png": "[encoded data removed]",
      "text/plain": [
       "<Figure size 1080x360 with 1 Axes>"
      ]
     },
     "metadata": {
      "needs_background": "light"
     },
     "output_type": "display_data"
    },
    {
     "name": "stdout",
     "output_type": "stream",
     "text": [
      "Contingency Table: \n"
     ]
    },
    {
     "data": {
      "text/html": [
       "<div>\n",
       "<style scoped>\n",
       "    .dataframe tbody tr th:only-of-type {\n",
       "        vertical-align: middle;\n",
       "    }\n",
       "\n",
       "    .dataframe tbody tr th {\n",
       "        vertical-align: top;\n",
       "    }\n",
       "\n",
       "    .dataframe thead th {\n",
       "        text-align: right;\n",
       "    }\n",
       "</style>\n",
       "<table border=\"1\" class=\"dataframe\">\n",
       "  <thead>\n",
       "    <tr style=\"text-align: right;\">\n",
       "      <th>target</th>\n",
       "      <th>0</th>\n",
       "      <th>1</th>\n",
       "    </tr>\n",
       "    <tr>\n",
       "      <th>cp</th>\n",
       "      <th></th>\n",
       "      <th></th>\n",
       "    </tr>\n",
       "  </thead>\n",
       "  <tbody>\n",
       "    <tr>\n",
       "      <th>0</th>\n",
       "      <td>375</td>\n",
       "      <td>122</td>\n",
       "    </tr>\n",
       "    <tr>\n",
       "      <th>1</th>\n",
       "      <td>33</td>\n",
       "      <td>134</td>\n",
       "    </tr>\n",
       "    <tr>\n",
       "      <th>2</th>\n",
       "      <td>65</td>\n",
       "      <td>219</td>\n",
       "    </tr>\n",
       "    <tr>\n",
       "      <th>3</th>\n",
       "      <td>26</td>\n",
       "      <td>51</td>\n",
       "    </tr>\n",
       "  </tbody>\n",
       "</table>\n",
       "</div>"
      ],
      "text/plain": [
       "target    0    1\n",
       "cp              \n",
       "0       375  122\n",
       "1        33  134\n",
       "2        65  219\n",
       "3        26   51"
      ]
     },
     "metadata": {},
     "output_type": "display_data"
    },
    {
     "name": "stdout",
     "output_type": "stream",
     "text": [
      "Expected Frequency: \n"
     ]
    },
    {
     "data": {
      "text/html": [
       "<div>\n",
       "<style scoped>\n",
       "    .dataframe tbody tr th:only-of-type {\n",
       "        vertical-align: middle;\n",
       "    }\n",
       "\n",
       "    .dataframe tbody tr th {\n",
       "        vertical-align: top;\n",
       "    }\n",
       "\n",
       "    .dataframe thead th {\n",
       "        text-align: right;\n",
       "    }\n",
       "</style>\n",
       "<table border=\"1\" class=\"dataframe\">\n",
       "  <thead>\n",
       "    <tr style=\"text-align: right;\">\n",
       "      <th>target</th>\n",
       "      <th>0</th>\n",
       "      <th>1</th>\n",
       "    </tr>\n",
       "    <tr>\n",
       "      <th>cp</th>\n",
       "      <th></th>\n",
       "      <th></th>\n",
       "    </tr>\n",
       "  </thead>\n",
       "  <tbody>\n",
       "    <tr>\n",
       "      <th>0</th>\n",
       "      <td>241.954146</td>\n",
       "      <td>255.045854</td>\n",
       "    </tr>\n",
       "    <tr>\n",
       "      <th>1</th>\n",
       "      <td>81.300488</td>\n",
       "      <td>85.699512</td>\n",
       "    </tr>\n",
       "    <tr>\n",
       "      <th>2</th>\n",
       "      <td>138.259512</td>\n",
       "      <td>145.740488</td>\n",
       "    </tr>\n",
       "    <tr>\n",
       "      <th>3</th>\n",
       "      <td>37.485854</td>\n",
       "      <td>39.514146</td>\n",
       "    </tr>\n",
       "  </tbody>\n",
       "</table>\n",
       "</div>"
      ],
      "text/plain": [
       "target           0           1\n",
       "cp                            \n",
       "0       241.954146  255.045854\n",
       "1        81.300488   85.699512\n",
       "2       138.259512  145.740488\n",
       "3        37.485854   39.514146"
      ]
     },
     "metadata": {},
     "output_type": "display_data"
    },
    {
     "name": "stdout",
     "output_type": "stream",
     "text": [
      "Test statistic:  280.9822\n",
      "Test p-value:  0.0\n",
      "Reject the null hypothesis, indicating a statistically significant link between chest pain type and an increased likelihood of > 50% diameter narrowing.\n"
     ]
    }
   ],
   "source": [
    "# visualization (bar chart)\n",
    "plt.figure(figsize=(15,5))\n",
    "sns.countplot(data=data, x=data['cp'], hue=data['target'], palette=colors)\n",
    "plt.xlabel('Chest Pain Type')\n",
    "plt.xticks(ticks=[0, 1,2,3], labels=['Typical Angina', 'Atypical Angina', 'Non-anginal Pain', 'Asymptomatic'])\n",
    "plt.title('Distribution of Samples by Chest Pain Type and Angiographic Disease Status', fontsize=15)\n",
    "plt.grid(alpha=0.4)\n",
    "plt.show()\n",
    "\n",
    "# perform a chi-square test\n",
    "contingency_table = pd.crosstab(data['cp'], data['target'])\n",
    "print('Contingency Table: ')\n",
    "display(contingency_table)\n",
    "\n",
    "res = chi2_contingency(contingency_table)\n",
    "test_stat = round(res[0], 4)\n",
    "pvalue = round(res[1], 4)\n",
    "expected_freq = res[3]\n",
    "\n",
    "print('Expected Frequency: ')\n",
    "display(pd.DataFrame(expected_freq, columns=contingency_table.columns, index=contingency_table.index))\n",
    "print('Test statistic: ', test_stat)\n",
    "print('Test p-value: ', pvalue)\n",
    "\n",
    "alpha = 0.05\n",
    "if pvalue < alpha:\n",
    "    print('Reject the null hypothesis, indicating a statistically significant link between chest pain type and an increased likelihood of > 50% diameter narrowing.')\n",
    "else:\n",
    "    print('Failed to reject null hypothesis. Lack of evidence to conclude a statistically significant association between chest pain type and the likelihood of > 50% diameter narrowing.')"
   ]
  },
  {
   "cell_type": "markdown",
   "id": "2b73c8b6",
   "metadata": {},
   "source": [
    "#### Question 4 | What is the average resting blood pressure of individuals with < 50% diameter narrowing (target = 0) compared to those with > 50% diameter narrowing (target = 1)? Is there a statistically significant difference in resting blood pressure between the two groups?"
   ]
  },
  {
   "cell_type": "code",
   "execution_count": 8,
   "id": "6f4f6100",
   "metadata": {},
   "outputs": [
    {
     "name": "stderr",
     "output_type": "stream",
     "text": [
      "C:\\Users\\65814\\AppData\\Local\\Temp\\ipykernel_22776\\935088698.py:7: FutureWarning: \n",
      "\n",
      "Passing `palette` without assigning `hue` is deprecated and will be removed in v0.14.0. Assign the `x` variable to `hue` and set `legend=False` for the same effect.\n",
      "\n",
      "  sns.boxplot(data=data, x=data['target'], y=data['trestbps'], palette=colors, ax=axes[1])\n"
     ]
    },
    {
     "data": {
      "image/png": "[encoded data removed]",
      "text/plain": [
       "<Figure size 1080x360 with 2 Axes>"
      ]
     },
     "metadata": {
      "needs_background": "light"
     },
     "output_type": "display_data"
    },
    {
     "data": {
      "text/html": [
       "<div>\n",
       "<style scoped>\n",
       "    .dataframe tbody tr th:only-of-type {\n",
       "        vertical-align: middle;\n",
       "    }\n",
       "\n",
       "    .dataframe tbody tr th {\n",
       "        vertical-align: top;\n",
       "    }\n",
       "\n",
       "    .dataframe thead th {\n",
       "        text-align: right;\n",
       "    }\n",
       "</style>\n",
       "<table border=\"1\" class=\"dataframe\">\n",
       "  <thead>\n",
       "    <tr style=\"text-align: right;\">\n",
       "      <th></th>\n",
       "      <th>count</th>\n",
       "      <th>mean</th>\n",
       "      <th>std</th>\n",
       "      <th>min</th>\n",
       "      <th>25%</th>\n",
       "      <th>50%</th>\n",
       "      <th>75%</th>\n",
       "      <th>max</th>\n",
       "    </tr>\n",
       "    <tr>\n",
       "      <th>target</th>\n",
       "      <th></th>\n",
       "      <th></th>\n",
       "      <th></th>\n",
       "      <th></th>\n",
       "      <th></th>\n",
       "      <th></th>\n",
       "      <th></th>\n",
       "      <th></th>\n",
       "    </tr>\n",
       "  </thead>\n",
       "  <tbody>\n",
       "    <tr>\n",
       "      <th>0</th>\n",
       "      <td>499.0</td>\n",
       "      <td>134.106212</td>\n",
       "      <td>18.576736</td>\n",
       "      <td>100.0</td>\n",
       "      <td>120.0</td>\n",
       "      <td>130.0</td>\n",
       "      <td>144.0</td>\n",
       "      <td>200.0</td>\n",
       "    </tr>\n",
       "    <tr>\n",
       "      <th>1</th>\n",
       "      <td>526.0</td>\n",
       "      <td>129.245247</td>\n",
       "      <td>16.112188</td>\n",
       "      <td>94.0</td>\n",
       "      <td>120.0</td>\n",
       "      <td>130.0</td>\n",
       "      <td>140.0</td>\n",
       "      <td>180.0</td>\n",
       "    </tr>\n",
       "  </tbody>\n",
       "</table>\n",
       "</div>"
      ],
      "text/plain": [
       "        count        mean        std    min    25%    50%    75%    max\n",
       "target                                                                 \n",
       "0       499.0  134.106212  18.576736  100.0  120.0  130.0  144.0  200.0\n",
       "1       526.0  129.245247  16.112188   94.0  120.0  130.0  140.0  180.0"
      ]
     },
     "metadata": {},
     "output_type": "display_data"
    },
    {
     "name": "stdout",
     "output_type": "stream",
     "text": [
      "Test statistic:  4.4819\n",
      "Test p-value:  0.0\n",
      "Reject the null hypothesis. The analysis reveals a statistically significant resting blood pressure difference between individuals with Angiographic Disease Status characterized by < 50% diameter narrowing and those with > 50% diameter narrowing.\n"
     ]
    }
   ],
   "source": [
    "# visualization (histogram and boxplot)\n",
    "figure, axes = plt.subplots(1,2, figsize=(15,5,), gridspec_kw={'width_ratios':[1.5,1]})\n",
    "sns.histplot(data=data, x=data['trestbps'], hue=data['target'], palette=colors, ax=axes[0])\n",
    "axes[0].set_xlabel('Resting Blood Pressure')\n",
    "axes[0].set_ylabel('Frequency')\n",
    "axes[0].grid(alpha=0.4)\n",
    "sns.boxplot(data=data, x=data['target'], y=data['trestbps'], palette=colors, ax=axes[1])\n",
    "axes[1].set_xlabel('Angiographic Disease Status')\n",
    "axes[1].set_ylabel('Resting Blood Pressure')\n",
    "axes[1].grid(alpha=0.4)\n",
    "figure.suptitle('Distribution of Sample Resting Blood Pressure by Angiographic Disease Status (< 50% vs > 50% Diameter Narrowing)', fontsize=15)\n",
    "plt.tight_layout(pad=1)\n",
    "plt.show()\n",
    "\n",
    "# display the 5 summary statistic\n",
    "targets = data.groupby('target')\n",
    "min_narrowing = targets.get_group(0)\n",
    "sig_narrowing = targets.get_group(1)\n",
    "display(targets['trestbps'].describe())\n",
    "\n",
    "# perform an independent T-Test\n",
    "res = ttest_ind(min_narrowing['trestbps'], sig_narrowing['trestbps'])\n",
    "test_stat = round(res[0], 4)\n",
    "pvalue = round(res[1], 4)\n",
    "\n",
    "print('Test statistic: ', test_stat)\n",
    "print('Test p-value: ', pvalue)\n",
    "\n",
    "alpha = 0.05\n",
    "if pvalue < alpha:\n",
    "    print('Reject the null hypothesis. The analysis reveals a statistically significant resting blood pressure difference between individuals with Angiographic Disease Status characterized by < 50% diameter narrowing and those with > 50% diameter narrowing.')\n",
    "else:\n",
    "    print('Failed to reject null hypothesis. Lack of evidence to conclude a statistically significant difference in resting blood pressure between individuals with Angiographic Disease Status characterized by < 50% diameter narrowing and those with > 50% diameter narrowing.')"
   ]
  },
  {
   "cell_type": "markdown",
   "id": "ccde3ee2",
   "metadata": {},
   "source": [
    "#### Question 5 | What is the average serum cholesterol level for individuals with different levels of angiographic disease status? Is there a statistically significant difference in serum cholesterol between 2 groups?"
   ]
  },
  {
   "cell_type": "code",
   "execution_count": 9,
   "id": "22a0d018",
   "metadata": {},
   "outputs": [
    {
     "name": "stderr",
     "output_type": "stream",
     "text": [
      "C:\\Users\\65814\\AppData\\Local\\Temp\\ipykernel_22776\\3342125469.py:7: FutureWarning: \n",
      "\n",
      "Passing `palette` without assigning `hue` is deprecated and will be removed in v0.14.0. Assign the `x` variable to `hue` and set `legend=False` for the same effect.\n",
      "\n",
      "  sns.boxplot(data=data, x=data['target'], y=data['chol'], palette=colors, ax=axes[1])\n"
     ]
    },
    {
     "data": {
      "image/png": "[encoded data removed]",
      "text/plain": [
       "<Figure size 1080x360 with 2 Axes>"
      ]
     },
     "metadata": {
      "needs_background": "light"
     },
     "output_type": "display_data"
    },
    {
     "data": {
      "text/html": [
       "<div>\n",
       "<style scoped>\n",
       "    .dataframe tbody tr th:only-of-type {\n",
       "        vertical-align: middle;\n",
       "    }\n",
       "\n",
       "    .dataframe tbody tr th {\n",
       "        vertical-align: top;\n",
       "    }\n",
       "\n",
       "    .dataframe thead th {\n",
       "        text-align: right;\n",
       "    }\n",
       "</style>\n",
       "<table border=\"1\" class=\"dataframe\">\n",
       "  <thead>\n",
       "    <tr style=\"text-align: right;\">\n",
       "      <th></th>\n",
       "      <th>count</th>\n",
       "      <th>mean</th>\n",
       "      <th>std</th>\n",
       "      <th>min</th>\n",
       "      <th>25%</th>\n",
       "      <th>50%</th>\n",
       "      <th>75%</th>\n",
       "      <th>max</th>\n",
       "    </tr>\n",
       "    <tr>\n",
       "      <th>target</th>\n",
       "      <th></th>\n",
       "      <th></th>\n",
       "      <th></th>\n",
       "      <th></th>\n",
       "      <th></th>\n",
       "      <th></th>\n",
       "      <th></th>\n",
       "      <th></th>\n",
       "    </tr>\n",
       "  </thead>\n",
       "  <tbody>\n",
       "    <tr>\n",
       "      <th>0</th>\n",
       "      <td>499.0</td>\n",
       "      <td>251.292585</td>\n",
       "      <td>49.558924</td>\n",
       "      <td>131.0</td>\n",
       "      <td>217.0</td>\n",
       "      <td>249.0</td>\n",
       "      <td>284.00</td>\n",
       "      <td>409.0</td>\n",
       "    </tr>\n",
       "    <tr>\n",
       "      <th>1</th>\n",
       "      <td>526.0</td>\n",
       "      <td>240.979087</td>\n",
       "      <td>53.010345</td>\n",
       "      <td>126.0</td>\n",
       "      <td>208.0</td>\n",
       "      <td>234.0</td>\n",
       "      <td>265.75</td>\n",
       "      <td>564.0</td>\n",
       "    </tr>\n",
       "  </tbody>\n",
       "</table>\n",
       "</div>"
      ],
      "text/plain": [
       "        count        mean        std    min    25%    50%     75%    max\n",
       "target                                                                  \n",
       "0       499.0  251.292585  49.558924  131.0  217.0  249.0  284.00  409.0\n",
       "1       526.0  240.979087  53.010345  126.0  208.0  234.0  265.75  564.0"
      ]
     },
     "metadata": {},
     "output_type": "display_data"
    },
    {
     "name": "stdout",
     "output_type": "stream",
     "text": [
      "Test statistic:  3.2134\n",
      "Test p-value:  0.0014\n",
      "Reject the null hypothesis. The analysis reveals a statistically significant serum cholesterol (mg/dl) difference between individuals with Angiographic Disease Status characterized by < 50% diameter narrowing and those with > 50% diameter narrowing.\n"
     ]
    }
   ],
   "source": [
    "# visualization (histogram and boxplot)\n",
    "figure, axes = plt.subplots(1,2, figsize=(15,5,), gridspec_kw={'width_ratios':[1.5,1]})\n",
    "sns.histplot(data=data, x=data['chol'], hue=data['target'], palette=colors, ax=axes[0])\n",
    "axes[0].set_xlabel('Serum Cholesterol (mg/dl)')\n",
    "axes[0].set_ylabel('Frequency')\n",
    "axes[0].grid(alpha=0.4)\n",
    "sns.boxplot(data=data, x=data['target'], y=data['chol'], palette=colors, ax=axes[1])\n",
    "axes[1].set_xlabel('Angiographic Disease Status')\n",
    "axes[1].set_ylabel('Serum Cholesterol (mg/dl)')\n",
    "axes[1].grid(alpha=0.4)\n",
    "figure.suptitle('Distribution of Sample Serum Cholesterol (mg/dl) by Angiographic Disease Status (< 50% vs > 50% Diameter Narrowing)', fontsize=15)\n",
    "plt.tight_layout(pad=1)\n",
    "plt.show()\n",
    "\n",
    "# display the 5 summary statistic\n",
    "targets = data.groupby('target')\n",
    "min_narrowing = targets.get_group(0)\n",
    "sig_narrowing = targets.get_group(1)\n",
    "display(targets['chol'].describe())\n",
    "\n",
    "# perform an independent T-Test\n",
    "res = ttest_ind(min_narrowing['chol'], sig_narrowing['chol'])\n",
    "test_stat = round(res[0], 4)\n",
    "pvalue = round(res[1], 4)\n",
    "\n",
    "print('Test statistic: ', test_stat)\n",
    "print('Test p-value: ', pvalue)\n",
    "\n",
    "alpha = 0.05\n",
    "if pvalue < alpha:\n",
    "    print('Reject the null hypothesis. The analysis reveals a statistically significant serum cholesterol (mg/dl) difference between individuals with Angiographic Disease Status characterized by < 50% diameter narrowing and those with > 50% diameter narrowing.')\n",
    "else:\n",
    "    print('Failed to reject null hypothesis. Lack of evidence to conclude a statistically significant difference in serum cholesterol (mg/dl) between individuals with Angiographic Disease Status characterized by < 50% diameter narrowing and those with > 50% diameter narrowing.')"
   ]
  },
  {
   "cell_type": "markdown",
   "id": "12874f3b",
   "metadata": {},
   "source": [
    "#### Question 6  | How does the prevalence of fasting blood sugar levels greater than 120 mg/dl vary between individuals with < 50% and > 50% diameter narrowing in angiographic disease status categories? Is there a statistically significant association between fasting blood sugar levels and the likelihood of more severe angiographic disease (> 50% diameter narrowing)?"
   ]
  },
  {
   "cell_type": "code",
   "execution_count": 10,
   "id": "313af530",
   "metadata": {},
   "outputs": [
    {
     "data": {
      "image/png": "[encoded data removed]",
      "text/plain": [
       "<Figure size 1080x360 with 1 Axes>"
      ]
     },
     "metadata": {
      "needs_background": "light"
     },
     "output_type": "display_data"
    },
    {
     "name": "stdout",
     "output_type": "stream",
     "text": [
      "Contingency Table: \n"
     ]
    },
    {
     "data": {
      "text/html": [
       "<div>\n",
       "<style scoped>\n",
       "    .dataframe tbody tr th:only-of-type {\n",
       "        vertical-align: middle;\n",
       "    }\n",
       "\n",
       "    .dataframe tbody tr th {\n",
       "        vertical-align: top;\n",
       "    }\n",
       "\n",
       "    .dataframe thead th {\n",
       "        text-align: right;\n",
       "    }\n",
       "</style>\n",
       "<table border=\"1\" class=\"dataframe\">\n",
       "  <thead>\n",
       "    <tr style=\"text-align: right;\">\n",
       "      <th>target</th>\n",
       "      <th>0</th>\n",
       "      <th>1</th>\n",
       "    </tr>\n",
       "    <tr>\n",
       "      <th>fbs</th>\n",
       "      <th></th>\n",
       "      <th></th>\n",
       "    </tr>\n",
       "  </thead>\n",
       "  <tbody>\n",
       "    <tr>\n",
       "      <th>0</th>\n",
       "      <td>417</td>\n",
       "      <td>455</td>\n",
       "    </tr>\n",
       "    <tr>\n",
       "      <th>1</th>\n",
       "      <td>82</td>\n",
       "      <td>71</td>\n",
       "    </tr>\n",
       "  </tbody>\n",
       "</table>\n",
       "</div>"
      ],
      "text/plain": [
       "target    0    1\n",
       "fbs             \n",
       "0       417  455\n",
       "1        82   71"
      ]
     },
     "metadata": {},
     "output_type": "display_data"
    },
    {
     "name": "stdout",
     "output_type": "stream",
     "text": [
      "Expected Frequency: \n"
     ]
    },
    {
     "data": {
      "text/html": [
       "<div>\n",
       "<style scoped>\n",
       "    .dataframe tbody tr th:only-of-type {\n",
       "        vertical-align: middle;\n",
       "    }\n",
       "\n",
       "    .dataframe tbody tr th {\n",
       "        vertical-align: top;\n",
       "    }\n",
       "\n",
       "    .dataframe thead th {\n",
       "        text-align: right;\n",
       "    }\n",
       "</style>\n",
       "<table border=\"1\" class=\"dataframe\">\n",
       "  <thead>\n",
       "    <tr style=\"text-align: right;\">\n",
       "      <th>target</th>\n",
       "      <th>0</th>\n",
       "      <th>1</th>\n",
       "    </tr>\n",
       "    <tr>\n",
       "      <th>fbs</th>\n",
       "      <th></th>\n",
       "      <th></th>\n",
       "    </tr>\n",
       "  </thead>\n",
       "  <tbody>\n",
       "    <tr>\n",
       "      <th>0</th>\n",
       "      <td>424.515122</td>\n",
       "      <td>447.484878</td>\n",
       "    </tr>\n",
       "    <tr>\n",
       "      <th>1</th>\n",
       "      <td>74.484878</td>\n",
       "      <td>78.515122</td>\n",
       "    </tr>\n",
       "  </tbody>\n",
       "</table>\n",
       "</div>"
      ],
      "text/plain": [
       "target           0           1\n",
       "fbs                           \n",
       "0       424.515122  447.484878\n",
       "1        74.484878   78.515122"
      ]
     },
     "metadata": {},
     "output_type": "display_data"
    },
    {
     "name": "stdout",
     "output_type": "stream",
     "text": [
      "Test statistic:  1.5134\n",
      "Test p-value:  0.2186\n",
      "Failed to reject null hypothesis. Lack of evidence to conclude a statistically significant association between fasting blood glucose level and the likelihood of > 50% diameter narrowing.\n"
     ]
    }
   ],
   "source": [
    "# visualization (bar chart)\n",
    "plt.figure(figsize=(15,5))\n",
    "sns.countplot(data=data, x=data['fbs'], hue=data['target'], palette=colors)\n",
    "plt.xlabel('Fasting Blood Glucose (> 120mg/dL)')\n",
    "plt.xticks(ticks=[0,1], labels=['FBS < 120mg/dL', 'FBS > 120mg/dL'])\n",
    "plt.title('Distribution of Samples by Fasting Blood Glucose (mg/dL) and Angiographic Disease Status', fontsize=15)\n",
    "plt.grid(alpha=0.4)\n",
    "plt.show()\n",
    "\n",
    "# perform a chi-square test\n",
    "contingency_table = pd.crosstab(data['fbs'], data['target'])\n",
    "print('Contingency Table: ')\n",
    "display(contingency_table)\n",
    "\n",
    "res = chi2_contingency(contingency_table)\n",
    "test_stat = round(res[0], 4)\n",
    "pvalue = round(res[1], 4)\n",
    "expected_freq = res[3]\n",
    "\n",
    "print('Expected Frequency: ')\n",
    "display(pd.DataFrame(expected_freq, columns=contingency_table.columns, index=contingency_table.index))\n",
    "print('Test statistic: ', test_stat)\n",
    "print('Test p-value: ', pvalue)\n",
    "\n",
    "alpha = 0.05\n",
    "if pvalue < alpha:\n",
    "    print('Reject the null hypothesis, indicating a statistically significant association between fasting blood glucose level and an increased likelihood of > 50% diameter narrowing.')\n",
    "else:\n",
    "    print('Failed to reject null hypothesis. Lack of evidence to conclude a statistically significant association between fasting blood glucose level and the likelihood of > 50% diameter narrowing.')"
   ]
  },
  {
   "cell_type": "markdown",
   "id": "f17936a9",
   "metadata": {},
   "source": [
    "#### Question 7 | How does the distribution of resting electrocardiographic results (categories 0, 1, and 2) vary between individuals with < 50% and > 50% diameter narrowing in angiographic disease status categories? Is there a statistically significant association between resting electrocardiographic results and the likelihood of more severe angiographic disease (> 50% diameter narrowing)?"
   ]
  },
  {
   "cell_type": "code",
   "execution_count": 11,
   "id": "06da946c",
   "metadata": {},
   "outputs": [
    {
     "data": {
      "image/png": "[encoded data removed]",
      "text/plain": [
       "<Figure size 1080x360 with 1 Axes>"
      ]
     },
     "metadata": {
      "needs_background": "light"
     },
     "output_type": "display_data"
    },
    {
     "name": "stdout",
     "output_type": "stream",
     "text": [
      "Contingency Table: \n"
     ]
    },
    {
     "data": {
      "text/html": [
       "<div>\n",
       "<style scoped>\n",
       "    .dataframe tbody tr th:only-of-type {\n",
       "        vertical-align: middle;\n",
       "    }\n",
       "\n",
       "    .dataframe tbody tr th {\n",
       "        vertical-align: top;\n",
       "    }\n",
       "\n",
       "    .dataframe thead th {\n",
       "        text-align: right;\n",
       "    }\n",
       "</style>\n",
       "<table border=\"1\" class=\"dataframe\">\n",
       "  <thead>\n",
       "    <tr style=\"text-align: right;\">\n",
       "      <th>target</th>\n",
       "      <th>0</th>\n",
       "      <th>1</th>\n",
       "    </tr>\n",
       "    <tr>\n",
       "      <th>restecg</th>\n",
       "      <th></th>\n",
       "      <th></th>\n",
       "    </tr>\n",
       "  </thead>\n",
       "  <tbody>\n",
       "    <tr>\n",
       "      <th>0</th>\n",
       "      <td>283</td>\n",
       "      <td>214</td>\n",
       "    </tr>\n",
       "    <tr>\n",
       "      <th>1</th>\n",
       "      <td>204</td>\n",
       "      <td>309</td>\n",
       "    </tr>\n",
       "    <tr>\n",
       "      <th>2</th>\n",
       "      <td>12</td>\n",
       "      <td>3</td>\n",
       "    </tr>\n",
       "  </tbody>\n",
       "</table>\n",
       "</div>"
      ],
      "text/plain": [
       "target     0    1\n",
       "restecg          \n",
       "0        283  214\n",
       "1        204  309\n",
       "2         12    3"
      ]
     },
     "metadata": {},
     "output_type": "display_data"
    },
    {
     "name": "stdout",
     "output_type": "stream",
     "text": [
      "Expected Frequency: \n"
     ]
    },
    {
     "data": {
      "text/html": [
       "<div>\n",
       "<style scoped>\n",
       "    .dataframe tbody tr th:only-of-type {\n",
       "        vertical-align: middle;\n",
       "    }\n",
       "\n",
       "    .dataframe tbody tr th {\n",
       "        vertical-align: top;\n",
       "    }\n",
       "\n",
       "    .dataframe thead th {\n",
       "        text-align: right;\n",
       "    }\n",
       "</style>\n",
       "<table border=\"1\" class=\"dataframe\">\n",
       "  <thead>\n",
       "    <tr style=\"text-align: right;\">\n",
       "      <th>target</th>\n",
       "      <th>0</th>\n",
       "      <th>1</th>\n",
       "    </tr>\n",
       "    <tr>\n",
       "      <th>restecg</th>\n",
       "      <th></th>\n",
       "      <th></th>\n",
       "    </tr>\n",
       "  </thead>\n",
       "  <tbody>\n",
       "    <tr>\n",
       "      <th>0</th>\n",
       "      <td>241.954146</td>\n",
       "      <td>255.045854</td>\n",
       "    </tr>\n",
       "    <tr>\n",
       "      <th>1</th>\n",
       "      <td>249.743415</td>\n",
       "      <td>263.256585</td>\n",
       "    </tr>\n",
       "    <tr>\n",
       "      <th>2</th>\n",
       "      <td>7.302439</td>\n",
       "      <td>7.697561</td>\n",
       "    </tr>\n",
       "  </tbody>\n",
       "</table>\n",
       "</div>"
      ],
      "text/plain": [
       "target            0           1\n",
       "restecg                        \n",
       "0        241.954146  255.045854\n",
       "1        249.743415  263.256585\n",
       "2          7.302439    7.697561"
      ]
     },
     "metadata": {},
     "output_type": "display_data"
    },
    {
     "name": "stdout",
     "output_type": "stream",
     "text": [
      "Test statistic:  35.7843\n",
      "Test p-value:  0.0\n",
      "Reject the null hypothesis, indicating a statistically significant association between resting electrocardiographic results and an increased likelihood of > 50% diameter narrowing.\n"
     ]
    }
   ],
   "source": [
    "# visualization (bar chart)\n",
    "plt.figure(figsize=(15,5))\n",
    "sns.countplot(data=data, x=data['restecg'], hue=data['target'], palette=colors)\n",
    "plt.xlabel('Resting Rlectrocardiographic Results')\n",
    "plt.xticks(ticks=[0,1,2], labels=['Normal','Having ST-T Wave Abnormality', 'Probable/Definite Left Ventricular Hypertrophy'])\n",
    "plt.title('Distribution of Samples by Resting Electrocardiographic Results and Angiographic Disease Status', fontsize=15)\n",
    "plt.grid(alpha=0.4)\n",
    "plt.show()\n",
    "\n",
    "# perform a chi-square test\n",
    "contingency_table = pd.crosstab(data['restecg'], data['target'])\n",
    "print('Contingency Table: ')\n",
    "display(contingency_table)\n",
    "\n",
    "res = chi2_contingency(contingency_table)\n",
    "test_stat = round(res[0], 4)\n",
    "pvalue = round(res[1], 4)\n",
    "expected_freq = res[3]\n",
    "\n",
    "print('Expected Frequency: ')\n",
    "display(pd.DataFrame(expected_freq, columns=contingency_table.columns, index=contingency_table.index))\n",
    "print('Test statistic: ', test_stat)\n",
    "print('Test p-value: ', pvalue)\n",
    "\n",
    "alpha = 0.05\n",
    "if pvalue < alpha:\n",
    "    print('Reject the null hypothesis, indicating a statistically significant association between resting electrocardiographic results and an increased likelihood of > 50% diameter narrowing.')\n",
    "else:\n",
    "    print('Failed to reject null hypothesis. Lack of evidence to conclude a statistically significant association between resting electrocardiographic results and the likelihood of > 50% diameter narrowing.')"
   ]
  },
  {
   "cell_type": "markdown",
   "id": "40dc4232",
   "metadata": {},
   "source": [
    "#### Question 8 | Is there a statistically significant difference in maximum heart rate achieved between individuals with < 50% and > 50% diameter narrowing?"
   ]
  },
  {
   "cell_type": "code",
   "execution_count": 12,
   "id": "2c44b31b",
   "metadata": {},
   "outputs": [
    {
     "name": "stderr",
     "output_type": "stream",
     "text": [
      "C:\\Users\\65814\\AppData\\Local\\Temp\\ipykernel_22776\\2545199680.py:7: FutureWarning: \n",
      "\n",
      "Passing `palette` without assigning `hue` is deprecated and will be removed in v0.14.0. Assign the `x` variable to `hue` and set `legend=False` for the same effect.\n",
      "\n",
      "  sns.boxplot(data=data, x=data['target'], y=data['thalach'], palette=colors, ax=axes[1])\n"
     ]
    },
    {
     "data": {
      "image/png": "[encoded data removed]",
      "text/plain": [
       "<Figure size 1080x360 with 2 Axes>"
      ]
     },
     "metadata": {
      "needs_background": "light"
     },
     "output_type": "display_data"
    },
    {
     "data": {
      "text/html": [
       "<div>\n",
       "<style scoped>\n",
       "    .dataframe tbody tr th:only-of-type {\n",
       "        vertical-align: middle;\n",
       "    }\n",
       "\n",
       "    .dataframe tbody tr th {\n",
       "        vertical-align: top;\n",
       "    }\n",
       "\n",
       "    .dataframe thead th {\n",
       "        text-align: right;\n",
       "    }\n",
       "</style>\n",
       "<table border=\"1\" class=\"dataframe\">\n",
       "  <thead>\n",
       "    <tr style=\"text-align: right;\">\n",
       "      <th></th>\n",
       "      <th>count</th>\n",
       "      <th>mean</th>\n",
       "      <th>std</th>\n",
       "      <th>min</th>\n",
       "      <th>25%</th>\n",
       "      <th>50%</th>\n",
       "      <th>75%</th>\n",
       "      <th>max</th>\n",
       "    </tr>\n",
       "    <tr>\n",
       "      <th>target</th>\n",
       "      <th></th>\n",
       "      <th></th>\n",
       "      <th></th>\n",
       "      <th></th>\n",
       "      <th></th>\n",
       "      <th></th>\n",
       "      <th></th>\n",
       "      <th></th>\n",
       "    </tr>\n",
       "  </thead>\n",
       "  <tbody>\n",
       "    <tr>\n",
       "      <th>0</th>\n",
       "      <td>499.0</td>\n",
       "      <td>139.130261</td>\n",
       "      <td>22.565235</td>\n",
       "      <td>71.0</td>\n",
       "      <td>125.0</td>\n",
       "      <td>142.0</td>\n",
       "      <td>156.0</td>\n",
       "      <td>195.0</td>\n",
       "    </tr>\n",
       "    <tr>\n",
       "      <th>1</th>\n",
       "      <td>526.0</td>\n",
       "      <td>158.585551</td>\n",
       "      <td>19.096928</td>\n",
       "      <td>96.0</td>\n",
       "      <td>149.0</td>\n",
       "      <td>161.5</td>\n",
       "      <td>172.0</td>\n",
       "      <td>202.0</td>\n",
       "    </tr>\n",
       "  </tbody>\n",
       "</table>\n",
       "</div>"
      ],
      "text/plain": [
       "        count        mean        std   min    25%    50%    75%    max\n",
       "target                                                                \n",
       "0       499.0  139.130261  22.565235  71.0  125.0  142.0  156.0  195.0\n",
       "1       526.0  158.585551  19.096928  96.0  149.0  161.5  172.0  202.0"
      ]
     },
     "metadata": {},
     "output_type": "display_data"
    },
    {
     "name": "stdout",
     "output_type": "stream",
     "text": [
      "Test statistic:  -14.9265\n",
      "Test p-value:  0.0\n",
      "Reject the null hypothesis. The analysis reveals a statistically significant difference in maximum heart rate achieved between individuals with Angiographic Disease Status characterized by < 50% diameter narrowing and those with > 50% diameter narrowing.\n"
     ]
    }
   ],
   "source": [
    "# visualization (histogram and boxplot)\n",
    "figure, axes = plt.subplots(1,2, figsize=(15,5,), gridspec_kw={'width_ratios':[1.5,1]})\n",
    "sns.histplot(data=data, x=data['thalach'], hue=data['target'], palette=colors, ax=axes[0])\n",
    "axes[0].set_xlabel('Maximum Heart Rate Achieved')\n",
    "axes[0].set_ylabel('Frequency')\n",
    "axes[0].grid(alpha=0.4)\n",
    "sns.boxplot(data=data, x=data['target'], y=data['thalach'], palette=colors, ax=axes[1])\n",
    "axes[1].set_xlabel('Angiographic Disease Status')\n",
    "axes[1].set_ylabel('Maximum Heart Rate Achieved')\n",
    "axes[1].grid(alpha=0.4)\n",
    "figure.suptitle('Distribution of Sample Maximum Heart Rate Achieved by Angiographic Disease Status (< 50% vs > 50% Diameter Narrowing)', fontsize=15)\n",
    "plt.tight_layout(pad=1)\n",
    "plt.show()\n",
    "\n",
    "# display the 5 summary statistic\n",
    "targets = data.groupby('target')\n",
    "min_narrowing = targets.get_group(0)\n",
    "sig_narrowing = targets.get_group(1)\n",
    "display(targets['thalach'].describe())\n",
    "\n",
    "# perform an independent T-Test\n",
    "res = ttest_ind(min_narrowing['thalach'], sig_narrowing['thalach'])\n",
    "test_stat = round(res[0], 4)\n",
    "pvalue = round(res[1], 4)\n",
    "\n",
    "print('Test statistic: ', test_stat)\n",
    "print('Test p-value: ', pvalue)\n",
    "\n",
    "alpha = 0.05\n",
    "if pvalue < alpha:\n",
    "    print('Reject the null hypothesis. The analysis reveals a statistically significant difference in maximum heart rate achieved between individuals with Angiographic Disease Status characterized by < 50% diameter narrowing and those with > 50% diameter narrowing.')\n",
    "else:\n",
    "    print('Failed to reject null hypothesis. Lack of evidence to conclude a statistically significant difference in maximum heart rate achieved between individuals with Angiographic Disease Status characterized by < 50% diameter narrowing and those with > 50% diameter narrowing.')"
   ]
  },
  {
   "cell_type": "markdown",
   "id": "6690741b",
   "metadata": {},
   "source": [
    "#### Question 9  | What is the prevalence of exercise-induced angina in individuals with different angiographic disease statuses? Is there a statistically significant association bteween exercise-induced angina and angiographic disease?"
   ]
  },
  {
   "cell_type": "code",
   "execution_count": 13,
   "id": "d63b2b8b",
   "metadata": {},
   "outputs": [
    {
     "data": {
      "image/png": "[encoded data removed]",
      "text/plain": [
       "<Figure size 1080x360 with 1 Axes>"
      ]
     },
     "metadata": {
      "needs_background": "light"
     },
     "output_type": "display_data"
    },
    {
     "name": "stdout",
     "output_type": "stream",
     "text": [
      "Contingency Table: \n"
     ]
    },
    {
     "data": {
      "text/html": [
       "<div>\n",
       "<style scoped>\n",
       "    .dataframe tbody tr th:only-of-type {\n",
       "        vertical-align: middle;\n",
       "    }\n",
       "\n",
       "    .dataframe tbody tr th {\n",
       "        vertical-align: top;\n",
       "    }\n",
       "\n",
       "    .dataframe thead th {\n",
       "        text-align: right;\n",
       "    }\n",
       "</style>\n",
       "<table border=\"1\" class=\"dataframe\">\n",
       "  <thead>\n",
       "    <tr style=\"text-align: right;\">\n",
       "      <th>target</th>\n",
       "      <th>0</th>\n",
       "      <th>1</th>\n",
       "    </tr>\n",
       "    <tr>\n",
       "      <th>exang</th>\n",
       "      <th></th>\n",
       "      <th></th>\n",
       "    </tr>\n",
       "  </thead>\n",
       "  <tbody>\n",
       "    <tr>\n",
       "      <th>0</th>\n",
       "      <td>225</td>\n",
       "      <td>455</td>\n",
       "    </tr>\n",
       "    <tr>\n",
       "      <th>1</th>\n",
       "      <td>274</td>\n",
       "      <td>71</td>\n",
       "    </tr>\n",
       "  </tbody>\n",
       "</table>\n",
       "</div>"
      ],
      "text/plain": [
       "target    0    1\n",
       "exang           \n",
       "0       225  455\n",
       "1       274   71"
      ]
     },
     "metadata": {},
     "output_type": "display_data"
    },
    {
     "name": "stdout",
     "output_type": "stream",
     "text": [
      "Expected Frequency: \n"
     ]
    },
    {
     "data": {
      "text/html": [
       "<div>\n",
       "<style scoped>\n",
       "    .dataframe tbody tr th:only-of-type {\n",
       "        vertical-align: middle;\n",
       "    }\n",
       "\n",
       "    .dataframe tbody tr th {\n",
       "        vertical-align: top;\n",
       "    }\n",
       "\n",
       "    .dataframe thead th {\n",
       "        text-align: right;\n",
       "    }\n",
       "</style>\n",
       "<table border=\"1\" class=\"dataframe\">\n",
       "  <thead>\n",
       "    <tr style=\"text-align: right;\">\n",
       "      <th>target</th>\n",
       "      <th>0</th>\n",
       "      <th>1</th>\n",
       "    </tr>\n",
       "    <tr>\n",
       "      <th>exang</th>\n",
       "      <th></th>\n",
       "      <th></th>\n",
       "    </tr>\n",
       "  </thead>\n",
       "  <tbody>\n",
       "    <tr>\n",
       "      <th>0</th>\n",
       "      <td>331.043902</td>\n",
       "      <td>348.956098</td>\n",
       "    </tr>\n",
       "    <tr>\n",
       "      <th>1</th>\n",
       "      <td>167.956098</td>\n",
       "      <td>177.043902</td>\n",
       "    </tr>\n",
       "  </tbody>\n",
       "</table>\n",
       "</div>"
      ],
      "text/plain": [
       "target           0           1\n",
       "exang                         \n",
       "0       331.043902  348.956098\n",
       "1       167.956098  177.043902"
      ]
     },
     "metadata": {},
     "output_type": "display_data"
    },
    {
     "name": "stdout",
     "output_type": "stream",
     "text": [
      "Test statistic:  194.8155\n",
      "Test p-value:  0.0\n",
      "Reject the null hypothesis, indicating a statistically significant association between exercise-induced angina and an increased likelihood of > 50% diameter narrowing.\n"
     ]
    }
   ],
   "source": [
    "# visualization (bar chart)\n",
    "plt.figure(figsize=(15,5))\n",
    "sns.countplot(data=data, x=data['exang'], hue=data['target'], palette=colors)\n",
    "plt.xlabel('Exercise-induced Angina')\n",
    "plt.xticks(ticks=[0,1], labels=['Absence','Presence'])\n",
    "plt.title('Distribution of Samples by Exercise-induced Angina and Angiographic Disease Status', fontsize=15)\n",
    "plt.grid(alpha=0.4)\n",
    "plt.show()\n",
    "\n",
    "# perform a chi-square test\n",
    "contingency_table = pd.crosstab(data['exang'], data['target'])\n",
    "print('Contingency Table: ')\n",
    "display(contingency_table)\n",
    "\n",
    "res = chi2_contingency(contingency_table)\n",
    "test_stat = round(res[0], 4)\n",
    "pvalue = round(res[1], 4)\n",
    "expected_freq = res[3]\n",
    "\n",
    "print('Expected Frequency: ')\n",
    "display(pd.DataFrame(expected_freq, columns=contingency_table.columns, index=contingency_table.index))\n",
    "print('Test statistic: ', test_stat)\n",
    "print('Test p-value: ', pvalue)\n",
    "\n",
    "alpha = 0.05\n",
    "if pvalue < alpha:\n",
    "    print('Reject the null hypothesis, indicating a statistically significant association between exercise-induced angina and an increased likelihood of > 50% diameter narrowing.')\n",
    "else:\n",
    "    print('Failed to reject null hypothesis. Lack of evidence to conclude a statistically significant association between exercise-induced angina and the likelihood of > 50% diameter narrowing.')"
   ]
  },
  {
   "cell_type": "markdown",
   "id": "ad85233b",
   "metadata": {},
   "source": [
    "#### Question 10 | Is there a statistically significant difference between the ST depression induced by exercise to rest ratio and the likelihood of > 50% diameter narrowing?"
   ]
  },
  {
   "cell_type": "code",
   "execution_count": 14,
   "id": "dbe56a2f",
   "metadata": {},
   "outputs": [
    {
     "name": "stderr",
     "output_type": "stream",
     "text": [
      "C:\\Users\\65814\\AppData\\Local\\Temp\\ipykernel_22776\\2468037793.py:7: FutureWarning: \n",
      "\n",
      "Passing `palette` without assigning `hue` is deprecated and will be removed in v0.14.0. Assign the `x` variable to `hue` and set `legend=False` for the same effect.\n",
      "\n",
      "  sns.boxplot(data=data, x=data['target'], y=data['oldpeak'], palette=colors, ax=axes[1])\n"
     ]
    },
    {
     "data": {
      "image/png": "[encoded data removed]",
      "text/plain": [
       "<Figure size 1080x360 with 2 Axes>"
      ]
     },
     "metadata": {
      "needs_background": "light"
     },
     "output_type": "display_data"
    },
    {
     "data": {
      "text/html": [
       "<div>\n",
       "<style scoped>\n",
       "    .dataframe tbody tr th:only-of-type {\n",
       "        vertical-align: middle;\n",
       "    }\n",
       "\n",
       "    .dataframe tbody tr th {\n",
       "        vertical-align: top;\n",
       "    }\n",
       "\n",
       "    .dataframe thead th {\n",
       "        text-align: right;\n",
       "    }\n",
       "</style>\n",
       "<table border=\"1\" class=\"dataframe\">\n",
       "  <thead>\n",
       "    <tr style=\"text-align: right;\">\n",
       "      <th></th>\n",
       "      <th>count</th>\n",
       "      <th>mean</th>\n",
       "      <th>std</th>\n",
       "      <th>min</th>\n",
       "      <th>25%</th>\n",
       "      <th>50%</th>\n",
       "      <th>75%</th>\n",
       "      <th>max</th>\n",
       "    </tr>\n",
       "    <tr>\n",
       "      <th>target</th>\n",
       "      <th></th>\n",
       "      <th></th>\n",
       "      <th></th>\n",
       "      <th></th>\n",
       "      <th></th>\n",
       "      <th></th>\n",
       "      <th></th>\n",
       "      <th></th>\n",
       "    </tr>\n",
       "  </thead>\n",
       "  <tbody>\n",
       "    <tr>\n",
       "      <th>0</th>\n",
       "      <td>499.0</td>\n",
       "      <td>1.600200</td>\n",
       "      <td>1.290956</td>\n",
       "      <td>0.0</td>\n",
       "      <td>0.6</td>\n",
       "      <td>1.4</td>\n",
       "      <td>2.5</td>\n",
       "      <td>6.2</td>\n",
       "    </tr>\n",
       "    <tr>\n",
       "      <th>1</th>\n",
       "      <td>526.0</td>\n",
       "      <td>0.569962</td>\n",
       "      <td>0.771079</td>\n",
       "      <td>0.0</td>\n",
       "      <td>0.0</td>\n",
       "      <td>0.2</td>\n",
       "      <td>1.0</td>\n",
       "      <td>4.2</td>\n",
       "    </tr>\n",
       "  </tbody>\n",
       "</table>\n",
       "</div>"
      ],
      "text/plain": [
       "        count      mean       std  min  25%  50%  75%  max\n",
       "target                                                    \n",
       "0       499.0  1.600200  1.290956  0.0  0.6  1.4  2.5  6.2\n",
       "1       526.0  0.569962  0.771079  0.0  0.0  0.2  1.0  4.2"
      ]
     },
     "metadata": {},
     "output_type": "display_data"
    },
    {
     "name": "stdout",
     "output_type": "stream",
     "text": [
      "Test statistic:  15.6029\n",
      "Test p-value:  0.0\n",
      "Reject the null hypothesis. The analysis reveals a statistically significant difference in ST depression induced by exercise relative to rest between individuals with Angiographic Disease Status characterized by < 50% diameter narrowing and those with > 50% diameter narrowing.\n"
     ]
    }
   ],
   "source": [
    "# visualization (histogram and boxplot)\n",
    "figure, axes = plt.subplots(1,2, figsize=(15,5,), gridspec_kw={'width_ratios':[1.5,1]})\n",
    "sns.histplot(data=data, x=data['oldpeak'], hue=data['target'], palette=colors, ax=axes[0])\n",
    "axes[0].set_xlabel('ST Depression Induced by Exercise Relative to Rest')\n",
    "axes[0].set_ylabel('Frequency')\n",
    "axes[0].grid(alpha=0.4)\n",
    "sns.boxplot(data=data, x=data['target'], y=data['oldpeak'], palette=colors, ax=axes[1])\n",
    "axes[1].set_xlabel('Angiographic Disease Status')\n",
    "axes[1].set_ylabel('ST Depression Induced by Exercise Relative to Rest')\n",
    "axes[1].grid(alpha=0.4)\n",
    "figure.suptitle('Distribution of ST Depression Induced by Exercise Relative to Rest by Angiographic Disease Status (< 50% vs > 50% Diameter Narrowing)', fontsize=15)\n",
    "plt.tight_layout(pad=1)\n",
    "plt.show()\n",
    "\n",
    "# display the 5 summary statistic\n",
    "targets = data.groupby('target')\n",
    "min_narrowing = targets.get_group(0)\n",
    "sig_narrowing = targets.get_group(1)\n",
    "display(targets['oldpeak'].describe())\n",
    "\n",
    "# perform an independent T-Test\n",
    "res = ttest_ind(min_narrowing['oldpeak'], sig_narrowing['oldpeak'])\n",
    "test_stat = round(res[0], 4)\n",
    "pvalue = round(res[1], 4)\n",
    "\n",
    "print('Test statistic: ', test_stat)\n",
    "print('Test p-value: ', pvalue)\n",
    "\n",
    "alpha = 0.05\n",
    "if pvalue < alpha:\n",
    "    print('Reject the null hypothesis. The analysis reveals a statistically significant difference in ST depression induced by exercise relative to rest between individuals with Angiographic Disease Status characterized by < 50% diameter narrowing and those with > 50% diameter narrowing.')\n",
    "else:\n",
    "    print('Failed to reject null hypothesis. Lack of evidence to conclude a statistically significant difference in ST depression induced by exercise relative to rest between individuals with Angiographic Disease Status characterized by < 50% diameter narrowing and those with > 50% diameter narrowing.')"
   ]
  },
  {
   "cell_type": "markdown",
   "id": "9f4c7abb",
   "metadata": {},
   "source": [
    "#### Question 11 | How does the distribution of the slope of the peak exercise ST segment vary between individuals with < 50% and > 50% diameter narrowing in angiographic disease status categories? Is there a statistically significant association between the slope of the peak exercise ST segment and the severity of angiographic disease?"
   ]
  },
  {
   "cell_type": "code",
   "execution_count": 15,
   "id": "86c16918",
   "metadata": {},
   "outputs": [
    {
     "data": {
      "image/png": "[encoded data removed]",
      "text/plain": [
       "<Figure size 1080x360 with 1 Axes>"
      ]
     },
     "metadata": {
      "needs_background": "light"
     },
     "output_type": "display_data"
    },
    {
     "name": "stdout",
     "output_type": "stream",
     "text": [
      "Contingency Table: \n"
     ]
    },
    {
     "data": {
      "text/html": [
       "<div>\n",
       "<style scoped>\n",
       "    .dataframe tbody tr th:only-of-type {\n",
       "        vertical-align: middle;\n",
       "    }\n",
       "\n",
       "    .dataframe tbody tr th {\n",
       "        vertical-align: top;\n",
       "    }\n",
       "\n",
       "    .dataframe thead th {\n",
       "        text-align: right;\n",
       "    }\n",
       "</style>\n",
       "<table border=\"1\" class=\"dataframe\">\n",
       "  <thead>\n",
       "    <tr style=\"text-align: right;\">\n",
       "      <th>target</th>\n",
       "      <th>0</th>\n",
       "      <th>1</th>\n",
       "    </tr>\n",
       "    <tr>\n",
       "      <th>slope</th>\n",
       "      <th></th>\n",
       "      <th></th>\n",
       "    </tr>\n",
       "  </thead>\n",
       "  <tbody>\n",
       "    <tr>\n",
       "      <th>0</th>\n",
       "      <td>46</td>\n",
       "      <td>28</td>\n",
       "    </tr>\n",
       "    <tr>\n",
       "      <th>1</th>\n",
       "      <td>324</td>\n",
       "      <td>158</td>\n",
       "    </tr>\n",
       "    <tr>\n",
       "      <th>2</th>\n",
       "      <td>129</td>\n",
       "      <td>340</td>\n",
       "    </tr>\n",
       "  </tbody>\n",
       "</table>\n",
       "</div>"
      ],
      "text/plain": [
       "target    0    1\n",
       "slope           \n",
       "0        46   28\n",
       "1       324  158\n",
       "2       129  340"
      ]
     },
     "metadata": {},
     "output_type": "display_data"
    },
    {
     "name": "stdout",
     "output_type": "stream",
     "text": [
      "Expected Frequency: \n"
     ]
    },
    {
     "data": {
      "text/html": [
       "<div>\n",
       "<style scoped>\n",
       "    .dataframe tbody tr th:only-of-type {\n",
       "        vertical-align: middle;\n",
       "    }\n",
       "\n",
       "    .dataframe tbody tr th {\n",
       "        vertical-align: top;\n",
       "    }\n",
       "\n",
       "    .dataframe thead th {\n",
       "        text-align: right;\n",
       "    }\n",
       "</style>\n",
       "<table border=\"1\" class=\"dataframe\">\n",
       "  <thead>\n",
       "    <tr style=\"text-align: right;\">\n",
       "      <th>target</th>\n",
       "      <th>0</th>\n",
       "      <th>1</th>\n",
       "    </tr>\n",
       "    <tr>\n",
       "      <th>slope</th>\n",
       "      <th></th>\n",
       "      <th></th>\n",
       "    </tr>\n",
       "  </thead>\n",
       "  <tbody>\n",
       "    <tr>\n",
       "      <th>0</th>\n",
       "      <td>36.025366</td>\n",
       "      <td>37.974634</td>\n",
       "    </tr>\n",
       "    <tr>\n",
       "      <th>1</th>\n",
       "      <td>234.651707</td>\n",
       "      <td>247.348293</td>\n",
       "    </tr>\n",
       "    <tr>\n",
       "      <th>2</th>\n",
       "      <td>228.322927</td>\n",
       "      <td>240.677073</td>\n",
       "    </tr>\n",
       "  </tbody>\n",
       "</table>\n",
       "</div>"
      ],
      "text/plain": [
       "target           0           1\n",
       "slope                         \n",
       "0        36.025366   37.974634\n",
       "1       234.651707  247.348293\n",
       "2       228.322927  240.677073"
      ]
     },
     "metadata": {},
     "output_type": "display_data"
    },
    {
     "name": "stdout",
     "output_type": "stream",
     "text": [
      "Test statistic:  155.8729\n",
      "Test p-value:  0.0\n",
      "Reject the null hypothesis, indicating a statistically significant association between the slope of the peak exercise ST segment and an increased likelihood of > 50% diameter narrowing.\n"
     ]
    }
   ],
   "source": [
    "# visualization (bar chart)\n",
    "plt.figure(figsize=(15,5))\n",
    "sns.countplot(data=data, x=data['slope'], hue=data['target'], palette=colors)\n",
    "plt.xlabel('Exercise-induced Angina')\n",
    "plt.xticks(ticks=[0,1,2], labels=['Upsloping','Flat','Downsloping'])\n",
    "plt.title('Distribution of Samples by Exercise-induced Angina and Angiographic Disease Status', fontsize=15)\n",
    "plt.grid(alpha=0.4)\n",
    "plt.show()\n",
    "\n",
    "# perform a chi-square test\n",
    "contingency_table = pd.crosstab(data['slope'], data['target'])\n",
    "print('Contingency Table: ')\n",
    "display(contingency_table)\n",
    "\n",
    "res = chi2_contingency(contingency_table)\n",
    "test_stat = round(res[0], 4)\n",
    "pvalue = round(res[1], 4)\n",
    "expected_freq = res[3]\n",
    "\n",
    "print('Expected Frequency: ')\n",
    "display(pd.DataFrame(expected_freq, columns=contingency_table.columns, index=contingency_table.index))\n",
    "print('Test statistic: ', test_stat)\n",
    "print('Test p-value: ', pvalue)\n",
    "\n",
    "alpha = 0.05\n",
    "if pvalue < alpha:\n",
    "    print('Reject the null hypothesis, indicating a statistically significant association between the slope of the peak exercise ST segment and an increased likelihood of > 50% diameter narrowing.')\n",
    "else:\n",
    "    print('Failed to reject null hypothesis. Lack of evidence to conclude a statistically significant association between the slope of the peak exercise ST segment and the likelihood of > 50% diameter narrowing.')"
   ]
  },
  {
   "cell_type": "markdown",
   "id": "9a6936b8",
   "metadata": {},
   "source": [
    "#### Question 12 | What is the association between the number of major vessels, each categorized by different levels of blockage or narrowing (0-3), and the severity of angiographic disease? How does the distribution of vessels with no blockage, mild, moderate, and severe blockage vary across angiographic disease statuses?"
   ]
  },
  {
   "cell_type": "code",
   "execution_count": 16,
   "id": "e4b1d360",
   "metadata": {},
   "outputs": [
    {
     "data": {
      "image/png": "[encoded data removed]",
      "text/plain": [
       "<Figure size 1080x360 with 1 Axes>"
      ]
     },
     "metadata": {
      "needs_background": "light"
     },
     "output_type": "display_data"
    },
    {
     "name": "stdout",
     "output_type": "stream",
     "text": [
      "Contingency Table: \n"
     ]
    },
    {
     "data": {
      "text/html": [
       "<div>\n",
       "<style scoped>\n",
       "    .dataframe tbody tr th:only-of-type {\n",
       "        vertical-align: middle;\n",
       "    }\n",
       "\n",
       "    .dataframe tbody tr th {\n",
       "        vertical-align: top;\n",
       "    }\n",
       "\n",
       "    .dataframe thead th {\n",
       "        text-align: right;\n",
       "    }\n",
       "</style>\n",
       "<table border=\"1\" class=\"dataframe\">\n",
       "  <thead>\n",
       "    <tr style=\"text-align: right;\">\n",
       "      <th>target</th>\n",
       "      <th>0</th>\n",
       "      <th>1</th>\n",
       "    </tr>\n",
       "    <tr>\n",
       "      <th>ca</th>\n",
       "      <th></th>\n",
       "      <th></th>\n",
       "    </tr>\n",
       "  </thead>\n",
       "  <tbody>\n",
       "    <tr>\n",
       "      <th>0</th>\n",
       "      <td>163</td>\n",
       "      <td>415</td>\n",
       "    </tr>\n",
       "    <tr>\n",
       "      <th>1</th>\n",
       "      <td>160</td>\n",
       "      <td>66</td>\n",
       "    </tr>\n",
       "    <tr>\n",
       "      <th>2</th>\n",
       "      <td>113</td>\n",
       "      <td>21</td>\n",
       "    </tr>\n",
       "    <tr>\n",
       "      <th>3</th>\n",
       "      <td>60</td>\n",
       "      <td>9</td>\n",
       "    </tr>\n",
       "    <tr>\n",
       "      <th>4</th>\n",
       "      <td>3</td>\n",
       "      <td>15</td>\n",
       "    </tr>\n",
       "  </tbody>\n",
       "</table>\n",
       "</div>"
      ],
      "text/plain": [
       "target    0    1\n",
       "ca              \n",
       "0       163  415\n",
       "1       160   66\n",
       "2       113   21\n",
       "3        60    9\n",
       "4         3   15"
      ]
     },
     "metadata": {},
     "output_type": "display_data"
    },
    {
     "name": "stdout",
     "output_type": "stream",
     "text": [
      "Expected Frequency: \n"
     ]
    },
    {
     "data": {
      "text/html": [
       "<div>\n",
       "<style scoped>\n",
       "    .dataframe tbody tr th:only-of-type {\n",
       "        vertical-align: middle;\n",
       "    }\n",
       "\n",
       "    .dataframe tbody tr th {\n",
       "        vertical-align: top;\n",
       "    }\n",
       "\n",
       "    .dataframe thead th {\n",
       "        text-align: right;\n",
       "    }\n",
       "</style>\n",
       "<table border=\"1\" class=\"dataframe\">\n",
       "  <thead>\n",
       "    <tr style=\"text-align: right;\">\n",
       "      <th>target</th>\n",
       "      <th>0</th>\n",
       "      <th>1</th>\n",
       "    </tr>\n",
       "    <tr>\n",
       "      <th>ca</th>\n",
       "      <th></th>\n",
       "      <th></th>\n",
       "    </tr>\n",
       "  </thead>\n",
       "  <tbody>\n",
       "    <tr>\n",
       "      <th>0</th>\n",
       "      <td>281.387317</td>\n",
       "      <td>296.612683</td>\n",
       "    </tr>\n",
       "    <tr>\n",
       "      <th>1</th>\n",
       "      <td>110.023415</td>\n",
       "      <td>115.976585</td>\n",
       "    </tr>\n",
       "    <tr>\n",
       "      <th>2</th>\n",
       "      <td>65.235122</td>\n",
       "      <td>68.764878</td>\n",
       "    </tr>\n",
       "    <tr>\n",
       "      <th>3</th>\n",
       "      <td>33.591220</td>\n",
       "      <td>35.408780</td>\n",
       "    </tr>\n",
       "    <tr>\n",
       "      <th>4</th>\n",
       "      <td>8.762927</td>\n",
       "      <td>9.237073</td>\n",
       "    </tr>\n",
       "  </tbody>\n",
       "</table>\n",
       "</div>"
      ],
      "text/plain": [
       "target           0           1\n",
       "ca                            \n",
       "0       281.387317  296.612683\n",
       "1       110.023415  115.976585\n",
       "2        65.235122   68.764878\n",
       "3        33.591220   35.408780\n",
       "4         8.762927    9.237073"
      ]
     },
     "metadata": {},
     "output_type": "display_data"
    },
    {
     "name": "stdout",
     "output_type": "stream",
     "text": [
      "Test statistic:  257.293\n",
      "Test p-value:  0.0\n",
      "Reject the null hypothesis, indicating a statistically significant association between number of major vessels (0-3) colored by flourosopy and an increased likelihood of > 50% diameter narrowing.\n"
     ]
    }
   ],
   "source": [
    "# visualization (bar chart)\n",
    "plt.figure(figsize=(15,5))\n",
    "sns.countplot(data=data, x=data['ca'], hue=data['target'], palette=colors)\n",
    "plt.xlabel('Number of Major Vessels (0-3) Colored by Flourosopy')\n",
    "plt.title('Distribution of Samples by Number of Major Vessels (0-3) Colored by Flourosopy and Angiographic Disease Status', fontsize=15)\n",
    "plt.grid(alpha=0.4)\n",
    "plt.show()\n",
    "\n",
    "# perform a chi-square test\n",
    "contingency_table = pd.crosstab(data['ca'], data['target'])\n",
    "print('Contingency Table: ')\n",
    "display(contingency_table)\n",
    "\n",
    "res = chi2_contingency(contingency_table)\n",
    "test_stat = round(res[0], 4)\n",
    "pvalue = round(res[1], 4)\n",
    "expected_freq = res[3]\n",
    "\n",
    "print('Expected Frequency: ')\n",
    "display(pd.DataFrame(expected_freq, columns=contingency_table.columns, index=contingency_table.index))\n",
    "print('Test statistic: ', test_stat)\n",
    "print('Test p-value: ', pvalue)\n",
    "\n",
    "alpha = 0.05\n",
    "if pvalue < alpha:\n",
    "    print('Reject the null hypothesis, indicating a statistically significant association between number of major vessels (0-3) colored by flourosopy and an increased likelihood of > 50% diameter narrowing.')\n",
    "else:\n",
    "    print('Failed to reject null hypothesis. Lack of evidence to conclude a statistically significant association between number of major vessels (0-3) colored by flourosopy and the likelihood of > 50% diameter narrowing.')"
   ]
  },
  {
   "cell_type": "markdown",
   "id": "5cd270bb",
   "metadata": {},
   "source": [
    "#### Question 13 | How are the Thallium-201 imaging findings related to angiographic disease status? Is there a statistically significant association between the Thallium-201 imaging results and the severity of angiographic disease?"
   ]
  },
  {
   "cell_type": "code",
   "execution_count": 17,
   "id": "cca8e909",
   "metadata": {},
   "outputs": [
    {
     "data": {
      "image/png": "[encoded data removed]",
      "text/plain": [
       "<Figure size 1080x360 with 1 Axes>"
      ]
     },
     "metadata": {
      "needs_background": "light"
     },
     "output_type": "display_data"
    },
    {
     "name": "stdout",
     "output_type": "stream",
     "text": [
      "Contingency Table: \n"
     ]
    },
    {
     "data": {
      "text/html": [
       "<div>\n",
       "<style scoped>\n",
       "    .dataframe tbody tr th:only-of-type {\n",
       "        vertical-align: middle;\n",
       "    }\n",
       "\n",
       "    .dataframe tbody tr th {\n",
       "        vertical-align: top;\n",
       "    }\n",
       "\n",
       "    .dataframe thead th {\n",
       "        text-align: right;\n",
       "    }\n",
       "</style>\n",
       "<table border=\"1\" class=\"dataframe\">\n",
       "  <thead>\n",
       "    <tr style=\"text-align: right;\">\n",
       "      <th>target</th>\n",
       "      <th>0</th>\n",
       "      <th>1</th>\n",
       "    </tr>\n",
       "    <tr>\n",
       "      <th>thal</th>\n",
       "      <th></th>\n",
       "      <th></th>\n",
       "    </tr>\n",
       "  </thead>\n",
       "  <tbody>\n",
       "    <tr>\n",
       "      <th>0</th>\n",
       "      <td>4</td>\n",
       "      <td>3</td>\n",
       "    </tr>\n",
       "    <tr>\n",
       "      <th>1</th>\n",
       "      <td>43</td>\n",
       "      <td>21</td>\n",
       "    </tr>\n",
       "    <tr>\n",
       "      <th>2</th>\n",
       "      <td>132</td>\n",
       "      <td>412</td>\n",
       "    </tr>\n",
       "    <tr>\n",
       "      <th>3</th>\n",
       "      <td>320</td>\n",
       "      <td>90</td>\n",
       "    </tr>\n",
       "  </tbody>\n",
       "</table>\n",
       "</div>"
      ],
      "text/plain": [
       "target    0    1\n",
       "thal            \n",
       "0         4    3\n",
       "1        43   21\n",
       "2       132  412\n",
       "3       320   90"
      ]
     },
     "metadata": {},
     "output_type": "display_data"
    },
    {
     "name": "stdout",
     "output_type": "stream",
     "text": [
      "Expected Frequency: \n"
     ]
    },
    {
     "data": {
      "text/html": [
       "<div>\n",
       "<style scoped>\n",
       "    .dataframe tbody tr th:only-of-type {\n",
       "        vertical-align: middle;\n",
       "    }\n",
       "\n",
       "    .dataframe tbody tr th {\n",
       "        vertical-align: top;\n",
       "    }\n",
       "\n",
       "    .dataframe thead th {\n",
       "        text-align: right;\n",
       "    }\n",
       "</style>\n",
       "<table border=\"1\" class=\"dataframe\">\n",
       "  <thead>\n",
       "    <tr style=\"text-align: right;\">\n",
       "      <th>target</th>\n",
       "      <th>0</th>\n",
       "      <th>1</th>\n",
       "    </tr>\n",
       "    <tr>\n",
       "      <th>thal</th>\n",
       "      <th></th>\n",
       "      <th></th>\n",
       "    </tr>\n",
       "  </thead>\n",
       "  <tbody>\n",
       "    <tr>\n",
       "      <th>0</th>\n",
       "      <td>3.407805</td>\n",
       "      <td>3.592195</td>\n",
       "    </tr>\n",
       "    <tr>\n",
       "      <th>1</th>\n",
       "      <td>31.157073</td>\n",
       "      <td>32.842927</td>\n",
       "    </tr>\n",
       "    <tr>\n",
       "      <th>2</th>\n",
       "      <td>264.835122</td>\n",
       "      <td>279.164878</td>\n",
       "    </tr>\n",
       "    <tr>\n",
       "      <th>3</th>\n",
       "      <td>199.600000</td>\n",
       "      <td>210.400000</td>\n",
       "    </tr>\n",
       "  </tbody>\n",
       "</table>\n",
       "</div>"
      ],
      "text/plain": [
       "target           0           1\n",
       "thal                          \n",
       "0         3.407805    3.592195\n",
       "1        31.157073   32.842927\n",
       "2       264.835122  279.164878\n",
       "3       199.600000  210.400000"
      ]
     },
     "metadata": {},
     "output_type": "display_data"
    },
    {
     "name": "stdout",
     "output_type": "stream",
     "text": [
      "Test statistic:  280.3307\n",
      "Test p-value:  0.0\n",
      "Reject the null hypothesis, indicating a statistically significant association between Thallium-201 imaging findings and an increased likelihood of > 50% diameter narrowing.\n"
     ]
    }
   ],
   "source": [
    "# visualization (bar chart)\n",
    "plt.figure(figsize=(15,5))\n",
    "sns.countplot(data=data, x=data['thal'], hue=data['target'], palette=colors)\n",
    "plt.xlabel('Thallium-201 Imaging Findings')\n",
    "plt.title('Distribution of Samples by Thallium-201 Imaging Findings and Angiographic Disease Status', fontsize=15)\n",
    "plt.grid(alpha=0.4)\n",
    "plt.show()\n",
    "\n",
    "# perform a chi-square test\n",
    "contingency_table = pd.crosstab(data['thal'], data['target'])\n",
    "print('Contingency Table: ')\n",
    "display(contingency_table)\n",
    "\n",
    "res = chi2_contingency(contingency_table)\n",
    "test_stat = round(res[0], 4)\n",
    "pvalue = round(res[1], 4)\n",
    "expected_freq = res[3]\n",
    "\n",
    "print('Expected Frequency: ')\n",
    "display(pd.DataFrame(expected_freq, columns=contingency_table.columns, index=contingency_table.index))\n",
    "print('Test statistic: ', test_stat)\n",
    "print('Test p-value: ', pvalue)\n",
    "\n",
    "alpha = 0.05\n",
    "if pvalue < alpha:\n",
    "    print('Reject the null hypothesis, indicating a statistically significant association between Thallium-201 imaging findings and an increased likelihood of > 50% diameter narrowing.')\n",
    "else:\n",
    "    print('Failed to reject null hypothesis. Lack of evidence to conclude a statistically significant association between Thallium-201 imaging findings and the likelihood of > 50% diameter narrowing.')"
   ]
  },
  {
   "cell_type": "markdown",
   "id": "44e549ec",
   "metadata": {},
   "source": [
    "#### Question 14 | Is there any correlation between age and other key measurements (resting blood pressure, serum cholesterol, maximum heart rate achieved, ST depression induced by exercise relative to rest)?"
   ]
  },
  {
   "cell_type": "code",
   "execution_count": 18,
   "id": "629add46",
   "metadata": {},
   "outputs": [
    {
     "data": {
      "image/png": "[encoded data removed]",
      "text/plain": [
       "<Figure size 576x432 with 2 Axes>"
      ]
     },
     "metadata": {
      "needs_background": "light"
     },
     "output_type": "display_data"
    }
   ],
   "source": [
    "fil_data = data[['age','trestbps','chol','thalach','oldpeak']]\n",
    "\n",
    "# compute the Pearson's correlation\n",
    "correlation = fil_data.corr()\n",
    "\n",
    "# visualize the correlation in heatmap\n",
    "plt.figure(figsize=(8,6))\n",
    "sns.heatmap(correlation, annot=True, cmap='plasma')\n",
    "plt.show()"
   ]
  },
  {
   "cell_type": "markdown",
   "id": "8a3955b4",
   "metadata": {},
   "source": [
    "### Data Preprocessing for Modelling"
   ]
  },
  {
   "cell_type": "code",
   "execution_count": 19,
   "id": "6db4a8c2",
   "metadata": {},
   "outputs": [
    {
     "name": "stdout",
     "output_type": "stream",
     "text": [
      "Training dataset:  (820, 14)\n",
      "Test dataset:  (205, 14)\n"
     ]
    }
   ],
   "source": [
    "from sklearn.model_selection import train_test_split\n",
    "\n",
    "train, test = train_test_split(data, test_size=0.2, random_state=122)\n",
    "\n",
    "# check the dimension of the dataset\n",
    "print('Training dataset: ', train.shape)\n",
    "print('Test dataset: ', test.shape)"
   ]
  },
  {
   "cell_type": "code",
   "execution_count": 20,
   "id": "2ce8e9b9",
   "metadata": {},
   "outputs": [],
   "source": [
    "# segregate the feature matrix and target vector\n",
    "Xtrain = train.drop(columns=['target'], axis=1)\n",
    "ytrain = train['target']\n",
    "\n",
    "Xtest = test.drop(columns=['target'], axis=1)\n",
    "ytest = test['target']"
   ]
  },
  {
   "cell_type": "code",
   "execution_count": 21,
   "id": "9dd91471",
   "metadata": {},
   "outputs": [],
   "source": [
    "# scale the training and test data\n",
    "from sklearn.preprocessing import MinMaxScaler\n",
    "\n",
    "scaler = MinMaxScaler()\n",
    "Xtrain_scaled = scaler.fit_transform(Xtrain)\n",
    "Xtest_scaled = scaler.transform(Xtest)"
   ]
  },
  {
   "cell_type": "markdown",
   "id": "a070731f",
   "metadata": {},
   "source": [
    "### Predictive Analytics: Classification "
   ]
  },
  {
   "cell_type": "markdown",
   "id": "e542b70a",
   "metadata": {},
   "source": [
    "#### Model 1 | Decision Tree"
   ]
  },
  {
   "cell_type": "code",
   "execution_count": 23,
   "id": "4a7b76f1",
   "metadata": {},
   "outputs": [
    {
     "name": "stdout",
     "output_type": "stream",
     "text": [
      "Best Parameters:  {'max_depth': 10, 'min_samples_leaf': 2, 'min_samples_split': 2}\n",
      "Best AUROC:  0.973498863152856\n"
     ]
    }
   ],
   "source": [
    "from sklearn.tree import DecisionTreeClassifier\n",
    "from sklearn.model_selection import GridSearchCV\n",
    "\n",
    "# create a Decision Tree Classifier\n",
    "tree = DecisionTreeClassifier(random_state=122)\n",
    "\n",
    "# Define the hyperparameter grid\n",
    "param_grid = {\n",
    "    'max_depth': [10, 20, 30],\n",
    "    'min_samples_split': [2, 5, 10],\n",
    "    'min_samples_leaf': [2, 4]\n",
    "}\n",
    "\n",
    "# create the GridSearchCV object\n",
    "grid_search_tree = GridSearchCV(tree, param_grid, cv=5, scoring='roc_auc', n_jobs=-1)\n",
    "\n",
    "# fit the grid search to the data\n",
    "grid_search_tree.fit(Xtrain_scaled, ytrain)\n",
    "\n",
    "# print the best parameters and the corresponding accuracy\n",
    "print('Best Parameters: ', grid_search_tree.best_params_)\n",
    "print('Best AUROC: ', grid_search_tree.best_score_)\n",
    "\n",
    "# get the best model\n",
    "best_tree = grid_search_tree.best_estimator_"
   ]
  },
  {
   "cell_type": "markdown",
   "id": "bf30d1e1",
   "metadata": {},
   "source": [
    "#### Model 2 | Logistic Regression"
   ]
  },
  {
   "cell_type": "code",
   "execution_count": 24,
   "id": "29370e85",
   "metadata": {},
   "outputs": [
    {
     "name": "stdout",
     "output_type": "stream",
     "text": [
      "Best Parameters:  {'C': 10, 'penalty': 'l2', 'solver': 'liblinear'}\n",
      "Best AUROC:  0.9240372921320427\n"
     ]
    }
   ],
   "source": [
    "from sklearn.linear_model import LogisticRegression\n",
    "\n",
    "# create a logistic regression Classifier\n",
    "logreg = LogisticRegression(random_state=122, max_iter=5000)\n",
    "\n",
    "# define the hyperparameter grid\n",
    "param_grid = {\n",
    "    'penalty': ['l1', 'l2'],\n",
    "    'C': [0.001, 0.01, 0.1, 1, 10, 100],\n",
    "    'solver': ['liblinear', 'saga']\n",
    "}\n",
    "\n",
    "# create the GridSearchCV object\n",
    "grid_search_logreg = GridSearchCV(logreg, param_grid, cv=5, scoring='roc_auc', n_jobs=-1)\n",
    "\n",
    "# fit the grid search to the data\n",
    "grid_search_logreg.fit(Xtrain_scaled, ytrain)\n",
    "\n",
    "# print the best parameters and the corresponding accuracy\n",
    "print('Best Parameters: ', grid_search_logreg.best_params_)\n",
    "print('Best AUROC: ', grid_search_logreg.best_score_)\n",
    "\n",
    "# get the best model\n",
    "best_logreg = grid_search_logreg.best_estimator_"
   ]
  },
  {
   "cell_type": "markdown",
   "id": "562ddf05",
   "metadata": {},
   "source": [
    "#### Model 3 | Random Forest"
   ]
  },
  {
   "cell_type": "code",
   "execution_count": 25,
   "id": "a75f0a10",
   "metadata": {},
   "outputs": [
    {
     "name": "stdout",
     "output_type": "stream",
     "text": [
      "Best Parameters:  {'max_depth': 20, 'min_samples_leaf': 2, 'min_samples_split': 2, 'n_estimators': 300}\n",
      "Best AUROC:  0.9952646216714534\n"
     ]
    }
   ],
   "source": [
    "from sklearn.ensemble import RandomForestClassifier\n",
    "\n",
    "# create a Random Forest Classifier\n",
    "forest = RandomForestClassifier(random_state=122)\n",
    "\n",
    "# define the hyperparameter grid\n",
    "param_grid = {\n",
    "    'n_estimators': [100, 200, 300],\n",
    "    'max_depth': [10, 20, 30],\n",
    "    'min_samples_split': [2, 5, 10],\n",
    "    'min_samples_leaf': [2, 4]\n",
    "}\n",
    "\n",
    "# create the GridSearchCV object\n",
    "grid_search_forest = GridSearchCV(forest, param_grid, cv=5, scoring='roc_auc', n_jobs=-1)\n",
    "\n",
    "# fit the grid search to the data\n",
    "grid_search_forest.fit(Xtrain_scaled, ytrain)\n",
    "\n",
    "# print the best parameters and the corresponding accuracy\n",
    "print('Best Parameters: ', grid_search_forest.best_params_)\n",
    "print('Best AUROC: ', grid_search_forest.best_score_)\n",
    "\n",
    "# get the best model\n",
    "best_forest = grid_search_forest.best_estimator_"
   ]
  },
  {
   "cell_type": "markdown",
   "id": "e7daf673",
   "metadata": {},
   "source": [
    "#### Model 4 | Naive Bayes"
   ]
  },
  {
   "cell_type": "code",
   "execution_count": 26,
   "id": "6c10e0cb",
   "metadata": {},
   "outputs": [],
   "source": [
    "from sklearn.naive_bayes import ComplementNB \n",
    "\n",
    "# create a Naive Bayes classifier\n",
    "clf = ComplementNB()\n",
    "\n",
    "# fit the classifier with training data\n",
    "cNB = clf.fit(Xtrain_scaled, ytrain)"
   ]
  },
  {
   "cell_type": "markdown",
   "id": "37bf16a5",
   "metadata": {},
   "source": [
    "#### Model 5 | KNearestNeighbors"
   ]
  },
  {
   "cell_type": "code",
   "execution_count": 27,
   "id": "ac79f54b",
   "metadata": {},
   "outputs": [
    {
     "name": "stdout",
     "output_type": "stream",
     "text": [
      "Best Parameters:  {'n_neighbors': 1, 'p': 1}\n",
      "Best AUROC:  0.9708012888699784\n"
     ]
    }
   ],
   "source": [
    "from sklearn.neighbors import KNeighborsClassifier\n",
    "\n",
    "# create the KNN classifier\n",
    "knn = KNeighborsClassifier()\n",
    "\n",
    "# define the parameter grid for hyperparameter tuning\n",
    "param_grid = {\n",
    "    'n_neighbors': np.arange(1, 21),  \n",
    "    'p': [1, 2]  # 1 for Manhattan distance (L1), 2 for Euclidean distance (L2)\n",
    "}\n",
    "\n",
    "# create a GridSearchCV object with KNN and the parameter grid\n",
    "grid_search_knn = GridSearchCV(knn, param_grid, cv=5, scoring='roc_auc', n_jobs=-1)\n",
    "\n",
    "# fit the model with the training data\n",
    "grid_search_knn.fit(Xtrain_scaled,ytrain)\n",
    "\n",
    "# print the best parameters and the corresponding accuracy\n",
    "print('Best Parameters: ', grid_search_knn.best_params_)\n",
    "print('Best AUROC: ', grid_search_knn.best_score_)\n",
    "\n",
    "# get the best model\n",
    "best_knn = grid_search_knn.best_estimator_"
   ]
  },
  {
   "cell_type": "markdown",
   "id": "7e06d5d8",
   "metadata": {},
   "source": [
    "#### Model 6 | Support Vector Machine (SVM)"
   ]
  },
  {
   "cell_type": "code",
   "execution_count": 28,
   "id": "c0c30b2b",
   "metadata": {},
   "outputs": [
    {
     "name": "stdout",
     "output_type": "stream",
     "text": [
      "Best Parameters:  {'C': 10, 'degree': 2, 'gamma': 1, 'kernel': 'rbf'}\n",
      "Best AUROC:  0.9946410399602879\n"
     ]
    }
   ],
   "source": [
    "from sklearn.svm import SVC\n",
    "\n",
    "# create the SVM classifier\n",
    "svc = SVC(random_state=122)\n",
    "\n",
    "# define the parameter grid for hyperparameter tuning\n",
    "param_grid = {\n",
    "    'C': [0.1, 1, 10, 100],                 # Regularization parameter\n",
    "    'kernel': ['linear', 'rbf', 'poly'],    # Choice of kernel\n",
    "    'gamma': ['scale', 'auto', 0.1, 1],     # Kernel coefficient for 'rbf' and 'poly'\n",
    "    'degree': [2, 3, 4]                     # Degree of the polynomial kernel\n",
    "}\n",
    "\n",
    "# create a GridSearchCV object with SVM and the parameter grid\n",
    "grid_search_svc = GridSearchCV(svc, param_grid, cv=5, scoring='roc_auc')\n",
    "\n",
    "# fit the model with the training data\n",
    "grid_search_svc.fit(Xtrain_scaled,ytrain)\n",
    "\n",
    "# print the best parameters and the corresponding accuracy\n",
    "print('Best Parameters: ', grid_search_svc.best_params_)\n",
    "print('Best AUROC: ', grid_search_svc.best_score_)\n",
    "\n",
    "# get the best model\n",
    "best_svc = grid_search_svc.best_estimator_"
   ]
  },
  {
   "cell_type": "markdown",
   "id": "7826c5bc",
   "metadata": {},
   "source": [
    "### Performance Evaluation & Model Comparison"
   ]
  },
  {
   "cell_type": "code",
   "execution_count": 29,
   "id": "bcb0b76a",
   "metadata": {},
   "outputs": [],
   "source": [
    "# define a helper function to perform model evaluation based on key metrics\n",
    "from sklearn.metrics import precision_recall_fscore_support\n",
    "\n",
    "def performance_evaluation(X,y,clf,classifier_name=''):\n",
    "    ypred = clf.predict(X)\n",
    "    accuracy = clf.score(X,y)\n",
    "    precision, recall, fscore, support = precision_recall_fscore_support(y, ypred, average='macro', zero_division=0)\n",
    "    metricName = ['Accuracy','Precision','Recall','F1_Score']\n",
    "    metricValue = [accuracy,precision,recall,fscore]\n",
    "    res = pd.DataFrame(metricValue, index=metricName, columns=[classifier_name])\n",
    "    return res"
   ]
  },
  {
   "cell_type": "code",
   "execution_count": 30,
   "id": "20101779",
   "metadata": {},
   "outputs": [
    {
     "data": {
      "text/html": [
       "<div>\n",
       "<style scoped>\n",
       "    .dataframe tbody tr th:only-of-type {\n",
       "        vertical-align: middle;\n",
       "    }\n",
       "\n",
       "    .dataframe tbody tr th {\n",
       "        vertical-align: top;\n",
       "    }\n",
       "\n",
       "    .dataframe thead th {\n",
       "        text-align: right;\n",
       "    }\n",
       "</style>\n",
       "<table border=\"1\" class=\"dataframe\">\n",
       "  <thead>\n",
       "    <tr style=\"text-align: right;\">\n",
       "      <th></th>\n",
       "      <th>Decision Tree</th>\n",
       "      <th>Random Forest</th>\n",
       "      <th>Logistic Regression</th>\n",
       "      <th>Naive Bayes</th>\n",
       "      <th>K Nearest Neigbors</th>\n",
       "      <th>Support Vector Machine</th>\n",
       "    </tr>\n",
       "  </thead>\n",
       "  <tbody>\n",
       "    <tr>\n",
       "      <th>Accuracy</th>\n",
       "      <td>0.941463</td>\n",
       "      <td>0.985366</td>\n",
       "      <td>0.829268</td>\n",
       "      <td>0.780488</td>\n",
       "      <td>0.985366</td>\n",
       "      <td>0.951220</td>\n",
       "    </tr>\n",
       "    <tr>\n",
       "      <th>Precision</th>\n",
       "      <td>0.941667</td>\n",
       "      <td>0.985714</td>\n",
       "      <td>0.836597</td>\n",
       "      <td>0.785112</td>\n",
       "      <td>0.985714</td>\n",
       "      <td>0.951429</td>\n",
       "    </tr>\n",
       "    <tr>\n",
       "      <th>Recall</th>\n",
       "      <td>0.941414</td>\n",
       "      <td>0.985437</td>\n",
       "      <td>0.828907</td>\n",
       "      <td>0.780173</td>\n",
       "      <td>0.985437</td>\n",
       "      <td>0.951171</td>\n",
       "    </tr>\n",
       "    <tr>\n",
       "      <th>F1_Score</th>\n",
       "      <td>0.941451</td>\n",
       "      <td>0.985364</td>\n",
       "      <td>0.828222</td>\n",
       "      <td>0.779459</td>\n",
       "      <td>0.985364</td>\n",
       "      <td>0.951209</td>\n",
       "    </tr>\n",
       "  </tbody>\n",
       "</table>\n",
       "</div>"
      ],
      "text/plain": [
       "           Decision Tree  Random Forest  Logistic Regression  Naive Bayes  \\\n",
       "Accuracy        0.941463       0.985366             0.829268     0.780488   \n",
       "Precision       0.941667       0.985714             0.836597     0.785112   \n",
       "Recall          0.941414       0.985437             0.828907     0.780173   \n",
       "F1_Score        0.941451       0.985364             0.828222     0.779459   \n",
       "\n",
       "           K Nearest Neigbors  Support Vector Machine  \n",
       "Accuracy             0.985366                0.951220  \n",
       "Precision            0.985714                0.951429  \n",
       "Recall               0.985437                0.951171  \n",
       "F1_Score             0.985364                0.951209  "
      ]
     },
     "metadata": {},
     "output_type": "display_data"
    }
   ],
   "source": [
    "# generate the performance summary for various models trained\n",
    "tree_summary = performance_evaluation(Xtest_scaled,ytest,best_tree,'Decision Tree')\n",
    "logistic_summary = performance_evaluation(Xtest_scaled,ytest,best_logreg,'Logistic Regression')\n",
    "forest_summary = performance_evaluation(Xtest_scaled,ytest,best_forest,'Random Forest')\n",
    "naivebayes_summary = performance_evaluation(Xtest_scaled,ytest,cNB,'Naive Bayes')\n",
    "knn_summary = performance_evaluation(Xtest_scaled,ytest,best_knn,'K Nearest Neigbors')\n",
    "svc_summary = performance_evaluation(Xtest_scaled,ytest,best_svc,'Support Vector Machine')\n",
    "\n",
    "# combine the summary of each model into a dataframe \n",
    "comparison_df = pd.concat([tree_summary,forest_summary,logistic_summary,naivebayes_summary,knn_summary,svc_summary], axis=1)\n",
    "\n",
    "# disply the summary dafaframe\n",
    "display(comparison_df)"
   ]
  },
  {
   "cell_type": "code",
   "execution_count": 31,
   "id": "4cdb4660",
   "metadata": {},
   "outputs": [
    {
     "data": {
      "image/png": "[encoded data removed]",
      "text/plain": [
       "<Figure size 864x864 with 6 Axes>"
      ]
     },
     "metadata": {
      "needs_background": "light"
     },
     "output_type": "display_data"
    }
   ],
   "source": [
    "# visualize the confusion matrix using a heatmap\n",
    "from sklearn.metrics import confusion_matrix\n",
    "\n",
    "labels = ['> 50% Diameter Narrowing', '< 50% Diameter Narrowing']\n",
    "\n",
    "ypred_tree = best_tree.predict(Xtest_scaled)\n",
    "cm_tree = confusion_matrix(ytest, ypred_tree, normalize='true')\n",
    "\n",
    "ypred_forest = best_forest.predict(Xtest_scaled)\n",
    "cm_forest = confusion_matrix(ytest, ypred_tree, normalize='true')\n",
    "\n",
    "ypred_logistic = best_logreg.predict(Xtest_scaled)\n",
    "cm_logistic = confusion_matrix(ytest, ypred_logistic, normalize='true')\n",
    "\n",
    "ypred_nb = cNB.predict(Xtest_scaled)\n",
    "cm_nb = confusion_matrix(ytest, ypred_nb, normalize='true')\n",
    "\n",
    "ypred_knn = best_knn.predict(Xtest_scaled)\n",
    "cm_knn = confusion_matrix(ytest, ypred_knn, normalize='true')\n",
    "\n",
    "ypred_svc = best_svc.predict(Xtest_scaled)\n",
    "cm_svc = confusion_matrix(ytest, ypred_svc, normalize='true')\n",
    "\n",
    "\n",
    "# confusion matrix for 6 classification models\n",
    "figure, axes = plt.subplots(3,2, figsize=(12,12))\n",
    "sns.heatmap(cm_tree, annot=True, cmap='BuPu', xticklabels=labels, yticklabels=labels, cbar=False, ax=axes[0,0])\n",
    "axes[0,0].set_title('Decision Tree', fontsize=20)\n",
    "sns.heatmap(cm_forest, annot=True, cmap='BuPu', xticklabels=labels, yticklabels=labels, cbar=False, ax=axes[0,1])\n",
    "axes[0,1].set_title('Random Forest', fontsize=20)\n",
    "sns.heatmap(cm_logistic, annot=True, cmap='BuPu', xticklabels=labels, yticklabels=labels, cbar=False, ax=axes[1,0])\n",
    "axes[1,0].set_title('Logistic Regression', fontsize=20)\n",
    "sns.heatmap(cm_nb, annot=True, cmap='BuPu', xticklabels=labels, yticklabels=labels, cbar=False, ax=axes[1,1])\n",
    "axes[1,1].set_title('Naive Bayes', fontsize=20)\n",
    "sns.heatmap(cm_knn, annot=True, cmap='BuPu', xticklabels=labels, yticklabels=labels, cbar=False, ax=axes[2,0])\n",
    "axes[2,0].set_title('K Nearest Neighbors', fontsize=20)\n",
    "sns.heatmap(cm_svc, annot=True, cmap='BuPu', xticklabels=labels, yticklabels=labels, cbar=False, ax=axes[2,1])\n",
    "axes[2,1].set_title('Support Vector Machine (SVM)', fontsize=20)\n",
    "\n",
    "figure.suptitle('Confusion Matrix of 6 Classication Models', fontsize=15)\n",
    "plt.tight_layout(pad=1)\n",
    "plt.show()"
   ]
  },
  {
   "cell_type": "markdown",
   "id": "a1877cc4",
   "metadata": {},
   "source": [
    "#### Summary:\n",
    "\n",
    "The statistical analysis investigated various features in relation to angiographic disease status, and the results provide valuable insights into the factors associated with different levels of diameter narrowing. Age, gender, chest pain type, resting blood pressure, serum cholesterol, resting electrocardiographic results, maximum heart rate achieved, exercise-induced angina, ST depression induced by exercise relative to rest, the slope of the peak exercise ST segment, the number of major vessels colored by fluoroscopy, and Thallium-201 imaging findings all exhibited statistically significant associations with an increased likelihood of > 50% diameter narrowing. These findings underscore the importance of considering a comprehensive set of clinical and diagnostic features in understanding and predicting the severity of angiographic disease. The lack of a statistically significant association with fasting blood glucose level suggests that this specific variable may not be a strong predictor of more severe diameter narrowing. Overall, these results contribute to a deeper understanding of the multifaceted factors influencing angiographic disease status.\n",
    "\n",
    "In the evaluation of six different classification models—Decision Tree, Random Forest, Logistic Regression, Naive Bayes, K Nearest Neighbors, and Support Vector Machine—on the test dataset, their respective performance metrics provide valuable insights into their predictive capabilities for angiographic disease status. Both Decision Tree and Random Forest models demonstrate exceptionally high accuracy, precision, recall, and F1 Score, suggesting robust performance in distinguishing between different levels of diameter narrowing. Logistic Regression, although exhibiting lower metrics compared to the tree-based models, still demonstrates respectable accuracy and precision. Naive Bayes, while achieving relatively lower performance compared to other models, provides a balanced trade-off between precision and recall. Both K Nearest Neighbors and Support Vector Machine models showcase similar high performance across all metrics, emphasizing their effectiveness in predicting angiographic disease status. The detailed statistical analysis of these models contributes to a comprehensive understanding of their strengths and limitations, aiding in the selection of an appropriate model based on specific objectives and considerations."
   ]
  }
 ],
 "metadata": {
  "kernelspec": {
   "display_name": "Python 3 (ipykernel)",
   "language": "python",
   "name": "python3"
  },
  "language_info": {
   "codemirror_mode": {
    "name": "ipython",
    "version": 3
   },
   "file_extension": ".py",
   "mimetype": "text/x-python",
   "name": "python",
   "nbconvert_exporter": "python",
   "pygments_lexer": "ipython3",
   "version": "3.9.12"
  }
 },
 "nbformat": 4,
 "nbformat_minor": 5
}
