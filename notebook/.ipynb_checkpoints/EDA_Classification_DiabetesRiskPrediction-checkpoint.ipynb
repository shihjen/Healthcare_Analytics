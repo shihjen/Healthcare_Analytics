{
 "cells": [
  {
   "cell_type": "markdown",
   "id": "1edffd3b-8f9b-4f76-8be3-b8dd19b59e0b",
   "metadata": {},
   "source": [
    "## Early Detection of Diabetes Risk: A Predictive Analysis"
   ]
  },
  {
   "cell_type": "markdown",
   "id": "785bde17",
   "metadata": {},
   "source": [
    "### Introduction\n",
    "\n",
    "Diabetes, a chronic metabolic disorder, has emerged as a significant global health concern, affecting millions of individuals worldwide. Early detection and intervention play a pivotal role in mitigating the complications associated with diabetes, emphasizing the need for reliable predictive models. In this context, we present a comprehensive analysis aimed at identifying statistically significant features associated with diabetes and constructing a robust classification model for early-stage risk assessment.\n",
    "\n",
    "The dataset under scrutiny encompasses a diverse set of attributes, ranging from demographic factors such as age and gender to specific symptoms and medical indicators. These include polyuria, polydipsia, sudden weight loss, weakness, polyphagia, genital thrush, visual blurring, itching, irritability, delayed healing, partial paresis, muscle stiffness, alopecia, and obesity. The dataset classifies individuals into two categories: positive and negative for diabetes, providing a binary outcome for our analysis.\n",
    "\n",
    "The primary objective of this project is to uncover the intricate relationships between these features and the likelihood of diabetes. Through rigorous statistical analysis, we aim to discern which attributes exhibit significant associations with diabetes, thereby providing valuable insights for clinicians and researchers alike. Subsequently, we intend to leverage these identified features to construct a classification model capable of predicting an individual's risk for diabetes based on their unique set of characteristics.\n",
    "\n",
    "The implications of this research extend beyond the realm of academia, offering a practical and valuable resource for healthcare professionals. The predictive model developed from this dataset has the potential to enhance early intervention strategies, enabling healthcare providers to identify individuals at risk of diabetes at an earlier stage. By fostering a better understanding of the complex interplay between symptoms and diabetes onset, this analysis contributes to the ongoing efforts to improve public health outcomes and reduce the burden of this prevalent metabolic disorder."
   ]
  },
  {
   "cell_type": "markdown",
   "id": "41bd009a-bd3c-44a6-a630-5f0d8ccec9de",
   "metadata": {},
   "source": [
    "### Import Essential Libraries"
   ]
  },
  {
   "cell_type": "code",
   "execution_count": 1,
   "id": "3683d4f0",
   "metadata": {},
   "outputs": [],
   "source": [
    "# import essential libraries\n",
    "import pandas as pd\n",
    "import numpy as np\n",
    "import matplotlib.pyplot as plt\n",
    "import seaborn as sns\n",
    "\n",
    "%matplotlib inline"
   ]
  },
  {
   "cell_type": "markdown",
   "id": "c31c3a58-228a-439f-a8ad-9fea94ccca10",
   "metadata": {},
   "source": [
    "### Load the Dataset"
   ]
  },
  {
   "cell_type": "code",
   "execution_count": 2,
   "id": "1f1cbe54",
   "metadata": {
    "scrolled": true
   },
   "outputs": [
    {
     "name": "stdout",
     "output_type": "stream",
     "text": [
      "Dimension of the dataset:  (520, 17)\n",
      "Attributes in the dataset:  ['Age' 'Gender' 'Polyuria' 'Polydipsia' 'sudden weight loss' 'weakness'\n",
      " 'Polyphagia' 'Genital thrush' 'visual blurring' 'Itching' 'Irritability'\n",
      " 'delayed healing' 'partial paresis' 'muscle stiffness' 'Alopecia'\n",
      " 'Obesity' 'class']\n"
     ]
    },
    {
     "data": {
      "text/html": [
       "<div>\n",
       "<style scoped>\n",
       "    .dataframe tbody tr th:only-of-type {\n",
       "        vertical-align: middle;\n",
       "    }\n",
       "\n",
       "    .dataframe tbody tr th {\n",
       "        vertical-align: top;\n",
       "    }\n",
       "\n",
       "    .dataframe thead th {\n",
       "        text-align: right;\n",
       "    }\n",
       "</style>\n",
       "<table border=\"1\" class=\"dataframe\">\n",
       "  <thead>\n",
       "    <tr style=\"text-align: right;\">\n",
       "      <th></th>\n",
       "      <th>Age</th>\n",
       "      <th>Gender</th>\n",
       "      <th>Polyuria</th>\n",
       "      <th>Polydipsia</th>\n",
       "      <th>sudden weight loss</th>\n",
       "      <th>weakness</th>\n",
       "      <th>Polyphagia</th>\n",
       "      <th>Genital thrush</th>\n",
       "      <th>visual blurring</th>\n",
       "      <th>Itching</th>\n",
       "      <th>Irritability</th>\n",
       "      <th>delayed healing</th>\n",
       "      <th>partial paresis</th>\n",
       "      <th>muscle stiffness</th>\n",
       "      <th>Alopecia</th>\n",
       "      <th>Obesity</th>\n",
       "      <th>class</th>\n",
       "    </tr>\n",
       "  </thead>\n",
       "  <tbody>\n",
       "    <tr>\n",
       "      <th>0</th>\n",
       "      <td>40</td>\n",
       "      <td>Male</td>\n",
       "      <td>No</td>\n",
       "      <td>Yes</td>\n",
       "      <td>No</td>\n",
       "      <td>Yes</td>\n",
       "      <td>No</td>\n",
       "      <td>No</td>\n",
       "      <td>No</td>\n",
       "      <td>Yes</td>\n",
       "      <td>No</td>\n",
       "      <td>Yes</td>\n",
       "      <td>No</td>\n",
       "      <td>Yes</td>\n",
       "      <td>Yes</td>\n",
       "      <td>Yes</td>\n",
       "      <td>Positive</td>\n",
       "    </tr>\n",
       "    <tr>\n",
       "      <th>1</th>\n",
       "      <td>58</td>\n",
       "      <td>Male</td>\n",
       "      <td>No</td>\n",
       "      <td>No</td>\n",
       "      <td>No</td>\n",
       "      <td>Yes</td>\n",
       "      <td>No</td>\n",
       "      <td>No</td>\n",
       "      <td>Yes</td>\n",
       "      <td>No</td>\n",
       "      <td>No</td>\n",
       "      <td>No</td>\n",
       "      <td>Yes</td>\n",
       "      <td>No</td>\n",
       "      <td>Yes</td>\n",
       "      <td>No</td>\n",
       "      <td>Positive</td>\n",
       "    </tr>\n",
       "    <tr>\n",
       "      <th>2</th>\n",
       "      <td>41</td>\n",
       "      <td>Male</td>\n",
       "      <td>Yes</td>\n",
       "      <td>No</td>\n",
       "      <td>No</td>\n",
       "      <td>Yes</td>\n",
       "      <td>Yes</td>\n",
       "      <td>No</td>\n",
       "      <td>No</td>\n",
       "      <td>Yes</td>\n",
       "      <td>No</td>\n",
       "      <td>Yes</td>\n",
       "      <td>No</td>\n",
       "      <td>Yes</td>\n",
       "      <td>Yes</td>\n",
       "      <td>No</td>\n",
       "      <td>Positive</td>\n",
       "    </tr>\n",
       "    <tr>\n",
       "      <th>3</th>\n",
       "      <td>45</td>\n",
       "      <td>Male</td>\n",
       "      <td>No</td>\n",
       "      <td>No</td>\n",
       "      <td>Yes</td>\n",
       "      <td>Yes</td>\n",
       "      <td>Yes</td>\n",
       "      <td>Yes</td>\n",
       "      <td>No</td>\n",
       "      <td>Yes</td>\n",
       "      <td>No</td>\n",
       "      <td>Yes</td>\n",
       "      <td>No</td>\n",
       "      <td>No</td>\n",
       "      <td>No</td>\n",
       "      <td>No</td>\n",
       "      <td>Positive</td>\n",
       "    </tr>\n",
       "    <tr>\n",
       "      <th>4</th>\n",
       "      <td>60</td>\n",
       "      <td>Male</td>\n",
       "      <td>Yes</td>\n",
       "      <td>Yes</td>\n",
       "      <td>Yes</td>\n",
       "      <td>Yes</td>\n",
       "      <td>Yes</td>\n",
       "      <td>No</td>\n",
       "      <td>Yes</td>\n",
       "      <td>Yes</td>\n",
       "      <td>Yes</td>\n",
       "      <td>Yes</td>\n",
       "      <td>Yes</td>\n",
       "      <td>Yes</td>\n",
       "      <td>Yes</td>\n",
       "      <td>Yes</td>\n",
       "      <td>Positive</td>\n",
       "    </tr>\n",
       "  </tbody>\n",
       "</table>\n",
       "</div>"
      ],
      "text/plain": [
       "   Age Gender Polyuria Polydipsia sudden weight loss weakness Polyphagia  \\\n",
       "0   40   Male       No        Yes                 No      Yes         No   \n",
       "1   58   Male       No         No                 No      Yes         No   \n",
       "2   41   Male      Yes         No                 No      Yes        Yes   \n",
       "3   45   Male       No         No                Yes      Yes        Yes   \n",
       "4   60   Male      Yes        Yes                Yes      Yes        Yes   \n",
       "\n",
       "  Genital thrush visual blurring Itching Irritability delayed healing  \\\n",
       "0             No              No     Yes           No             Yes   \n",
       "1             No             Yes      No           No              No   \n",
       "2             No              No     Yes           No             Yes   \n",
       "3            Yes              No     Yes           No             Yes   \n",
       "4             No             Yes     Yes          Yes             Yes   \n",
       "\n",
       "  partial paresis muscle stiffness Alopecia Obesity     class  \n",
       "0              No              Yes      Yes     Yes  Positive  \n",
       "1             Yes               No      Yes      No  Positive  \n",
       "2              No              Yes      Yes      No  Positive  \n",
       "3              No               No       No      No  Positive  \n",
       "4             Yes              Yes      Yes     Yes  Positive  "
      ]
     },
     "execution_count": 2,
     "metadata": {},
     "output_type": "execute_result"
    }
   ],
   "source": [
    "# load the dataset\n",
    "data = pd.read_csv('../data/diabetes_risk_prediction_dataset.csv')\n",
    "\n",
    "# check the dimension of the dataset\n",
    "print('Dimension of the dataset: ', data.shape)\n",
    "\n",
    "# check the attributes in the dataset\n",
    "print('Attributes in the dataset: ', data.columns.values)\n",
    "\n",
    "# view the first 5 rows of the dataset\n",
    "data.head()"
   ]
  },
  {
   "cell_type": "markdown",
   "id": "9b662d18",
   "metadata": {},
   "source": [
    "### Attributes Description\n",
    "\n",
    "- Age (1-20 to 65): Age range of the individuals.\n",
    "- Sex (1. Male, 2. Female): Gender information.\n",
    "- Polyuria (1. Yes, 2. No): Presence of excessive urination.\n",
    "- Polydipsia (1. Yes, 2. No): Excessive thirst.\n",
    "- sudden weight loss (1. Yes, 2. No): Abrupt weight loss.\n",
    "- weakness (1. Yes, 2. No): Generalized weakness.\n",
    "- Polyphagia (1. Yes, 2. No): Excessive hunger.\n",
    "- Genital Thrush (1. Yes, 2. No): Presence of genital thrush.\n",
    "- visual blurring (1. Yes, 2. No): Blurring of vision.\n",
    "- Itching (1. Yes, 2. No): Presence of itching.\n",
    "- Irritability (1. Yes, 2. No): Display of irritability.\n",
    "- delayed healing (1. Yes, 2. No): Delayed wound healing.\n",
    "- partial paresis (1. Yes, 2. No): Partial loss of voluntary movement.\n",
    "- muscle stiffness (1. Yes, 2. No): Presence of muscle stiffness.\n",
    "- Alopecia (1. Yes, 2. No): Hair loss.\n",
    "- Obesity (1. Yes, 2. No): Presence of obesity.\n",
    "- class (1. Positive, 2. Negative): Diabetes classification."
   ]
  },
  {
   "cell_type": "code",
   "execution_count": 3,
   "id": "d1fc3295",
   "metadata": {},
   "outputs": [
    {
     "name": "stdout",
     "output_type": "stream",
     "text": [
      "<class 'pandas.core.frame.DataFrame'>\n",
      "RangeIndex: 520 entries, 0 to 519\n",
      "Data columns (total 17 columns):\n",
      " #   Column              Non-Null Count  Dtype \n",
      "---  ------              --------------  ----- \n",
      " 0   Age                 520 non-null    int64 \n",
      " 1   Gender              520 non-null    object\n",
      " 2   Polyuria            520 non-null    object\n",
      " 3   Polydipsia          520 non-null    object\n",
      " 4   sudden weight loss  520 non-null    object\n",
      " 5   weakness            520 non-null    object\n",
      " 6   Polyphagia          520 non-null    object\n",
      " 7   Genital thrush      520 non-null    object\n",
      " 8   visual blurring     520 non-null    object\n",
      " 9   Itching             520 non-null    object\n",
      " 10  Irritability        520 non-null    object\n",
      " 11  delayed healing     520 non-null    object\n",
      " 12  partial paresis     520 non-null    object\n",
      " 13  muscle stiffness    520 non-null    object\n",
      " 14  Alopecia            520 non-null    object\n",
      " 15  Obesity             520 non-null    object\n",
      " 16  class               520 non-null    object\n",
      "dtypes: int64(1), object(16)\n",
      "memory usage: 69.2+ KB\n"
     ]
    }
   ],
   "source": [
    "# top level overview of the dataset\n",
    "data.info()"
   ]
  },
  {
   "cell_type": "markdown",
   "id": "81e1945f",
   "metadata": {},
   "source": [
    "### Exploratory Data Analysis (EDA)"
   ]
  },
  {
   "cell_type": "code",
   "execution_count": 5,
   "id": "aa70e57e",
   "metadata": {
    "scrolled": true
   },
   "outputs": [
    {
     "data": {
      "image/png": "[encoded data removed]",
      "text/plain": [
       "<Figure size 1080x360 with 2 Axes>"
      ]
     },
     "metadata": {
      "needs_background": "light"
     },
     "output_type": "display_data"
    }
   ],
   "source": [
    "# distribution of diabetic and non-diabetic samples\n",
    "samples = data['class'].value_counts()\n",
    "colors = ['midnightblue','silver']\n",
    "\n",
    "figure, axes = plt.subplots(1,2, figsize=(15,5), gridspec_kw={'width_ratios':[1.5,1]})\n",
    "axes[0].barh(y=samples.index, width=samples.values, color=colors)\n",
    "axes[0].set_xlabel('Frequency')\n",
    "axes[0].set_yticks(['Negative','Positive'],['Non-diabetic','Diabetic'])\n",
    "axes[0].grid(alpha=0.4)\n",
    "\n",
    "for index, values in enumerate(samples):\n",
    "    axes[0].text(values+3, index, str(values), va='center')\n",
    "    \n",
    "axes[1].pie(samples.values, labels=['Diabetic','Non-diabetic'], autopct='%.2f%%', explode=([0.05]*len(samples.index)), colors=colors)\n",
    "figure.suptitle('Diabetic vs Non-Diabetic', fontsize=15)\n",
    "plt.tight_layout(pad=1)\n",
    "plt.show()"
   ]
  },
  {
   "cell_type": "code",
   "execution_count": 6,
   "id": "ba399542",
   "metadata": {},
   "outputs": [],
   "source": [
    "from scipy.stats import chi2_contingency\n",
    "\n",
    "def chi2test(feature):\n",
    "    # visualization\n",
    "    plt.figure(figsize=(12,5))\n",
    "    ax = sns.countplot(data=data, x=data[feature], hue=data['class'], palette=colors)\n",
    "    ax.legend(['Diabetic','Non-diabetic'], loc='upper right', bbox_to_anchor=(1.2, 1))\n",
    "    plt.title(f'Diabetic vs Non-Diabetic by {feature}', fontsize=15)\n",
    "    plt.grid(alpha=0.4)\n",
    "    plt.show()\n",
    "\n",
    "    # display the contingency table (observed value)\n",
    "    contingency_table = pd.crosstab(data[feature],data['class'])\n",
    "    contingency_table.columns = ['Diabetic','Non-diabetic']\n",
    "    print('Observed value:')\n",
    "    display(contingency_table)\n",
    "\n",
    "    # perform Chi-square test\n",
    "    res = chi2_contingency(contingency_table)\n",
    "    test_stat = round(res[0], 4)\n",
    "    pvalue = round(res[1], 4)\n",
    "    expected_frequency = res[3]\n",
    "\n",
    "    print('Expected frequency:')\n",
    "    display(pd.DataFrame(expected_frequency, index=contingency_table.index, columns=contingency_table.columns))\n",
    "\n",
    "    print('Test statistics: ', test_stat)\n",
    "    print('Test p-value: ', pvalue)\n",
    "\n",
    "    alpha = 0.05\n",
    "    if pvalue < alpha:\n",
    "        print(f'Reject null hypothesis. There is a statistically significant association between {feature} and the likelihood of diabetes in the analyzed data.')\n",
    "    else:\n",
    "        print(f'Failed to reject null hypothesis. Lack of evidence to conclude a statistically significant association between {feature} and the likelihood of diabetes in the analyzed data.')"
   ]
  },
  {
   "cell_type": "markdown",
   "id": "54a08034",
   "metadata": {},
   "source": [
    "#### Question 1 | Is there a statistically significant association between gender and the likelihood of diabetes?"
   ]
  },
  {
   "cell_type": "code",
   "execution_count": 7,
   "id": "38144920",
   "metadata": {},
   "outputs": [
    {
     "data": {
      "image/png": "[encoded data removed]",
      "text/plain": [
       "<Figure size 864x360 with 1 Axes>"
      ]
     },
     "metadata": {
      "needs_background": "light"
     },
     "output_type": "display_data"
    },
    {
     "name": "stdout",
     "output_type": "stream",
     "text": [
      "Observed value:\n"
     ]
    },
    {
     "data": {
      "text/html": [
       "<div>\n",
       "<style scoped>\n",
       "    .dataframe tbody tr th:only-of-type {\n",
       "        vertical-align: middle;\n",
       "    }\n",
       "\n",
       "    .dataframe tbody tr th {\n",
       "        vertical-align: top;\n",
       "    }\n",
       "\n",
       "    .dataframe thead th {\n",
       "        text-align: right;\n",
       "    }\n",
       "</style>\n",
       "<table border=\"1\" class=\"dataframe\">\n",
       "  <thead>\n",
       "    <tr style=\"text-align: right;\">\n",
       "      <th></th>\n",
       "      <th>Diabetic</th>\n",
       "      <th>Non-diabetic</th>\n",
       "    </tr>\n",
       "    <tr>\n",
       "      <th>Gender</th>\n",
       "      <th></th>\n",
       "      <th></th>\n",
       "    </tr>\n",
       "  </thead>\n",
       "  <tbody>\n",
       "    <tr>\n",
       "      <th>Female</th>\n",
       "      <td>19</td>\n",
       "      <td>173</td>\n",
       "    </tr>\n",
       "    <tr>\n",
       "      <th>Male</th>\n",
       "      <td>181</td>\n",
       "      <td>147</td>\n",
       "    </tr>\n",
       "  </tbody>\n",
       "</table>\n",
       "</div>"
      ],
      "text/plain": [
       "        Diabetic  Non-diabetic\n",
       "Gender                        \n",
       "Female        19           173\n",
       "Male         181           147"
      ]
     },
     "metadata": {},
     "output_type": "display_data"
    },
    {
     "name": "stdout",
     "output_type": "stream",
     "text": [
      "Expected frequency:\n"
     ]
    },
    {
     "data": {
      "text/html": [
       "<div>\n",
       "<style scoped>\n",
       "    .dataframe tbody tr th:only-of-type {\n",
       "        vertical-align: middle;\n",
       "    }\n",
       "\n",
       "    .dataframe tbody tr th {\n",
       "        vertical-align: top;\n",
       "    }\n",
       "\n",
       "    .dataframe thead th {\n",
       "        text-align: right;\n",
       "    }\n",
       "</style>\n",
       "<table border=\"1\" class=\"dataframe\">\n",
       "  <thead>\n",
       "    <tr style=\"text-align: right;\">\n",
       "      <th></th>\n",
       "      <th>Diabetic</th>\n",
       "      <th>Non-diabetic</th>\n",
       "    </tr>\n",
       "    <tr>\n",
       "      <th>Gender</th>\n",
       "      <th></th>\n",
       "      <th></th>\n",
       "    </tr>\n",
       "  </thead>\n",
       "  <tbody>\n",
       "    <tr>\n",
       "      <th>Female</th>\n",
       "      <td>73.846154</td>\n",
       "      <td>118.153846</td>\n",
       "    </tr>\n",
       "    <tr>\n",
       "      <th>Male</th>\n",
       "      <td>126.153846</td>\n",
       "      <td>201.846154</td>\n",
       "    </tr>\n",
       "  </tbody>\n",
       "</table>\n",
       "</div>"
      ],
      "text/plain": [
       "          Diabetic  Non-diabetic\n",
       "Gender                          \n",
       "Female   73.846154    118.153846\n",
       "Male    126.153846    201.846154"
      ]
     },
     "metadata": {},
     "output_type": "display_data"
    },
    {
     "name": "stdout",
     "output_type": "stream",
     "text": [
      "Test statistics:  103.0369\n",
      "Test p-value:  0.0\n",
      "Reject null hypothesis. There is a statistically significant association between Gender and the likelihood of diabetes in the analyzed data.\n"
     ]
    }
   ],
   "source": [
    "chi2test('Gender')"
   ]
  },
  {
   "cell_type": "markdown",
   "id": "29fb6188",
   "metadata": {},
   "source": [
    "#### Question 2 | Does the presence of polyuria exhibit a statistically significant association with the likelihood of diabetes?"
   ]
  },
  {
   "cell_type": "code",
   "execution_count": 8,
   "id": "74693c7e",
   "metadata": {},
   "outputs": [
    {
     "data": {
      "image/png": "[encoded data removed]",
      "text/plain": [
       "<Figure size 864x360 with 1 Axes>"
      ]
     },
     "metadata": {
      "needs_background": "light"
     },
     "output_type": "display_data"
    },
    {
     "name": "stdout",
     "output_type": "stream",
     "text": [
      "Observed value:\n"
     ]
    },
    {
     "data": {
      "text/html": [
       "<div>\n",
       "<style scoped>\n",
       "    .dataframe tbody tr th:only-of-type {\n",
       "        vertical-align: middle;\n",
       "    }\n",
       "\n",
       "    .dataframe tbody tr th {\n",
       "        vertical-align: top;\n",
       "    }\n",
       "\n",
       "    .dataframe thead th {\n",
       "        text-align: right;\n",
       "    }\n",
       "</style>\n",
       "<table border=\"1\" class=\"dataframe\">\n",
       "  <thead>\n",
       "    <tr style=\"text-align: right;\">\n",
       "      <th></th>\n",
       "      <th>Diabetic</th>\n",
       "      <th>Non-diabetic</th>\n",
       "    </tr>\n",
       "    <tr>\n",
       "      <th>Polyuria</th>\n",
       "      <th></th>\n",
       "      <th></th>\n",
       "    </tr>\n",
       "  </thead>\n",
       "  <tbody>\n",
       "    <tr>\n",
       "      <th>No</th>\n",
       "      <td>185</td>\n",
       "      <td>77</td>\n",
       "    </tr>\n",
       "    <tr>\n",
       "      <th>Yes</th>\n",
       "      <td>15</td>\n",
       "      <td>243</td>\n",
       "    </tr>\n",
       "  </tbody>\n",
       "</table>\n",
       "</div>"
      ],
      "text/plain": [
       "          Diabetic  Non-diabetic\n",
       "Polyuria                        \n",
       "No             185            77\n",
       "Yes             15           243"
      ]
     },
     "metadata": {},
     "output_type": "display_data"
    },
    {
     "name": "stdout",
     "output_type": "stream",
     "text": [
      "Expected frequency:\n"
     ]
    },
    {
     "data": {
      "text/html": [
       "<div>\n",
       "<style scoped>\n",
       "    .dataframe tbody tr th:only-of-type {\n",
       "        vertical-align: middle;\n",
       "    }\n",
       "\n",
       "    .dataframe tbody tr th {\n",
       "        vertical-align: top;\n",
       "    }\n",
       "\n",
       "    .dataframe thead th {\n",
       "        text-align: right;\n",
       "    }\n",
       "</style>\n",
       "<table border=\"1\" class=\"dataframe\">\n",
       "  <thead>\n",
       "    <tr style=\"text-align: right;\">\n",
       "      <th></th>\n",
       "      <th>Diabetic</th>\n",
       "      <th>Non-diabetic</th>\n",
       "    </tr>\n",
       "    <tr>\n",
       "      <th>Polyuria</th>\n",
       "      <th></th>\n",
       "      <th></th>\n",
       "    </tr>\n",
       "  </thead>\n",
       "  <tbody>\n",
       "    <tr>\n",
       "      <th>No</th>\n",
       "      <td>100.769231</td>\n",
       "      <td>161.230769</td>\n",
       "    </tr>\n",
       "    <tr>\n",
       "      <th>Yes</th>\n",
       "      <td>99.230769</td>\n",
       "      <td>158.769231</td>\n",
       "    </tr>\n",
       "  </tbody>\n",
       "</table>\n",
       "</div>"
      ],
      "text/plain": [
       "            Diabetic  Non-diabetic\n",
       "Polyuria                          \n",
       "No        100.769231    161.230769\n",
       "Yes        99.230769    158.769231"
      ]
     },
     "metadata": {},
     "output_type": "display_data"
    },
    {
     "name": "stdout",
     "output_type": "stream",
     "text": [
      "Test statistics:  227.8658\n",
      "Test p-value:  0.0\n",
      "Reject null hypothesis. There is a statistically significant association between Polyuria and the likelihood of diabetes in the analyzed data.\n"
     ]
    }
   ],
   "source": [
    "chi2test('Polyuria')"
   ]
  },
  {
   "cell_type": "markdown",
   "id": "54be1b4b",
   "metadata": {},
   "source": [
    "#### Question 3 | Does the presence of polydipsia exhibit a statistically significant association with the likelihood of diabetes?"
   ]
  },
  {
   "cell_type": "code",
   "execution_count": 9,
   "id": "1a12b3c0",
   "metadata": {},
   "outputs": [
    {
     "data": {
      "image/png": "[encoded data removed]",
      "text/plain": [
       "<Figure size 864x360 with 1 Axes>"
      ]
     },
     "metadata": {
      "needs_background": "light"
     },
     "output_type": "display_data"
    },
    {
     "name": "stdout",
     "output_type": "stream",
     "text": [
      "Observed value:\n"
     ]
    },
    {
     "data": {
      "text/html": [
       "<div>\n",
       "<style scoped>\n",
       "    .dataframe tbody tr th:only-of-type {\n",
       "        vertical-align: middle;\n",
       "    }\n",
       "\n",
       "    .dataframe tbody tr th {\n",
       "        vertical-align: top;\n",
       "    }\n",
       "\n",
       "    .dataframe thead th {\n",
       "        text-align: right;\n",
       "    }\n",
       "</style>\n",
       "<table border=\"1\" class=\"dataframe\">\n",
       "  <thead>\n",
       "    <tr style=\"text-align: right;\">\n",
       "      <th></th>\n",
       "      <th>Diabetic</th>\n",
       "      <th>Non-diabetic</th>\n",
       "    </tr>\n",
       "    <tr>\n",
       "      <th>Polydipsia</th>\n",
       "      <th></th>\n",
       "      <th></th>\n",
       "    </tr>\n",
       "  </thead>\n",
       "  <tbody>\n",
       "    <tr>\n",
       "      <th>No</th>\n",
       "      <td>192</td>\n",
       "      <td>95</td>\n",
       "    </tr>\n",
       "    <tr>\n",
       "      <th>Yes</th>\n",
       "      <td>8</td>\n",
       "      <td>225</td>\n",
       "    </tr>\n",
       "  </tbody>\n",
       "</table>\n",
       "</div>"
      ],
      "text/plain": [
       "            Diabetic  Non-diabetic\n",
       "Polydipsia                        \n",
       "No               192            95\n",
       "Yes                8           225"
      ]
     },
     "metadata": {},
     "output_type": "display_data"
    },
    {
     "name": "stdout",
     "output_type": "stream",
     "text": [
      "Expected frequency:\n"
     ]
    },
    {
     "data": {
      "text/html": [
       "<div>\n",
       "<style scoped>\n",
       "    .dataframe tbody tr th:only-of-type {\n",
       "        vertical-align: middle;\n",
       "    }\n",
       "\n",
       "    .dataframe tbody tr th {\n",
       "        vertical-align: top;\n",
       "    }\n",
       "\n",
       "    .dataframe thead th {\n",
       "        text-align: right;\n",
       "    }\n",
       "</style>\n",
       "<table border=\"1\" class=\"dataframe\">\n",
       "  <thead>\n",
       "    <tr style=\"text-align: right;\">\n",
       "      <th></th>\n",
       "      <th>Diabetic</th>\n",
       "      <th>Non-diabetic</th>\n",
       "    </tr>\n",
       "    <tr>\n",
       "      <th>Polydipsia</th>\n",
       "      <th></th>\n",
       "      <th></th>\n",
       "    </tr>\n",
       "  </thead>\n",
       "  <tbody>\n",
       "    <tr>\n",
       "      <th>No</th>\n",
       "      <td>110.384615</td>\n",
       "      <td>176.615385</td>\n",
       "    </tr>\n",
       "    <tr>\n",
       "      <th>Yes</th>\n",
       "      <td>89.615385</td>\n",
       "      <td>143.384615</td>\n",
       "    </tr>\n",
       "  </tbody>\n",
       "</table>\n",
       "</div>"
      ],
      "text/plain": [
       "              Diabetic  Non-diabetic\n",
       "Polydipsia                          \n",
       "No          110.384615    176.615385\n",
       "Yes          89.615385    143.384615"
      ]
     },
     "metadata": {},
     "output_type": "display_data"
    },
    {
     "name": "stdout",
     "output_type": "stream",
     "text": [
      "Test statistics:  216.1716\n",
      "Test p-value:  0.0\n",
      "Reject null hypothesis. There is a statistically significant association between Polydipsia and the likelihood of diabetes in the analyzed data.\n"
     ]
    }
   ],
   "source": [
    "chi2test('Polydipsia')"
   ]
  },
  {
   "cell_type": "markdown",
   "id": "4656e0c4",
   "metadata": {},
   "source": [
    "#### Question 4 | Is there a statistically significant association between the presence of sudden weight loss and the likelihood of diabetes?"
   ]
  },
  {
   "cell_type": "code",
   "execution_count": 10,
   "id": "1b5cf03d",
   "metadata": {},
   "outputs": [
    {
     "data": {
      "image/png": "[encoded data removed]",
      "text/plain": [
       "<Figure size 864x360 with 1 Axes>"
      ]
     },
     "metadata": {
      "needs_background": "light"
     },
     "output_type": "display_data"
    },
    {
     "name": "stdout",
     "output_type": "stream",
     "text": [
      "Observed value:\n"
     ]
    },
    {
     "data": {
      "text/html": [
       "<div>\n",
       "<style scoped>\n",
       "    .dataframe tbody tr th:only-of-type {\n",
       "        vertical-align: middle;\n",
       "    }\n",
       "\n",
       "    .dataframe tbody tr th {\n",
       "        vertical-align: top;\n",
       "    }\n",
       "\n",
       "    .dataframe thead th {\n",
       "        text-align: right;\n",
       "    }\n",
       "</style>\n",
       "<table border=\"1\" class=\"dataframe\">\n",
       "  <thead>\n",
       "    <tr style=\"text-align: right;\">\n",
       "      <th></th>\n",
       "      <th>Diabetic</th>\n",
       "      <th>Non-diabetic</th>\n",
       "    </tr>\n",
       "    <tr>\n",
       "      <th>sudden weight loss</th>\n",
       "      <th></th>\n",
       "      <th></th>\n",
       "    </tr>\n",
       "  </thead>\n",
       "  <tbody>\n",
       "    <tr>\n",
       "      <th>No</th>\n",
       "      <td>171</td>\n",
       "      <td>132</td>\n",
       "    </tr>\n",
       "    <tr>\n",
       "      <th>Yes</th>\n",
       "      <td>29</td>\n",
       "      <td>188</td>\n",
       "    </tr>\n",
       "  </tbody>\n",
       "</table>\n",
       "</div>"
      ],
      "text/plain": [
       "                    Diabetic  Non-diabetic\n",
       "sudden weight loss                        \n",
       "No                       171           132\n",
       "Yes                       29           188"
      ]
     },
     "metadata": {},
     "output_type": "display_data"
    },
    {
     "name": "stdout",
     "output_type": "stream",
     "text": [
      "Expected frequency:\n"
     ]
    },
    {
     "data": {
      "text/html": [
       "<div>\n",
       "<style scoped>\n",
       "    .dataframe tbody tr th:only-of-type {\n",
       "        vertical-align: middle;\n",
       "    }\n",
       "\n",
       "    .dataframe tbody tr th {\n",
       "        vertical-align: top;\n",
       "    }\n",
       "\n",
       "    .dataframe thead th {\n",
       "        text-align: right;\n",
       "    }\n",
       "</style>\n",
       "<table border=\"1\" class=\"dataframe\">\n",
       "  <thead>\n",
       "    <tr style=\"text-align: right;\">\n",
       "      <th></th>\n",
       "      <th>Diabetic</th>\n",
       "      <th>Non-diabetic</th>\n",
       "    </tr>\n",
       "    <tr>\n",
       "      <th>sudden weight loss</th>\n",
       "      <th></th>\n",
       "      <th></th>\n",
       "    </tr>\n",
       "  </thead>\n",
       "  <tbody>\n",
       "    <tr>\n",
       "      <th>No</th>\n",
       "      <td>116.538462</td>\n",
       "      <td>186.461538</td>\n",
       "    </tr>\n",
       "    <tr>\n",
       "      <th>Yes</th>\n",
       "      <td>83.461538</td>\n",
       "      <td>133.538462</td>\n",
       "    </tr>\n",
       "  </tbody>\n",
       "</table>\n",
       "</div>"
      ],
      "text/plain": [
       "                      Diabetic  Non-diabetic\n",
       "sudden weight loss                          \n",
       "No                  116.538462    186.461538\n",
       "Yes                  83.461538    133.538462"
      ]
     },
     "metadata": {},
     "output_type": "display_data"
    },
    {
     "name": "stdout",
     "output_type": "stream",
     "text": [
      "Test statistics:  97.2963\n",
      "Test p-value:  0.0\n",
      "Reject null hypothesis. There is a statistically significant association between sudden weight loss and the likelihood of diabetes in the analyzed data.\n"
     ]
    }
   ],
   "source": [
    "chi2test('sudden weight loss')"
   ]
  },
  {
   "cell_type": "markdown",
   "id": "874e3412",
   "metadata": {},
   "source": [
    "#### Question 5 | Does the presence of weakness exhibit a statistically significant association with the likelihood of diabetes? "
   ]
  },
  {
   "cell_type": "code",
   "execution_count": 11,
   "id": "f53255d0",
   "metadata": {},
   "outputs": [
    {
     "data": {
      "image/png": "[encoded data removed]",
      "text/plain": [
       "<Figure size 864x360 with 1 Axes>"
      ]
     },
     "metadata": {
      "needs_background": "light"
     },
     "output_type": "display_data"
    },
    {
     "name": "stdout",
     "output_type": "stream",
     "text": [
      "Observed value:\n"
     ]
    },
    {
     "data": {
      "text/html": [
       "<div>\n",
       "<style scoped>\n",
       "    .dataframe tbody tr th:only-of-type {\n",
       "        vertical-align: middle;\n",
       "    }\n",
       "\n",
       "    .dataframe tbody tr th {\n",
       "        vertical-align: top;\n",
       "    }\n",
       "\n",
       "    .dataframe thead th {\n",
       "        text-align: right;\n",
       "    }\n",
       "</style>\n",
       "<table border=\"1\" class=\"dataframe\">\n",
       "  <thead>\n",
       "    <tr style=\"text-align: right;\">\n",
       "      <th></th>\n",
       "      <th>Diabetic</th>\n",
       "      <th>Non-diabetic</th>\n",
       "    </tr>\n",
       "    <tr>\n",
       "      <th>weakness</th>\n",
       "      <th></th>\n",
       "      <th></th>\n",
       "    </tr>\n",
       "  </thead>\n",
       "  <tbody>\n",
       "    <tr>\n",
       "      <th>No</th>\n",
       "      <td>113</td>\n",
       "      <td>102</td>\n",
       "    </tr>\n",
       "    <tr>\n",
       "      <th>Yes</th>\n",
       "      <td>87</td>\n",
       "      <td>218</td>\n",
       "    </tr>\n",
       "  </tbody>\n",
       "</table>\n",
       "</div>"
      ],
      "text/plain": [
       "          Diabetic  Non-diabetic\n",
       "weakness                        \n",
       "No             113           102\n",
       "Yes             87           218"
      ]
     },
     "metadata": {},
     "output_type": "display_data"
    },
    {
     "name": "stdout",
     "output_type": "stream",
     "text": [
      "Expected frequency:\n"
     ]
    },
    {
     "data": {
      "text/html": [
       "<div>\n",
       "<style scoped>\n",
       "    .dataframe tbody tr th:only-of-type {\n",
       "        vertical-align: middle;\n",
       "    }\n",
       "\n",
       "    .dataframe tbody tr th {\n",
       "        vertical-align: top;\n",
       "    }\n",
       "\n",
       "    .dataframe thead th {\n",
       "        text-align: right;\n",
       "    }\n",
       "</style>\n",
       "<table border=\"1\" class=\"dataframe\">\n",
       "  <thead>\n",
       "    <tr style=\"text-align: right;\">\n",
       "      <th></th>\n",
       "      <th>Diabetic</th>\n",
       "      <th>Non-diabetic</th>\n",
       "    </tr>\n",
       "    <tr>\n",
       "      <th>weakness</th>\n",
       "      <th></th>\n",
       "      <th></th>\n",
       "    </tr>\n",
       "  </thead>\n",
       "  <tbody>\n",
       "    <tr>\n",
       "      <th>No</th>\n",
       "      <td>82.692308</td>\n",
       "      <td>132.307692</td>\n",
       "    </tr>\n",
       "    <tr>\n",
       "      <th>Yes</th>\n",
       "      <td>117.307692</td>\n",
       "      <td>187.692308</td>\n",
       "    </tr>\n",
       "  </tbody>\n",
       "</table>\n",
       "</div>"
      ],
      "text/plain": [
       "            Diabetic  Non-diabetic\n",
       "weakness                          \n",
       "No         82.692308    132.307692\n",
       "Yes       117.307692    187.692308"
      ]
     },
     "metadata": {},
     "output_type": "display_data"
    },
    {
     "name": "stdout",
     "output_type": "stream",
     "text": [
      "Test statistics:  29.7679\n",
      "Test p-value:  0.0\n",
      "Reject null hypothesis. There is a statistically significant association between weakness and the likelihood of diabetes in the analyzed data.\n"
     ]
    }
   ],
   "source": [
    "chi2test('weakness')"
   ]
  },
  {
   "cell_type": "markdown",
   "id": "b2c0ff61",
   "metadata": {},
   "source": [
    "#### Question 6 | Is there a statistically significant association between the presence of polyphagia and the likelihood of diabetes?"
   ]
  },
  {
   "cell_type": "code",
   "execution_count": 12,
   "id": "f3c11dab",
   "metadata": {},
   "outputs": [
    {
     "data": {
      "image/png": "[encoded data removed]",
      "text/plain": [
       "<Figure size 864x360 with 1 Axes>"
      ]
     },
     "metadata": {
      "needs_background": "light"
     },
     "output_type": "display_data"
    },
    {
     "name": "stdout",
     "output_type": "stream",
     "text": [
      "Observed value:\n"
     ]
    },
    {
     "data": {
      "text/html": [
       "<div>\n",
       "<style scoped>\n",
       "    .dataframe tbody tr th:only-of-type {\n",
       "        vertical-align: middle;\n",
       "    }\n",
       "\n",
       "    .dataframe tbody tr th {\n",
       "        vertical-align: top;\n",
       "    }\n",
       "\n",
       "    .dataframe thead th {\n",
       "        text-align: right;\n",
       "    }\n",
       "</style>\n",
       "<table border=\"1\" class=\"dataframe\">\n",
       "  <thead>\n",
       "    <tr style=\"text-align: right;\">\n",
       "      <th></th>\n",
       "      <th>Diabetic</th>\n",
       "      <th>Non-diabetic</th>\n",
       "    </tr>\n",
       "    <tr>\n",
       "      <th>Polyphagia</th>\n",
       "      <th></th>\n",
       "      <th></th>\n",
       "    </tr>\n",
       "  </thead>\n",
       "  <tbody>\n",
       "    <tr>\n",
       "      <th>No</th>\n",
       "      <td>152</td>\n",
       "      <td>131</td>\n",
       "    </tr>\n",
       "    <tr>\n",
       "      <th>Yes</th>\n",
       "      <td>48</td>\n",
       "      <td>189</td>\n",
       "    </tr>\n",
       "  </tbody>\n",
       "</table>\n",
       "</div>"
      ],
      "text/plain": [
       "            Diabetic  Non-diabetic\n",
       "Polyphagia                        \n",
       "No               152           131\n",
       "Yes               48           189"
      ]
     },
     "metadata": {},
     "output_type": "display_data"
    },
    {
     "name": "stdout",
     "output_type": "stream",
     "text": [
      "Expected frequency:\n"
     ]
    },
    {
     "data": {
      "text/html": [
       "<div>\n",
       "<style scoped>\n",
       "    .dataframe tbody tr th:only-of-type {\n",
       "        vertical-align: middle;\n",
       "    }\n",
       "\n",
       "    .dataframe tbody tr th {\n",
       "        vertical-align: top;\n",
       "    }\n",
       "\n",
       "    .dataframe thead th {\n",
       "        text-align: right;\n",
       "    }\n",
       "</style>\n",
       "<table border=\"1\" class=\"dataframe\">\n",
       "  <thead>\n",
       "    <tr style=\"text-align: right;\">\n",
       "      <th></th>\n",
       "      <th>Diabetic</th>\n",
       "      <th>Non-diabetic</th>\n",
       "    </tr>\n",
       "    <tr>\n",
       "      <th>Polyphagia</th>\n",
       "      <th></th>\n",
       "      <th></th>\n",
       "    </tr>\n",
       "  </thead>\n",
       "  <tbody>\n",
       "    <tr>\n",
       "      <th>No</th>\n",
       "      <td>108.846154</td>\n",
       "      <td>174.153846</td>\n",
       "    </tr>\n",
       "    <tr>\n",
       "      <th>Yes</th>\n",
       "      <td>91.153846</td>\n",
       "      <td>145.846154</td>\n",
       "    </tr>\n",
       "  </tbody>\n",
       "</table>\n",
       "</div>"
      ],
      "text/plain": [
       "              Diabetic  Non-diabetic\n",
       "Polyphagia                          \n",
       "No          108.846154    174.153846\n",
       "Yes          91.153846    145.846154"
      ]
     },
     "metadata": {},
     "output_type": "display_data"
    },
    {
     "name": "stdout",
     "output_type": "stream",
     "text": [
      "Test statistics:  59.5953\n",
      "Test p-value:  0.0\n",
      "Reject null hypothesis. There is a statistically significant association between Polyphagia and the likelihood of diabetes in the analyzed data.\n"
     ]
    }
   ],
   "source": [
    "chi2test('Polyphagia')"
   ]
  },
  {
   "cell_type": "markdown",
   "id": "33525994",
   "metadata": {},
   "source": [
    "#### Question 7 | Is there a statistically significant association between the presence of genital thrush and the likelihood of diabetes?"
   ]
  },
  {
   "cell_type": "code",
   "execution_count": 13,
   "id": "08351b55",
   "metadata": {},
   "outputs": [
    {
     "data": {
      "image/png": "[encoded data removed]",
      "text/plain": [
       "<Figure size 864x360 with 1 Axes>"
      ]
     },
     "metadata": {
      "needs_background": "light"
     },
     "output_type": "display_data"
    },
    {
     "name": "stdout",
     "output_type": "stream",
     "text": [
      "Observed value:\n"
     ]
    },
    {
     "data": {
      "text/html": [
       "<div>\n",
       "<style scoped>\n",
       "    .dataframe tbody tr th:only-of-type {\n",
       "        vertical-align: middle;\n",
       "    }\n",
       "\n",
       "    .dataframe tbody tr th {\n",
       "        vertical-align: top;\n",
       "    }\n",
       "\n",
       "    .dataframe thead th {\n",
       "        text-align: right;\n",
       "    }\n",
       "</style>\n",
       "<table border=\"1\" class=\"dataframe\">\n",
       "  <thead>\n",
       "    <tr style=\"text-align: right;\">\n",
       "      <th></th>\n",
       "      <th>Diabetic</th>\n",
       "      <th>Non-diabetic</th>\n",
       "    </tr>\n",
       "    <tr>\n",
       "      <th>Genital thrush</th>\n",
       "      <th></th>\n",
       "      <th></th>\n",
       "    </tr>\n",
       "  </thead>\n",
       "  <tbody>\n",
       "    <tr>\n",
       "      <th>No</th>\n",
       "      <td>167</td>\n",
       "      <td>237</td>\n",
       "    </tr>\n",
       "    <tr>\n",
       "      <th>Yes</th>\n",
       "      <td>33</td>\n",
       "      <td>83</td>\n",
       "    </tr>\n",
       "  </tbody>\n",
       "</table>\n",
       "</div>"
      ],
      "text/plain": [
       "                Diabetic  Non-diabetic\n",
       "Genital thrush                        \n",
       "No                   167           237\n",
       "Yes                   33            83"
      ]
     },
     "metadata": {},
     "output_type": "display_data"
    },
    {
     "name": "stdout",
     "output_type": "stream",
     "text": [
      "Expected frequency:\n"
     ]
    },
    {
     "data": {
      "text/html": [
       "<div>\n",
       "<style scoped>\n",
       "    .dataframe tbody tr th:only-of-type {\n",
       "        vertical-align: middle;\n",
       "    }\n",
       "\n",
       "    .dataframe tbody tr th {\n",
       "        vertical-align: top;\n",
       "    }\n",
       "\n",
       "    .dataframe thead th {\n",
       "        text-align: right;\n",
       "    }\n",
       "</style>\n",
       "<table border=\"1\" class=\"dataframe\">\n",
       "  <thead>\n",
       "    <tr style=\"text-align: right;\">\n",
       "      <th></th>\n",
       "      <th>Diabetic</th>\n",
       "      <th>Non-diabetic</th>\n",
       "    </tr>\n",
       "    <tr>\n",
       "      <th>Genital thrush</th>\n",
       "      <th></th>\n",
       "      <th></th>\n",
       "    </tr>\n",
       "  </thead>\n",
       "  <tbody>\n",
       "    <tr>\n",
       "      <th>No</th>\n",
       "      <td>155.384615</td>\n",
       "      <td>248.615385</td>\n",
       "    </tr>\n",
       "    <tr>\n",
       "      <th>Yes</th>\n",
       "      <td>44.615385</td>\n",
       "      <td>71.384615</td>\n",
       "    </tr>\n",
       "  </tbody>\n",
       "</table>\n",
       "</div>"
      ],
      "text/plain": [
       "                  Diabetic  Non-diabetic\n",
       "Genital thrush                          \n",
       "No              155.384615    248.615385\n",
       "Yes              44.615385     71.384615"
      ]
     },
     "metadata": {},
     "output_type": "display_data"
    },
    {
     "name": "stdout",
     "output_type": "stream",
     "text": [
      "Test statistics:  5.7921\n",
      "Test p-value:  0.0161\n",
      "Reject null hypothesis. There is a statistically significant association between Genital thrush and the likelihood of diabetes in the analyzed data.\n"
     ]
    }
   ],
   "source": [
    "chi2test('Genital thrush')"
   ]
  },
  {
   "cell_type": "markdown",
   "id": "b0bc3dd3",
   "metadata": {},
   "source": [
    "#### Question 8 | Is there a statistically significant association between the presence of visual blurring and the likelihood of diabetes?"
   ]
  },
  {
   "cell_type": "code",
   "execution_count": 14,
   "id": "8557102a",
   "metadata": {},
   "outputs": [
    {
     "data": {
      "image/png": "[encoded data removed]",
      "text/plain": [
       "<Figure size 864x360 with 1 Axes>"
      ]
     },
     "metadata": {
      "needs_background": "light"
     },
     "output_type": "display_data"
    },
    {
     "name": "stdout",
     "output_type": "stream",
     "text": [
      "Observed value:\n"
     ]
    },
    {
     "data": {
      "text/html": [
       "<div>\n",
       "<style scoped>\n",
       "    .dataframe tbody tr th:only-of-type {\n",
       "        vertical-align: middle;\n",
       "    }\n",
       "\n",
       "    .dataframe tbody tr th {\n",
       "        vertical-align: top;\n",
       "    }\n",
       "\n",
       "    .dataframe thead th {\n",
       "        text-align: right;\n",
       "    }\n",
       "</style>\n",
       "<table border=\"1\" class=\"dataframe\">\n",
       "  <thead>\n",
       "    <tr style=\"text-align: right;\">\n",
       "      <th></th>\n",
       "      <th>Diabetic</th>\n",
       "      <th>Non-diabetic</th>\n",
       "    </tr>\n",
       "    <tr>\n",
       "      <th>visual blurring</th>\n",
       "      <th></th>\n",
       "      <th></th>\n",
       "    </tr>\n",
       "  </thead>\n",
       "  <tbody>\n",
       "    <tr>\n",
       "      <th>No</th>\n",
       "      <td>142</td>\n",
       "      <td>145</td>\n",
       "    </tr>\n",
       "    <tr>\n",
       "      <th>Yes</th>\n",
       "      <td>58</td>\n",
       "      <td>175</td>\n",
       "    </tr>\n",
       "  </tbody>\n",
       "</table>\n",
       "</div>"
      ],
      "text/plain": [
       "                 Diabetic  Non-diabetic\n",
       "visual blurring                        \n",
       "No                    142           145\n",
       "Yes                    58           175"
      ]
     },
     "metadata": {},
     "output_type": "display_data"
    },
    {
     "name": "stdout",
     "output_type": "stream",
     "text": [
      "Expected frequency:\n"
     ]
    },
    {
     "data": {
      "text/html": [
       "<div>\n",
       "<style scoped>\n",
       "    .dataframe tbody tr th:only-of-type {\n",
       "        vertical-align: middle;\n",
       "    }\n",
       "\n",
       "    .dataframe tbody tr th {\n",
       "        vertical-align: top;\n",
       "    }\n",
       "\n",
       "    .dataframe thead th {\n",
       "        text-align: right;\n",
       "    }\n",
       "</style>\n",
       "<table border=\"1\" class=\"dataframe\">\n",
       "  <thead>\n",
       "    <tr style=\"text-align: right;\">\n",
       "      <th></th>\n",
       "      <th>Diabetic</th>\n",
       "      <th>Non-diabetic</th>\n",
       "    </tr>\n",
       "    <tr>\n",
       "      <th>visual blurring</th>\n",
       "      <th></th>\n",
       "      <th></th>\n",
       "    </tr>\n",
       "  </thead>\n",
       "  <tbody>\n",
       "    <tr>\n",
       "      <th>No</th>\n",
       "      <td>110.384615</td>\n",
       "      <td>176.615385</td>\n",
       "    </tr>\n",
       "    <tr>\n",
       "      <th>Yes</th>\n",
       "      <td>89.615385</td>\n",
       "      <td>143.384615</td>\n",
       "    </tr>\n",
       "  </tbody>\n",
       "</table>\n",
       "</div>"
      ],
      "text/plain": [
       "                   Diabetic  Non-diabetic\n",
       "visual blurring                          \n",
       "No               110.384615    176.615385\n",
       "Yes               89.615385    143.384615"
      ]
     },
     "metadata": {},
     "output_type": "display_data"
    },
    {
     "name": "stdout",
     "output_type": "stream",
     "text": [
      "Test statistics:  31.8085\n",
      "Test p-value:  0.0\n",
      "Reject null hypothesis. There is a statistically significant association between visual blurring and the likelihood of diabetes in the analyzed data.\n"
     ]
    }
   ],
   "source": [
    "chi2test('visual blurring')"
   ]
  },
  {
   "cell_type": "markdown",
   "id": "381d7c76",
   "metadata": {},
   "source": [
    "#### Question 9 | Is there a statistically significant association between the presence of itching and the likelihood of diabetes?"
   ]
  },
  {
   "cell_type": "code",
   "execution_count": 15,
   "id": "c686eb62",
   "metadata": {},
   "outputs": [
    {
     "data": {
      "image/png": "[encoded data removed]",
      "text/plain": [
       "<Figure size 864x360 with 1 Axes>"
      ]
     },
     "metadata": {
      "needs_background": "light"
     },
     "output_type": "display_data"
    },
    {
     "name": "stdout",
     "output_type": "stream",
     "text": [
      "Observed value:\n"
     ]
    },
    {
     "data": {
      "text/html": [
       "<div>\n",
       "<style scoped>\n",
       "    .dataframe tbody tr th:only-of-type {\n",
       "        vertical-align: middle;\n",
       "    }\n",
       "\n",
       "    .dataframe tbody tr th {\n",
       "        vertical-align: top;\n",
       "    }\n",
       "\n",
       "    .dataframe thead th {\n",
       "        text-align: right;\n",
       "    }\n",
       "</style>\n",
       "<table border=\"1\" class=\"dataframe\">\n",
       "  <thead>\n",
       "    <tr style=\"text-align: right;\">\n",
       "      <th></th>\n",
       "      <th>Diabetic</th>\n",
       "      <th>Non-diabetic</th>\n",
       "    </tr>\n",
       "    <tr>\n",
       "      <th>Itching</th>\n",
       "      <th></th>\n",
       "      <th></th>\n",
       "    </tr>\n",
       "  </thead>\n",
       "  <tbody>\n",
       "    <tr>\n",
       "      <th>No</th>\n",
       "      <td>101</td>\n",
       "      <td>166</td>\n",
       "    </tr>\n",
       "    <tr>\n",
       "      <th>Yes</th>\n",
       "      <td>99</td>\n",
       "      <td>154</td>\n",
       "    </tr>\n",
       "  </tbody>\n",
       "</table>\n",
       "</div>"
      ],
      "text/plain": [
       "         Diabetic  Non-diabetic\n",
       "Itching                        \n",
       "No            101           166\n",
       "Yes            99           154"
      ]
     },
     "metadata": {},
     "output_type": "display_data"
    },
    {
     "name": "stdout",
     "output_type": "stream",
     "text": [
      "Expected frequency:\n"
     ]
    },
    {
     "data": {
      "text/html": [
       "<div>\n",
       "<style scoped>\n",
       "    .dataframe tbody tr th:only-of-type {\n",
       "        vertical-align: middle;\n",
       "    }\n",
       "\n",
       "    .dataframe tbody tr th {\n",
       "        vertical-align: top;\n",
       "    }\n",
       "\n",
       "    .dataframe thead th {\n",
       "        text-align: right;\n",
       "    }\n",
       "</style>\n",
       "<table border=\"1\" class=\"dataframe\">\n",
       "  <thead>\n",
       "    <tr style=\"text-align: right;\">\n",
       "      <th></th>\n",
       "      <th>Diabetic</th>\n",
       "      <th>Non-diabetic</th>\n",
       "    </tr>\n",
       "    <tr>\n",
       "      <th>Itching</th>\n",
       "      <th></th>\n",
       "      <th></th>\n",
       "    </tr>\n",
       "  </thead>\n",
       "  <tbody>\n",
       "    <tr>\n",
       "      <th>No</th>\n",
       "      <td>102.692308</td>\n",
       "      <td>164.307692</td>\n",
       "    </tr>\n",
       "    <tr>\n",
       "      <th>Yes</th>\n",
       "      <td>97.307692</td>\n",
       "      <td>155.692308</td>\n",
       "    </tr>\n",
       "  </tbody>\n",
       "</table>\n",
       "</div>"
      ],
      "text/plain": [
       "           Diabetic  Non-diabetic\n",
       "Itching                          \n",
       "No       102.692308    164.307692\n",
       "Yes       97.307692    155.692308"
      ]
     },
     "metadata": {},
     "output_type": "display_data"
    },
    {
     "name": "stdout",
     "output_type": "stream",
     "text": [
      "Test statistics:  0.0462\n",
      "Test p-value:  0.8297\n",
      "Failed to reject null hypothesis. Lack of evidence to conclude a statistically significant association between Itching and the likelihood of diabetes in the analyzed data.\n"
     ]
    }
   ],
   "source": [
    "chi2test('Itching')"
   ]
  },
  {
   "cell_type": "markdown",
   "id": "a5bcc93b",
   "metadata": {},
   "source": [
    "#### Question 10 | Is there a statistically significant association between the presence of irritability and the likelihood of diabetes?"
   ]
  },
  {
   "cell_type": "code",
   "execution_count": 16,
   "id": "14a6fcf8",
   "metadata": {},
   "outputs": [
    {
     "data": {
      "image/png": "[encoded data removed]",
      "text/plain": [
       "<Figure size 864x360 with 1 Axes>"
      ]
     },
     "metadata": {
      "needs_background": "light"
     },
     "output_type": "display_data"
    },
    {
     "name": "stdout",
     "output_type": "stream",
     "text": [
      "Observed value:\n"
     ]
    },
    {
     "data": {
      "text/html": [
       "<div>\n",
       "<style scoped>\n",
       "    .dataframe tbody tr th:only-of-type {\n",
       "        vertical-align: middle;\n",
       "    }\n",
       "\n",
       "    .dataframe tbody tr th {\n",
       "        vertical-align: top;\n",
       "    }\n",
       "\n",
       "    .dataframe thead th {\n",
       "        text-align: right;\n",
       "    }\n",
       "</style>\n",
       "<table border=\"1\" class=\"dataframe\">\n",
       "  <thead>\n",
       "    <tr style=\"text-align: right;\">\n",
       "      <th></th>\n",
       "      <th>Diabetic</th>\n",
       "      <th>Non-diabetic</th>\n",
       "    </tr>\n",
       "    <tr>\n",
       "      <th>Irritability</th>\n",
       "      <th></th>\n",
       "      <th></th>\n",
       "    </tr>\n",
       "  </thead>\n",
       "  <tbody>\n",
       "    <tr>\n",
       "      <th>No</th>\n",
       "      <td>184</td>\n",
       "      <td>210</td>\n",
       "    </tr>\n",
       "    <tr>\n",
       "      <th>Yes</th>\n",
       "      <td>16</td>\n",
       "      <td>110</td>\n",
       "    </tr>\n",
       "  </tbody>\n",
       "</table>\n",
       "</div>"
      ],
      "text/plain": [
       "              Diabetic  Non-diabetic\n",
       "Irritability                        \n",
       "No                 184           210\n",
       "Yes                 16           110"
      ]
     },
     "metadata": {},
     "output_type": "display_data"
    },
    {
     "name": "stdout",
     "output_type": "stream",
     "text": [
      "Expected frequency:\n"
     ]
    },
    {
     "data": {
      "text/html": [
       "<div>\n",
       "<style scoped>\n",
       "    .dataframe tbody tr th:only-of-type {\n",
       "        vertical-align: middle;\n",
       "    }\n",
       "\n",
       "    .dataframe tbody tr th {\n",
       "        vertical-align: top;\n",
       "    }\n",
       "\n",
       "    .dataframe thead th {\n",
       "        text-align: right;\n",
       "    }\n",
       "</style>\n",
       "<table border=\"1\" class=\"dataframe\">\n",
       "  <thead>\n",
       "    <tr style=\"text-align: right;\">\n",
       "      <th></th>\n",
       "      <th>Diabetic</th>\n",
       "      <th>Non-diabetic</th>\n",
       "    </tr>\n",
       "    <tr>\n",
       "      <th>Irritability</th>\n",
       "      <th></th>\n",
       "      <th></th>\n",
       "    </tr>\n",
       "  </thead>\n",
       "  <tbody>\n",
       "    <tr>\n",
       "      <th>No</th>\n",
       "      <td>151.538462</td>\n",
       "      <td>242.461538</td>\n",
       "    </tr>\n",
       "    <tr>\n",
       "      <th>Yes</th>\n",
       "      <td>48.461538</td>\n",
       "      <td>77.538462</td>\n",
       "    </tr>\n",
       "  </tbody>\n",
       "</table>\n",
       "</div>"
      ],
      "text/plain": [
       "                Diabetic  Non-diabetic\n",
       "Irritability                          \n",
       "No            151.538462    242.461538\n",
       "Yes            48.461538     77.538462"
      ]
     },
     "metadata": {},
     "output_type": "display_data"
    },
    {
     "name": "stdout",
     "output_type": "stream",
     "text": [
      "Test statistics:  45.2083\n",
      "Test p-value:  0.0\n",
      "Reject null hypothesis. There is a statistically significant association between Irritability and the likelihood of diabetes in the analyzed data.\n"
     ]
    }
   ],
   "source": [
    "chi2test('Irritability')"
   ]
  },
  {
   "cell_type": "markdown",
   "id": "f4758a6c",
   "metadata": {},
   "source": [
    "#### Question 11 | Does the presence of delayed healing exhibit a statistically significant association with the likelihood of diabetes?"
   ]
  },
  {
   "cell_type": "code",
   "execution_count": 17,
   "id": "2521a19a",
   "metadata": {},
   "outputs": [
    {
     "data": {
      "image/png": "[encoded data removed]",
      "text/plain": [
       "<Figure size 864x360 with 1 Axes>"
      ]
     },
     "metadata": {
      "needs_background": "light"
     },
     "output_type": "display_data"
    },
    {
     "name": "stdout",
     "output_type": "stream",
     "text": [
      "Observed value:\n"
     ]
    },
    {
     "data": {
      "text/html": [
       "<div>\n",
       "<style scoped>\n",
       "    .dataframe tbody tr th:only-of-type {\n",
       "        vertical-align: middle;\n",
       "    }\n",
       "\n",
       "    .dataframe tbody tr th {\n",
       "        vertical-align: top;\n",
       "    }\n",
       "\n",
       "    .dataframe thead th {\n",
       "        text-align: right;\n",
       "    }\n",
       "</style>\n",
       "<table border=\"1\" class=\"dataframe\">\n",
       "  <thead>\n",
       "    <tr style=\"text-align: right;\">\n",
       "      <th></th>\n",
       "      <th>Diabetic</th>\n",
       "      <th>Non-diabetic</th>\n",
       "    </tr>\n",
       "    <tr>\n",
       "      <th>delayed healing</th>\n",
       "      <th></th>\n",
       "      <th></th>\n",
       "    </tr>\n",
       "  </thead>\n",
       "  <tbody>\n",
       "    <tr>\n",
       "      <th>No</th>\n",
       "      <td>114</td>\n",
       "      <td>167</td>\n",
       "    </tr>\n",
       "    <tr>\n",
       "      <th>Yes</th>\n",
       "      <td>86</td>\n",
       "      <td>153</td>\n",
       "    </tr>\n",
       "  </tbody>\n",
       "</table>\n",
       "</div>"
      ],
      "text/plain": [
       "                 Diabetic  Non-diabetic\n",
       "delayed healing                        \n",
       "No                    114           167\n",
       "Yes                    86           153"
      ]
     },
     "metadata": {},
     "output_type": "display_data"
    },
    {
     "name": "stdout",
     "output_type": "stream",
     "text": [
      "Expected frequency:\n"
     ]
    },
    {
     "data": {
      "text/html": [
       "<div>\n",
       "<style scoped>\n",
       "    .dataframe tbody tr th:only-of-type {\n",
       "        vertical-align: middle;\n",
       "    }\n",
       "\n",
       "    .dataframe tbody tr th {\n",
       "        vertical-align: top;\n",
       "    }\n",
       "\n",
       "    .dataframe thead th {\n",
       "        text-align: right;\n",
       "    }\n",
       "</style>\n",
       "<table border=\"1\" class=\"dataframe\">\n",
       "  <thead>\n",
       "    <tr style=\"text-align: right;\">\n",
       "      <th></th>\n",
       "      <th>Diabetic</th>\n",
       "      <th>Non-diabetic</th>\n",
       "    </tr>\n",
       "    <tr>\n",
       "      <th>delayed healing</th>\n",
       "      <th></th>\n",
       "      <th></th>\n",
       "    </tr>\n",
       "  </thead>\n",
       "  <tbody>\n",
       "    <tr>\n",
       "      <th>No</th>\n",
       "      <td>108.076923</td>\n",
       "      <td>172.923077</td>\n",
       "    </tr>\n",
       "    <tr>\n",
       "      <th>Yes</th>\n",
       "      <td>91.923077</td>\n",
       "      <td>147.076923</td>\n",
       "    </tr>\n",
       "  </tbody>\n",
       "</table>\n",
       "</div>"
      ],
      "text/plain": [
       "                   Diabetic  Non-diabetic\n",
       "delayed healing                          \n",
       "No               108.076923    172.923077\n",
       "Yes               91.923077    147.076923"
      ]
     },
     "metadata": {},
     "output_type": "display_data"
    },
    {
     "name": "stdout",
     "output_type": "stream",
     "text": [
      "Test statistics:  0.9621\n",
      "Test p-value:  0.3267\n",
      "Failed to reject null hypothesis. Lack of evidence to conclude a statistically significant association between delayed healing and the likelihood of diabetes in the analyzed data.\n"
     ]
    }
   ],
   "source": [
    "chi2test('delayed healing')"
   ]
  },
  {
   "cell_type": "markdown",
   "id": "ac652773",
   "metadata": {},
   "source": [
    "#### Question 12 | Does the presence of partial paresis exhibit a statistically significant association with the likelihood of diabetes?"
   ]
  },
  {
   "cell_type": "code",
   "execution_count": 18,
   "id": "cb59b0bc",
   "metadata": {},
   "outputs": [
    {
     "data": {
      "image/png": "[encoded data removed]",
      "text/plain": [
       "<Figure size 864x360 with 1 Axes>"
      ]
     },
     "metadata": {
      "needs_background": "light"
     },
     "output_type": "display_data"
    },
    {
     "name": "stdout",
     "output_type": "stream",
     "text": [
      "Observed value:\n"
     ]
    },
    {
     "data": {
      "text/html": [
       "<div>\n",
       "<style scoped>\n",
       "    .dataframe tbody tr th:only-of-type {\n",
       "        vertical-align: middle;\n",
       "    }\n",
       "\n",
       "    .dataframe tbody tr th {\n",
       "        vertical-align: top;\n",
       "    }\n",
       "\n",
       "    .dataframe thead th {\n",
       "        text-align: right;\n",
       "    }\n",
       "</style>\n",
       "<table border=\"1\" class=\"dataframe\">\n",
       "  <thead>\n",
       "    <tr style=\"text-align: right;\">\n",
       "      <th></th>\n",
       "      <th>Diabetic</th>\n",
       "      <th>Non-diabetic</th>\n",
       "    </tr>\n",
       "    <tr>\n",
       "      <th>partial paresis</th>\n",
       "      <th></th>\n",
       "      <th></th>\n",
       "    </tr>\n",
       "  </thead>\n",
       "  <tbody>\n",
       "    <tr>\n",
       "      <th>No</th>\n",
       "      <td>168</td>\n",
       "      <td>128</td>\n",
       "    </tr>\n",
       "    <tr>\n",
       "      <th>Yes</th>\n",
       "      <td>32</td>\n",
       "      <td>192</td>\n",
       "    </tr>\n",
       "  </tbody>\n",
       "</table>\n",
       "</div>"
      ],
      "text/plain": [
       "                 Diabetic  Non-diabetic\n",
       "partial paresis                        \n",
       "No                    168           128\n",
       "Yes                    32           192"
      ]
     },
     "metadata": {},
     "output_type": "display_data"
    },
    {
     "name": "stdout",
     "output_type": "stream",
     "text": [
      "Expected frequency:\n"
     ]
    },
    {
     "data": {
      "text/html": [
       "<div>\n",
       "<style scoped>\n",
       "    .dataframe tbody tr th:only-of-type {\n",
       "        vertical-align: middle;\n",
       "    }\n",
       "\n",
       "    .dataframe tbody tr th {\n",
       "        vertical-align: top;\n",
       "    }\n",
       "\n",
       "    .dataframe thead th {\n",
       "        text-align: right;\n",
       "    }\n",
       "</style>\n",
       "<table border=\"1\" class=\"dataframe\">\n",
       "  <thead>\n",
       "    <tr style=\"text-align: right;\">\n",
       "      <th></th>\n",
       "      <th>Diabetic</th>\n",
       "      <th>Non-diabetic</th>\n",
       "    </tr>\n",
       "    <tr>\n",
       "      <th>partial paresis</th>\n",
       "      <th></th>\n",
       "      <th></th>\n",
       "    </tr>\n",
       "  </thead>\n",
       "  <tbody>\n",
       "    <tr>\n",
       "      <th>No</th>\n",
       "      <td>113.846154</td>\n",
       "      <td>182.153846</td>\n",
       "    </tr>\n",
       "    <tr>\n",
       "      <th>Yes</th>\n",
       "      <td>86.153846</td>\n",
       "      <td>137.846154</td>\n",
       "    </tr>\n",
       "  </tbody>\n",
       "</table>\n",
       "</div>"
      ],
      "text/plain": [
       "                   Diabetic  Non-diabetic\n",
       "partial paresis                          \n",
       "No               113.846154    182.153846\n",
       "Yes               86.153846    137.846154"
      ]
     },
     "metadata": {},
     "output_type": "display_data"
    },
    {
     "name": "stdout",
     "output_type": "stream",
     "text": [
      "Test statistics:  95.3876\n",
      "Test p-value:  0.0\n",
      "Reject null hypothesis. There is a statistically significant association between partial paresis and the likelihood of diabetes in the analyzed data.\n"
     ]
    }
   ],
   "source": [
    "chi2test('partial paresis')"
   ]
  },
  {
   "cell_type": "markdown",
   "id": "0ff22e06",
   "metadata": {},
   "source": [
    "#### Question 13 | Does the presence of muscle stiffness exhibit a statistically significant association with the likelihood of diabetes?"
   ]
  },
  {
   "cell_type": "code",
   "execution_count": 19,
   "id": "017864ca",
   "metadata": {},
   "outputs": [
    {
     "data": {
      "image/png": "[encoded data removed]",
      "text/plain": [
       "<Figure size 864x360 with 1 Axes>"
      ]
     },
     "metadata": {
      "needs_background": "light"
     },
     "output_type": "display_data"
    },
    {
     "name": "stdout",
     "output_type": "stream",
     "text": [
      "Observed value:\n"
     ]
    },
    {
     "data": {
      "text/html": [
       "<div>\n",
       "<style scoped>\n",
       "    .dataframe tbody tr th:only-of-type {\n",
       "        vertical-align: middle;\n",
       "    }\n",
       "\n",
       "    .dataframe tbody tr th {\n",
       "        vertical-align: top;\n",
       "    }\n",
       "\n",
       "    .dataframe thead th {\n",
       "        text-align: right;\n",
       "    }\n",
       "</style>\n",
       "<table border=\"1\" class=\"dataframe\">\n",
       "  <thead>\n",
       "    <tr style=\"text-align: right;\">\n",
       "      <th></th>\n",
       "      <th>Diabetic</th>\n",
       "      <th>Non-diabetic</th>\n",
       "    </tr>\n",
       "    <tr>\n",
       "      <th>muscle stiffness</th>\n",
       "      <th></th>\n",
       "      <th></th>\n",
       "    </tr>\n",
       "  </thead>\n",
       "  <tbody>\n",
       "    <tr>\n",
       "      <th>No</th>\n",
       "      <td>140</td>\n",
       "      <td>185</td>\n",
       "    </tr>\n",
       "    <tr>\n",
       "      <th>Yes</th>\n",
       "      <td>60</td>\n",
       "      <td>135</td>\n",
       "    </tr>\n",
       "  </tbody>\n",
       "</table>\n",
       "</div>"
      ],
      "text/plain": [
       "                  Diabetic  Non-diabetic\n",
       "muscle stiffness                        \n",
       "No                     140           185\n",
       "Yes                     60           135"
      ]
     },
     "metadata": {},
     "output_type": "display_data"
    },
    {
     "name": "stdout",
     "output_type": "stream",
     "text": [
      "Expected frequency:\n"
     ]
    },
    {
     "data": {
      "text/html": [
       "<div>\n",
       "<style scoped>\n",
       "    .dataframe tbody tr th:only-of-type {\n",
       "        vertical-align: middle;\n",
       "    }\n",
       "\n",
       "    .dataframe tbody tr th {\n",
       "        vertical-align: top;\n",
       "    }\n",
       "\n",
       "    .dataframe thead th {\n",
       "        text-align: right;\n",
       "    }\n",
       "</style>\n",
       "<table border=\"1\" class=\"dataframe\">\n",
       "  <thead>\n",
       "    <tr style=\"text-align: right;\">\n",
       "      <th></th>\n",
       "      <th>Diabetic</th>\n",
       "      <th>Non-diabetic</th>\n",
       "    </tr>\n",
       "    <tr>\n",
       "      <th>muscle stiffness</th>\n",
       "      <th></th>\n",
       "      <th></th>\n",
       "    </tr>\n",
       "  </thead>\n",
       "  <tbody>\n",
       "    <tr>\n",
       "      <th>No</th>\n",
       "      <td>125.0</td>\n",
       "      <td>200.0</td>\n",
       "    </tr>\n",
       "    <tr>\n",
       "      <th>Yes</th>\n",
       "      <td>75.0</td>\n",
       "      <td>120.0</td>\n",
       "    </tr>\n",
       "  </tbody>\n",
       "</table>\n",
       "</div>"
      ],
      "text/plain": [
       "                  Diabetic  Non-diabetic\n",
       "muscle stiffness                        \n",
       "No                   125.0         200.0\n",
       "Yes                   75.0         120.0"
      ]
     },
     "metadata": {},
     "output_type": "display_data"
    },
    {
     "name": "stdout",
     "output_type": "stream",
     "text": [
      "Test statistics:  7.2887\n",
      "Test p-value:  0.0069\n",
      "Reject null hypothesis. There is a statistically significant association between muscle stiffness and the likelihood of diabetes in the analyzed data.\n"
     ]
    }
   ],
   "source": [
    "chi2test('muscle stiffness')"
   ]
  },
  {
   "cell_type": "markdown",
   "id": "78a57fc4",
   "metadata": {},
   "source": [
    "#### Question 14 | Does the presence of alopecia exhibit a statistically significant association with the likelihood of diabetes?"
   ]
  },
  {
   "cell_type": "code",
   "execution_count": 20,
   "id": "2deb72c5",
   "metadata": {},
   "outputs": [
    {
     "data": {
      "image/png": "[encoded data removed]",
      "text/plain": [
       "<Figure size 864x360 with 1 Axes>"
      ]
     },
     "metadata": {
      "needs_background": "light"
     },
     "output_type": "display_data"
    },
    {
     "name": "stdout",
     "output_type": "stream",
     "text": [
      "Observed value:\n"
     ]
    },
    {
     "data": {
      "text/html": [
       "<div>\n",
       "<style scoped>\n",
       "    .dataframe tbody tr th:only-of-type {\n",
       "        vertical-align: middle;\n",
       "    }\n",
       "\n",
       "    .dataframe tbody tr th {\n",
       "        vertical-align: top;\n",
       "    }\n",
       "\n",
       "    .dataframe thead th {\n",
       "        text-align: right;\n",
       "    }\n",
       "</style>\n",
       "<table border=\"1\" class=\"dataframe\">\n",
       "  <thead>\n",
       "    <tr style=\"text-align: right;\">\n",
       "      <th></th>\n",
       "      <th>Diabetic</th>\n",
       "      <th>Non-diabetic</th>\n",
       "    </tr>\n",
       "    <tr>\n",
       "      <th>Alopecia</th>\n",
       "      <th></th>\n",
       "      <th></th>\n",
       "    </tr>\n",
       "  </thead>\n",
       "  <tbody>\n",
       "    <tr>\n",
       "      <th>No</th>\n",
       "      <td>99</td>\n",
       "      <td>242</td>\n",
       "    </tr>\n",
       "    <tr>\n",
       "      <th>Yes</th>\n",
       "      <td>101</td>\n",
       "      <td>78</td>\n",
       "    </tr>\n",
       "  </tbody>\n",
       "</table>\n",
       "</div>"
      ],
      "text/plain": [
       "          Diabetic  Non-diabetic\n",
       "Alopecia                        \n",
       "No              99           242\n",
       "Yes            101            78"
      ]
     },
     "metadata": {},
     "output_type": "display_data"
    },
    {
     "name": "stdout",
     "output_type": "stream",
     "text": [
      "Expected frequency:\n"
     ]
    },
    {
     "data": {
      "text/html": [
       "<div>\n",
       "<style scoped>\n",
       "    .dataframe tbody tr th:only-of-type {\n",
       "        vertical-align: middle;\n",
       "    }\n",
       "\n",
       "    .dataframe tbody tr th {\n",
       "        vertical-align: top;\n",
       "    }\n",
       "\n",
       "    .dataframe thead th {\n",
       "        text-align: right;\n",
       "    }\n",
       "</style>\n",
       "<table border=\"1\" class=\"dataframe\">\n",
       "  <thead>\n",
       "    <tr style=\"text-align: right;\">\n",
       "      <th></th>\n",
       "      <th>Diabetic</th>\n",
       "      <th>Non-diabetic</th>\n",
       "    </tr>\n",
       "    <tr>\n",
       "      <th>Alopecia</th>\n",
       "      <th></th>\n",
       "      <th></th>\n",
       "    </tr>\n",
       "  </thead>\n",
       "  <tbody>\n",
       "    <tr>\n",
       "      <th>No</th>\n",
       "      <td>131.153846</td>\n",
       "      <td>209.846154</td>\n",
       "    </tr>\n",
       "    <tr>\n",
       "      <th>Yes</th>\n",
       "      <td>68.846154</td>\n",
       "      <td>110.153846</td>\n",
       "    </tr>\n",
       "  </tbody>\n",
       "</table>\n",
       "</div>"
      ],
      "text/plain": [
       "            Diabetic  Non-diabetic\n",
       "Alopecia                          \n",
       "No        131.153846    209.846154\n",
       "Yes        68.846154    110.153846"
      ]
     },
     "metadata": {},
     "output_type": "display_data"
    },
    {
     "name": "stdout",
     "output_type": "stream",
     "text": [
      "Test statistics:  36.0641\n",
      "Test p-value:  0.0\n",
      "Reject null hypothesis. There is a statistically significant association between Alopecia and the likelihood of diabetes in the analyzed data.\n"
     ]
    }
   ],
   "source": [
    "chi2test('Alopecia')"
   ]
  },
  {
   "cell_type": "markdown",
   "id": "5d13a924",
   "metadata": {},
   "source": [
    "#### Question 15 | Does obesity exhibit a statistically significant association with the likelihood of diabetes?"
   ]
  },
  {
   "cell_type": "code",
   "execution_count": 21,
   "id": "f365d2f1",
   "metadata": {},
   "outputs": [
    {
     "data": {
      "image/png": "[encoded data removed]",
      "text/plain": [
       "<Figure size 864x360 with 1 Axes>"
      ]
     },
     "metadata": {
      "needs_background": "light"
     },
     "output_type": "display_data"
    },
    {
     "name": "stdout",
     "output_type": "stream",
     "text": [
      "Observed value:\n"
     ]
    },
    {
     "data": {
      "text/html": [
       "<div>\n",
       "<style scoped>\n",
       "    .dataframe tbody tr th:only-of-type {\n",
       "        vertical-align: middle;\n",
       "    }\n",
       "\n",
       "    .dataframe tbody tr th {\n",
       "        vertical-align: top;\n",
       "    }\n",
       "\n",
       "    .dataframe thead th {\n",
       "        text-align: right;\n",
       "    }\n",
       "</style>\n",
       "<table border=\"1\" class=\"dataframe\">\n",
       "  <thead>\n",
       "    <tr style=\"text-align: right;\">\n",
       "      <th></th>\n",
       "      <th>Diabetic</th>\n",
       "      <th>Non-diabetic</th>\n",
       "    </tr>\n",
       "    <tr>\n",
       "      <th>Obesity</th>\n",
       "      <th></th>\n",
       "      <th></th>\n",
       "    </tr>\n",
       "  </thead>\n",
       "  <tbody>\n",
       "    <tr>\n",
       "      <th>No</th>\n",
       "      <td>173</td>\n",
       "      <td>259</td>\n",
       "    </tr>\n",
       "    <tr>\n",
       "      <th>Yes</th>\n",
       "      <td>27</td>\n",
       "      <td>61</td>\n",
       "    </tr>\n",
       "  </tbody>\n",
       "</table>\n",
       "</div>"
      ],
      "text/plain": [
       "         Diabetic  Non-diabetic\n",
       "Obesity                        \n",
       "No            173           259\n",
       "Yes            27            61"
      ]
     },
     "metadata": {},
     "output_type": "display_data"
    },
    {
     "name": "stdout",
     "output_type": "stream",
     "text": [
      "Expected frequency:\n"
     ]
    },
    {
     "data": {
      "text/html": [
       "<div>\n",
       "<style scoped>\n",
       "    .dataframe tbody tr th:only-of-type {\n",
       "        vertical-align: middle;\n",
       "    }\n",
       "\n",
       "    .dataframe tbody tr th {\n",
       "        vertical-align: top;\n",
       "    }\n",
       "\n",
       "    .dataframe thead th {\n",
       "        text-align: right;\n",
       "    }\n",
       "</style>\n",
       "<table border=\"1\" class=\"dataframe\">\n",
       "  <thead>\n",
       "    <tr style=\"text-align: right;\">\n",
       "      <th></th>\n",
       "      <th>Diabetic</th>\n",
       "      <th>Non-diabetic</th>\n",
       "    </tr>\n",
       "    <tr>\n",
       "      <th>Obesity</th>\n",
       "      <th></th>\n",
       "      <th></th>\n",
       "    </tr>\n",
       "  </thead>\n",
       "  <tbody>\n",
       "    <tr>\n",
       "      <th>No</th>\n",
       "      <td>166.153846</td>\n",
       "      <td>265.846154</td>\n",
       "    </tr>\n",
       "    <tr>\n",
       "      <th>Yes</th>\n",
       "      <td>33.846154</td>\n",
       "      <td>54.153846</td>\n",
       "    </tr>\n",
       "  </tbody>\n",
       "</table>\n",
       "</div>"
      ],
      "text/plain": [
       "           Diabetic  Non-diabetic\n",
       "Obesity                          \n",
       "No       166.153846    265.846154\n",
       "Yes       33.846154     54.153846"
      ]
     },
     "metadata": {},
     "output_type": "display_data"
    },
    {
     "name": "stdout",
     "output_type": "stream",
     "text": [
      "Test statistics:  2.3275\n",
      "Test p-value:  0.1271\n",
      "Failed to reject null hypothesis. Lack of evidence to conclude a statistically significant association between Obesity and the likelihood of diabetes in the analyzed data.\n"
     ]
    }
   ],
   "source": [
    "chi2test('Obesity')"
   ]
  },
  {
   "cell_type": "markdown",
   "id": "c3936a75",
   "metadata": {},
   "source": [
    "#### Question 16 | Is there a statistically significant association between age and the likelihood of diabetes?"
   ]
  },
  {
   "cell_type": "code",
   "execution_count": 23,
   "id": "68aa1242",
   "metadata": {},
   "outputs": [
    {
     "data": {
      "image/png": "[encoded data removed]",
      "text/plain": [
       "<Figure size 648x360 with 1 Axes>"
      ]
     },
     "metadata": {
      "needs_background": "light"
     },
     "output_type": "display_data"
    },
    {
     "data": {
      "text/html": [
       "<div>\n",
       "<style scoped>\n",
       "    .dataframe tbody tr th:only-of-type {\n",
       "        vertical-align: middle;\n",
       "    }\n",
       "\n",
       "    .dataframe tbody tr th {\n",
       "        vertical-align: top;\n",
       "    }\n",
       "\n",
       "    .dataframe thead th {\n",
       "        text-align: right;\n",
       "    }\n",
       "</style>\n",
       "<table border=\"1\" class=\"dataframe\">\n",
       "  <thead>\n",
       "    <tr style=\"text-align: right;\">\n",
       "      <th></th>\n",
       "      <th>count</th>\n",
       "      <th>mean</th>\n",
       "      <th>std</th>\n",
       "      <th>min</th>\n",
       "      <th>25%</th>\n",
       "      <th>50%</th>\n",
       "      <th>75%</th>\n",
       "      <th>max</th>\n",
       "    </tr>\n",
       "    <tr>\n",
       "      <th>class</th>\n",
       "      <th></th>\n",
       "      <th></th>\n",
       "      <th></th>\n",
       "      <th></th>\n",
       "      <th></th>\n",
       "      <th></th>\n",
       "      <th></th>\n",
       "      <th></th>\n",
       "    </tr>\n",
       "  </thead>\n",
       "  <tbody>\n",
       "    <tr>\n",
       "      <th>Negative</th>\n",
       "      <td>200.0</td>\n",
       "      <td>46.360000</td>\n",
       "      <td>12.080983</td>\n",
       "      <td>26.0</td>\n",
       "      <td>37.0</td>\n",
       "      <td>45.0</td>\n",
       "      <td>55.0</td>\n",
       "      <td>72.0</td>\n",
       "    </tr>\n",
       "    <tr>\n",
       "      <th>Positive</th>\n",
       "      <td>320.0</td>\n",
       "      <td>49.071875</td>\n",
       "      <td>12.097481</td>\n",
       "      <td>16.0</td>\n",
       "      <td>39.0</td>\n",
       "      <td>48.0</td>\n",
       "      <td>57.0</td>\n",
       "      <td>90.0</td>\n",
       "    </tr>\n",
       "  </tbody>\n",
       "</table>\n",
       "</div>"
      ],
      "text/plain": [
       "          count       mean        std   min   25%   50%   75%   max\n",
       "class                                                              \n",
       "Negative  200.0  46.360000  12.080983  26.0  37.0  45.0  55.0  72.0\n",
       "Positive  320.0  49.071875  12.097481  16.0  39.0  48.0  57.0  90.0"
      ]
     },
     "metadata": {},
     "output_type": "display_data"
    },
    {
     "name": "stdout",
     "output_type": "stream",
     "text": [
      "Test statistic:  36166.0\n",
      "Test p-value:  0.0124\n",
      "Reject null hypothesis. There is a statistically significant difference in age between diabetic and non-diabetic groups.\n"
     ]
    }
   ],
   "source": [
    "from scipy.stats import mannwhitneyu\n",
    "# visualization \n",
    "plt.figure(figsize=(9,5))\n",
    "sns.boxplot(data=data, x=data['class'], y=data['Age'], hue=data['class'], palette=colors)\n",
    "plt.title('Distribution of Age: Diabetic vs Non-diabetic', fontsize=15)\n",
    "plt.xticks([0,1], ['Diabetic','Non-diabetic'])\n",
    "plt.grid(alpha=0.4)\n",
    "plt.show()\n",
    "\n",
    "# display summary statistic\n",
    "outcome = data.groupby('class')\n",
    "diabetic = outcome.get_group('Positive')\n",
    "non_diabetic = outcome.get_group('Negative')\n",
    "display(outcome['Age'].describe())\n",
    "\n",
    "# perform Mann-Whitney U test to compare the age between diabetic and non-diabetic groups\n",
    "res = mannwhitneyu(diabetic['Age'],non_diabetic['Age'])\n",
    "test_stat = round(res[0], 4)\n",
    "pvalue = round(res[1], 4)\n",
    "\n",
    "print('Test statistic: ', test_stat)\n",
    "print('Test p-value: ', pvalue)\n",
    "\n",
    "alpha = 0.05\n",
    "if pvalue < alpha:\n",
    "    print('Reject null hypothesis. There is a statistically significant difference in age between diabetic and non-diabetic groups.')\n",
    "else:\n",
    "    print('Failed to reject null hypothesis. Lack of evidence to conclude a statistically significant difference in age between diabetic and non-diabetic groups.')"
   ]
  },
  {
   "cell_type": "markdown",
   "id": "46332cbe",
   "metadata": {},
   "source": [
    "### Predictive Analytics\n",
    "#### Data Preprocessing for Modelling"
   ]
  },
  {
   "cell_type": "code",
   "execution_count": 24,
   "id": "8c96a887",
   "metadata": {},
   "outputs": [
    {
     "name": "stdout",
     "output_type": "stream",
     "text": [
      "Dimension of training data:  (416, 17)\n",
      "Dimension of test data:  (104, 17)\n"
     ]
    }
   ],
   "source": [
    "from sklearn.model_selection import train_test_split\n",
    "\n",
    "train, test = train_test_split(data, test_size=0.2, random_state=122)\n",
    "\n",
    "# dimension of train and test dataset\n",
    "print('Dimension of training data: ', train.shape)\n",
    "print('Dimension of test data: ', test.shape)"
   ]
  },
  {
   "cell_type": "code",
   "execution_count": 25,
   "id": "f80d5eac",
   "metadata": {},
   "outputs": [],
   "source": [
    "# segregate the feature matrix and target vector from train and test data\n",
    "Xtrain = train.drop(columns=['class'], axis=1)\n",
    "ytrain = train['class']\n",
    "\n",
    "Xtest = test.drop(columns=['class'], axis=1)\n",
    "ytest = test['class']"
   ]
  },
  {
   "cell_type": "code",
   "execution_count": 26,
   "id": "3bc58453",
   "metadata": {},
   "outputs": [],
   "source": [
    "# encode the target/label for train and test dataset\n",
    "from sklearn.preprocessing import LabelEncoder\n",
    "\n",
    "encoder = LabelEncoder()\n",
    "ytrain_encoded = encoder.fit_transform(ytrain)\n",
    "ytest_encoded = encoder.transform(ytest)"
   ]
  },
  {
   "cell_type": "code",
   "execution_count": 27,
   "id": "215dd01c",
   "metadata": {},
   "outputs": [],
   "source": [
    "from sklearn.compose import ColumnTransformer\n",
    "from sklearn.pipeline import Pipeline\n",
    "from sklearn.preprocessing import OneHotEncoder, MinMaxScaler\n",
    "\n",
    "# extracted the list of categorical columns to be encoded using OneHotEncoder\n",
    "excluded_col = 'Age'\n",
    "categorical_col = [col for col in Xtrain.columns if col != excluded_col]\n",
    "\n",
    "# define the column transformer\n",
    "preprocessor = ColumnTransformer(\n",
    "    transformers=[\n",
    "        ('cat', OneHotEncoder(drop='first'), categorical_col)\n",
    "    ],\n",
    "    remainder='passthrough'  \n",
    ")\n",
    "\n",
    "# create the pipeline\n",
    "pipeline = Pipeline([\n",
    "    ('preprocessor', preprocessor),\n",
    "    ('scaler', MinMaxScaler())\n",
    "])\n",
    "\n",
    "# process the train and test data\n",
    "Xtrain_transformed = pipeline.fit_transform(Xtrain)\n",
    "Xtest_transformed = pipeline.transform(Xtest)"
   ]
  },
  {
   "cell_type": "markdown",
   "id": "5a936e5c",
   "metadata": {},
   "source": [
    "### Classification\n",
    "#### Model 1 | Decision Tree"
   ]
  },
  {
   "cell_type": "code",
   "execution_count": 28,
   "id": "f888869c",
   "metadata": {},
   "outputs": [
    {
     "name": "stdout",
     "output_type": "stream",
     "text": [
      "Best Parameters:  {'criterion': 'entropy', 'max_depth': 10, 'min_samples_leaf': 2, 'min_samples_split': 2, 'splitter': 'best'}\n",
      "Best Accuracy:  0.935140562248996\n"
     ]
    }
   ],
   "source": [
    "from sklearn.tree import DecisionTreeClassifier\n",
    "from sklearn.model_selection import GridSearchCV\n",
    "\n",
    "# create a Decision Tree Classifier\n",
    "tree = DecisionTreeClassifier(random_state=122)\n",
    "\n",
    "# Define the hyperparameter grid\n",
    "param_grid = {\n",
    "    'criterion': ['gini', 'entropy'],\n",
    "    'splitter': ['best', 'random'],\n",
    "    'max_depth': [10, 20, 30],\n",
    "    'min_samples_split': [2, 5, 10],\n",
    "    'min_samples_leaf': [2, 4]\n",
    "}\n",
    "\n",
    "# create the GridSearchCV object\n",
    "grid_search_tree = GridSearchCV(tree, param_grid, cv=5, scoring='accuracy', n_jobs=-1)\n",
    "\n",
    "# fit the grid search to the data\n",
    "grid_search_tree.fit(Xtrain_transformed, ytrain_encoded)\n",
    "\n",
    "# print the best parameters and the corresponding accuracy\n",
    "print('Best Parameters: ', grid_search_tree.best_params_)\n",
    "print('Best Accuracy: ', grid_search_tree.best_score_)\n",
    "\n",
    "# get the best model\n",
    "best_tree = grid_search_tree.best_estimator_"
   ]
  },
  {
   "cell_type": "markdown",
   "id": "b3c207a9",
   "metadata": {},
   "source": [
    "#### Model 2 | Logistic Regression"
   ]
  },
  {
   "cell_type": "code",
   "execution_count": 29,
   "id": "54c0cdf2",
   "metadata": {},
   "outputs": [
    {
     "name": "stdout",
     "output_type": "stream",
     "text": [
      "Best Parameters:  {'C': 10, 'penalty': 'l1', 'solver': 'liblinear'}\n",
      "Best Accuracy:  0.9255020080321286\n"
     ]
    }
   ],
   "source": [
    "from sklearn.linear_model import LogisticRegression\n",
    "\n",
    "# create a logistic regression Classifier\n",
    "logreg = LogisticRegression(random_state=122, max_iter=5000)\n",
    "\n",
    "# define the hyperparameter grid\n",
    "param_grid = {\n",
    "    'penalty': ['l1', 'l2'],\n",
    "    'C': [0.001, 0.01, 0.1, 1, 10, 100],\n",
    "    'solver': ['liblinear', 'saga']\n",
    "}\n",
    "\n",
    "# create the GridSearchCV object\n",
    "grid_search_logreg = GridSearchCV(logreg, param_grid, cv=5, scoring='accuracy', n_jobs=-1)\n",
    "\n",
    "# fit the grid search to the data\n",
    "grid_search_logreg.fit(Xtrain_transformed, ytrain_encoded)\n",
    "\n",
    "# print the best parameters and the corresponding accuracy\n",
    "print('Best Parameters: ', grid_search_logreg.best_params_)\n",
    "print('Best Accuracy: ', grid_search_logreg.best_score_)\n",
    "\n",
    "# get the best model\n",
    "best_logreg = grid_search_logreg.best_estimator_"
   ]
  },
  {
   "cell_type": "markdown",
   "id": "a2ed27ad",
   "metadata": {},
   "source": [
    "#### Model 3 | Random Forest"
   ]
  },
  {
   "cell_type": "code",
   "execution_count": 30,
   "id": "f7ceb96f",
   "metadata": {},
   "outputs": [
    {
     "name": "stdout",
     "output_type": "stream",
     "text": [
      "Best Parameters:  {'criterion': 'gini', 'max_depth': 10, 'max_features': 'sqrt', 'min_samples_leaf': 2, 'min_samples_split': 2, 'n_estimators': 100}\n",
      "Best Accuracy:  0.9663224325874928\n"
     ]
    }
   ],
   "source": [
    "from sklearn.ensemble import RandomForestClassifier\n",
    "\n",
    "# create a Random Forest Classifier\n",
    "forest = RandomForestClassifier(random_state=122)\n",
    "\n",
    "# define the hyperparameter grid\n",
    "param_grid = {\n",
    "    'n_estimators': [100, 200, 300],\n",
    "    'criterion': ['gini', 'entropy'],\n",
    "    'max_depth': [10, 20, 30],\n",
    "    'min_samples_split': [2, 5, 10],\n",
    "    'min_samples_leaf': [2, 4],\n",
    "    'max_features': ['sqrt', 'log2']\n",
    "}\n",
    "\n",
    "# create the GridSearchCV object\n",
    "grid_search_forest = GridSearchCV(forest, param_grid, cv=5, scoring='accuracy', n_jobs=-1)\n",
    "\n",
    "# fit the grid search to the data\n",
    "grid_search_forest.fit(Xtrain_transformed, ytrain_encoded)\n",
    "\n",
    "# print the best parameters and the corresponding accuracy\n",
    "print('Best Parameters: ', grid_search_forest.best_params_)\n",
    "print('Best Accuracy: ', grid_search_forest.best_score_)\n",
    "\n",
    "# get the best model\n",
    "best_forest = grid_search_forest.best_estimator_"
   ]
  },
  {
   "cell_type": "markdown",
   "id": "d8971637",
   "metadata": {},
   "source": [
    "#### Model 4 | Naive Bayes"
   ]
  },
  {
   "cell_type": "code",
   "execution_count": 31,
   "id": "64c103f6",
   "metadata": {},
   "outputs": [],
   "source": [
    "from sklearn.naive_bayes import ComplementNB \n",
    "\n",
    "# create a Naive Bayes classifier\n",
    "clf = ComplementNB()\n",
    "\n",
    "# fit the classifier with training data\n",
    "cNB = clf.fit(Xtrain_transformed,ytrain_encoded)"
   ]
  },
  {
   "cell_type": "markdown",
   "id": "33ef204e",
   "metadata": {},
   "source": [
    "#### Model 5 | KNearestNeighbors"
   ]
  },
  {
   "cell_type": "code",
   "execution_count": 32,
   "id": "cf9d2757",
   "metadata": {},
   "outputs": [
    {
     "name": "stdout",
     "output_type": "stream",
     "text": [
      "Best Parameters:  {'n_neighbors': 1, 'p': 1}\n",
      "Best Accuracy:  0.971170395869191\n"
     ]
    }
   ],
   "source": [
    "from sklearn.neighbors import KNeighborsClassifier\n",
    "\n",
    "# create the KNN classifier\n",
    "knn = KNeighborsClassifier()\n",
    "\n",
    "# define the parameter grid for hyperparameter tuning\n",
    "param_grid = {\n",
    "    'n_neighbors': np.arange(1, 21),  \n",
    "    'p': [1, 2]  # 1 for Manhattan distance (L1), 2 for Euclidean distance (L2)\n",
    "}\n",
    "\n",
    "# create a GridSearchCV object with KNN and the parameter grid\n",
    "grid_search_knn = GridSearchCV(knn, param_grid, cv=5, scoring='accuracy', n_jobs=-1)\n",
    "\n",
    "# fit the model with the training data\n",
    "grid_search_knn.fit(Xtrain_transformed,ytrain_encoded)\n",
    "\n",
    "# print the best parameters and the corresponding accuracy\n",
    "print('Best Parameters: ', grid_search_knn.best_params_)\n",
    "print('Best Accuracy: ', grid_search_knn.best_score_)\n",
    "\n",
    "# get the best model\n",
    "best_knn = grid_search_knn.best_estimator_"
   ]
  },
  {
   "cell_type": "markdown",
   "id": "05784445",
   "metadata": {},
   "source": [
    "#### Model 6 | Support Vector Machine (SVM)"
   ]
  },
  {
   "cell_type": "code",
   "execution_count": 33,
   "id": "d8e4b3fd",
   "metadata": {},
   "outputs": [
    {
     "name": "stdout",
     "output_type": "stream",
     "text": [
      "Best Parameters:  {'C': 1, 'degree': 2, 'gamma': 1, 'kernel': 'rbf'}\n",
      "Best Accuracy:  0.9687607573149742\n"
     ]
    }
   ],
   "source": [
    "from sklearn.svm import SVC\n",
    "\n",
    "# create the SVM classifier\n",
    "svc = SVC(random_state=122)\n",
    "\n",
    "# define the parameter grid for hyperparameter tuning\n",
    "param_grid = {\n",
    "    'C': [0.1, 1, 10, 100],                 # Regularization parameter\n",
    "    'kernel': ['linear', 'rbf', 'poly'],    # Choice of kernel\n",
    "    'gamma': ['scale', 'auto', 0.1, 1],     # Kernel coefficient for 'rbf' and 'poly'\n",
    "    'degree': [2, 3, 4]                     # Degree of the polynomial kernel\n",
    "}\n",
    "\n",
    "# create a GridSearchCV object with SVM and the parameter grid\n",
    "grid_search_svc = GridSearchCV(svc, param_grid, cv=5, scoring='accuracy')\n",
    "\n",
    "# fit the model with the training data\n",
    "grid_search_svc.fit(Xtrain_transformed,ytrain_encoded)\n",
    "\n",
    "# print the best parameters and the corresponding accuracy\n",
    "print('Best Parameters: ', grid_search_svc.best_params_)\n",
    "print('Best Accuracy: ', grid_search_svc.best_score_)\n",
    "\n",
    "# get the best model\n",
    "best_svc = grid_search_svc.best_estimator_"
   ]
  },
  {
   "cell_type": "markdown",
   "id": "1cfd841f",
   "metadata": {},
   "source": [
    "### Performance Evaluation & Model Comparison"
   ]
  },
  {
   "cell_type": "code",
   "execution_count": 34,
   "id": "5d780b81",
   "metadata": {},
   "outputs": [],
   "source": [
    "# define a helper function to perform model evaluation based on key metrics\n",
    "from sklearn.metrics import precision_recall_fscore_support, matthews_corrcoef\n",
    "\n",
    "def performance_evaluation(X,y,clf,classifier_name=''):\n",
    "    ypred = clf.predict(X)\n",
    "    accuracy = clf.score(X,y)\n",
    "    mcc = matthews_corrcoef(y, ypred)\n",
    "    precision, recall, fscore, support = precision_recall_fscore_support(y, ypred, average='weighted', zero_division=0)\n",
    "    metricName = ['Accuracy','Precision','Recall','F1_Score','MCC']\n",
    "    metricValue = [accuracy,precision,recall,fscore,mcc]\n",
    "    res = pd.DataFrame(metricValue, index=metricName, columns=[classifier_name])\n",
    "    return res"
   ]
  },
  {
   "cell_type": "code",
   "execution_count": 35,
   "id": "3dc21ec4",
   "metadata": {},
   "outputs": [
    {
     "data": {
      "text/html": [
       "<div>\n",
       "<style scoped>\n",
       "    .dataframe tbody tr th:only-of-type {\n",
       "        vertical-align: middle;\n",
       "    }\n",
       "\n",
       "    .dataframe tbody tr th {\n",
       "        vertical-align: top;\n",
       "    }\n",
       "\n",
       "    .dataframe thead th {\n",
       "        text-align: right;\n",
       "    }\n",
       "</style>\n",
       "<table border=\"1\" class=\"dataframe\">\n",
       "  <thead>\n",
       "    <tr style=\"text-align: right;\">\n",
       "      <th></th>\n",
       "      <th>Decision Tree</th>\n",
       "      <th>Random Forest</th>\n",
       "      <th>Logistic Regression</th>\n",
       "      <th>Naive Bayes</th>\n",
       "      <th>K Nearest Neigbors</th>\n",
       "      <th>Support Vector Machine</th>\n",
       "    </tr>\n",
       "  </thead>\n",
       "  <tbody>\n",
       "    <tr>\n",
       "      <th>Accuracy</th>\n",
       "      <td>0.942308</td>\n",
       "      <td>0.942308</td>\n",
       "      <td>0.875000</td>\n",
       "      <td>0.913462</td>\n",
       "      <td>0.961538</td>\n",
       "      <td>0.942308</td>\n",
       "    </tr>\n",
       "    <tr>\n",
       "      <th>Precision</th>\n",
       "      <td>0.944138</td>\n",
       "      <td>0.947324</td>\n",
       "      <td>0.878676</td>\n",
       "      <td>0.915740</td>\n",
       "      <td>0.961933</td>\n",
       "      <td>0.947324</td>\n",
       "    </tr>\n",
       "    <tr>\n",
       "      <th>Recall</th>\n",
       "      <td>0.942308</td>\n",
       "      <td>0.942308</td>\n",
       "      <td>0.875000</td>\n",
       "      <td>0.913462</td>\n",
       "      <td>0.961538</td>\n",
       "      <td>0.942308</td>\n",
       "    </tr>\n",
       "    <tr>\n",
       "      <th>F1_Score</th>\n",
       "      <td>0.941716</td>\n",
       "      <td>0.941342</td>\n",
       "      <td>0.872456</td>\n",
       "      <td>0.912303</td>\n",
       "      <td>0.961358</td>\n",
       "      <td>0.941342</td>\n",
       "    </tr>\n",
       "    <tr>\n",
       "      <th>MCC</th>\n",
       "      <td>0.880075</td>\n",
       "      <td>0.882852</td>\n",
       "      <td>0.738075</td>\n",
       "      <td>0.819218</td>\n",
       "      <td>0.919540</td>\n",
       "      <td>0.882852</td>\n",
       "    </tr>\n",
       "  </tbody>\n",
       "</table>\n",
       "</div>"
      ],
      "text/plain": [
       "           Decision Tree  Random Forest  Logistic Regression  Naive Bayes  \\\n",
       "Accuracy        0.942308       0.942308             0.875000     0.913462   \n",
       "Precision       0.944138       0.947324             0.878676     0.915740   \n",
       "Recall          0.942308       0.942308             0.875000     0.913462   \n",
       "F1_Score        0.941716       0.941342             0.872456     0.912303   \n",
       "MCC             0.880075       0.882852             0.738075     0.819218   \n",
       "\n",
       "           K Nearest Neigbors  Support Vector Machine  \n",
       "Accuracy             0.961538                0.942308  \n",
       "Precision            0.961933                0.947324  \n",
       "Recall               0.961538                0.942308  \n",
       "F1_Score             0.961358                0.941342  \n",
       "MCC                  0.919540                0.882852  "
      ]
     },
     "metadata": {},
     "output_type": "display_data"
    }
   ],
   "source": [
    "# generate the performance summary for various models trained\n",
    "tree_summary = performance_evaluation(Xtest_transformed,ytest_encoded,best_tree,'Decision Tree')\n",
    "logistic_summary = performance_evaluation(Xtest_transformed,ytest_encoded,best_logreg,'Logistic Regression')\n",
    "forest_summary = performance_evaluation(Xtest_transformed,ytest_encoded,best_forest,'Random Forest')\n",
    "naivebayes_summary = performance_evaluation(Xtest_transformed,ytest_encoded,cNB,'Naive Bayes')\n",
    "knn_summary = performance_evaluation(Xtest_transformed,ytest_encoded,best_knn,'K Nearest Neigbors')\n",
    "svc_summary = performance_evaluation(Xtest_transformed,ytest_encoded,best_svc,'Support Vector Machine')\n",
    "\n",
    "# combine the summary of each model into a dataframe \n",
    "comparison_df = pd.concat([tree_summary,forest_summary,logistic_summary,naivebayes_summary,knn_summary,svc_summary], axis=1)\n",
    "\n",
    "# disply the summary dafaframe\n",
    "display(comparison_df)"
   ]
  },
  {
   "cell_type": "markdown",
   "id": "5892540c",
   "metadata": {},
   "source": [
    "##### Notes: \n",
    "\n",
    "The Matthews Correlation Coefficient (MCC) is a metric commonly used to assess the performance of binary classification models. It takes into account true positives, true negatives, false positives, and false negatives and provides a balanced measure, especially when the classes are imbalanced.\n",
    "\n",
    "\n",
    "Here's why MCC is a useful metric:\n",
    "\n",
    "1. **Balancing Act:** MCC takes into account all four elements of the confusion matrix, making it suitable for imbalanced datasets. This is crucial when the number of instances in one class is much higher than the other, as accuracy alone can be misleading.\n",
    "\n",
    "2. **Range of Values:** MCC ranges from -1 to 1. A score of 1 indicates a perfect prediction, 0 means no better than random, and -1 indicates total disagreement between prediction and observation. This range provides a clear understanding of the quality of the model.\n",
    "\n",
    "3. **Symmetry:** MCC is symmetric; it considers errors in both positive and negative classes. This is especially important when the costs of false positives and false negatives are different.\n",
    "\n",
    "4. **Effectiveness in Binary Classification:** MCC is particularly effective for binary classification problems and is less sensitive to class imbalance compared to some other metrics like accuracy."
   ]
  },
  {
   "cell_type": "code",
   "execution_count": 36,
   "id": "e6ee78d8",
   "metadata": {},
   "outputs": [
    {
     "data": {
      "image/png": "[encoded data removed]",
      "text/plain": [
       "<Figure size 864x864 with 6 Axes>"
      ]
     },
     "metadata": {
      "needs_background": "light"
     },
     "output_type": "display_data"
    }
   ],
   "source": [
    "# visualize the confusion matrix using a heatmap\n",
    "from sklearn.metrics import confusion_matrix\n",
    "\n",
    "labels = ['Diabetic', 'Non-diabetic']\n",
    "\n",
    "ypred_tree = best_tree.predict(Xtest_transformed)\n",
    "cm_tree = confusion_matrix(ytest_encoded, ypred_tree, normalize='true')\n",
    "\n",
    "ypred_forest = best_forest.predict(Xtest_transformed)\n",
    "cm_forest = confusion_matrix(ytest_encoded, ypred_tree, normalize='true')\n",
    "\n",
    "ypred_logistic = best_logreg.predict(Xtest_transformed)\n",
    "cm_logistic = confusion_matrix(ytest_encoded, ypred_logistic, normalize='true')\n",
    "\n",
    "ypred_nb = cNB.predict(Xtest_transformed)\n",
    "cm_nb = confusion_matrix(ytest_encoded, ypred_nb, normalize='true')\n",
    "\n",
    "ypred_knn = best_knn.predict(Xtest_transformed)\n",
    "cm_knn = confusion_matrix(ytest_encoded, ypred_knn, normalize='true')\n",
    "\n",
    "ypred_svc = best_svc.predict(Xtest_transformed)\n",
    "cm_svc = confusion_matrix(ytest_encoded, ypred_svc, normalize='true')\n",
    "\n",
    "\n",
    "# confusion matrix for 6 classification models\n",
    "figure, axes = plt.subplots(3,2, figsize=(12,12))\n",
    "sns.heatmap(cm_tree, annot=True, cmap='BuPu', xticklabels=labels, yticklabels=labels, cbar=False, ax=axes[0,0])\n",
    "axes[0,0].set_title('Decision Tree', fontsize=20)\n",
    "sns.heatmap(cm_forest, annot=True, cmap='BuPu', xticklabels=labels, yticklabels=labels, cbar=False, ax=axes[0,1])\n",
    "axes[0,1].set_title('Random Forest', fontsize=20)\n",
    "sns.heatmap(cm_logistic, annot=True, cmap='BuPu', xticklabels=labels, yticklabels=labels, cbar=False, ax=axes[1,0])\n",
    "axes[1,0].set_title('Logistic Regression', fontsize=20)\n",
    "sns.heatmap(cm_nb, annot=True, cmap='BuPu', xticklabels=labels, yticklabels=labels, cbar=False, ax=axes[1,1])\n",
    "axes[1,1].set_title('Naive Bayes', fontsize=20)\n",
    "sns.heatmap(cm_knn, annot=True, cmap='BuPu', xticklabels=labels, yticklabels=labels, cbar=False, ax=axes[2,0])\n",
    "axes[2,0].set_title('K Nearest Neighbors', fontsize=20)\n",
    "sns.heatmap(cm_svc, annot=True, cmap='BuPu', xticklabels=labels, yticklabels=labels, cbar=False, ax=axes[2,1])\n",
    "axes[2,1].set_title('Support Vector Machine (SVM)', fontsize=20)\n",
    "\n",
    "figure.suptitle('Confusion Matrix of 6 Classication Models', fontsize=15)\n",
    "plt.tight_layout(pad=1)\n",
    "plt.show()"
   ]
  },
  {
   "cell_type": "markdown",
   "id": "b5bb3a2d",
   "metadata": {},
   "source": [
    "### Conclusion\n",
    "\n",
    "In the initial phase of the analysis, we examined the relationships between various features and the likelihood of diabetes within the dataset. Our findings reveal compelling evidence of statistically significant associations for several key factors. Gender, Polyuria, Polydipsia, sudden weight loss, weakness, Polyphagia, Genital thrush, visual blurring, Irritability, partial paresis, muscle stiffness, and Alopecia all exhibit substantial correlations with the likelihood of diabetes. On the other hand, our analysis indicates a lack of conclusive evidence for a statistically significant association with Itching and delayed healing. Furthermore, we observed a significant difference in age between individuals classified as diabetic and non-diabetic, underscoring the importance of age as a potential predictive factor.\n",
    "\n",
    "In the second phase of the analysis, we employed a diverse set of classification models, including Decision Tree, Random Forest, Logistic Regression, Naive Bayes, K Nearest Neighbors, and Support Vector Machine, to predict the likelihood of diabetes. The performance metrics of these models provide valuable insights into their effectiveness. The K Nearest Neighbors model demonstrated the highest accuracy (96.15%) and precision (96.19%), suggesting its ability to make accurate predictions and minimize false positives. The Decision Tree and Random Forest models performed comparably well with accuracy and precision scores of 94.23% and 94.43%, respectively. Support Vector Machine also exhibited robust performance across multiple metrics, including accuracy, precision, and Matthews Correlation Coefficient (MCC). Logistic Regression and Naive Bayes, while achieving reasonable accuracy (87.50% and 91.35%, respectively), showed comparatively lower precision and MCC scores. These findings inform our decision-making process in selecting the most suitable classification model for predicting diabetes risk based on the dataset's features."
   ]
  }
 ],
 "metadata": {
  "kernelspec": {
   "display_name": "Python 3 (ipykernel)",
   "language": "python",
   "name": "python3"
  },
  "language_info": {
   "codemirror_mode": {
    "name": "ipython",
    "version": 3
   },
   "file_extension": ".py",
   "mimetype": "text/x-python",
   "name": "python",
   "nbconvert_exporter": "python",
   "pygments_lexer": "ipython3",
   "version": "3.9.12"
  }
 },
 "nbformat": 4,
 "nbformat_minor": 5
}
