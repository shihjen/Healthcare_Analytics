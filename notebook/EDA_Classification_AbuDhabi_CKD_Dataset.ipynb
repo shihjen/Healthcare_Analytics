{
 "cells": [
  {
   "cell_type": "markdown",
   "id": "77bf42f0",
   "metadata": {},
   "source": [
    "### Predictive Modeling of Severe Chronic Kidney Disease Events in Patients with Chronic Kidney Disease Using Electronic Health Records"
   ]
  },
  {
   "cell_type": "code",
   "execution_count": 1,
   "id": "f9b5e2eb",
   "metadata": {},
   "outputs": [],
   "source": [
    "# import essential libraries\n",
    "import pandas as pd\n",
    "import numpy as np\n",
    "import matplotlib.pyplot as plt\n",
    "import seaborn as sns\n",
    "\n",
    "%matplotlib inline"
   ]
  },
  {
   "cell_type": "code",
   "execution_count": 2,
   "id": "813c311e",
   "metadata": {},
   "outputs": [
    {
     "name": "stdout",
     "output_type": "stream",
     "text": [
      "Dimension of dataset:  (491, 22)\n",
      "Attributes in the dataset:  ['Sex' 'AgeBaseline' 'HistoryDiabetes' 'HistoryCHD' 'HistoryVascular'\n",
      " 'HistorySmoking' 'HistoryHTN ' 'HistoryDLD' 'HistoryObesity' 'DLDmeds'\n",
      " 'DMmeds' 'HTNmeds' 'ACEIARB' 'CholesterolBaseline' 'CreatinineBaseline'\n",
      " 'eGFRBaseline' 'sBPBaseline' 'dBPBaseline' 'BMIBaseline'\n",
      " 'TimeToEventMonths' 'EventCKD35' 'TIME_YEAR']\n"
     ]
    },
    {
     "data": {
      "text/html": [
       "<div>\n",
       "<style scoped>\n",
       "    .dataframe tbody tr th:only-of-type {\n",
       "        vertical-align: middle;\n",
       "    }\n",
       "\n",
       "    .dataframe tbody tr th {\n",
       "        vertical-align: top;\n",
       "    }\n",
       "\n",
       "    .dataframe thead th {\n",
       "        text-align: right;\n",
       "    }\n",
       "</style>\n",
       "<table border=\"1\" class=\"dataframe\">\n",
       "  <thead>\n",
       "    <tr style=\"text-align: right;\">\n",
       "      <th></th>\n",
       "      <th>Sex</th>\n",
       "      <th>AgeBaseline</th>\n",
       "      <th>HistoryDiabetes</th>\n",
       "      <th>HistoryCHD</th>\n",
       "      <th>HistoryVascular</th>\n",
       "      <th>HistorySmoking</th>\n",
       "      <th>HistoryHTN</th>\n",
       "      <th>HistoryDLD</th>\n",
       "      <th>HistoryObesity</th>\n",
       "      <th>DLDmeds</th>\n",
       "      <th>DMmeds</th>\n",
       "      <th>HTNmeds</th>\n",
       "      <th>ACEIARB</th>\n",
       "      <th>CholesterolBaseline</th>\n",
       "      <th>CreatinineBaseline</th>\n",
       "      <th>eGFRBaseline</th>\n",
       "      <th>sBPBaseline</th>\n",
       "      <th>dBPBaseline</th>\n",
       "      <th>BMIBaseline</th>\n",
       "      <th>TimeToEventMonths</th>\n",
       "      <th>EventCKD35</th>\n",
       "      <th>TIME_YEAR</th>\n",
       "    </tr>\n",
       "  </thead>\n",
       "  <tbody>\n",
       "    <tr>\n",
       "      <th>0</th>\n",
       "      <td>0</td>\n",
       "      <td>64</td>\n",
       "      <td>0</td>\n",
       "      <td>0</td>\n",
       "      <td>0</td>\n",
       "      <td>0</td>\n",
       "      <td>1</td>\n",
       "      <td>1</td>\n",
       "      <td>1</td>\n",
       "      <td>1</td>\n",
       "      <td>0</td>\n",
       "      <td>1</td>\n",
       "      <td>0</td>\n",
       "      <td>4.8</td>\n",
       "      <td>59.0</td>\n",
       "      <td>93.3</td>\n",
       "      <td>144</td>\n",
       "      <td>87</td>\n",
       "      <td>40</td>\n",
       "      <td>98</td>\n",
       "      <td>0</td>\n",
       "      <td>8</td>\n",
       "    </tr>\n",
       "    <tr>\n",
       "      <th>1</th>\n",
       "      <td>0</td>\n",
       "      <td>52</td>\n",
       "      <td>0</td>\n",
       "      <td>0</td>\n",
       "      <td>0</td>\n",
       "      <td>0</td>\n",
       "      <td>1</td>\n",
       "      <td>1</td>\n",
       "      <td>1</td>\n",
       "      <td>0</td>\n",
       "      <td>0</td>\n",
       "      <td>1</td>\n",
       "      <td>0</td>\n",
       "      <td>6.4</td>\n",
       "      <td>52.0</td>\n",
       "      <td>105.8</td>\n",
       "      <td>148</td>\n",
       "      <td>91</td>\n",
       "      <td>45</td>\n",
       "      <td>106</td>\n",
       "      <td>0</td>\n",
       "      <td>9</td>\n",
       "    </tr>\n",
       "    <tr>\n",
       "      <th>2</th>\n",
       "      <td>0</td>\n",
       "      <td>56</td>\n",
       "      <td>0</td>\n",
       "      <td>0</td>\n",
       "      <td>0</td>\n",
       "      <td>0</td>\n",
       "      <td>1</td>\n",
       "      <td>1</td>\n",
       "      <td>1</td>\n",
       "      <td>1</td>\n",
       "      <td>0</td>\n",
       "      <td>1</td>\n",
       "      <td>0</td>\n",
       "      <td>6.4</td>\n",
       "      <td>57.0</td>\n",
       "      <td>99.8</td>\n",
       "      <td>149</td>\n",
       "      <td>86</td>\n",
       "      <td>41</td>\n",
       "      <td>88</td>\n",
       "      <td>0</td>\n",
       "      <td>7</td>\n",
       "    </tr>\n",
       "    <tr>\n",
       "      <th>3</th>\n",
       "      <td>0</td>\n",
       "      <td>58</td>\n",
       "      <td>0</td>\n",
       "      <td>0</td>\n",
       "      <td>0</td>\n",
       "      <td>0</td>\n",
       "      <td>0</td>\n",
       "      <td>1</td>\n",
       "      <td>1</td>\n",
       "      <td>1</td>\n",
       "      <td>0</td>\n",
       "      <td>0</td>\n",
       "      <td>0</td>\n",
       "      <td>5.1</td>\n",
       "      <td>65.0</td>\n",
       "      <td>90.3</td>\n",
       "      <td>116</td>\n",
       "      <td>68</td>\n",
       "      <td>32</td>\n",
       "      <td>103</td>\n",
       "      <td>0</td>\n",
       "      <td>9</td>\n",
       "    </tr>\n",
       "    <tr>\n",
       "      <th>4</th>\n",
       "      <td>0</td>\n",
       "      <td>63</td>\n",
       "      <td>1</td>\n",
       "      <td>0</td>\n",
       "      <td>0</td>\n",
       "      <td>0</td>\n",
       "      <td>1</td>\n",
       "      <td>1</td>\n",
       "      <td>1</td>\n",
       "      <td>1</td>\n",
       "      <td>1</td>\n",
       "      <td>1</td>\n",
       "      <td>1</td>\n",
       "      <td>5.0</td>\n",
       "      <td>70.0</td>\n",
       "      <td>79.7</td>\n",
       "      <td>132</td>\n",
       "      <td>63</td>\n",
       "      <td>31</td>\n",
       "      <td>105</td>\n",
       "      <td>0</td>\n",
       "      <td>9</td>\n",
       "    </tr>\n",
       "  </tbody>\n",
       "</table>\n",
       "</div>"
      ],
      "text/plain": [
       "   Sex  AgeBaseline  HistoryDiabetes  HistoryCHD  HistoryVascular  \\\n",
       "0    0           64                0           0                0   \n",
       "1    0           52                0           0                0   \n",
       "2    0           56                0           0                0   \n",
       "3    0           58                0           0                0   \n",
       "4    0           63                1           0                0   \n",
       "\n",
       "   HistorySmoking  HistoryHTN   HistoryDLD  HistoryObesity  DLDmeds  DMmeds  \\\n",
       "0               0            1           1               1        1       0   \n",
       "1               0            1           1               1        0       0   \n",
       "2               0            1           1               1        1       0   \n",
       "3               0            0           1               1        1       0   \n",
       "4               0            1           1               1        1       1   \n",
       "\n",
       "   HTNmeds  ACEIARB  CholesterolBaseline  CreatinineBaseline  eGFRBaseline  \\\n",
       "0        1        0                  4.8                59.0          93.3   \n",
       "1        1        0                  6.4                52.0         105.8   \n",
       "2        1        0                  6.4                57.0          99.8   \n",
       "3        0        0                  5.1                65.0          90.3   \n",
       "4        1        1                  5.0                70.0          79.7   \n",
       "\n",
       "   sBPBaseline  dBPBaseline  BMIBaseline  TimeToEventMonths  EventCKD35  \\\n",
       "0          144           87           40                 98           0   \n",
       "1          148           91           45                106           0   \n",
       "2          149           86           41                 88           0   \n",
       "3          116           68           32                103           0   \n",
       "4          132           63           31                105           0   \n",
       "\n",
       "   TIME_YEAR  \n",
       "0          8  \n",
       "1          9  \n",
       "2          7  \n",
       "3          9  \n",
       "4          9  "
      ]
     },
     "execution_count": 2,
     "metadata": {},
     "output_type": "execute_result"
    }
   ],
   "source": [
    "# load the dataset\n",
    "data = pd.read_csv('../data/ChronicKidneyDisease_EHRs_from_AbuDhabi.csv')\n",
    "\n",
    "# check the dimension of the dataset\n",
    "print('Dimension of dataset: ', data.shape)\n",
    "\n",
    "# check the attributes in the dataset\n",
    "print('Attributes in the dataset: ', data.columns.values)\n",
    "\n",
    "# view the first 5 rows of the dataset\n",
    "pd.set_option('display.max_columns', 30)\n",
    "data.head()"
   ]
  },
  {
   "cell_type": "code",
   "execution_count": 3,
   "id": "6bf3460b",
   "metadata": {},
   "outputs": [
    {
     "name": "stdout",
     "output_type": "stream",
     "text": [
      "<class 'pandas.core.frame.DataFrame'>\n",
      "RangeIndex: 491 entries, 0 to 490\n",
      "Data columns (total 22 columns):\n",
      " #   Column               Non-Null Count  Dtype  \n",
      "---  ------               --------------  -----  \n",
      " 0   Sex                  491 non-null    int64  \n",
      " 1   AgeBaseline          491 non-null    int64  \n",
      " 2   HistoryDiabetes      491 non-null    int64  \n",
      " 3   HistoryCHD           491 non-null    int64  \n",
      " 4   HistoryVascular      491 non-null    int64  \n",
      " 5   HistorySmoking       491 non-null    int64  \n",
      " 6   HistoryHTN           491 non-null    int64  \n",
      " 7   HistoryDLD           491 non-null    int64  \n",
      " 8   HistoryObesity       491 non-null    int64  \n",
      " 9   DLDmeds              491 non-null    int64  \n",
      " 10  DMmeds               491 non-null    int64  \n",
      " 11  HTNmeds              491 non-null    int64  \n",
      " 12  ACEIARB              491 non-null    int64  \n",
      " 13  CholesterolBaseline  491 non-null    float64\n",
      " 14  CreatinineBaseline   491 non-null    float64\n",
      " 15  eGFRBaseline         491 non-null    float64\n",
      " 16  sBPBaseline          491 non-null    int64  \n",
      " 17  dBPBaseline          491 non-null    int64  \n",
      " 18  BMIBaseline          491 non-null    int64  \n",
      " 19  TimeToEventMonths    491 non-null    int64  \n",
      " 20  EventCKD35           491 non-null    int64  \n",
      " 21  TIME_YEAR            491 non-null    int64  \n",
      "dtypes: float64(3), int64(19)\n",
      "memory usage: 84.5 KB\n"
     ]
    }
   ],
   "source": [
    "# top level overview of the dataset\n",
    "data.info()"
   ]
  },
  {
   "cell_type": "markdown",
   "id": "cb407196",
   "metadata": {},
   "source": [
    "#### Attributes Description\n",
    "\n",
    "1. Sex - gender of the patients; Woman 0 and 1 man\n",
    "2. AgeBaseline - age of the patient\n",
    "3. HistoryDiabetes - if the patient had diabetes in their life\n",
    "4. HistoryCHD - if the patient had coronary heart disease (CHD) in their life\n",
    "5. HistoryVascular - if the patient had vascular disease in their life\n",
    "6. HistorySmoking - if the patient used to smoke\n",
    "7. HistoryHTN  - if the patient had hypertension\n",
    "8. HistoryDLD - if the patient had dyslipidemia (imbalance of lipids such as cholesterol, low-density lipoprotein cholesterol, (LDL-C), triglycerides, and high-density lipoprotein (HDL))\n",
    "9. HistoryObesity - if the patient has been obese\n",
    "10. DLDmeds - if the patient takes dyslipidemia medicines\n",
    "11. DMmeds - if the patient takes diabetes medications\n",
    "12. HTNmeds - if the patient takes hypertension medications\n",
    "13. ACEIARB - if the patient takes ACEI or ARB medications\n",
    "14. CholesterolBaseline - cholesterol level\n",
    "15. CreatinineBaseline - creatinine level\n",
    "16. eGFRBaseline - estimated glomerular filtration rate (eGFR), a measure of renal function\n",
    "17. sBPBaseline - systolic blood pressure\n",
    "18. dBPBaseline - diastolic blood pressure\n",
    "19. BMIBaseline - body-mass index\n",
    "20. TimeToEventMonths - number of months from follow-up start to a severe chronic kidney disease (CKD) event or to last visit\n",
    "21. EventCKD35 - severe chronic kidney disease (CKD) event\n",
    "22. TIME_YEAR - year from follow-up start to a severe chronic kidney disease (CKD) event or to last visit"
   ]
  },
  {
   "cell_type": "code",
   "execution_count": 4,
   "id": "74be6faf",
   "metadata": {},
   "outputs": [],
   "source": [
    "# remove the white space in column names\n",
    "colNames = list(data.columns)\n",
    "colNames = [x.strip(' ') for x in colNames]\n",
    "data.columns = colNames"
   ]
  },
  {
   "cell_type": "code",
   "execution_count": 5,
   "id": "04a3da0d",
   "metadata": {},
   "outputs": [],
   "source": [
    "# exclude the 'Time' data ['TimeToEventMonths','TIME_YEAR']\n",
    "data.drop(columns=['TimeToEventMonths','TIME_YEAR'], axis=1, inplace=True)"
   ]
  },
  {
   "cell_type": "code",
   "execution_count": 6,
   "id": "6122f460",
   "metadata": {},
   "outputs": [
    {
     "name": "stdout",
     "output_type": "stream",
     "text": [
      "Dimension of training dataset:  (392, 20)\n",
      "Dimension of test dataset:  (99, 20)\n"
     ]
    }
   ],
   "source": [
    "from sklearn.model_selection import train_test_split\n",
    "\n",
    "# split the dataset into training and test data\n",
    "train, test = train_test_split(data, test_size=0.2, random_state=122)\n",
    "\n",
    "# check dimension of the training and test dataset\n",
    "print('Dimension of training dataset: ', train.shape)\n",
    "print('Dimension of test dataset: ', test.shape)"
   ]
  },
  {
   "cell_type": "code",
   "execution_count": 7,
   "id": "216e97b0",
   "metadata": {},
   "outputs": [
    {
     "data": {
      "image/png": "[encoded data removed]",
      "text/plain": [
       "<Figure size 1080x360 with 2 Axes>"
      ]
     },
     "metadata": {
      "needs_background": "light"
     },
     "output_type": "display_data"
    }
   ],
   "source": [
    "# distribution of the target/label in the dataset\n",
    "targets = train['EventCKD35'].value_counts()\n",
    "colors = ['lightslategray','lightsalmon']\n",
    "labels = ['No Severe CKD Event','Severe CKD Event']\n",
    "\n",
    "# visualization\n",
    "figure, axes = plt.subplots(1,2, figsize=(15,5), gridspec_kw={'width_ratios':[1.5,1]})\n",
    "axes[0].barh(y=labels, width=targets.values, color=colors, edgecolor='black')\n",
    "axes[0].set_xlabel('Frequency')\n",
    "axes[0].grid(alpha=0.4)\n",
    "\n",
    "for index, values in enumerate(targets):\n",
    "    axes[0].text(values+3, index, str(values), va='center')\n",
    "    \n",
    "axes[1].pie(targets.values, labels=labels, autopct='%.2f%%', explode=([0.05]*len(targets.index)), colors=colors)\n",
    "\n",
    "figure.suptitle('Distribution of Patients: Severe CKD Event vs Non-Severe CKD Event', fontsize=15)\n",
    "plt.tight_layout(pad=1)\n",
    "plt.show()"
   ]
  },
  {
   "cell_type": "code",
   "execution_count": 8,
   "id": "d5cf0a80",
   "metadata": {},
   "outputs": [],
   "source": [
    "# helper function to perform Chi-square test\n",
    "from scipy.stats import chi2_contingency\n",
    "\n",
    "def chi2test(feature, featname, featlabel):\n",
    "    # visualization\n",
    "    plt.figure(figsize=(10,5))\n",
    "    sns.countplot(data=train, x=train[feature], hue=train['EventCKD35'], palette=colors)\n",
    "    plt.xlabel(featname)\n",
    "    plt.xticks([0,1], featlabel)\n",
    "    plt.title(f'Severe CKD Event vs {featname}', fontsize=15)\n",
    "    plt.grid(alpha=0.4)\n",
    "    plt.show()\n",
    "\n",
    "    # observed value\n",
    "    contingency_table = pd.crosstab(train[feature], train['EventCKD35'])\n",
    "    contingency_table.index = featlabel\n",
    "    contingency_table.columns = ['No Severe CKD Event','Severe CKD Event']\n",
    "    print('Observed value: ')\n",
    "    display(contingency_table)\n",
    "\n",
    "    # Chi-square test\n",
    "    res = chi2_contingency(contingency_table)\n",
    "    test_stat = round(res[0], 4)\n",
    "    pvalue = round(res[1], 4)\n",
    "    expected_freq = res[3]\n",
    "\n",
    "    # calculation of Cramer's V (effect size)\n",
    "    X2 = test_stat\n",
    "    N = np.sum(contingency_table.values)\n",
    "    minimum_dimension = min(contingency_table.shape)-1\n",
    "    effect_size = round(np.sqrt((X2/N) / minimum_dimension), 4) \n",
    "\n",
    "    # display the expected frequency\n",
    "    print('Expected frequency: ')\n",
    "    display(pd.DataFrame(expected_freq, index=contingency_table.index, columns=contingency_table.columns))\n",
    "\n",
    "    print('Test statistic: ', test_stat)\n",
    "    print('Test p-value: ', pvalue)\n",
    "    print('Effect size (Cramer\\'s V): ', effect_size)\n",
    "    \n",
    "    return {'Feature':feature, 'Test Statistic':test_stat, 'Test p-value':pvalue, 'Effect Size':effect_size}"
   ]
  },
  {
   "cell_type": "code",
   "execution_count": 9,
   "id": "772982c6",
   "metadata": {},
   "outputs": [],
   "source": [
    "# helper function to compute Cohen's d value\n",
    "def cohen_d(group1, group2):\n",
    "    mean_diff = np.mean(group1) - np.mean(group2)\n",
    "    pooled_std = np.sqrt((np.std(group1, ddof=1) ** 2 + np.std(group2, ddof=1) ** 2) / 2)\n",
    "    \n",
    "    return mean_diff / pooled_std"
   ]
  },
  {
   "cell_type": "code",
   "execution_count": 10,
   "id": "669145e8",
   "metadata": {},
   "outputs": [],
   "source": [
    "from scipy.stats import mannwhitneyu\n",
    "\n",
    "def mwutest(feature, featname):\n",
    "    # visualization\n",
    "    figure, axes = plt.subplots(1,2, figsize=(15,5), gridspec_kw={'width_ratios':[1.5,1]})\n",
    "    sns.histplot(data=train, x=train[feature], hue=train['EventCKD35'], kde=True, ax=axes[0], palette=colors)\n",
    "    axes[0].set_xlabel('Frequency')\n",
    "    sns.boxplot(data=train, x=train['EventCKD35'], y=train[feature], ax=axes[1], palette=colors)\n",
    "    axes[1].set_xticks([0,1],['No Severe CKD Event', 'Severe CKD Event'])\n",
    "    axes[1].set_xlabel(' ')\n",
    "    axes[1].grid(alpha=0.4)\n",
    "    figure.suptitle(f'Distribution of {featname} between Patients Encounter and No Encounter Severe CKD Event', fontsize=15)\n",
    "    plt.tight_layout(pad=1)\n",
    "    plt.show()\n",
    "\n",
    "    # display the summary statistic\n",
    "    groups = train.groupby('EventCKD35')\n",
    "    severeCKD = groups.get_group(1)\n",
    "    nosevereCKD = groups.get_group(0)\n",
    "    display(groups[feature].describe())\n",
    "\n",
    "    # perform Mann-Whitney U test\n",
    "    res = mannwhitneyu(severeCKD[feature], nosevereCKD[feature])\n",
    "    test_stat = round(res[0], 4)\n",
    "    pvalue = round(res[1], 4)\n",
    "\n",
    "    # compute effect size (Cohen's d)\n",
    "    effect_size = round(cohen_d(severeCKD[feature],nosevereCKD[feature]), 4)\n",
    "\n",
    "    # display the statistic test result\n",
    "    print('Test statistic: ', test_stat)\n",
    "    print('Test p-value: ', pvalue)\n",
    "    print('Effect size: ', effect_size)\n",
    "    \n",
    "    return {'Feature':feature, 'Test Statistic':test_stat, 'Test p-value':pvalue, 'Effect Size':effect_size}"
   ]
  },
  {
   "cell_type": "markdown",
   "id": "ec037cff",
   "metadata": {},
   "source": [
    "#### Question 1 | Is there a statistically significant association between gender and the likelihood of patients encounter severe CKD event?"
   ]
  },
  {
   "cell_type": "code",
   "execution_count": 11,
   "id": "5e657d26",
   "metadata": {},
   "outputs": [
    {
     "data": {
      "image/png": "[encoded data removed]",
      "text/plain": [
       "<Figure size 720x360 with 1 Axes>"
      ]
     },
     "metadata": {
      "needs_background": "light"
     },
     "output_type": "display_data"
    },
    {
     "name": "stdout",
     "output_type": "stream",
     "text": [
      "Observed value: \n"
     ]
    },
    {
     "data": {
      "text/html": [
       "<div>\n",
       "<style scoped>\n",
       "    .dataframe tbody tr th:only-of-type {\n",
       "        vertical-align: middle;\n",
       "    }\n",
       "\n",
       "    .dataframe tbody tr th {\n",
       "        vertical-align: top;\n",
       "    }\n",
       "\n",
       "    .dataframe thead th {\n",
       "        text-align: right;\n",
       "    }\n",
       "</style>\n",
       "<table border=\"1\" class=\"dataframe\">\n",
       "  <thead>\n",
       "    <tr style=\"text-align: right;\">\n",
       "      <th></th>\n",
       "      <th>No Severe CKD Event</th>\n",
       "      <th>Severe CKD Event</th>\n",
       "    </tr>\n",
       "  </thead>\n",
       "  <tbody>\n",
       "    <tr>\n",
       "      <th>Female</th>\n",
       "      <td>179</td>\n",
       "      <td>12</td>\n",
       "    </tr>\n",
       "    <tr>\n",
       "      <th>Male</th>\n",
       "      <td>174</td>\n",
       "      <td>27</td>\n",
       "    </tr>\n",
       "  </tbody>\n",
       "</table>\n",
       "</div>"
      ],
      "text/plain": [
       "        No Severe CKD Event  Severe CKD Event\n",
       "Female                  179                12\n",
       "Male                    174                27"
      ]
     },
     "metadata": {},
     "output_type": "display_data"
    },
    {
     "name": "stdout",
     "output_type": "stream",
     "text": [
      "Expected frequency: \n"
     ]
    },
    {
     "data": {
      "text/html": [
       "<div>\n",
       "<style scoped>\n",
       "    .dataframe tbody tr th:only-of-type {\n",
       "        vertical-align: middle;\n",
       "    }\n",
       "\n",
       "    .dataframe tbody tr th {\n",
       "        vertical-align: top;\n",
       "    }\n",
       "\n",
       "    .dataframe thead th {\n",
       "        text-align: right;\n",
       "    }\n",
       "</style>\n",
       "<table border=\"1\" class=\"dataframe\">\n",
       "  <thead>\n",
       "    <tr style=\"text-align: right;\">\n",
       "      <th></th>\n",
       "      <th>No Severe CKD Event</th>\n",
       "      <th>Severe CKD Event</th>\n",
       "    </tr>\n",
       "  </thead>\n",
       "  <tbody>\n",
       "    <tr>\n",
       "      <th>Female</th>\n",
       "      <td>171.997449</td>\n",
       "      <td>19.002551</td>\n",
       "    </tr>\n",
       "    <tr>\n",
       "      <th>Male</th>\n",
       "      <td>181.002551</td>\n",
       "      <td>19.997449</td>\n",
       "    </tr>\n",
       "  </tbody>\n",
       "</table>\n",
       "</div>"
      ],
      "text/plain": [
       "        No Severe CKD Event  Severe CKD Event\n",
       "Female           171.997449         19.002551\n",
       "Male             181.002551         19.997449"
      ]
     },
     "metadata": {},
     "output_type": "display_data"
    },
    {
     "name": "stdout",
     "output_type": "stream",
     "text": [
      "Test statistic:  4.819\n",
      "Test p-value:  0.0281\n",
      "Effect size (Cramer's V):  0.1109\n"
     ]
    }
   ],
   "source": [
    "gender = chi2test('Sex', 'Gender', ['Female','Male'])\n",
    "\n",
    "# store the result in a list\n",
    "res_list = []\n",
    "res_list.append(gender)"
   ]
  },
  {
   "cell_type": "markdown",
   "id": "94047a40",
   "metadata": {},
   "source": [
    "#### Interpretation of Test Result:\n",
    "\n",
    "In investigating the association between patients' gender and the likelihood of encountering severe chronic kidney disease (CKD) events, a chi-square test was employed to compare the distribution between patients with and without severe CKD events. The observed contingency table reveals that among patients without severe CKD events, 217 females and 136 males did not experience the event, while 12 females and 33 males did. Among patients with severe CKD events, 179 females and 174 males did not encounter the event, while 27 females and 6 males did. The chi-square test yielded a test statistic of 4.819, with a p-value of 0.0281, indicating a statistically significant association between patients' gender and the likelihood of experiencing severe CKD events.\n",
    "\n",
    "Moreover, the calculated effect size, Cramer's V, was 0.1109, suggesting a small effect. This implies that while the association is statistically significant, the practical significance is modest. In summary, the statistical analysis suggests a meaningful association between patients' gender and the occurrence of severe CKD events. The small effect size adds context to the strength of this association, emphasizing its practical significance. Further exploration and consideration of clinical implications would contribute to a more comprehensive understanding of these findings."
   ]
  },
  {
   "cell_type": "markdown",
   "id": "26bc827f",
   "metadata": {},
   "source": [
    "#### Question 2 | Is there a statistically significant association between age and the likelihood of patients to encounter severe CKD event?"
   ]
  },
  {
   "cell_type": "code",
   "execution_count": 12,
   "id": "d7a9c585",
   "metadata": {},
   "outputs": [
    {
     "name": "stderr",
     "output_type": "stream",
     "text": [
      "C:\\Users\\65814\\AppData\\Local\\Temp\\ipykernel_10660\\1558790514.py:8: FutureWarning: \n",
      "\n",
      "Passing `palette` without assigning `hue` is deprecated and will be removed in v0.14.0. Assign the `x` variable to `hue` and set `legend=False` for the same effect.\n",
      "\n",
      "  sns.boxplot(data=train, x=train['EventCKD35'], y=train[feature], ax=axes[1], palette=colors)\n"
     ]
    },
    {
     "data": {
      "image/png": "[encoded data removed]",
      "text/plain": [
       "<Figure size 1080x360 with 2 Axes>"
      ]
     },
     "metadata": {
      "needs_background": "light"
     },
     "output_type": "display_data"
    },
    {
     "data": {
      "text/html": [
       "<div>\n",
       "<style scoped>\n",
       "    .dataframe tbody tr th:only-of-type {\n",
       "        vertical-align: middle;\n",
       "    }\n",
       "\n",
       "    .dataframe tbody tr th {\n",
       "        vertical-align: top;\n",
       "    }\n",
       "\n",
       "    .dataframe thead th {\n",
       "        text-align: right;\n",
       "    }\n",
       "</style>\n",
       "<table border=\"1\" class=\"dataframe\">\n",
       "  <thead>\n",
       "    <tr style=\"text-align: right;\">\n",
       "      <th></th>\n",
       "      <th>count</th>\n",
       "      <th>mean</th>\n",
       "      <th>std</th>\n",
       "      <th>min</th>\n",
       "      <th>25%</th>\n",
       "      <th>50%</th>\n",
       "      <th>75%</th>\n",
       "      <th>max</th>\n",
       "    </tr>\n",
       "    <tr>\n",
       "      <th>EventCKD35</th>\n",
       "      <th></th>\n",
       "      <th></th>\n",
       "      <th></th>\n",
       "      <th></th>\n",
       "      <th></th>\n",
       "      <th></th>\n",
       "      <th></th>\n",
       "      <th></th>\n",
       "    </tr>\n",
       "  </thead>\n",
       "  <tbody>\n",
       "    <tr>\n",
       "      <th>0</th>\n",
       "      <td>353.0</td>\n",
       "      <td>52.266289</td>\n",
       "      <td>14.02544</td>\n",
       "      <td>23.0</td>\n",
       "      <td>44.0</td>\n",
       "      <td>53.0</td>\n",
       "      <td>63.0</td>\n",
       "      <td>80.0</td>\n",
       "    </tr>\n",
       "    <tr>\n",
       "      <th>1</th>\n",
       "      <td>39.0</td>\n",
       "      <td>63.153846</td>\n",
       "      <td>9.57117</td>\n",
       "      <td>39.0</td>\n",
       "      <td>57.0</td>\n",
       "      <td>62.0</td>\n",
       "      <td>68.5</td>\n",
       "      <td>89.0</td>\n",
       "    </tr>\n",
       "  </tbody>\n",
       "</table>\n",
       "</div>"
      ],
      "text/plain": [
       "            count       mean       std   min   25%   50%   75%   max\n",
       "EventCKD35                                                          \n",
       "0           353.0  52.266289  14.02544  23.0  44.0  53.0  63.0  80.0\n",
       "1            39.0  63.153846   9.57117  39.0  57.0  62.0  68.5  89.0"
      ]
     },
     "metadata": {},
     "output_type": "display_data"
    },
    {
     "name": "stdout",
     "output_type": "stream",
     "text": [
      "Test statistic:  10016.0\n",
      "Test p-value:  0.0\n",
      "Effect size:  0.9068\n"
     ]
    }
   ],
   "source": [
    "age = mwutest('AgeBaseline','Age')\n",
    "res_list.append(age)"
   ]
  },
  {
   "cell_type": "markdown",
   "id": "0387e39a",
   "metadata": {},
   "source": [
    "#### Interpretation of Test Result:\n",
    "\n",
    "In examining the association between age and the likelihood of patients encountering severe chronic kidney disease (CKD) events, a Mann-Whitney U test was conducted to compare the mean age between patients with and without severe CKD events. The descriptive statistics reveal that among patients without severe CKD events, the mean age was 52.27 ± 14.03 years, while among those with severe CKD events, the mean age was 63.15 ± 9.57 years. The Mann-Whitney U test resulted in a highly significant test statistic of 10016.0, with a p-value of 0.0, indicating a robust difference in age between the two groups.\n",
    "\n",
    "Additionally, the calculated effect size, Cohen's d, was 0.9068, suggesting a large effect. This implies a substantial and practically significant difference in age between patients with and without severe CKD events. The results suggest that patients who experience severe CKD events tend to be older than those without such events, emphasizing the potential impact of age on CKD outcomes. The large effect size underscores the strength of this association. Further exploration and consideration of clinical implications would contribute to a more comprehensive understanding of these findings."
   ]
  },
  {
   "cell_type": "markdown",
   "id": "a3879da9",
   "metadata": {},
   "source": [
    "#### Question3 | Is there a statistically significant association between a history of diabetes and the likelihood of patients experiencing a severe chronic kidney disease (CKD) event?"
   ]
  },
  {
   "cell_type": "code",
   "execution_count": 13,
   "id": "6bf3e0b0",
   "metadata": {},
   "outputs": [
    {
     "data": {
      "image/png": "[encoded data removed]",
      "text/plain": [
       "<Figure size 720x360 with 1 Axes>"
      ]
     },
     "metadata": {
      "needs_background": "light"
     },
     "output_type": "display_data"
    },
    {
     "name": "stdout",
     "output_type": "stream",
     "text": [
      "Observed value: \n"
     ]
    },
    {
     "data": {
      "text/html": [
       "<div>\n",
       "<style scoped>\n",
       "    .dataframe tbody tr th:only-of-type {\n",
       "        vertical-align: middle;\n",
       "    }\n",
       "\n",
       "    .dataframe tbody tr th {\n",
       "        vertical-align: top;\n",
       "    }\n",
       "\n",
       "    .dataframe thead th {\n",
       "        text-align: right;\n",
       "    }\n",
       "</style>\n",
       "<table border=\"1\" class=\"dataframe\">\n",
       "  <thead>\n",
       "    <tr style=\"text-align: right;\">\n",
       "      <th></th>\n",
       "      <th>No Severe CKD Event</th>\n",
       "      <th>Severe CKD Event</th>\n",
       "    </tr>\n",
       "  </thead>\n",
       "  <tbody>\n",
       "    <tr>\n",
       "      <th>No</th>\n",
       "      <td>217</td>\n",
       "      <td>6</td>\n",
       "    </tr>\n",
       "    <tr>\n",
       "      <th>Yes</th>\n",
       "      <td>136</td>\n",
       "      <td>33</td>\n",
       "    </tr>\n",
       "  </tbody>\n",
       "</table>\n",
       "</div>"
      ],
      "text/plain": [
       "     No Severe CKD Event  Severe CKD Event\n",
       "No                   217                 6\n",
       "Yes                  136                33"
      ]
     },
     "metadata": {},
     "output_type": "display_data"
    },
    {
     "name": "stdout",
     "output_type": "stream",
     "text": [
      "Expected frequency: \n"
     ]
    },
    {
     "data": {
      "text/html": [
       "<div>\n",
       "<style scoped>\n",
       "    .dataframe tbody tr th:only-of-type {\n",
       "        vertical-align: middle;\n",
       "    }\n",
       "\n",
       "    .dataframe tbody tr th {\n",
       "        vertical-align: top;\n",
       "    }\n",
       "\n",
       "    .dataframe thead th {\n",
       "        text-align: right;\n",
       "    }\n",
       "</style>\n",
       "<table border=\"1\" class=\"dataframe\">\n",
       "  <thead>\n",
       "    <tr style=\"text-align: right;\">\n",
       "      <th></th>\n",
       "      <th>No Severe CKD Event</th>\n",
       "      <th>Severe CKD Event</th>\n",
       "    </tr>\n",
       "  </thead>\n",
       "  <tbody>\n",
       "    <tr>\n",
       "      <th>No</th>\n",
       "      <td>200.813776</td>\n",
       "      <td>22.186224</td>\n",
       "    </tr>\n",
       "    <tr>\n",
       "      <th>Yes</th>\n",
       "      <td>152.186224</td>\n",
       "      <td>16.813776</td>\n",
       "    </tr>\n",
       "  </tbody>\n",
       "</table>\n",
       "</div>"
      ],
      "text/plain": [
       "     No Severe CKD Event  Severe CKD Event\n",
       "No            200.813776         22.186224\n",
       "Yes           152.186224         16.813776"
      ]
     },
     "metadata": {},
     "output_type": "display_data"
    },
    {
     "name": "stdout",
     "output_type": "stream",
     "text": [
      "Test statistic:  28.567\n",
      "Test p-value:  0.0\n",
      "Effect size (Cramer's V):  0.27\n"
     ]
    }
   ],
   "source": [
    "diabetes = chi2test('HistoryDiabetes','History of Diabetes',['No','Yes'])\n",
    "res_list.append(diabetes)"
   ]
  },
  {
   "cell_type": "markdown",
   "id": "f0078260",
   "metadata": {},
   "source": [
    "#### Interpretation of Test Result:\n",
    "\n",
    "In examining the association between a history of diabetes and the likelihood of patients encountering severe chronic kidney disease (CKD) events, a chi-square test was employed to compare the distribution between patients with and without severe CKD events. The observed contingency table reveals that among patients without severe CKD events, 217 did not have a history of diabetes, while 136 did. Conversely, among patients with severe CKD events, 6 did not have a history of diabetes, and 33 did. The chi-square test yielded a highly significant test statistic of 28.567, with a p-value of 0.0, indicating a robust association between a history of diabetes and the likelihood of experiencing severe CKD events.\n",
    "\n",
    "Additionally, the calculated effect size, Cramer's V, was 0.27, suggesting a moderate effect. This implies a meaningful and practically significant association between a history of diabetes and the occurrence of severe CKD events. The results suggest that patients with a history of diabetes are more likely to encounter severe CKD events, underscoring the potential impact of diabetes on CKD outcomes. The moderate effect size adds context to the strength of this association, emphasizing its practical significance. Further exploration and consideration of clinical implications would contribute to a more comprehensive understanding of these findings."
   ]
  },
  {
   "cell_type": "markdown",
   "id": "065788b4",
   "metadata": {},
   "source": [
    "#### Question 4 | Is there a statistically significant association between a history of coronary heart disease (CHD) and the likelihood of patients experiencing a severe chronic kidney disease (CKD) event?"
   ]
  },
  {
   "cell_type": "code",
   "execution_count": 14,
   "id": "923670a0",
   "metadata": {},
   "outputs": [
    {
     "data": {
      "image/png": "[encoded data removed]",
      "text/plain": [
       "<Figure size 720x360 with 1 Axes>"
      ]
     },
     "metadata": {
      "needs_background": "light"
     },
     "output_type": "display_data"
    },
    {
     "name": "stdout",
     "output_type": "stream",
     "text": [
      "Observed value: \n"
     ]
    },
    {
     "data": {
      "text/html": [
       "<div>\n",
       "<style scoped>\n",
       "    .dataframe tbody tr th:only-of-type {\n",
       "        vertical-align: middle;\n",
       "    }\n",
       "\n",
       "    .dataframe tbody tr th {\n",
       "        vertical-align: top;\n",
       "    }\n",
       "\n",
       "    .dataframe thead th {\n",
       "        text-align: right;\n",
       "    }\n",
       "</style>\n",
       "<table border=\"1\" class=\"dataframe\">\n",
       "  <thead>\n",
       "    <tr style=\"text-align: right;\">\n",
       "      <th></th>\n",
       "      <th>No Severe CKD Event</th>\n",
       "      <th>Severe CKD Event</th>\n",
       "    </tr>\n",
       "  </thead>\n",
       "  <tbody>\n",
       "    <tr>\n",
       "      <th>No</th>\n",
       "      <td>329</td>\n",
       "      <td>28</td>\n",
       "    </tr>\n",
       "    <tr>\n",
       "      <th>Yes</th>\n",
       "      <td>24</td>\n",
       "      <td>11</td>\n",
       "    </tr>\n",
       "  </tbody>\n",
       "</table>\n",
       "</div>"
      ],
      "text/plain": [
       "     No Severe CKD Event  Severe CKD Event\n",
       "No                   329                28\n",
       "Yes                   24                11"
      ]
     },
     "metadata": {},
     "output_type": "display_data"
    },
    {
     "name": "stdout",
     "output_type": "stream",
     "text": [
      "Expected frequency: \n"
     ]
    },
    {
     "data": {
      "text/html": [
       "<div>\n",
       "<style scoped>\n",
       "    .dataframe tbody tr th:only-of-type {\n",
       "        vertical-align: middle;\n",
       "    }\n",
       "\n",
       "    .dataframe tbody tr th {\n",
       "        vertical-align: top;\n",
       "    }\n",
       "\n",
       "    .dataframe thead th {\n",
       "        text-align: right;\n",
       "    }\n",
       "</style>\n",
       "<table border=\"1\" class=\"dataframe\">\n",
       "  <thead>\n",
       "    <tr style=\"text-align: right;\">\n",
       "      <th></th>\n",
       "      <th>No Severe CKD Event</th>\n",
       "      <th>Severe CKD Event</th>\n",
       "    </tr>\n",
       "  </thead>\n",
       "  <tbody>\n",
       "    <tr>\n",
       "      <th>No</th>\n",
       "      <td>321.482143</td>\n",
       "      <td>35.517857</td>\n",
       "    </tr>\n",
       "    <tr>\n",
       "      <th>Yes</th>\n",
       "      <td>31.517857</td>\n",
       "      <td>3.482143</td>\n",
       "    </tr>\n",
       "  </tbody>\n",
       "</table>\n",
       "</div>"
      ],
      "text/plain": [
       "     No Severe CKD Event  Severe CKD Event\n",
       "No            321.482143         35.517857\n",
       "Yes            31.517857          3.482143"
      ]
     },
     "metadata": {},
     "output_type": "display_data"
    },
    {
     "name": "stdout",
     "output_type": "stream",
     "text": [
      "Test statistic:  17.2461\n",
      "Test p-value:  0.0\n",
      "Effect size (Cramer's V):  0.2098\n"
     ]
    }
   ],
   "source": [
    "chd = chi2test('HistoryCHD','Coronary Heart Disease History',['No','Yes'])\n",
    "res_list.append(chd)"
   ]
  },
  {
   "cell_type": "markdown",
   "id": "1a1d8b41",
   "metadata": {},
   "source": [
    "#### Interpretation of Test Result:\n",
    "\n",
    "In investigating the association between a history of coronary heart disease (CHD) and the likelihood of patients encountering severe chronic kidney disease (CKD) events, a chi-square test was utilized to compare the distribution between patients with and without severe CKD events. The observed contingency table reveals that among patients without severe CKD events, 329 did not have a history of CHD, while 24 did. Conversely, among patients with severe CKD events, 28 did not have a history of CHD, and 11 did. The chi-square test yielded a highly significant test statistic of 17.2461, with a p-value of 0.0, indicating a robust association between a history of CHD and the likelihood of experiencing severe CKD events.\n",
    "\n",
    "Furthermore, the calculated effect size, Cramer's V, was 0.2098, suggesting a moderate effect. This implies a meaningful and practically significant association between a history of CHD and the occurrence of severe CKD events. The results suggest that patients with a history of CHD are more likely to encounter severe CKD events, emphasizing the potential impact of CHD on CKD outcomes. The moderate effect size enhances the confidence in the strength of this association. Further exploration and consideration of clinical implications would contribute to a more comprehensive understanding of these findings."
   ]
  },
  {
   "cell_type": "markdown",
   "id": "e6f05ae0",
   "metadata": {},
   "source": [
    "#### Question 5 | Is there a statistically significant association between a history of vascular diseases and the likelihood of patients experiencing a severe chronic kidney disease (CKD) event?"
   ]
  },
  {
   "cell_type": "code",
   "execution_count": 15,
   "id": "28b07a45",
   "metadata": {},
   "outputs": [
    {
     "data": {
      "image/png": "[encoded data removed]",
      "text/plain": [
       "<Figure size 720x360 with 1 Axes>"
      ]
     },
     "metadata": {
      "needs_background": "light"
     },
     "output_type": "display_data"
    },
    {
     "name": "stdout",
     "output_type": "stream",
     "text": [
      "Observed value: \n"
     ]
    },
    {
     "data": {
      "text/html": [
       "<div>\n",
       "<style scoped>\n",
       "    .dataframe tbody tr th:only-of-type {\n",
       "        vertical-align: middle;\n",
       "    }\n",
       "\n",
       "    .dataframe tbody tr th {\n",
       "        vertical-align: top;\n",
       "    }\n",
       "\n",
       "    .dataframe thead th {\n",
       "        text-align: right;\n",
       "    }\n",
       "</style>\n",
       "<table border=\"1\" class=\"dataframe\">\n",
       "  <thead>\n",
       "    <tr style=\"text-align: right;\">\n",
       "      <th></th>\n",
       "      <th>No Severe CKD Event</th>\n",
       "      <th>Severe CKD Event</th>\n",
       "    </tr>\n",
       "  </thead>\n",
       "  <tbody>\n",
       "    <tr>\n",
       "      <th>No</th>\n",
       "      <td>335</td>\n",
       "      <td>36</td>\n",
       "    </tr>\n",
       "    <tr>\n",
       "      <th>Yes</th>\n",
       "      <td>18</td>\n",
       "      <td>3</td>\n",
       "    </tr>\n",
       "  </tbody>\n",
       "</table>\n",
       "</div>"
      ],
      "text/plain": [
       "     No Severe CKD Event  Severe CKD Event\n",
       "No                   335                36\n",
       "Yes                   18                 3"
      ]
     },
     "metadata": {},
     "output_type": "display_data"
    },
    {
     "name": "stdout",
     "output_type": "stream",
     "text": [
      "Expected frequency: \n"
     ]
    },
    {
     "data": {
      "text/html": [
       "<div>\n",
       "<style scoped>\n",
       "    .dataframe tbody tr th:only-of-type {\n",
       "        vertical-align: middle;\n",
       "    }\n",
       "\n",
       "    .dataframe tbody tr th {\n",
       "        vertical-align: top;\n",
       "    }\n",
       "\n",
       "    .dataframe thead th {\n",
       "        text-align: right;\n",
       "    }\n",
       "</style>\n",
       "<table border=\"1\" class=\"dataframe\">\n",
       "  <thead>\n",
       "    <tr style=\"text-align: right;\">\n",
       "      <th></th>\n",
       "      <th>No Severe CKD Event</th>\n",
       "      <th>Severe CKD Event</th>\n",
       "    </tr>\n",
       "  </thead>\n",
       "  <tbody>\n",
       "    <tr>\n",
       "      <th>No</th>\n",
       "      <td>334.089286</td>\n",
       "      <td>36.910714</td>\n",
       "    </tr>\n",
       "    <tr>\n",
       "      <th>Yes</th>\n",
       "      <td>18.910714</td>\n",
       "      <td>2.089286</td>\n",
       "    </tr>\n",
       "  </tbody>\n",
       "</table>\n",
       "</div>"
      ],
      "text/plain": [
       "     No Severe CKD Event  Severe CKD Event\n",
       "No            334.089286         36.910714\n",
       "Yes            18.910714          2.089286"
      ]
     },
     "metadata": {},
     "output_type": "display_data"
    },
    {
     "name": "stdout",
     "output_type": "stream",
     "text": [
      "Test statistic:  0.0947\n",
      "Test p-value:  0.7582\n",
      "Effect size (Cramer's V):  0.0155\n"
     ]
    }
   ],
   "source": [
    "vascular = chi2test('HistoryVascular','Vascular Disease History',['No','Yes'])\n",
    "res_list.append(vascular)"
   ]
  },
  {
   "cell_type": "markdown",
   "id": "649b2ac5",
   "metadata": {},
   "source": [
    "#### Interpretation of Test Result:\n",
    "\n",
    "In exploring the association between a history of vascular disease and the likelihood of patients encountering severe chronic kidney disease (CKD) events, a chi-square test was employed to compare the distribution between patients with and without severe CKD events. The observed contingency table reveals that among patients without severe CKD events, 335 did not have a history of vascular disease, while 18 did. Conversely, among patients with severe CKD events, 36 did not have a history of vascular disease, and 3 did. The chi-square test yielded a test statistic of 0.0947, with a p-value of 0.7582, indicating that there is no statistically significant association between a history of vascular disease and the likelihood of experiencing severe CKD events.\n",
    "\n",
    "Moreover, the calculated effect size, Cramer's V, was 0.0155, suggesting a very small effect. This implies that the observed association, while not statistically significant, has minimal practical significance. In summary, the statistical analysis suggests no meaningful association between a history of vascular disease and the occurrence of severe CKD events in this sample. The lack of statistical significance, coupled with the very small effect size, suggests that a history of vascular disease may not be a substantial factor in predicting the likelihood of severe CKD events. Further research and consideration of other relevant factors are warranted to provide a more comprehensive understanding of the relationship between vascular disease and CKD outcomes."
   ]
  },
  {
   "cell_type": "markdown",
   "id": "e686353d",
   "metadata": {},
   "source": [
    "#### Question 6 | Is there a statistically significant association between a history of smoking and the likelihood of patients experiencing a severe chronic kidney disease (CKD) event?"
   ]
  },
  {
   "cell_type": "code",
   "execution_count": 16,
   "id": "72b4b59f",
   "metadata": {},
   "outputs": [
    {
     "data": {
      "image/png": "[encoded data removed]",
      "text/plain": [
       "<Figure size 720x360 with 1 Axes>"
      ]
     },
     "metadata": {
      "needs_background": "light"
     },
     "output_type": "display_data"
    },
    {
     "name": "stdout",
     "output_type": "stream",
     "text": [
      "Observed value: \n"
     ]
    },
    {
     "data": {
      "text/html": [
       "<div>\n",
       "<style scoped>\n",
       "    .dataframe tbody tr th:only-of-type {\n",
       "        vertical-align: middle;\n",
       "    }\n",
       "\n",
       "    .dataframe tbody tr th {\n",
       "        vertical-align: top;\n",
       "    }\n",
       "\n",
       "    .dataframe thead th {\n",
       "        text-align: right;\n",
       "    }\n",
       "</style>\n",
       "<table border=\"1\" class=\"dataframe\">\n",
       "  <thead>\n",
       "    <tr style=\"text-align: right;\">\n",
       "      <th></th>\n",
       "      <th>No Severe CKD Event</th>\n",
       "      <th>Severe CKD Event</th>\n",
       "    </tr>\n",
       "  </thead>\n",
       "  <tbody>\n",
       "    <tr>\n",
       "      <th>No</th>\n",
       "      <td>305</td>\n",
       "      <td>31</td>\n",
       "    </tr>\n",
       "    <tr>\n",
       "      <th>Yes</th>\n",
       "      <td>48</td>\n",
       "      <td>8</td>\n",
       "    </tr>\n",
       "  </tbody>\n",
       "</table>\n",
       "</div>"
      ],
      "text/plain": [
       "     No Severe CKD Event  Severe CKD Event\n",
       "No                   305                31\n",
       "Yes                   48                 8"
      ]
     },
     "metadata": {},
     "output_type": "display_data"
    },
    {
     "name": "stdout",
     "output_type": "stream",
     "text": [
      "Expected frequency: \n"
     ]
    },
    {
     "data": {
      "text/html": [
       "<div>\n",
       "<style scoped>\n",
       "    .dataframe tbody tr th:only-of-type {\n",
       "        vertical-align: middle;\n",
       "    }\n",
       "\n",
       "    .dataframe tbody tr th {\n",
       "        vertical-align: top;\n",
       "    }\n",
       "\n",
       "    .dataframe thead th {\n",
       "        text-align: right;\n",
       "    }\n",
       "</style>\n",
       "<table border=\"1\" class=\"dataframe\">\n",
       "  <thead>\n",
       "    <tr style=\"text-align: right;\">\n",
       "      <th></th>\n",
       "      <th>No Severe CKD Event</th>\n",
       "      <th>Severe CKD Event</th>\n",
       "    </tr>\n",
       "  </thead>\n",
       "  <tbody>\n",
       "    <tr>\n",
       "      <th>No</th>\n",
       "      <td>302.571429</td>\n",
       "      <td>33.428571</td>\n",
       "    </tr>\n",
       "    <tr>\n",
       "      <th>Yes</th>\n",
       "      <td>50.428571</td>\n",
       "      <td>5.571429</td>\n",
       "    </tr>\n",
       "  </tbody>\n",
       "</table>\n",
       "</div>"
      ],
      "text/plain": [
       "     No Severe CKD Event  Severe CKD Event\n",
       "No            302.571429         33.428571\n",
       "Yes            50.428571          5.571429"
      ]
     },
     "metadata": {},
     "output_type": "display_data"
    },
    {
     "name": "stdout",
     "output_type": "stream",
     "text": [
      "Test statistic:  0.8649\n",
      "Test p-value:  0.3524\n",
      "Effect size (Cramer's V):  0.047\n"
     ]
    }
   ],
   "source": [
    "smoking = chi2test('HistorySmoking','Smoking History',['No','Yes'])\n",
    "res_list.append(smoking)"
   ]
  },
  {
   "cell_type": "markdown",
   "id": "4417c8e6",
   "metadata": {},
   "source": [
    "#### Interpretation of Test Result:\n",
    "\n",
    "In examining the association between a history of smoking and the likelihood of patients encountering severe chronic kidney disease (CKD) events, a chi-square test was conducted to compare the distribution between patients with and without severe CKD events. The observed contingency table indicates that among patients without severe CKD events, 305 did not have a history of smoking, while 48 did. Conversely, among patients with severe CKD events, 31 did not have a history of smoking, and 8 did. The chi-square test yielded a test statistic of 0.8649, with a p-value of 0.3524, suggesting that there is no statistically significant association between a history of smoking and the likelihood of experiencing severe CKD events.\n",
    "\n",
    "Additionally, the calculated effect size, Cramer's V, was 0.047, indicating a very small effect. This implies that the observed association, while not statistically significant, has limited practical significance. In summary, the statistical analysis suggests no meaningful association between a history of smoking and the occurrence of severe CKD events in this sample. The lack of statistical significance, coupled with the very small effect size, suggests that smoking history may not be a substantial factor in predicting the likelihood of severe CKD events. Further research and consideration of other relevant factors are necessary to provide a more nuanced understanding of the relationship between smoking and CKD outcomes."
   ]
  },
  {
   "cell_type": "markdown",
   "id": "d351d167",
   "metadata": {},
   "source": [
    "#### Question 7 | Is there a statistically significant association between a history of hypertension and the likelihood of patients experiencing a severe chronic kidney disease (CKD) event?"
   ]
  },
  {
   "cell_type": "code",
   "execution_count": 17,
   "id": "d0aa4b40",
   "metadata": {},
   "outputs": [
    {
     "data": {
      "image/png": "[encoded data removed]",
      "text/plain": [
       "<Figure size 720x360 with 1 Axes>"
      ]
     },
     "metadata": {
      "needs_background": "light"
     },
     "output_type": "display_data"
    },
    {
     "name": "stdout",
     "output_type": "stream",
     "text": [
      "Observed value: \n"
     ]
    },
    {
     "data": {
      "text/html": [
       "<div>\n",
       "<style scoped>\n",
       "    .dataframe tbody tr th:only-of-type {\n",
       "        vertical-align: middle;\n",
       "    }\n",
       "\n",
       "    .dataframe tbody tr th {\n",
       "        vertical-align: top;\n",
       "    }\n",
       "\n",
       "    .dataframe thead th {\n",
       "        text-align: right;\n",
       "    }\n",
       "</style>\n",
       "<table border=\"1\" class=\"dataframe\">\n",
       "  <thead>\n",
       "    <tr style=\"text-align: right;\">\n",
       "      <th></th>\n",
       "      <th>No Severe CKD Event</th>\n",
       "      <th>Severe CKD Event</th>\n",
       "    </tr>\n",
       "  </thead>\n",
       "  <tbody>\n",
       "    <tr>\n",
       "      <th>No</th>\n",
       "      <td>120</td>\n",
       "      <td>4</td>\n",
       "    </tr>\n",
       "    <tr>\n",
       "      <th>Yes</th>\n",
       "      <td>233</td>\n",
       "      <td>35</td>\n",
       "    </tr>\n",
       "  </tbody>\n",
       "</table>\n",
       "</div>"
      ],
      "text/plain": [
       "     No Severe CKD Event  Severe CKD Event\n",
       "No                   120                 4\n",
       "Yes                  233                35"
      ]
     },
     "metadata": {},
     "output_type": "display_data"
    },
    {
     "name": "stdout",
     "output_type": "stream",
     "text": [
      "Expected frequency: \n"
     ]
    },
    {
     "data": {
      "text/html": [
       "<div>\n",
       "<style scoped>\n",
       "    .dataframe tbody tr th:only-of-type {\n",
       "        vertical-align: middle;\n",
       "    }\n",
       "\n",
       "    .dataframe tbody tr th {\n",
       "        vertical-align: top;\n",
       "    }\n",
       "\n",
       "    .dataframe thead th {\n",
       "        text-align: right;\n",
       "    }\n",
       "</style>\n",
       "<table border=\"1\" class=\"dataframe\">\n",
       "  <thead>\n",
       "    <tr style=\"text-align: right;\">\n",
       "      <th></th>\n",
       "      <th>No Severe CKD Event</th>\n",
       "      <th>Severe CKD Event</th>\n",
       "    </tr>\n",
       "  </thead>\n",
       "  <tbody>\n",
       "    <tr>\n",
       "      <th>No</th>\n",
       "      <td>111.663265</td>\n",
       "      <td>12.336735</td>\n",
       "    </tr>\n",
       "    <tr>\n",
       "      <th>Yes</th>\n",
       "      <td>241.336735</td>\n",
       "      <td>26.663265</td>\n",
       "    </tr>\n",
       "  </tbody>\n",
       "</table>\n",
       "</div>"
      ],
      "text/plain": [
       "     No Severe CKD Event  Severe CKD Event\n",
       "No            111.663265         12.336735\n",
       "Yes           241.336735         26.663265"
      ]
     },
     "metadata": {},
     "output_type": "display_data"
    },
    {
     "name": "stdout",
     "output_type": "stream",
     "text": [
      "Test statistic:  8.086\n",
      "Test p-value:  0.0045\n",
      "Effect size (Cramer's V):  0.1436\n"
     ]
    }
   ],
   "source": [
    "hypertension = chi2test('HistoryHTN', 'History of Hypertension', ['No', 'Yes'])\n",
    "res_list.append(hypertension)"
   ]
  },
  {
   "cell_type": "markdown",
   "id": "cf5ca105",
   "metadata": {},
   "source": [
    "#### Interpretation of Test Result:\n",
    "\n",
    "In investigating the association between the presence of hypertension and the likelihood of patients encountering severe chronic kidney disease (CKD) events, a chi-square test was employed to compare the distribution between patients with and without severe CKD events. The observed contingency table reveals that among patients without severe CKD events, 120 did not have hypertension, while 233 did. Conversely, among patients with severe CKD events, 4 did not have hypertension, and 35 did. The chi-square test yielded a test statistic of 8.086, with a p-value of 0.0045, indicating a statistically significant association between the presence of hypertension and the likelihood of experiencing severe CKD events.\n",
    "\n",
    "Furthermore, the calculated effect size, Cramer's V, was 0.1436, suggesting a small-to-moderate effect. This implies that while the association is statistically significant, the practical significance is modest. In summary, the statistical analysis suggests a meaningful association between the presence of hypertension and the occurrence of severe CKD events. The small-to-moderate effect size adds context to the strength of this association, emphasizing its practical significance. These findings underscore the potential impact of hypertension on CKD outcomes and warrant further investigation and consideration of clinical implications."
   ]
  },
  {
   "cell_type": "markdown",
   "id": "7bef272b",
   "metadata": {},
   "source": [
    "#### Question 8 | Is there a statistically significant association between a history of dyslipidemia and the likelihood of patients experiencing a severe chronic kidney disease (CKD) event?"
   ]
  },
  {
   "cell_type": "code",
   "execution_count": 18,
   "id": "c2b31efa",
   "metadata": {},
   "outputs": [
    {
     "data": {
      "image/png": "[encoded data removed]",
      "text/plain": [
       "<Figure size 720x360 with 1 Axes>"
      ]
     },
     "metadata": {
      "needs_background": "light"
     },
     "output_type": "display_data"
    },
    {
     "name": "stdout",
     "output_type": "stream",
     "text": [
      "Observed value: \n"
     ]
    },
    {
     "data": {
      "text/html": [
       "<div>\n",
       "<style scoped>\n",
       "    .dataframe tbody tr th:only-of-type {\n",
       "        vertical-align: middle;\n",
       "    }\n",
       "\n",
       "    .dataframe tbody tr th {\n",
       "        vertical-align: top;\n",
       "    }\n",
       "\n",
       "    .dataframe thead th {\n",
       "        text-align: right;\n",
       "    }\n",
       "</style>\n",
       "<table border=\"1\" class=\"dataframe\">\n",
       "  <thead>\n",
       "    <tr style=\"text-align: right;\">\n",
       "      <th></th>\n",
       "      <th>No Severe CKD Event</th>\n",
       "      <th>Severe CKD Event</th>\n",
       "    </tr>\n",
       "  </thead>\n",
       "  <tbody>\n",
       "    <tr>\n",
       "      <th>No</th>\n",
       "      <td>134</td>\n",
       "      <td>6</td>\n",
       "    </tr>\n",
       "    <tr>\n",
       "      <th>Yes</th>\n",
       "      <td>219</td>\n",
       "      <td>33</td>\n",
       "    </tr>\n",
       "  </tbody>\n",
       "</table>\n",
       "</div>"
      ],
      "text/plain": [
       "     No Severe CKD Event  Severe CKD Event\n",
       "No                   134                 6\n",
       "Yes                  219                33"
      ]
     },
     "metadata": {},
     "output_type": "display_data"
    },
    {
     "name": "stdout",
     "output_type": "stream",
     "text": [
      "Expected frequency: \n"
     ]
    },
    {
     "data": {
      "text/html": [
       "<div>\n",
       "<style scoped>\n",
       "    .dataframe tbody tr th:only-of-type {\n",
       "        vertical-align: middle;\n",
       "    }\n",
       "\n",
       "    .dataframe tbody tr th {\n",
       "        vertical-align: top;\n",
       "    }\n",
       "\n",
       "    .dataframe thead th {\n",
       "        text-align: right;\n",
       "    }\n",
       "</style>\n",
       "<table border=\"1\" class=\"dataframe\">\n",
       "  <thead>\n",
       "    <tr style=\"text-align: right;\">\n",
       "      <th></th>\n",
       "      <th>No Severe CKD Event</th>\n",
       "      <th>Severe CKD Event</th>\n",
       "    </tr>\n",
       "  </thead>\n",
       "  <tbody>\n",
       "    <tr>\n",
       "      <th>No</th>\n",
       "      <td>126.071429</td>\n",
       "      <td>13.928571</td>\n",
       "    </tr>\n",
       "    <tr>\n",
       "      <th>Yes</th>\n",
       "      <td>226.928571</td>\n",
       "      <td>25.071429</td>\n",
       "    </tr>\n",
       "  </tbody>\n",
       "</table>\n",
       "</div>"
      ],
      "text/plain": [
       "     No Severe CKD Event  Severe CKD Event\n",
       "No            126.071429         13.928571\n",
       "Yes           226.928571         25.071429"
      ]
     },
     "metadata": {},
     "output_type": "display_data"
    },
    {
     "name": "stdout",
     "output_type": "stream",
     "text": [
      "Test statistic:  6.8439\n",
      "Test p-value:  0.0089\n",
      "Effect size (Cramer's V):  0.1321\n"
     ]
    }
   ],
   "source": [
    "dyslipidemia = chi2test('HistoryDLD','History of Dyslipidemia', ['No','Yes'])\n",
    "res_list.append(dyslipidemia)"
   ]
  },
  {
   "cell_type": "markdown",
   "id": "89075ff2",
   "metadata": {},
   "source": [
    "#### Interpretation of Test Result:\n",
    "\n",
    "In examining the association between the presence of dyslipidemia and the likelihood of patients encountering severe chronic kidney disease (CKD) events, a chi-square test was conducted to compare the distribution between patients with and without severe CKD events. The observed contingency table indicates that among patients without severe CKD events, 134 did not have dyslipidemia, while 219 did. Conversely, among patients with severe CKD events, 6 did not have dyslipidemia, and 33 did. The chi-square test yielded a test statistic of 6.8439, with a p-value of 0.0089, indicating a statistically significant association between the presence of dyslipidemia and the likelihood of experiencing severe CKD events.\n",
    "\n",
    "Additionally, the calculated effect size, Cramer's V, was 0.1321, suggesting a small effect. This implies that while the association is statistically significant, the practical significance is modest. In summary, the statistical analysis suggests a meaningful association between the presence of dyslipidemia and the occurrence of severe CKD events. The small effect size adds context to the strength of this association, emphasizing its practical significance. Further exploration and consideration of clinical implications would contribute to a more comprehensive understanding of these findings."
   ]
  },
  {
   "cell_type": "markdown",
   "id": "2fc5f98b",
   "metadata": {},
   "source": [
    "#### Question 9 | Is there a statistically significant association between a history of obesity and the likelihood of patients experiencing a severe chronic kidney disease (CKD) event?"
   ]
  },
  {
   "cell_type": "code",
   "execution_count": 19,
   "id": "8f7b07ae",
   "metadata": {},
   "outputs": [
    {
     "data": {
      "image/png": "[encoded data removed]",
      "text/plain": [
       "<Figure size 720x360 with 1 Axes>"
      ]
     },
     "metadata": {
      "needs_background": "light"
     },
     "output_type": "display_data"
    },
    {
     "name": "stdout",
     "output_type": "stream",
     "text": [
      "Observed value: \n"
     ]
    },
    {
     "data": {
      "text/html": [
       "<div>\n",
       "<style scoped>\n",
       "    .dataframe tbody tr th:only-of-type {\n",
       "        vertical-align: middle;\n",
       "    }\n",
       "\n",
       "    .dataframe tbody tr th {\n",
       "        vertical-align: top;\n",
       "    }\n",
       "\n",
       "    .dataframe thead th {\n",
       "        text-align: right;\n",
       "    }\n",
       "</style>\n",
       "<table border=\"1\" class=\"dataframe\">\n",
       "  <thead>\n",
       "    <tr style=\"text-align: right;\">\n",
       "      <th></th>\n",
       "      <th>No Severe CKD Event</th>\n",
       "      <th>Severe CKD Event</th>\n",
       "    </tr>\n",
       "  </thead>\n",
       "  <tbody>\n",
       "    <tr>\n",
       "      <th>No</th>\n",
       "      <td>173</td>\n",
       "      <td>17</td>\n",
       "    </tr>\n",
       "    <tr>\n",
       "      <th>Yes</th>\n",
       "      <td>180</td>\n",
       "      <td>22</td>\n",
       "    </tr>\n",
       "  </tbody>\n",
       "</table>\n",
       "</div>"
      ],
      "text/plain": [
       "     No Severe CKD Event  Severe CKD Event\n",
       "No                   173                17\n",
       "Yes                  180                22"
      ]
     },
     "metadata": {},
     "output_type": "display_data"
    },
    {
     "name": "stdout",
     "output_type": "stream",
     "text": [
      "Expected frequency: \n"
     ]
    },
    {
     "data": {
      "text/html": [
       "<div>\n",
       "<style scoped>\n",
       "    .dataframe tbody tr th:only-of-type {\n",
       "        vertical-align: middle;\n",
       "    }\n",
       "\n",
       "    .dataframe tbody tr th {\n",
       "        vertical-align: top;\n",
       "    }\n",
       "\n",
       "    .dataframe thead th {\n",
       "        text-align: right;\n",
       "    }\n",
       "</style>\n",
       "<table border=\"1\" class=\"dataframe\">\n",
       "  <thead>\n",
       "    <tr style=\"text-align: right;\">\n",
       "      <th></th>\n",
       "      <th>No Severe CKD Event</th>\n",
       "      <th>Severe CKD Event</th>\n",
       "    </tr>\n",
       "  </thead>\n",
       "  <tbody>\n",
       "    <tr>\n",
       "      <th>No</th>\n",
       "      <td>171.096939</td>\n",
       "      <td>18.903061</td>\n",
       "    </tr>\n",
       "    <tr>\n",
       "      <th>Yes</th>\n",
       "      <td>181.903061</td>\n",
       "      <td>20.096939</td>\n",
       "    </tr>\n",
       "  </tbody>\n",
       "</table>\n",
       "</div>"
      ],
      "text/plain": [
       "     No Severe CKD Event  Severe CKD Event\n",
       "No            171.096939         18.903061\n",
       "Yes           181.903061         20.096939"
      ]
     },
     "metadata": {},
     "output_type": "display_data"
    },
    {
     "name": "stdout",
     "output_type": "stream",
     "text": [
      "Test statistic:  0.2244\n",
      "Test p-value:  0.6357\n",
      "Effect size (Cramer's V):  0.0239\n"
     ]
    }
   ],
   "source": [
    "obesity = chi2test('HistoryObesity', 'History of Obesity', ['No','Yes'])\n",
    "res_list.append(obesity)"
   ]
  },
  {
   "cell_type": "markdown",
   "id": "0857d1d7",
   "metadata": {},
   "source": [
    "#### Interpretation of Test Result:\n",
    "\n",
    "In exploring the association between obesity and the likelihood of patients encountering severe chronic kidney disease (CKD) events, a chi-square test was employed to compare the distribution between patients with and without severe CKD events. The observed contingency table reveals that among patients without severe CKD events, 173 were not obese, while 180 were. Conversely, among patients with severe CKD events, 17 were not obese, and 22 were. The chi-square test resulted in a test statistic of 0.2244, with a p-value of 0.6357, indicating that there is no statistically significant association between obesity and the likelihood of experiencing severe CKD events.\n",
    "\n",
    "Furthermore, the calculated effect size, Cramer's V, was 0.0239, suggesting a very small effect. This implies that the association, while not statistically significant, has limited practical significance. In summary, the statistical analysis suggests that there is no meaningful association between obesity and the occurrence of severe CKD events. The lack of statistical significance, coupled with the small effect size, indicates that obesity may not be a substantial factor in predicting the likelihood of severe CKD events in this sample. Additional research and consideration of other relevant factors may provide a more nuanced understanding of the relationship between obesity and CKD outcomes."
   ]
  },
  {
   "cell_type": "markdown",
   "id": "720000b0",
   "metadata": {},
   "source": [
    "#### Question 10 | Is there a statistically significant association between the use of dyslipidemia medications and the likelihood of patients experiencing a severe chronic kidney disease (CKD) event?"
   ]
  },
  {
   "cell_type": "code",
   "execution_count": 20,
   "id": "6af5e5e6",
   "metadata": {},
   "outputs": [
    {
     "data": {
      "image/png": "[encoded data removed]",
      "text/plain": [
       "<Figure size 720x360 with 1 Axes>"
      ]
     },
     "metadata": {
      "needs_background": "light"
     },
     "output_type": "display_data"
    },
    {
     "name": "stdout",
     "output_type": "stream",
     "text": [
      "Observed value: \n"
     ]
    },
    {
     "data": {
      "text/html": [
       "<div>\n",
       "<style scoped>\n",
       "    .dataframe tbody tr th:only-of-type {\n",
       "        vertical-align: middle;\n",
       "    }\n",
       "\n",
       "    .dataframe tbody tr th {\n",
       "        vertical-align: top;\n",
       "    }\n",
       "\n",
       "    .dataframe thead th {\n",
       "        text-align: right;\n",
       "    }\n",
       "</style>\n",
       "<table border=\"1\" class=\"dataframe\">\n",
       "  <thead>\n",
       "    <tr style=\"text-align: right;\">\n",
       "      <th></th>\n",
       "      <th>No Severe CKD Event</th>\n",
       "      <th>Severe CKD Event</th>\n",
       "    </tr>\n",
       "  </thead>\n",
       "  <tbody>\n",
       "    <tr>\n",
       "      <th>No</th>\n",
       "      <td>169</td>\n",
       "      <td>8</td>\n",
       "    </tr>\n",
       "    <tr>\n",
       "      <th>Yes</th>\n",
       "      <td>184</td>\n",
       "      <td>31</td>\n",
       "    </tr>\n",
       "  </tbody>\n",
       "</table>\n",
       "</div>"
      ],
      "text/plain": [
       "     No Severe CKD Event  Severe CKD Event\n",
       "No                   169                 8\n",
       "Yes                  184                31"
      ]
     },
     "metadata": {},
     "output_type": "display_data"
    },
    {
     "name": "stdout",
     "output_type": "stream",
     "text": [
      "Expected frequency: \n"
     ]
    },
    {
     "data": {
      "text/html": [
       "<div>\n",
       "<style scoped>\n",
       "    .dataframe tbody tr th:only-of-type {\n",
       "        vertical-align: middle;\n",
       "    }\n",
       "\n",
       "    .dataframe tbody tr th {\n",
       "        vertical-align: top;\n",
       "    }\n",
       "\n",
       "    .dataframe thead th {\n",
       "        text-align: right;\n",
       "    }\n",
       "</style>\n",
       "<table border=\"1\" class=\"dataframe\">\n",
       "  <thead>\n",
       "    <tr style=\"text-align: right;\">\n",
       "      <th></th>\n",
       "      <th>No Severe CKD Event</th>\n",
       "      <th>Severe CKD Event</th>\n",
       "    </tr>\n",
       "  </thead>\n",
       "  <tbody>\n",
       "    <tr>\n",
       "      <th>No</th>\n",
       "      <td>159.390306</td>\n",
       "      <td>17.609694</td>\n",
       "    </tr>\n",
       "    <tr>\n",
       "      <th>Yes</th>\n",
       "      <td>193.609694</td>\n",
       "      <td>21.390306</td>\n",
       "    </tr>\n",
       "  </tbody>\n",
       "</table>\n",
       "</div>"
      ],
      "text/plain": [
       "     No Severe CKD Event  Severe CKD Event\n",
       "No            159.390306         17.609694\n",
       "Yes           193.609694         21.390306"
      ]
     },
     "metadata": {},
     "output_type": "display_data"
    },
    {
     "name": "stdout",
     "output_type": "stream",
     "text": [
      "Test statistic:  9.5415\n",
      "Test p-value:  0.002\n",
      "Effect size (Cramer's V):  0.156\n"
     ]
    }
   ],
   "source": [
    "dldmeds = chi2test('DLDmeds','Use of Dyslipidemia Medications', ['No','Yes'])\n",
    "res_list.append(dldmeds)"
   ]
  },
  {
   "cell_type": "markdown",
   "id": "6896e6b9",
   "metadata": {},
   "source": [
    "#### Interpretation of Test Result:\n",
    "\n",
    "In investigating the association between the use of dyslipidemia medications and the likelihood of patients encountering severe chronic kidney disease (CKD) events, a chi-square test was conducted to compare the distribution between patients with and without severe CKD events. The observed contingency table reveals that among patients without severe CKD events, 169 did not take dyslipidemia medications, while 184 did. In contrast, among patients with severe CKD events, 8 did not take these medications, and 31 did. The chi-square test resulted in a significant test statistic of 9.5415, accompanied by a p-value of 0.002, indicating a statistically significant association between the use of dyslipidemia medications and the likelihood of experiencing severe CKD events.\n",
    "\n",
    "Additionally, the calculated effect size, Cramer's V, was 0.156, suggesting a small-to-moderate effect. This indicates a meaningful and practically significant association between not taking dyslipidemia medications and the occurrence of severe CKD events. The results suggest that patients not taking dyslipidemia medications are more likely to encounter severe CKD events, highlighting the potential impact of medication use on CKD outcomes. The small-to-moderate effect size adds context to the strength of this association, emphasizing its practical significance. Further exploration and consideration of clinical implications would contribute to a more comprehensive understanding of these findings."
   ]
  },
  {
   "cell_type": "markdown",
   "id": "f79ea3a5",
   "metadata": {},
   "source": [
    "#### Question 11 | Is there a statistically significant association between the use of diabetes medications and the likelihood of patients experiencing a severe chronic kidney disease (CKD) event?"
   ]
  },
  {
   "cell_type": "code",
   "execution_count": 21,
   "id": "5df822eb",
   "metadata": {},
   "outputs": [
    {
     "data": {
      "image/png": "[encoded data removed]",
      "text/plain": [
       "<Figure size 720x360 with 1 Axes>"
      ]
     },
     "metadata": {
      "needs_background": "light"
     },
     "output_type": "display_data"
    },
    {
     "name": "stdout",
     "output_type": "stream",
     "text": [
      "Observed value: \n"
     ]
    },
    {
     "data": {
      "text/html": [
       "<div>\n",
       "<style scoped>\n",
       "    .dataframe tbody tr th:only-of-type {\n",
       "        vertical-align: middle;\n",
       "    }\n",
       "\n",
       "    .dataframe tbody tr th {\n",
       "        vertical-align: top;\n",
       "    }\n",
       "\n",
       "    .dataframe thead th {\n",
       "        text-align: right;\n",
       "    }\n",
       "</style>\n",
       "<table border=\"1\" class=\"dataframe\">\n",
       "  <thead>\n",
       "    <tr style=\"text-align: right;\">\n",
       "      <th></th>\n",
       "      <th>No Severe CKD Event</th>\n",
       "      <th>Severe CKD Event</th>\n",
       "    </tr>\n",
       "  </thead>\n",
       "  <tbody>\n",
       "    <tr>\n",
       "      <th>No</th>\n",
       "      <td>252</td>\n",
       "      <td>11</td>\n",
       "    </tr>\n",
       "    <tr>\n",
       "      <th>Yes</th>\n",
       "      <td>101</td>\n",
       "      <td>28</td>\n",
       "    </tr>\n",
       "  </tbody>\n",
       "</table>\n",
       "</div>"
      ],
      "text/plain": [
       "     No Severe CKD Event  Severe CKD Event\n",
       "No                   252                11\n",
       "Yes                  101                28"
      ]
     },
     "metadata": {},
     "output_type": "display_data"
    },
    {
     "name": "stdout",
     "output_type": "stream",
     "text": [
      "Expected frequency: \n"
     ]
    },
    {
     "data": {
      "text/html": [
       "<div>\n",
       "<style scoped>\n",
       "    .dataframe tbody tr th:only-of-type {\n",
       "        vertical-align: middle;\n",
       "    }\n",
       "\n",
       "    .dataframe tbody tr th {\n",
       "        vertical-align: top;\n",
       "    }\n",
       "\n",
       "    .dataframe thead th {\n",
       "        text-align: right;\n",
       "    }\n",
       "</style>\n",
       "<table border=\"1\" class=\"dataframe\">\n",
       "  <thead>\n",
       "    <tr style=\"text-align: right;\">\n",
       "      <th></th>\n",
       "      <th>No Severe CKD Event</th>\n",
       "      <th>Severe CKD Event</th>\n",
       "    </tr>\n",
       "  </thead>\n",
       "  <tbody>\n",
       "    <tr>\n",
       "      <th>No</th>\n",
       "      <td>236.834184</td>\n",
       "      <td>26.165816</td>\n",
       "    </tr>\n",
       "    <tr>\n",
       "      <th>Yes</th>\n",
       "      <td>116.165816</td>\n",
       "      <td>12.834184</td>\n",
       "    </tr>\n",
       "  </tbody>\n",
       "</table>\n",
       "</div>"
      ],
      "text/plain": [
       "     No Severe CKD Event  Severe CKD Event\n",
       "No            236.834184         26.165816\n",
       "Yes           116.165816         12.834184"
      ]
     },
     "metadata": {},
     "output_type": "display_data"
    },
    {
     "name": "stdout",
     "output_type": "stream",
     "text": [
      "Test statistic:  27.7387\n",
      "Test p-value:  0.0\n",
      "Effect size (Cramer's V):  0.266\n"
     ]
    }
   ],
   "source": [
    "dmmeds = chi2test('DMmeds','Use of Diabetes Medications', ['No','Yes'])\n",
    "res_list.append(dmmeds)"
   ]
  },
  {
   "cell_type": "markdown",
   "id": "0305e25a",
   "metadata": {},
   "source": [
    "#### Interpretation of Test Result:\n",
    "\n",
    "In investigating the association between the use of diabetes medications and the likelihood of patients encountering severe chronic kidney disease (CKD) events, a chi-square test was utilized to compare the distribution between patients with and without severe CKD events. The observed contingency table indicates that among patients without severe CKD events, 252 did not take diabetes medications, while 101 did. In contrast, among patients with severe CKD events, 11 did not take these medications, and 28 did. The chi-square test yielded a highly significant test statistic of 27.7387, with a p-value of 0.0, indicating a robust association between the use of diabetes medications and the likelihood of experiencing severe CKD events.\n",
    "\n",
    "Furthermore, the calculated effect size, Cramer's V, was substantial at 0.266, indicating a moderate effect. This implies a meaningful and practically significant association between the use of diabetes medications and the occurrence of severe CKD events. The results suggest that patients not taking diabetes medications are more likely to encounter severe CKD events, emphasizing the potential impact of medication use on CKD outcomes. The substantial effect size enhances the confidence in the strength of this association. Further exploration and consideration of clinical implications would contribute to a more comprehensive understanding of these findings."
   ]
  },
  {
   "cell_type": "markdown",
   "id": "143c7849",
   "metadata": {},
   "source": [
    "#### Question 12 | Is there a statistically significant association between the use of hypertension medications and the likelihood of patients experiencing a severe chronic kidney disease (CKD) event?"
   ]
  },
  {
   "cell_type": "code",
   "execution_count": 22,
   "id": "a05c22cd",
   "metadata": {},
   "outputs": [
    {
     "data": {
      "image/png": "[encoded data removed]",
      "text/plain": [
       "<Figure size 720x360 with 1 Axes>"
      ]
     },
     "metadata": {
      "needs_background": "light"
     },
     "output_type": "display_data"
    },
    {
     "name": "stdout",
     "output_type": "stream",
     "text": [
      "Observed value: \n"
     ]
    },
    {
     "data": {
      "text/html": [
       "<div>\n",
       "<style scoped>\n",
       "    .dataframe tbody tr th:only-of-type {\n",
       "        vertical-align: middle;\n",
       "    }\n",
       "\n",
       "    .dataframe tbody tr th {\n",
       "        vertical-align: top;\n",
       "    }\n",
       "\n",
       "    .dataframe thead th {\n",
       "        text-align: right;\n",
       "    }\n",
       "</style>\n",
       "<table border=\"1\" class=\"dataframe\">\n",
       "  <thead>\n",
       "    <tr style=\"text-align: right;\">\n",
       "      <th></th>\n",
       "      <th>No Severe CKD Event</th>\n",
       "      <th>Severe CKD Event</th>\n",
       "    </tr>\n",
       "  </thead>\n",
       "  <tbody>\n",
       "    <tr>\n",
       "      <th>No</th>\n",
       "      <td>140</td>\n",
       "      <td>7</td>\n",
       "    </tr>\n",
       "    <tr>\n",
       "      <th>Yes</th>\n",
       "      <td>213</td>\n",
       "      <td>32</td>\n",
       "    </tr>\n",
       "  </tbody>\n",
       "</table>\n",
       "</div>"
      ],
      "text/plain": [
       "     No Severe CKD Event  Severe CKD Event\n",
       "No                   140                 7\n",
       "Yes                  213                32"
      ]
     },
     "metadata": {},
     "output_type": "display_data"
    },
    {
     "name": "stdout",
     "output_type": "stream",
     "text": [
      "Expected frequency: \n"
     ]
    },
    {
     "data": {
      "text/html": [
       "<div>\n",
       "<style scoped>\n",
       "    .dataframe tbody tr th:only-of-type {\n",
       "        vertical-align: middle;\n",
       "    }\n",
       "\n",
       "    .dataframe tbody tr th {\n",
       "        vertical-align: top;\n",
       "    }\n",
       "\n",
       "    .dataframe thead th {\n",
       "        text-align: right;\n",
       "    }\n",
       "</style>\n",
       "<table border=\"1\" class=\"dataframe\">\n",
       "  <thead>\n",
       "    <tr style=\"text-align: right;\">\n",
       "      <th></th>\n",
       "      <th>No Severe CKD Event</th>\n",
       "      <th>Severe CKD Event</th>\n",
       "    </tr>\n",
       "  </thead>\n",
       "  <tbody>\n",
       "    <tr>\n",
       "      <th>No</th>\n",
       "      <td>132.375</td>\n",
       "      <td>14.625</td>\n",
       "    </tr>\n",
       "    <tr>\n",
       "      <th>Yes</th>\n",
       "      <td>220.625</td>\n",
       "      <td>24.375</td>\n",
       "    </tr>\n",
       "  </tbody>\n",
       "</table>\n",
       "</div>"
      ],
      "text/plain": [
       "     No Severe CKD Event  Severe CKD Event\n",
       "No               132.375            14.625\n",
       "Yes              220.625            24.375"
      ]
     },
     "metadata": {},
     "output_type": "display_data"
    },
    {
     "name": "stdout",
     "output_type": "stream",
     "text": [
      "Test statistic:  6.1674\n",
      "Test p-value:  0.013\n",
      "Effect size (Cramer's V):  0.1254\n"
     ]
    }
   ],
   "source": [
    "htnmeds = chi2test('HTNmeds', 'Use of Hypertension Medications', ['No','Yes'])\n",
    "res_list.append(htnmeds)"
   ]
  },
  {
   "cell_type": "markdown",
   "id": "9ea5eb79",
   "metadata": {},
   "source": [
    "#### Interpretation of Test Result:\n",
    "\n",
    "In exploring the association between the use of hypertension medications and the likelihood of patients encountering severe chronic kidney disease (CKD) events, a chi-square test was conducted to compare the distribution between patients with and without severe CKD events. The observed contingency table revealed that among patients without severe CKD events, 140 did not take hypertension medications, while 213 did. Conversely, among patients with severe CKD events, 7 did not take these medications, and 32 did. The chi-square test yielded a significant test statistic of 6.1674, accompanied by a p-value of 0.013, indicating a statistically significant association between the use of hypertension medications and the likelihood of experiencing severe CKD events.\n",
    "\n",
    "Additionally, the calculated effect size, Cramer's V, was 0.1254, indicating a small effect. While the association is statistically significant, the practical significance is modest. In summary, the analysis suggests a meaningful association between the use of hypertension medications and the occurrence of severe CKD events, with the effect size providing insight into the strength of this association. The results imply that patients not taking hypertension medications are more likely to encounter severe CKD events, underscoring the potential impact of medication use on CKD outcomes. Further research and consideration of clinical implications are warranted to better understand and contextualize these findings."
   ]
  },
  {
   "cell_type": "markdown",
   "id": "25625c74",
   "metadata": {},
   "source": [
    "#### Question 13 | Is there a statistically significant association between the use of ACEI or ARB medications and the likelihood of patients experiencing a severe chronic kidney disease (CKD) event?"
   ]
  },
  {
   "cell_type": "code",
   "execution_count": 23,
   "id": "da1af9ff",
   "metadata": {},
   "outputs": [
    {
     "data": {
      "image/png": "[encoded data removed]",
      "text/plain": [
       "<Figure size 720x360 with 1 Axes>"
      ]
     },
     "metadata": {
      "needs_background": "light"
     },
     "output_type": "display_data"
    },
    {
     "name": "stdout",
     "output_type": "stream",
     "text": [
      "Observed value: \n"
     ]
    },
    {
     "data": {
      "text/html": [
       "<div>\n",
       "<style scoped>\n",
       "    .dataframe tbody tr th:only-of-type {\n",
       "        vertical-align: middle;\n",
       "    }\n",
       "\n",
       "    .dataframe tbody tr th {\n",
       "        vertical-align: top;\n",
       "    }\n",
       "\n",
       "    .dataframe thead th {\n",
       "        text-align: right;\n",
       "    }\n",
       "</style>\n",
       "<table border=\"1\" class=\"dataframe\">\n",
       "  <thead>\n",
       "    <tr style=\"text-align: right;\">\n",
       "      <th></th>\n",
       "      <th>No Severe CKD Event</th>\n",
       "      <th>Severe CKD Event</th>\n",
       "    </tr>\n",
       "  </thead>\n",
       "  <tbody>\n",
       "    <tr>\n",
       "      <th>No</th>\n",
       "      <td>206</td>\n",
       "      <td>10</td>\n",
       "    </tr>\n",
       "    <tr>\n",
       "      <th>Yes</th>\n",
       "      <td>147</td>\n",
       "      <td>29</td>\n",
       "    </tr>\n",
       "  </tbody>\n",
       "</table>\n",
       "</div>"
      ],
      "text/plain": [
       "     No Severe CKD Event  Severe CKD Event\n",
       "No                   206                10\n",
       "Yes                  147                29"
      ]
     },
     "metadata": {},
     "output_type": "display_data"
    },
    {
     "name": "stdout",
     "output_type": "stream",
     "text": [
      "Expected frequency: \n"
     ]
    },
    {
     "data": {
      "text/html": [
       "<div>\n",
       "<style scoped>\n",
       "    .dataframe tbody tr th:only-of-type {\n",
       "        vertical-align: middle;\n",
       "    }\n",
       "\n",
       "    .dataframe tbody tr th {\n",
       "        vertical-align: top;\n",
       "    }\n",
       "\n",
       "    .dataframe thead th {\n",
       "        text-align: right;\n",
       "    }\n",
       "</style>\n",
       "<table border=\"1\" class=\"dataframe\">\n",
       "  <thead>\n",
       "    <tr style=\"text-align: right;\">\n",
       "      <th></th>\n",
       "      <th>No Severe CKD Event</th>\n",
       "      <th>Severe CKD Event</th>\n",
       "    </tr>\n",
       "  </thead>\n",
       "  <tbody>\n",
       "    <tr>\n",
       "      <th>No</th>\n",
       "      <td>194.510204</td>\n",
       "      <td>21.489796</td>\n",
       "    </tr>\n",
       "    <tr>\n",
       "      <th>Yes</th>\n",
       "      <td>158.489796</td>\n",
       "      <td>17.510204</td>\n",
       "    </tr>\n",
       "  </tbody>\n",
       "</table>\n",
       "</div>"
      ],
      "text/plain": [
       "     No Severe CKD Event  Severe CKD Event\n",
       "No            194.510204         21.489796\n",
       "Yes           158.489796         17.510204"
      ]
     },
     "metadata": {},
     "output_type": "display_data"
    },
    {
     "name": "stdout",
     "output_type": "stream",
     "text": [
      "Test statistic:  13.9005\n",
      "Test p-value:  0.0002\n",
      "Effect size (Cramer's V):  0.1883\n"
     ]
    }
   ],
   "source": [
    "aceiarb = chi2test('ACEIARB', 'Use of ACEI/ARB Medications', ['No','Yes'])\n",
    "res_list.append(aceiarb)"
   ]
  },
  {
   "cell_type": "markdown",
   "id": "1220d953",
   "metadata": {},
   "source": [
    "#### Interpretation of Test Result:\n",
    "\n",
    "In investigating the association between the use of ACE inhibitors (ACEI) or angiotensin II receptor blockers (ARB) medications and the likelihood of patients encountering severe chronic kidney disease (CKD) events, a chi-square test was employed to compare the distribution between patients with and without severe CKD events. The observed contingency table revealed that among patients without severe CKD events, 206 did not take ACEI or ARB medications, while 147 did. Conversely, among patients with severe CKD events, 10 did not take these medications, and 29 did. The chi-square test resulted in a significant test statistic of 13.9005, accompanied by a p-value of 0.0002, indicating a significant association between the use of ACEI or ARB medications and the likelihood of experiencing severe CKD events.\n",
    "\n",
    "Furthermore, the calculated effect size, Cramer's V, was 0.1883, suggesting a small-to-moderate effect. This indicates that while the association is statistically significant, the practical significance is modest. In summary, the analysis underscores a meaningful association between the use of ACEI or ARB medications and the occurrence of severe CKD events, with the effect size providing additional context to the strength of this association. The results suggest that patients not taking these medications are more likely to encounter severe CKD events, emphasizing the potential importance of medication use in managing CKD outcomes."
   ]
  },
  {
   "cell_type": "markdown",
   "id": "82feeda0",
   "metadata": {},
   "source": [
    "#### Question 14 | Is there a statistically significant association between cholesterol level and the likelihood of patients to encounter severe CKD event?"
   ]
  },
  {
   "cell_type": "code",
   "execution_count": 24,
   "id": "0d475e97",
   "metadata": {},
   "outputs": [
    {
     "name": "stderr",
     "output_type": "stream",
     "text": [
      "C:\\Users\\65814\\AppData\\Local\\Temp\\ipykernel_10660\\1558790514.py:8: FutureWarning: \n",
      "\n",
      "Passing `palette` without assigning `hue` is deprecated and will be removed in v0.14.0. Assign the `x` variable to `hue` and set `legend=False` for the same effect.\n",
      "\n",
      "  sns.boxplot(data=train, x=train['EventCKD35'], y=train[feature], ax=axes[1], palette=colors)\n"
     ]
    },
    {
     "data": {
      "image/png": "[encoded data removed]",
      "text/plain": [
       "<Figure size 1080x360 with 2 Axes>"
      ]
     },
     "metadata": {
      "needs_background": "light"
     },
     "output_type": "display_data"
    },
    {
     "data": {
      "text/html": [
       "<div>\n",
       "<style scoped>\n",
       "    .dataframe tbody tr th:only-of-type {\n",
       "        vertical-align: middle;\n",
       "    }\n",
       "\n",
       "    .dataframe tbody tr th {\n",
       "        vertical-align: top;\n",
       "    }\n",
       "\n",
       "    .dataframe thead th {\n",
       "        text-align: right;\n",
       "    }\n",
       "</style>\n",
       "<table border=\"1\" class=\"dataframe\">\n",
       "  <thead>\n",
       "    <tr style=\"text-align: right;\">\n",
       "      <th></th>\n",
       "      <th>count</th>\n",
       "      <th>mean</th>\n",
       "      <th>std</th>\n",
       "      <th>min</th>\n",
       "      <th>25%</th>\n",
       "      <th>50%</th>\n",
       "      <th>75%</th>\n",
       "      <th>max</th>\n",
       "    </tr>\n",
       "    <tr>\n",
       "      <th>EventCKD35</th>\n",
       "      <th></th>\n",
       "      <th></th>\n",
       "      <th></th>\n",
       "      <th></th>\n",
       "      <th></th>\n",
       "      <th></th>\n",
       "      <th></th>\n",
       "      <th></th>\n",
       "    </tr>\n",
       "  </thead>\n",
       "  <tbody>\n",
       "    <tr>\n",
       "      <th>0</th>\n",
       "      <td>353.0</td>\n",
       "      <td>5.001190</td>\n",
       "      <td>1.084884</td>\n",
       "      <td>2.23</td>\n",
       "      <td>4.20</td>\n",
       "      <td>5.0</td>\n",
       "      <td>5.80</td>\n",
       "      <td>8.2</td>\n",
       "    </tr>\n",
       "    <tr>\n",
       "      <th>1</th>\n",
       "      <td>39.0</td>\n",
       "      <td>4.514615</td>\n",
       "      <td>1.156931</td>\n",
       "      <td>2.40</td>\n",
       "      <td>3.85</td>\n",
       "      <td>4.5</td>\n",
       "      <td>5.15</td>\n",
       "      <td>8.0</td>\n",
       "    </tr>\n",
       "  </tbody>\n",
       "</table>\n",
       "</div>"
      ],
      "text/plain": [
       "            count      mean       std   min   25%  50%   75%  max\n",
       "EventCKD35                                                       \n",
       "0           353.0  5.001190  1.084884  2.23  4.20  5.0  5.80  8.2\n",
       "1            39.0  4.514615  1.156931  2.40  3.85  4.5  5.15  8.0"
      ]
     },
     "metadata": {},
     "output_type": "display_data"
    },
    {
     "name": "stdout",
     "output_type": "stream",
     "text": [
      "Test statistic:  5036.5\n",
      "Test p-value:  0.0059\n",
      "Effect size:  -0.4339\n"
     ]
    }
   ],
   "source": [
    "cholesterol = mwutest('CholesterolBaseline', 'Cholesterol Level')\n",
    "res_list.append(cholesterol)"
   ]
  },
  {
   "cell_type": "markdown",
   "id": "9dc5f616",
   "metadata": {},
   "source": [
    "#### Interpretation of Test Result:\n",
    "\n",
    "In examining the association between cholesterol levels and the likelihood of patients encountering severe chronic kidney disease (CKD) events, a Mann-Whitney U test was employed to compare the mean cholesterol levels between patients with and without severe CKD events. Descriptive statistics reveal that among patients without severe CKD events (EventCKD35=0), the cholesterol levels exhibited a mean of 5.00 ± 1.08, ranging from 2.23 to 8.2. Conversely, for patients with severe CKD events (EventCKD35=1), the mean cholesterol level was slightly lower at 4.51 ± 1.16, with a range of 2.40 to 8.0. The Mann-Whitney U test resulted in a statistically significant test statistic of 5036.5, accompanied by a p-value of 0.0059, indicating a significant difference in mean cholesterol levels between the two groups. The calculated effect size, Cohen's d, was -0.4339, suggesting a small-to-moderate effect. This implies a modest association between lower cholesterol levels and the likelihood of experiencing severe CKD events. In summary, the statistical analysis indicates a significant difference in cholesterol levels between the two groups, with a small-to-moderate effect size, emphasizing the potential relevance of cholesterol levels as a factor associated with the presence of severe CKD events."
   ]
  },
  {
   "cell_type": "markdown",
   "id": "8e0db277",
   "metadata": {},
   "source": [
    "#### Question 15 | Is there a statistically significant association between creatinine level and the likelihood of patients to encounter severe CKD event?"
   ]
  },
  {
   "cell_type": "code",
   "execution_count": 25,
   "id": "eb3cbd04",
   "metadata": {},
   "outputs": [
    {
     "name": "stderr",
     "output_type": "stream",
     "text": [
      "C:\\Users\\65814\\AppData\\Local\\Temp\\ipykernel_10660\\1558790514.py:8: FutureWarning: \n",
      "\n",
      "Passing `palette` without assigning `hue` is deprecated and will be removed in v0.14.0. Assign the `x` variable to `hue` and set `legend=False` for the same effect.\n",
      "\n",
      "  sns.boxplot(data=train, x=train['EventCKD35'], y=train[feature], ax=axes[1], palette=colors)\n"
     ]
    },
    {
     "data": {
      "image/png": "[encoded data removed]",
      "text/plain": [
       "<Figure size 1080x360 with 2 Axes>"
      ]
     },
     "metadata": {
      "needs_background": "light"
     },
     "output_type": "display_data"
    },
    {
     "data": {
      "text/html": [
       "<div>\n",
       "<style scoped>\n",
       "    .dataframe tbody tr th:only-of-type {\n",
       "        vertical-align: middle;\n",
       "    }\n",
       "\n",
       "    .dataframe tbody tr th {\n",
       "        vertical-align: top;\n",
       "    }\n",
       "\n",
       "    .dataframe thead th {\n",
       "        text-align: right;\n",
       "    }\n",
       "</style>\n",
       "<table border=\"1\" class=\"dataframe\">\n",
       "  <thead>\n",
       "    <tr style=\"text-align: right;\">\n",
       "      <th></th>\n",
       "      <th>count</th>\n",
       "      <th>mean</th>\n",
       "      <th>std</th>\n",
       "      <th>min</th>\n",
       "      <th>25%</th>\n",
       "      <th>50%</th>\n",
       "      <th>75%</th>\n",
       "      <th>max</th>\n",
       "    </tr>\n",
       "    <tr>\n",
       "      <th>EventCKD35</th>\n",
       "      <th></th>\n",
       "      <th></th>\n",
       "      <th></th>\n",
       "      <th></th>\n",
       "      <th></th>\n",
       "      <th></th>\n",
       "      <th></th>\n",
       "      <th></th>\n",
       "    </tr>\n",
       "  </thead>\n",
       "  <tbody>\n",
       "    <tr>\n",
       "      <th>0</th>\n",
       "      <td>353.0</td>\n",
       "      <td>65.611048</td>\n",
       "      <td>17.021067</td>\n",
       "      <td>6.0</td>\n",
       "      <td>54.0</td>\n",
       "      <td>65.0</td>\n",
       "      <td>76.0</td>\n",
       "      <td>123.0</td>\n",
       "    </tr>\n",
       "    <tr>\n",
       "      <th>1</th>\n",
       "      <td>39.0</td>\n",
       "      <td>84.153846</td>\n",
       "      <td>17.000834</td>\n",
       "      <td>38.0</td>\n",
       "      <td>73.5</td>\n",
       "      <td>85.0</td>\n",
       "      <td>99.0</td>\n",
       "      <td>113.0</td>\n",
       "    </tr>\n",
       "  </tbody>\n",
       "</table>\n",
       "</div>"
      ],
      "text/plain": [
       "            count       mean        std   min   25%   50%   75%    max\n",
       "EventCKD35                                                            \n",
       "0           353.0  65.611048  17.021067   6.0  54.0  65.0  76.0  123.0\n",
       "1            39.0  84.153846  17.000834  38.0  73.5  85.0  99.0  113.0"
      ]
     },
     "metadata": {},
     "output_type": "display_data"
    },
    {
     "name": "stdout",
     "output_type": "stream",
     "text": [
      "Test statistic:  10805.0\n",
      "Test p-value:  0.0\n",
      "Effect size:  1.0901\n"
     ]
    }
   ],
   "source": [
    "creatinine = mwutest('CreatinineBaseline', 'Creatinine Level')\n",
    "res_list.append(creatinine)"
   ]
  },
  {
   "cell_type": "markdown",
   "id": "123f4bf9",
   "metadata": {},
   "source": [
    "#### Interpretation of Test Result:\n",
    "\n",
    "In investigating the association between creatinine levels and the likelihood of patients encountering severe chronic kidney disease (CKD) events, a Mann-Whitney U test was employed to compare the mean creatinine levels between patients with and without severe CKD events. Descriptive statistics reveal that among patients without severe CKD events (EventCKD35=0), the creatinine levels showed a mean of 65.61 ± 17.02, ranging from 6.0 to 123.0. In contrast, for patients with severe CKD events (EventCKD35=1), the mean creatinine level was substantially higher at 84.15 ± 17.00, with a range of 38.0 to 113.0. The Mann-Whitney U test resulted in a highly significant test statistic of 10805.0, accompanied by a p-value lower than the threshold (alpha=0.05), indicating a significant difference in mean creatinine levels between the two groups. The calculated effect size, Cohen's d, was notably large at 1.0901, suggesting a substantial effect. This underscores a strong association between elevated creatinine levels and the likelihood of experiencing severe CKD events. In summary, the statistical analysis highlights a significant and practically meaningful relationship, reinforcing the role of creatinine as a potential indicator for the presence of severe CKD events."
   ]
  },
  {
   "cell_type": "markdown",
   "id": "d2720907",
   "metadata": {},
   "source": [
    "#### Question 16 | Is there a statistically significant association between estimated glomerular filtration rate (eGFR) and the likelihood of patients to encounter severe CKD event?"
   ]
  },
  {
   "cell_type": "code",
   "execution_count": 26,
   "id": "a6243e73",
   "metadata": {},
   "outputs": [
    {
     "name": "stderr",
     "output_type": "stream",
     "text": [
      "C:\\Users\\65814\\AppData\\Local\\Temp\\ipykernel_10660\\1558790514.py:8: FutureWarning: \n",
      "\n",
      "Passing `palette` without assigning `hue` is deprecated and will be removed in v0.14.0. Assign the `x` variable to `hue` and set `legend=False` for the same effect.\n",
      "\n",
      "  sns.boxplot(data=train, x=train['EventCKD35'], y=train[feature], ax=axes[1], palette=colors)\n"
     ]
    },
    {
     "data": {
      "image/png": "[encoded data removed]",
      "text/plain": [
       "<Figure size 1080x360 with 2 Axes>"
      ]
     },
     "metadata": {
      "needs_background": "light"
     },
     "output_type": "display_data"
    },
    {
     "data": {
      "text/html": [
       "<div>\n",
       "<style scoped>\n",
       "    .dataframe tbody tr th:only-of-type {\n",
       "        vertical-align: middle;\n",
       "    }\n",
       "\n",
       "    .dataframe tbody tr th {\n",
       "        vertical-align: top;\n",
       "    }\n",
       "\n",
       "    .dataframe thead th {\n",
       "        text-align: right;\n",
       "    }\n",
       "</style>\n",
       "<table border=\"1\" class=\"dataframe\">\n",
       "  <thead>\n",
       "    <tr style=\"text-align: right;\">\n",
       "      <th></th>\n",
       "      <th>count</th>\n",
       "      <th>mean</th>\n",
       "      <th>std</th>\n",
       "      <th>min</th>\n",
       "      <th>25%</th>\n",
       "      <th>50%</th>\n",
       "      <th>75%</th>\n",
       "      <th>max</th>\n",
       "    </tr>\n",
       "    <tr>\n",
       "      <th>EventCKD35</th>\n",
       "      <th></th>\n",
       "      <th></th>\n",
       "      <th></th>\n",
       "      <th></th>\n",
       "      <th></th>\n",
       "      <th></th>\n",
       "      <th></th>\n",
       "      <th></th>\n",
       "    </tr>\n",
       "  </thead>\n",
       "  <tbody>\n",
       "    <tr>\n",
       "      <th>0</th>\n",
       "      <td>353.0</td>\n",
       "      <td>100.726629</td>\n",
       "      <td>18.102626</td>\n",
       "      <td>60.7</td>\n",
       "      <td>89.60</td>\n",
       "      <td>99.9</td>\n",
       "      <td>111.00</td>\n",
       "      <td>242.6</td>\n",
       "    </tr>\n",
       "    <tr>\n",
       "      <th>1</th>\n",
       "      <td>39.0</td>\n",
       "      <td>78.874359</td>\n",
       "      <td>13.274842</td>\n",
       "      <td>60.0</td>\n",
       "      <td>66.95</td>\n",
       "      <td>77.8</td>\n",
       "      <td>89.75</td>\n",
       "      <td>106.3</td>\n",
       "    </tr>\n",
       "  </tbody>\n",
       "</table>\n",
       "</div>"
      ],
      "text/plain": [
       "            count        mean        std   min    25%   50%     75%    max\n",
       "EventCKD35                                                                \n",
       "0           353.0  100.726629  18.102626  60.7  89.60  99.9  111.00  242.6\n",
       "1            39.0   78.874359  13.274842  60.0  66.95  77.8   89.75  106.3"
      ]
     },
     "metadata": {},
     "output_type": "display_data"
    },
    {
     "name": "stdout",
     "output_type": "stream",
     "text": [
      "Test statistic:  2206.5\n",
      "Test p-value:  0.0\n",
      "Effect size:  -1.3767\n"
     ]
    }
   ],
   "source": [
    "egfr = mwutest('eGFRBaseline', 'Estimated Glomerular Filtration Rate (eGFR)')\n",
    "res_list.append(egfr)"
   ]
  },
  {
   "cell_type": "markdown",
   "id": "f46d5ae7",
   "metadata": {},
   "source": [
    "#### Interpretation of Test Result:\n",
    "\n",
    "In examining the association between the estimated glomerular filtration rate (eGFR) and the likelihood of patients experiencing severe chronic kidney disease (CKD) events, a Mann-Whitney U test was conducted to compare the mean eGFR between patients with and without severe CKD events. Descriptive statistics reveal that among patients without severe CKD events (EventCKD35=0), the eGFR demonstrated a mean of 100.73 ± 18.10, ranging from 60.7 to 242.6. Conversely, for patients with severe CKD events (EventCKD35=1), the mean eGFR was substantially lower at 78.87 ± 13.27, with a range of 60.0 to 106.3. The Mann-Whitney U test yielded a highly significant test statistic of 2206.5, accompanied by a p-value less than threshold (alpha = 0.05), indicating a significant difference in mean eGFR between the two groups. The calculated effect size, Cohen's d, was notably large at -1.3767, signifying a substantial effect. This suggests a strong association between lower eGFR values and the likelihood of experiencing severe CKD events. In summary, the statistical analysis underscores a significant and practically meaningful association, reinforcing the importance of eGFR as a potential predictor for severe CKD events."
   ]
  },
  {
   "cell_type": "markdown",
   "id": "e310ad5f",
   "metadata": {},
   "source": [
    "#### Question 17 | Is there a statistically significant association between systolic blood pressure and the likelihood of patients to encounter severe CKD event?"
   ]
  },
  {
   "cell_type": "code",
   "execution_count": 27,
   "id": "386dfd7d",
   "metadata": {},
   "outputs": [
    {
     "name": "stderr",
     "output_type": "stream",
     "text": [
      "C:\\Users\\65814\\AppData\\Local\\Temp\\ipykernel_10660\\1558790514.py:8: FutureWarning: \n",
      "\n",
      "Passing `palette` without assigning `hue` is deprecated and will be removed in v0.14.0. Assign the `x` variable to `hue` and set `legend=False` for the same effect.\n",
      "\n",
      "  sns.boxplot(data=train, x=train['EventCKD35'], y=train[feature], ax=axes[1], palette=colors)\n"
     ]
    },
    {
     "data": {
      "image/png": "[encoded data removed]",
      "text/plain": [
       "<Figure size 1080x360 with 2 Axes>"
      ]
     },
     "metadata": {
      "needs_background": "light"
     },
     "output_type": "display_data"
    },
    {
     "data": {
      "text/html": [
       "<div>\n",
       "<style scoped>\n",
       "    .dataframe tbody tr th:only-of-type {\n",
       "        vertical-align: middle;\n",
       "    }\n",
       "\n",
       "    .dataframe tbody tr th {\n",
       "        vertical-align: top;\n",
       "    }\n",
       "\n",
       "    .dataframe thead th {\n",
       "        text-align: right;\n",
       "    }\n",
       "</style>\n",
       "<table border=\"1\" class=\"dataframe\">\n",
       "  <thead>\n",
       "    <tr style=\"text-align: right;\">\n",
       "      <th></th>\n",
       "      <th>count</th>\n",
       "      <th>mean</th>\n",
       "      <th>std</th>\n",
       "      <th>min</th>\n",
       "      <th>25%</th>\n",
       "      <th>50%</th>\n",
       "      <th>75%</th>\n",
       "      <th>max</th>\n",
       "    </tr>\n",
       "    <tr>\n",
       "      <th>EventCKD35</th>\n",
       "      <th></th>\n",
       "      <th></th>\n",
       "      <th></th>\n",
       "      <th></th>\n",
       "      <th></th>\n",
       "      <th></th>\n",
       "      <th></th>\n",
       "      <th></th>\n",
       "    </tr>\n",
       "  </thead>\n",
       "  <tbody>\n",
       "    <tr>\n",
       "      <th>0</th>\n",
       "      <td>353.0</td>\n",
       "      <td>131.155807</td>\n",
       "      <td>15.335679</td>\n",
       "      <td>95.0</td>\n",
       "      <td>121.0</td>\n",
       "      <td>131.0</td>\n",
       "      <td>140.0</td>\n",
       "      <td>180.0</td>\n",
       "    </tr>\n",
       "    <tr>\n",
       "      <th>1</th>\n",
       "      <td>39.0</td>\n",
       "      <td>134.333333</td>\n",
       "      <td>16.653328</td>\n",
       "      <td>92.0</td>\n",
       "      <td>123.0</td>\n",
       "      <td>135.0</td>\n",
       "      <td>144.5</td>\n",
       "      <td>166.0</td>\n",
       "    </tr>\n",
       "  </tbody>\n",
       "</table>\n",
       "</div>"
      ],
      "text/plain": [
       "            count        mean        std   min    25%    50%    75%    max\n",
       "EventCKD35                                                                \n",
       "0           353.0  131.155807  15.335679  95.0  121.0  131.0  140.0  180.0\n",
       "1            39.0  134.333333  16.653328  92.0  123.0  135.0  144.5  166.0"
      ]
     },
     "metadata": {},
     "output_type": "display_data"
    },
    {
     "name": "stdout",
     "output_type": "stream",
     "text": [
      "Test statistic:  7973.0\n",
      "Test p-value:  0.1047\n",
      "Effect size:  0.1985\n"
     ]
    }
   ],
   "source": [
    "systolic = mwutest('sBPBaseline', 'Systolic Blood Pressure')\n",
    "res_list.append(systolic)"
   ]
  },
  {
   "cell_type": "markdown",
   "id": "df27cfde",
   "metadata": {},
   "source": [
    "#### Interpretation of Test Result:\n",
    "\n",
    "In investigating the potential association between systolic blood pressure and the likelihood of patients encountering a severe chronic kidney disease (CKD) event, a Mann-Whitney U test was employed to compare the mean systolic blood pressure between patients with and without severe CKD events. The descriptive statistics reveal that among patients without severe CKD events (EventCKD35=0), the systolic blood pressure exhibited a mean of 131.16 ± 15.34, ranging from 95.0 to 180.0. Conversely, for patients with severe CKD events (EventCKD35=1), the mean systolic blood pressure was 134.33 ± 16.65, ranging from 92.0 to 166.0. The Mann-Whitney U test yielded a test statistic of 7973.0 and a p-value of 0.1047, suggesting a marginally nonsignificant difference in mean systolic blood pressure between the two groups. The calculated effect size, Cohen's d, was 0.1985, indicating a small-to-moderate effect. While the p-value falls just above the conventional threshold for statistical significance (0.05), the small-to-moderate effect size suggests a potential practical significance in the observed difference. In summary, the analysis suggests a potential association between systolic blood pressure and severe CKD events, meriting further investigation with a larger sample size to confirm the trend."
   ]
  },
  {
   "cell_type": "markdown",
   "id": "6d2f26fc",
   "metadata": {},
   "source": [
    "#### Question 18 | Is there a statistically significant association between diastolic blood pressure and the likelihood of patients to encounter severe CKD event?"
   ]
  },
  {
   "cell_type": "code",
   "execution_count": 28,
   "id": "14ae2d14",
   "metadata": {},
   "outputs": [
    {
     "name": "stderr",
     "output_type": "stream",
     "text": [
      "C:\\Users\\65814\\AppData\\Local\\Temp\\ipykernel_10660\\1558790514.py:8: FutureWarning: \n",
      "\n",
      "Passing `palette` without assigning `hue` is deprecated and will be removed in v0.14.0. Assign the `x` variable to `hue` and set `legend=False` for the same effect.\n",
      "\n",
      "  sns.boxplot(data=train, x=train['EventCKD35'], y=train[feature], ax=axes[1], palette=colors)\n"
     ]
    },
    {
     "data": {
      "image/png": "[encoded data removed]",
      "text/plain": [
       "<Figure size 1080x360 with 2 Axes>"
      ]
     },
     "metadata": {
      "needs_background": "light"
     },
     "output_type": "display_data"
    },
    {
     "data": {
      "text/html": [
       "<div>\n",
       "<style scoped>\n",
       "    .dataframe tbody tr th:only-of-type {\n",
       "        vertical-align: middle;\n",
       "    }\n",
       "\n",
       "    .dataframe tbody tr th {\n",
       "        vertical-align: top;\n",
       "    }\n",
       "\n",
       "    .dataframe thead th {\n",
       "        text-align: right;\n",
       "    }\n",
       "</style>\n",
       "<table border=\"1\" class=\"dataframe\">\n",
       "  <thead>\n",
       "    <tr style=\"text-align: right;\">\n",
       "      <th></th>\n",
       "      <th>count</th>\n",
       "      <th>mean</th>\n",
       "      <th>std</th>\n",
       "      <th>min</th>\n",
       "      <th>25%</th>\n",
       "      <th>50%</th>\n",
       "      <th>75%</th>\n",
       "      <th>max</th>\n",
       "    </tr>\n",
       "    <tr>\n",
       "      <th>EventCKD35</th>\n",
       "      <th></th>\n",
       "      <th></th>\n",
       "      <th></th>\n",
       "      <th></th>\n",
       "      <th></th>\n",
       "      <th></th>\n",
       "      <th></th>\n",
       "      <th></th>\n",
       "    </tr>\n",
       "  </thead>\n",
       "  <tbody>\n",
       "    <tr>\n",
       "      <th>0</th>\n",
       "      <td>353.0</td>\n",
       "      <td>77.266289</td>\n",
       "      <td>10.723404</td>\n",
       "      <td>41.0</td>\n",
       "      <td>70.0</td>\n",
       "      <td>78.0</td>\n",
       "      <td>84.0</td>\n",
       "      <td>112.0</td>\n",
       "    </tr>\n",
       "    <tr>\n",
       "      <th>1</th>\n",
       "      <td>39.0</td>\n",
       "      <td>74.128205</td>\n",
       "      <td>12.361186</td>\n",
       "      <td>54.0</td>\n",
       "      <td>64.5</td>\n",
       "      <td>73.0</td>\n",
       "      <td>84.0</td>\n",
       "      <td>101.0</td>\n",
       "    </tr>\n",
       "  </tbody>\n",
       "</table>\n",
       "</div>"
      ],
      "text/plain": [
       "            count       mean        std   min   25%   50%   75%    max\n",
       "EventCKD35                                                            \n",
       "0           353.0  77.266289  10.723404  41.0  70.0  78.0  84.0  112.0\n",
       "1            39.0  74.128205  12.361186  54.0  64.5  73.0  84.0  101.0"
      ]
     },
     "metadata": {},
     "output_type": "display_data"
    },
    {
     "name": "stdout",
     "output_type": "stream",
     "text": [
      "Test statistic:  5776.5\n",
      "Test p-value:  0.0992\n",
      "Effect size:  -0.2712\n"
     ]
    }
   ],
   "source": [
    "diastolic = mwutest('dBPBaseline', 'Diastolic Blood Pressure')\n",
    "res_list.append(diastolic)"
   ]
  },
  {
   "cell_type": "markdown",
   "id": "9ea5d80b",
   "metadata": {},
   "source": [
    "#### Interpretation of Test Result:\n",
    "\n",
    "In exploring the potential association between diastolic blood pressure and the likelihood of patients encountering a severe chronic kidney disease (CKD) event, a Mann-Whitney U test was conducted to compare the mean diastolic blood pressure between patients with and without severe CKD events. Descriptive statistics reveal that among patients without severe CKD events (EventCKD35=0), the diastolic blood pressure demonstrated a mean of 77.27 ± 10.72, ranging from 41.0 to 112.0. Conversely, for patients with severe CKD events (EventCKD35=1), the mean diastolic blood pressure was 74.13 ± 12.36, ranging from 54.0 to 101.0. The Mann-Whitney U test yielded a test statistic of 5776.5 and a p-value of 0.0992, suggesting a marginally nonsignificant difference in mean diastolic blood pressure between the two groups. The calculated effect size, Cohen's d, was -0.2712, indicating a moderate effect. While the p-value falls just above the conventional threshold for statistical significance (0.05), the moderate effect size suggests a potential practical significance in the observed difference. In summary, the analysis hints at a possible association between diastolic blood pressure and severe CKD events, warranting further investigation with a larger sample size."
   ]
  },
  {
   "cell_type": "markdown",
   "id": "24562c2e",
   "metadata": {},
   "source": [
    "#### Question 19 | Is there a statistically significant association between BMI and the likelihood of patients to encounter severe CKD event?"
   ]
  },
  {
   "cell_type": "code",
   "execution_count": 29,
   "id": "5ddede39",
   "metadata": {},
   "outputs": [
    {
     "name": "stderr",
     "output_type": "stream",
     "text": [
      "C:\\Users\\65814\\AppData\\Local\\Temp\\ipykernel_10660\\1558790514.py:8: FutureWarning: \n",
      "\n",
      "Passing `palette` without assigning `hue` is deprecated and will be removed in v0.14.0. Assign the `x` variable to `hue` and set `legend=False` for the same effect.\n",
      "\n",
      "  sns.boxplot(data=train, x=train['EventCKD35'], y=train[feature], ax=axes[1], palette=colors)\n"
     ]
    },
    {
     "data": {
      "image/png": "[encoded data removed]",
      "text/plain": [
       "<Figure size 1080x360 with 2 Axes>"
      ]
     },
     "metadata": {
      "needs_background": "light"
     },
     "output_type": "display_data"
    },
    {
     "data": {
      "text/html": [
       "<div>\n",
       "<style scoped>\n",
       "    .dataframe tbody tr th:only-of-type {\n",
       "        vertical-align: middle;\n",
       "    }\n",
       "\n",
       "    .dataframe tbody tr th {\n",
       "        vertical-align: top;\n",
       "    }\n",
       "\n",
       "    .dataframe thead th {\n",
       "        text-align: right;\n",
       "    }\n",
       "</style>\n",
       "<table border=\"1\" class=\"dataframe\">\n",
       "  <thead>\n",
       "    <tr style=\"text-align: right;\">\n",
       "      <th></th>\n",
       "      <th>count</th>\n",
       "      <th>mean</th>\n",
       "      <th>std</th>\n",
       "      <th>min</th>\n",
       "      <th>25%</th>\n",
       "      <th>50%</th>\n",
       "      <th>75%</th>\n",
       "      <th>max</th>\n",
       "    </tr>\n",
       "    <tr>\n",
       "      <th>EventCKD35</th>\n",
       "      <th></th>\n",
       "      <th></th>\n",
       "      <th></th>\n",
       "      <th></th>\n",
       "      <th></th>\n",
       "      <th></th>\n",
       "      <th></th>\n",
       "      <th></th>\n",
       "    </tr>\n",
       "  </thead>\n",
       "  <tbody>\n",
       "    <tr>\n",
       "      <th>0</th>\n",
       "      <td>353.0</td>\n",
       "      <td>30.263456</td>\n",
       "      <td>6.425822</td>\n",
       "      <td>13.0</td>\n",
       "      <td>26.0</td>\n",
       "      <td>30.0</td>\n",
       "      <td>33.0</td>\n",
       "      <td>57.0</td>\n",
       "    </tr>\n",
       "    <tr>\n",
       "      <th>1</th>\n",
       "      <td>39.0</td>\n",
       "      <td>30.076923</td>\n",
       "      <td>6.041020</td>\n",
       "      <td>18.0</td>\n",
       "      <td>26.5</td>\n",
       "      <td>30.0</td>\n",
       "      <td>32.5</td>\n",
       "      <td>52.0</td>\n",
       "    </tr>\n",
       "  </tbody>\n",
       "</table>\n",
       "</div>"
      ],
      "text/plain": [
       "            count       mean       std   min   25%   50%   75%   max\n",
       "EventCKD35                                                          \n",
       "0           353.0  30.263456  6.425822  13.0  26.0  30.0  33.0  57.0\n",
       "1            39.0  30.076923  6.041020  18.0  26.5  30.0  32.5  52.0"
      ]
     },
     "metadata": {},
     "output_type": "display_data"
    },
    {
     "name": "stdout",
     "output_type": "stream",
     "text": [
      "Test statistic:  7008.0\n",
      "Test p-value:  0.8532\n",
      "Effect size:  -0.0299\n"
     ]
    }
   ],
   "source": [
    "bmi = mwutest('BMIBaseline', 'BMI')\n",
    "res_list.append(bmi)"
   ]
  },
  {
   "cell_type": "markdown",
   "id": "19fc4d2c",
   "metadata": {},
   "source": [
    "#### Interpretation of Test Result:\n",
    "\n",
    "In the investigation of the association between Body Mass Index (BMI) and the likelihood of patients encountering a severe chronic kidney disease (CKD) event, a Mann-Whitney U test was employed to compare the mean BMI between patients with and without severe CKD events. The descriptive statistics reveal that among patients without severe CKD events (EventCKD35=0), the BMI exhibited a mean of 30.26 ± 6.43, ranging from 13.0 to 57.0. For patients with severe CKD events (EventCKD35=1), the mean BMI was 30.08 ± 6.04, ranging from 18.0 to 52.0. The Mann-Whitney U test, with a test statistic of 7008.0 and a p-value of 0.8532, did not identify a statistically significant difference in mean BMI between the two groups. Additionally, the effect size, calculated as Cohen's d, was -0.0299, indicating a negligible effect. In summary, the analysis suggests that there is no substantial difference in BMI between patients with and without severe CKD events, and the observed effect size is minimal, further supporting the lack of a practically significant association."
   ]
  },
  {
   "cell_type": "markdown",
   "id": "2d1a3afc",
   "metadata": {},
   "source": [
    "### Summary View of Statistical Test Analysis Result"
   ]
  },
  {
   "cell_type": "code",
   "execution_count": 30,
   "id": "de44e25f",
   "metadata": {},
   "outputs": [
    {
     "data": {
      "text/html": [
       "<div>\n",
       "<style scoped>\n",
       "    .dataframe tbody tr th:only-of-type {\n",
       "        vertical-align: middle;\n",
       "    }\n",
       "\n",
       "    .dataframe tbody tr th {\n",
       "        vertical-align: top;\n",
       "    }\n",
       "\n",
       "    .dataframe thead th {\n",
       "        text-align: right;\n",
       "    }\n",
       "</style>\n",
       "<table border=\"1\" class=\"dataframe\">\n",
       "  <thead>\n",
       "    <tr style=\"text-align: right;\">\n",
       "      <th></th>\n",
       "      <th>Feature</th>\n",
       "      <th>Test Statistic</th>\n",
       "      <th>Test p-value</th>\n",
       "      <th>Effect Size</th>\n",
       "    </tr>\n",
       "  </thead>\n",
       "  <tbody>\n",
       "    <tr>\n",
       "      <th>0</th>\n",
       "      <td>Sex</td>\n",
       "      <td>4.8190</td>\n",
       "      <td>0.0281</td>\n",
       "      <td>0.1109</td>\n",
       "    </tr>\n",
       "    <tr>\n",
       "      <th>1</th>\n",
       "      <td>AgeBaseline</td>\n",
       "      <td>10016.0000</td>\n",
       "      <td>0.0000</td>\n",
       "      <td>0.9068</td>\n",
       "    </tr>\n",
       "    <tr>\n",
       "      <th>2</th>\n",
       "      <td>HistoryDiabetes</td>\n",
       "      <td>28.5670</td>\n",
       "      <td>0.0000</td>\n",
       "      <td>0.2700</td>\n",
       "    </tr>\n",
       "    <tr>\n",
       "      <th>3</th>\n",
       "      <td>HistoryCHD</td>\n",
       "      <td>17.2461</td>\n",
       "      <td>0.0000</td>\n",
       "      <td>0.2098</td>\n",
       "    </tr>\n",
       "    <tr>\n",
       "      <th>4</th>\n",
       "      <td>HistoryVascular</td>\n",
       "      <td>0.0947</td>\n",
       "      <td>0.7582</td>\n",
       "      <td>0.0155</td>\n",
       "    </tr>\n",
       "    <tr>\n",
       "      <th>5</th>\n",
       "      <td>HistorySmoking</td>\n",
       "      <td>0.8649</td>\n",
       "      <td>0.3524</td>\n",
       "      <td>0.0470</td>\n",
       "    </tr>\n",
       "    <tr>\n",
       "      <th>6</th>\n",
       "      <td>HistoryHTN</td>\n",
       "      <td>8.0860</td>\n",
       "      <td>0.0045</td>\n",
       "      <td>0.1436</td>\n",
       "    </tr>\n",
       "    <tr>\n",
       "      <th>7</th>\n",
       "      <td>HistoryDLD</td>\n",
       "      <td>6.8439</td>\n",
       "      <td>0.0089</td>\n",
       "      <td>0.1321</td>\n",
       "    </tr>\n",
       "    <tr>\n",
       "      <th>8</th>\n",
       "      <td>HistoryObesity</td>\n",
       "      <td>0.2244</td>\n",
       "      <td>0.6357</td>\n",
       "      <td>0.0239</td>\n",
       "    </tr>\n",
       "    <tr>\n",
       "      <th>9</th>\n",
       "      <td>DLDmeds</td>\n",
       "      <td>9.5415</td>\n",
       "      <td>0.0020</td>\n",
       "      <td>0.1560</td>\n",
       "    </tr>\n",
       "    <tr>\n",
       "      <th>10</th>\n",
       "      <td>DMmeds</td>\n",
       "      <td>27.7387</td>\n",
       "      <td>0.0000</td>\n",
       "      <td>0.2660</td>\n",
       "    </tr>\n",
       "    <tr>\n",
       "      <th>11</th>\n",
       "      <td>HTNmeds</td>\n",
       "      <td>6.1674</td>\n",
       "      <td>0.0130</td>\n",
       "      <td>0.1254</td>\n",
       "    </tr>\n",
       "    <tr>\n",
       "      <th>12</th>\n",
       "      <td>ACEIARB</td>\n",
       "      <td>13.9005</td>\n",
       "      <td>0.0002</td>\n",
       "      <td>0.1883</td>\n",
       "    </tr>\n",
       "    <tr>\n",
       "      <th>13</th>\n",
       "      <td>CholesterolBaseline</td>\n",
       "      <td>5036.5000</td>\n",
       "      <td>0.0059</td>\n",
       "      <td>-0.4339</td>\n",
       "    </tr>\n",
       "    <tr>\n",
       "      <th>14</th>\n",
       "      <td>CreatinineBaseline</td>\n",
       "      <td>10805.0000</td>\n",
       "      <td>0.0000</td>\n",
       "      <td>1.0901</td>\n",
       "    </tr>\n",
       "    <tr>\n",
       "      <th>15</th>\n",
       "      <td>eGFRBaseline</td>\n",
       "      <td>2206.5000</td>\n",
       "      <td>0.0000</td>\n",
       "      <td>-1.3767</td>\n",
       "    </tr>\n",
       "    <tr>\n",
       "      <th>16</th>\n",
       "      <td>sBPBaseline</td>\n",
       "      <td>7973.0000</td>\n",
       "      <td>0.1047</td>\n",
       "      <td>0.1985</td>\n",
       "    </tr>\n",
       "    <tr>\n",
       "      <th>17</th>\n",
       "      <td>dBPBaseline</td>\n",
       "      <td>5776.5000</td>\n",
       "      <td>0.0992</td>\n",
       "      <td>-0.2712</td>\n",
       "    </tr>\n",
       "    <tr>\n",
       "      <th>18</th>\n",
       "      <td>BMIBaseline</td>\n",
       "      <td>7008.0000</td>\n",
       "      <td>0.8532</td>\n",
       "      <td>-0.0299</td>\n",
       "    </tr>\n",
       "  </tbody>\n",
       "</table>\n",
       "</div>"
      ],
      "text/plain": [
       "                Feature  Test Statistic  Test p-value  Effect Size\n",
       "0                   Sex          4.8190        0.0281       0.1109\n",
       "1           AgeBaseline      10016.0000        0.0000       0.9068\n",
       "2       HistoryDiabetes         28.5670        0.0000       0.2700\n",
       "3            HistoryCHD         17.2461        0.0000       0.2098\n",
       "4       HistoryVascular          0.0947        0.7582       0.0155\n",
       "5        HistorySmoking          0.8649        0.3524       0.0470\n",
       "6            HistoryHTN          8.0860        0.0045       0.1436\n",
       "7            HistoryDLD          6.8439        0.0089       0.1321\n",
       "8        HistoryObesity          0.2244        0.6357       0.0239\n",
       "9               DLDmeds          9.5415        0.0020       0.1560\n",
       "10               DMmeds         27.7387        0.0000       0.2660\n",
       "11              HTNmeds          6.1674        0.0130       0.1254\n",
       "12              ACEIARB         13.9005        0.0002       0.1883\n",
       "13  CholesterolBaseline       5036.5000        0.0059      -0.4339\n",
       "14   CreatinineBaseline      10805.0000        0.0000       1.0901\n",
       "15         eGFRBaseline       2206.5000        0.0000      -1.3767\n",
       "16          sBPBaseline       7973.0000        0.1047       0.1985\n",
       "17          dBPBaseline       5776.5000        0.0992      -0.2712\n",
       "18          BMIBaseline       7008.0000        0.8532      -0.0299"
      ]
     },
     "execution_count": 30,
     "metadata": {},
     "output_type": "execute_result"
    }
   ],
   "source": [
    "# view the statistical test result in a dataframe\n",
    "stat_result = pd.DataFrame(res_list)\n",
    "stat_result"
   ]
  },
  {
   "cell_type": "code",
   "execution_count": 31,
   "id": "066b1e44",
   "metadata": {},
   "outputs": [
    {
     "data": {
      "text/html": [
       "<div>\n",
       "<style scoped>\n",
       "    .dataframe tbody tr th:only-of-type {\n",
       "        vertical-align: middle;\n",
       "    }\n",
       "\n",
       "    .dataframe tbody tr th {\n",
       "        vertical-align: top;\n",
       "    }\n",
       "\n",
       "    .dataframe thead th {\n",
       "        text-align: right;\n",
       "    }\n",
       "</style>\n",
       "<table border=\"1\" class=\"dataframe\">\n",
       "  <thead>\n",
       "    <tr style=\"text-align: right;\">\n",
       "      <th></th>\n",
       "      <th>Feature</th>\n",
       "      <th>Test Statistic</th>\n",
       "      <th>Test p-value</th>\n",
       "      <th>Effect Size</th>\n",
       "    </tr>\n",
       "  </thead>\n",
       "  <tbody>\n",
       "    <tr>\n",
       "      <th>0</th>\n",
       "      <td>Sex</td>\n",
       "      <td>4.8190</td>\n",
       "      <td>0.0281</td>\n",
       "      <td>0.1109</td>\n",
       "    </tr>\n",
       "    <tr>\n",
       "      <th>1</th>\n",
       "      <td>AgeBaseline</td>\n",
       "      <td>10016.0000</td>\n",
       "      <td>0.0000</td>\n",
       "      <td>0.9068</td>\n",
       "    </tr>\n",
       "    <tr>\n",
       "      <th>2</th>\n",
       "      <td>HistoryDiabetes</td>\n",
       "      <td>28.5670</td>\n",
       "      <td>0.0000</td>\n",
       "      <td>0.2700</td>\n",
       "    </tr>\n",
       "    <tr>\n",
       "      <th>3</th>\n",
       "      <td>HistoryCHD</td>\n",
       "      <td>17.2461</td>\n",
       "      <td>0.0000</td>\n",
       "      <td>0.2098</td>\n",
       "    </tr>\n",
       "    <tr>\n",
       "      <th>6</th>\n",
       "      <td>HistoryHTN</td>\n",
       "      <td>8.0860</td>\n",
       "      <td>0.0045</td>\n",
       "      <td>0.1436</td>\n",
       "    </tr>\n",
       "    <tr>\n",
       "      <th>7</th>\n",
       "      <td>HistoryDLD</td>\n",
       "      <td>6.8439</td>\n",
       "      <td>0.0089</td>\n",
       "      <td>0.1321</td>\n",
       "    </tr>\n",
       "    <tr>\n",
       "      <th>9</th>\n",
       "      <td>DLDmeds</td>\n",
       "      <td>9.5415</td>\n",
       "      <td>0.0020</td>\n",
       "      <td>0.1560</td>\n",
       "    </tr>\n",
       "    <tr>\n",
       "      <th>10</th>\n",
       "      <td>DMmeds</td>\n",
       "      <td>27.7387</td>\n",
       "      <td>0.0000</td>\n",
       "      <td>0.2660</td>\n",
       "    </tr>\n",
       "    <tr>\n",
       "      <th>11</th>\n",
       "      <td>HTNmeds</td>\n",
       "      <td>6.1674</td>\n",
       "      <td>0.0130</td>\n",
       "      <td>0.1254</td>\n",
       "    </tr>\n",
       "    <tr>\n",
       "      <th>12</th>\n",
       "      <td>ACEIARB</td>\n",
       "      <td>13.9005</td>\n",
       "      <td>0.0002</td>\n",
       "      <td>0.1883</td>\n",
       "    </tr>\n",
       "    <tr>\n",
       "      <th>13</th>\n",
       "      <td>CholesterolBaseline</td>\n",
       "      <td>5036.5000</td>\n",
       "      <td>0.0059</td>\n",
       "      <td>-0.4339</td>\n",
       "    </tr>\n",
       "    <tr>\n",
       "      <th>14</th>\n",
       "      <td>CreatinineBaseline</td>\n",
       "      <td>10805.0000</td>\n",
       "      <td>0.0000</td>\n",
       "      <td>1.0901</td>\n",
       "    </tr>\n",
       "    <tr>\n",
       "      <th>15</th>\n",
       "      <td>eGFRBaseline</td>\n",
       "      <td>2206.5000</td>\n",
       "      <td>0.0000</td>\n",
       "      <td>-1.3767</td>\n",
       "    </tr>\n",
       "  </tbody>\n",
       "</table>\n",
       "</div>"
      ],
      "text/plain": [
       "                Feature  Test Statistic  Test p-value  Effect Size\n",
       "0                   Sex          4.8190        0.0281       0.1109\n",
       "1           AgeBaseline      10016.0000        0.0000       0.9068\n",
       "2       HistoryDiabetes         28.5670        0.0000       0.2700\n",
       "3            HistoryCHD         17.2461        0.0000       0.2098\n",
       "6            HistoryHTN          8.0860        0.0045       0.1436\n",
       "7            HistoryDLD          6.8439        0.0089       0.1321\n",
       "9               DLDmeds          9.5415        0.0020       0.1560\n",
       "10               DMmeds         27.7387        0.0000       0.2660\n",
       "11              HTNmeds          6.1674        0.0130       0.1254\n",
       "12              ACEIARB         13.9005        0.0002       0.1883\n",
       "13  CholesterolBaseline       5036.5000        0.0059      -0.4339\n",
       "14   CreatinineBaseline      10805.0000        0.0000       1.0901\n",
       "15         eGFRBaseline       2206.5000        0.0000      -1.3767"
      ]
     },
     "metadata": {},
     "output_type": "display_data"
    },
    {
     "data": {
      "image/png": "[encoded data removed]",
      "text/plain": [
       "<Figure size 720x576 with 1 Axes>"
      ]
     },
     "metadata": {
      "needs_background": "light"
     },
     "output_type": "display_data"
    }
   ],
   "source": [
    "# features found to be statistically significant associated with the target\n",
    "imp_feats = stat_result[stat_result['Test p-value']<0.05]\n",
    "display(imp_feats)\n",
    "\n",
    "# visualization of the effect size of features\n",
    "plt.figure(figsize=(10,8))\n",
    "plt.bar(data=imp_feats, x=imp_feats['Feature'], height=imp_feats['Effect Size'], color='lightslategray')\n",
    "plt.xticks(rotation=45)\n",
    "plt.grid(alpha=0.4)\n",
    "plt.title('Effect Size of Features Statistically Significant Associated with the Likelihood of Severe CKD Event', fontsize=15)\n",
    "plt.show()"
   ]
  },
  {
   "cell_type": "code",
   "execution_count": 32,
   "id": "081abdd6",
   "metadata": {},
   "outputs": [],
   "source": [
    "# list of the features that are statistically significant associated with the likelihood of severe CKD event\n",
    "feats = imp_feats['Feature'].values.tolist()"
   ]
  },
  {
   "cell_type": "markdown",
   "id": "f14aca46",
   "metadata": {},
   "source": [
    "### Predictive Analytics\n",
    "#### Data Preprocessing for Modelling"
   ]
  },
  {
   "cell_type": "code",
   "execution_count": 33,
   "id": "0d3ef639",
   "metadata": {},
   "outputs": [],
   "source": [
    "# define a helper function to perform model evaluation based on key metrics\n",
    "from sklearn.metrics import precision_recall_fscore_support, matthews_corrcoef, confusion_matrix\n",
    "\n",
    "def performance_evaluation(X,y,clf,classifier_name=''):\n",
    "    ypred = clf.predict(X)\n",
    "    accuracy = clf.score(X,y)\n",
    "    mcc = matthews_corrcoef(y, ypred)\n",
    "    precision, recall, fscore, support = precision_recall_fscore_support(y, ypred, average='weighted', zero_division=0)\n",
    "    metricName = ['Accuracy','Precision','Recall','F1_Score','MCC']\n",
    "    metricValue = [accuracy,precision,recall,fscore,mcc]\n",
    "    res = pd.DataFrame(metricValue, index=metricName, columns=[classifier_name])\n",
    "    \n",
    "    # confusion matrix\n",
    "    labels = ['No Severe CKD Event','Severe CKD Event']\n",
    "    cm = confusion_matrix(y, ypred, normalize='true')\n",
    "    plt.figure(figsize=(6,5))\n",
    "    sns.heatmap(cm, annot=True, cmap='BuPu',xticklabels=labels, yticklabels=labels)\n",
    "    plt.title('Confusion Matrix', fontsize=13)\n",
    "    plt.show()\n",
    "    \n",
    "    # display the key evaluation metrics\n",
    "    display(res)\n",
    "    \n",
    "    return res"
   ]
  },
  {
   "cell_type": "code",
   "execution_count": 34,
   "id": "984c4c30",
   "metadata": {},
   "outputs": [],
   "source": [
    "# segregate the feate matrix and target vector from train and test dataset\n",
    "Xtrain = train.drop(columns=['EventCKD35'], axis=1)\n",
    "ytrain = train['EventCKD35']\n",
    "\n",
    "Xtest = test.drop(columns=['EventCKD35'], axis=1)\n",
    "ytest = test['EventCKD35']"
   ]
  },
  {
   "cell_type": "code",
   "execution_count": 35,
   "id": "2d38401f",
   "metadata": {},
   "outputs": [],
   "source": [
    "from sklearn.preprocessing import MinMaxScaler\n",
    "\n",
    "scaler = MinMaxScaler()\n",
    "\n",
    "# full feature sets with imbalanced classes\n",
    "Xtrain_scaled = scaler.fit_transform(Xtrain)\n",
    "Xtest_scaled = scaler.transform(Xtest)"
   ]
  },
  {
   "cell_type": "code",
   "execution_count": 36,
   "id": "9148a4b6",
   "metadata": {},
   "outputs": [
    {
     "name": "stdout",
     "output_type": "stream",
     "text": [
      "Original class distribution: [353  39]\n",
      "Resampled class distribution: [353 353]\n"
     ]
    }
   ],
   "source": [
    "from imblearn.over_sampling import SMOTE\n",
    "\n",
    "# apply SMOTE\n",
    "smote = SMOTE(random_state=122)\n",
    "X_resampled, y_resampled = smote.fit_resample(Xtrain, ytrain)\n",
    "\n",
    "# check the class distribution\n",
    "print('Original class distribution:', np.bincount(ytrain))\n",
    "print('Resampled class distribution:', np.bincount(y_resampled))"
   ]
  },
  {
   "cell_type": "code",
   "execution_count": 37,
   "id": "97362d3b",
   "metadata": {},
   "outputs": [],
   "source": [
    "scaler = MinMaxScaler()\n",
    "\n",
    "# full feature sets with balanced classes\n",
    "Xtrain_balanced_scaled = scaler.fit_transform(X_resampled)\n",
    "Xtest_balanced_scaled = scaler.transform(Xtest)"
   ]
  },
  {
   "cell_type": "code",
   "execution_count": 38,
   "id": "1bbb269d",
   "metadata": {},
   "outputs": [
    {
     "name": "stdout",
     "output_type": "stream",
     "text": [
      "Original class distribution:  [353  39]\n",
      "Resampled class distribution:  [353 353]\n"
     ]
    }
   ],
   "source": [
    "# feature selection\n",
    "Xtrain_selected = Xtrain[feats]\n",
    "Xtest_selected = Xtest[feats]\n",
    "\n",
    "# apply SMOTE to balance the classes\n",
    "smote = SMOTE(random_state=122)\n",
    "Xtrain_selected_resampled, ytrain_selected_resampled = smote.fit_resample(Xtrain_selected, ytrain)\n",
    "\n",
    "# check the class distribution\n",
    "print('Original class distribution: ', np.bincount(ytrain))\n",
    "print('Resampled class distribution: ', np.bincount(ytrain_selected_resampled))"
   ]
  },
  {
   "cell_type": "code",
   "execution_count": 39,
   "id": "395ecffc",
   "metadata": {},
   "outputs": [],
   "source": [
    "scaler = MinMaxScaler()\n",
    "\n",
    "# selected features based on statistical test (p < 0.05)\n",
    "Xtrain_selected_scaled = scaler.fit_transform(Xtrain_selected_resampled)\n",
    "Xtest_selected_scaled = scaler.transform(Xtest_selected)"
   ]
  },
  {
   "cell_type": "markdown",
   "id": "2bcdf177",
   "metadata": {},
   "source": [
    "#### Model 1 | Logistic Regression (Base Model) - All Features with Imbalanced Classes"
   ]
  },
  {
   "cell_type": "code",
   "execution_count": 40,
   "id": "28129870",
   "metadata": {},
   "outputs": [
    {
     "name": "stdout",
     "output_type": "stream",
     "text": [
      "Best Parameters:  {'C': 10, 'penalty': 'l1', 'solver': 'saga'}\n",
      "Best Accuracy:  0.9056799740344044\n"
     ]
    },
    {
     "data": {
      "image/png": "[encoded data removed]",
      "text/plain": [
       "<Figure size 432x360 with 2 Axes>"
      ]
     },
     "metadata": {
      "needs_background": "light"
     },
     "output_type": "display_data"
    },
    {
     "data": {
      "text/html": [
       "<div>\n",
       "<style scoped>\n",
       "    .dataframe tbody tr th:only-of-type {\n",
       "        vertical-align: middle;\n",
       "    }\n",
       "\n",
       "    .dataframe tbody tr th {\n",
       "        vertical-align: top;\n",
       "    }\n",
       "\n",
       "    .dataframe thead th {\n",
       "        text-align: right;\n",
       "    }\n",
       "</style>\n",
       "<table border=\"1\" class=\"dataframe\">\n",
       "  <thead>\n",
       "    <tr style=\"text-align: right;\">\n",
       "      <th></th>\n",
       "      <th>Base_Imbalanced</th>\n",
       "    </tr>\n",
       "  </thead>\n",
       "  <tbody>\n",
       "    <tr>\n",
       "      <th>Accuracy</th>\n",
       "      <td>0.828283</td>\n",
       "    </tr>\n",
       "    <tr>\n",
       "      <th>Precision</th>\n",
       "      <td>0.789454</td>\n",
       "    </tr>\n",
       "    <tr>\n",
       "      <th>Recall</th>\n",
       "      <td>0.828283</td>\n",
       "    </tr>\n",
       "    <tr>\n",
       "      <th>F1_Score</th>\n",
       "      <td>0.792617</td>\n",
       "    </tr>\n",
       "    <tr>\n",
       "      <th>MCC</th>\n",
       "      <td>0.221099</td>\n",
       "    </tr>\n",
       "  </tbody>\n",
       "</table>\n",
       "</div>"
      ],
      "text/plain": [
       "           Base_Imbalanced\n",
       "Accuracy          0.828283\n",
       "Precision         0.789454\n",
       "Recall            0.828283\n",
       "F1_Score          0.792617\n",
       "MCC               0.221099"
      ]
     },
     "metadata": {},
     "output_type": "display_data"
    }
   ],
   "source": [
    "from sklearn.linear_model import LogisticRegression\n",
    "from sklearn.model_selection import GridSearchCV\n",
    "\n",
    "# create a logistic regression Classifier\n",
    "logreg = LogisticRegression(random_state=122, max_iter=5000)\n",
    "\n",
    "# define the hyperparameter grid\n",
    "param_grid = {\n",
    "    'penalty': ['l1', 'l2'],\n",
    "    'C': [0.001, 0.01, 0.1, 1, 10, 100],\n",
    "    'solver': ['liblinear', 'saga']\n",
    "}\n",
    "\n",
    "# create the GridSearchCV object\n",
    "grid_search_logreg = GridSearchCV(logreg, param_grid, cv=5, scoring='accuracy', n_jobs=-1)\n",
    "\n",
    "# fit the grid search to the data\n",
    "grid_search_logreg.fit(Xtrain_scaled, ytrain)\n",
    "\n",
    "# print the best parameters and the corresponding accuracy\n",
    "print('Best Parameters: ', grid_search_logreg.best_params_)\n",
    "print('Best Accuracy: ', grid_search_logreg.best_score_)\n",
    "\n",
    "# get the best model\n",
    "logreg_base = grid_search_logreg.best_estimator_\n",
    "\n",
    "# check the model performance on test data\n",
    "base_model = performance_evaluation(Xtest_scaled, ytest, logreg_base, 'Base_Imbalanced')"
   ]
  },
  {
   "cell_type": "markdown",
   "id": "2795e71f",
   "metadata": {},
   "source": [
    "#### Model 2 | Logistic Regression (Base Model) - All Features with Balanced Classes"
   ]
  },
  {
   "cell_type": "code",
   "execution_count": 41,
   "id": "47f6faaf",
   "metadata": {},
   "outputs": [
    {
     "name": "stdout",
     "output_type": "stream",
     "text": [
      "Best Parameters:  {'C': 100, 'penalty': 'l1', 'solver': 'liblinear'}\n",
      "Best Accuracy:  0.848526620717211\n"
     ]
    },
    {
     "data": {
      "image/png": "[encoded data removed]",
      "text/plain": [
       "<Figure size 432x360 with 2 Axes>"
      ]
     },
     "metadata": {
      "needs_background": "light"
     },
     "output_type": "display_data"
    },
    {
     "data": {
      "text/html": [
       "<div>\n",
       "<style scoped>\n",
       "    .dataframe tbody tr th:only-of-type {\n",
       "        vertical-align: middle;\n",
       "    }\n",
       "\n",
       "    .dataframe tbody tr th {\n",
       "        vertical-align: top;\n",
       "    }\n",
       "\n",
       "    .dataframe thead th {\n",
       "        text-align: right;\n",
       "    }\n",
       "</style>\n",
       "<table border=\"1\" class=\"dataframe\">\n",
       "  <thead>\n",
       "    <tr style=\"text-align: right;\">\n",
       "      <th></th>\n",
       "      <th>Base_Balanced</th>\n",
       "    </tr>\n",
       "  </thead>\n",
       "  <tbody>\n",
       "    <tr>\n",
       "      <th>Accuracy</th>\n",
       "      <td>0.757576</td>\n",
       "    </tr>\n",
       "    <tr>\n",
       "      <th>Precision</th>\n",
       "      <td>0.768620</td>\n",
       "    </tr>\n",
       "    <tr>\n",
       "      <th>Recall</th>\n",
       "      <td>0.757576</td>\n",
       "    </tr>\n",
       "    <tr>\n",
       "      <th>F1_Score</th>\n",
       "      <td>0.762813</td>\n",
       "    </tr>\n",
       "    <tr>\n",
       "      <th>MCC</th>\n",
       "      <td>0.186173</td>\n",
       "    </tr>\n",
       "  </tbody>\n",
       "</table>\n",
       "</div>"
      ],
      "text/plain": [
       "           Base_Balanced\n",
       "Accuracy        0.757576\n",
       "Precision       0.768620\n",
       "Recall          0.757576\n",
       "F1_Score        0.762813\n",
       "MCC             0.186173"
      ]
     },
     "metadata": {},
     "output_type": "display_data"
    }
   ],
   "source": [
    "# create a logistic regression Classifier\n",
    "logreg = LogisticRegression(random_state=122, max_iter=5000)\n",
    "\n",
    "# define the hyperparameter grid\n",
    "param_grid = {\n",
    "    'penalty': ['l1', 'l2'],\n",
    "    'C': [0.001, 0.01, 0.1, 1, 10, 100],\n",
    "    'solver': ['liblinear', 'saga']\n",
    "}\n",
    "\n",
    "# create the GridSearchCV object\n",
    "grid_search_logreg = GridSearchCV(logreg, param_grid, cv=5, scoring='accuracy', n_jobs=-1)\n",
    "\n",
    "# fit the grid search to the data\n",
    "grid_search_logreg.fit(Xtrain_balanced_scaled, y_resampled)\n",
    "\n",
    "# print the best parameters and the corresponding accuracy\n",
    "print('Best Parameters: ', grid_search_logreg.best_params_)\n",
    "print('Best Accuracy: ', grid_search_logreg.best_score_)\n",
    "\n",
    "# get the best model\n",
    "logreg_base_balanced = grid_search_logreg.best_estimator_\n",
    "\n",
    "# check the model performance on test data\n",
    "base_balanced_model = performance_evaluation(Xtest_balanced_scaled, ytest, logreg_base_balanced, 'Base_Balanced')"
   ]
  },
  {
   "cell_type": "markdown",
   "id": "27856a17",
   "metadata": {},
   "source": [
    "#### Model 3 | Logistic Regression (Refined) - Selected Features with Balanced Classes"
   ]
  },
  {
   "cell_type": "code",
   "execution_count": 42,
   "id": "18a302b1",
   "metadata": {},
   "outputs": [
    {
     "name": "stdout",
     "output_type": "stream",
     "text": [
      "Best Parameters:  {'C': 10, 'penalty': 'l1', 'solver': 'saga'}\n",
      "Best Accuracy:  0.8187094196383977\n"
     ]
    },
    {
     "data": {
      "image/png": "[encoded data removed]",
      "text/plain": [
       "<Figure size 432x360 with 2 Axes>"
      ]
     },
     "metadata": {
      "needs_background": "light"
     },
     "output_type": "display_data"
    },
    {
     "data": {
      "text/html": [
       "<div>\n",
       "<style scoped>\n",
       "    .dataframe tbody tr th:only-of-type {\n",
       "        vertical-align: middle;\n",
       "    }\n",
       "\n",
       "    .dataframe tbody tr th {\n",
       "        vertical-align: top;\n",
       "    }\n",
       "\n",
       "    .dataframe thead th {\n",
       "        text-align: right;\n",
       "    }\n",
       "</style>\n",
       "<table border=\"1\" class=\"dataframe\">\n",
       "  <thead>\n",
       "    <tr style=\"text-align: right;\">\n",
       "      <th></th>\n",
       "      <th>Refined_Balanced</th>\n",
       "    </tr>\n",
       "  </thead>\n",
       "  <tbody>\n",
       "    <tr>\n",
       "      <th>Accuracy</th>\n",
       "      <td>0.777778</td>\n",
       "    </tr>\n",
       "    <tr>\n",
       "      <th>Precision</th>\n",
       "      <td>0.829218</td>\n",
       "    </tr>\n",
       "    <tr>\n",
       "      <th>Recall</th>\n",
       "      <td>0.777778</td>\n",
       "    </tr>\n",
       "    <tr>\n",
       "      <th>F1_Score</th>\n",
       "      <td>0.795815</td>\n",
       "    </tr>\n",
       "    <tr>\n",
       "      <th>MCC</th>\n",
       "      <td>0.382702</td>\n",
       "    </tr>\n",
       "  </tbody>\n",
       "</table>\n",
       "</div>"
      ],
      "text/plain": [
       "           Refined_Balanced\n",
       "Accuracy           0.777778\n",
       "Precision          0.829218\n",
       "Recall             0.777778\n",
       "F1_Score           0.795815\n",
       "MCC                0.382702"
      ]
     },
     "metadata": {},
     "output_type": "display_data"
    }
   ],
   "source": [
    "# create a logistic regression Classifier\n",
    "logreg = LogisticRegression(random_state=122, max_iter=5000)\n",
    "\n",
    "# define the hyperparameter grid\n",
    "param_grid = {\n",
    "    'penalty': ['l1', 'l2'],\n",
    "    'C': [0.001, 0.01, 0.1, 1, 10, 100],\n",
    "    'solver': ['liblinear', 'saga']\n",
    "}\n",
    "\n",
    "# create the GridSearchCV object\n",
    "grid_search_logreg = GridSearchCV(logreg, param_grid, cv=5, scoring='accuracy', n_jobs=-1)\n",
    "\n",
    "# fit the grid search to the data\n",
    "grid_search_logreg.fit(Xtrain_selected_scaled, ytrain_selected_resampled)\n",
    "\n",
    "# print the best parameters and the corresponding accuracy\n",
    "print('Best Parameters: ', grid_search_logreg.best_params_)\n",
    "print('Best Accuracy: ', grid_search_logreg.best_score_)\n",
    "\n",
    "# get the best model\n",
    "logreg_refined_balanced = grid_search_logreg.best_estimator_\n",
    "\n",
    "# check the model performance on test data\n",
    "refined_balanced_model = performance_evaluation(Xtest_selected_scaled, ytest, logreg_refined_balanced, 'Refined_Balanced')"
   ]
  },
  {
   "cell_type": "markdown",
   "id": "71f54d83",
   "metadata": {},
   "source": [
    "### Summary of the Predictive Analytics"
   ]
  },
  {
   "cell_type": "code",
   "execution_count": 43,
   "id": "30853e90",
   "metadata": {
    "scrolled": true
   },
   "outputs": [
    {
     "data": {
      "text/html": [
       "<div>\n",
       "<style scoped>\n",
       "    .dataframe tbody tr th:only-of-type {\n",
       "        vertical-align: middle;\n",
       "    }\n",
       "\n",
       "    .dataframe tbody tr th {\n",
       "        vertical-align: top;\n",
       "    }\n",
       "\n",
       "    .dataframe thead th {\n",
       "        text-align: right;\n",
       "    }\n",
       "</style>\n",
       "<table border=\"1\" class=\"dataframe\">\n",
       "  <thead>\n",
       "    <tr style=\"text-align: right;\">\n",
       "      <th></th>\n",
       "      <th>Base_Imbalanced</th>\n",
       "      <th>Base_Balanced</th>\n",
       "      <th>Refined_Balanced</th>\n",
       "    </tr>\n",
       "  </thead>\n",
       "  <tbody>\n",
       "    <tr>\n",
       "      <th>Accuracy</th>\n",
       "      <td>0.828283</td>\n",
       "      <td>0.757576</td>\n",
       "      <td>0.777778</td>\n",
       "    </tr>\n",
       "    <tr>\n",
       "      <th>Precision</th>\n",
       "      <td>0.789454</td>\n",
       "      <td>0.768620</td>\n",
       "      <td>0.829218</td>\n",
       "    </tr>\n",
       "    <tr>\n",
       "      <th>Recall</th>\n",
       "      <td>0.828283</td>\n",
       "      <td>0.757576</td>\n",
       "      <td>0.777778</td>\n",
       "    </tr>\n",
       "    <tr>\n",
       "      <th>F1_Score</th>\n",
       "      <td>0.792617</td>\n",
       "      <td>0.762813</td>\n",
       "      <td>0.795815</td>\n",
       "    </tr>\n",
       "    <tr>\n",
       "      <th>MCC</th>\n",
       "      <td>0.221099</td>\n",
       "      <td>0.186173</td>\n",
       "      <td>0.382702</td>\n",
       "    </tr>\n",
       "  </tbody>\n",
       "</table>\n",
       "</div>"
      ],
      "text/plain": [
       "           Base_Imbalanced  Base_Balanced  Refined_Balanced\n",
       "Accuracy          0.828283       0.757576          0.777778\n",
       "Precision         0.789454       0.768620          0.829218\n",
       "Recall            0.828283       0.757576          0.777778\n",
       "F1_Score          0.792617       0.762813          0.795815\n",
       "MCC               0.221099       0.186173          0.382702"
      ]
     },
     "execution_count": 43,
     "metadata": {},
     "output_type": "execute_result"
    }
   ],
   "source": [
    "# compare the key evaluation metrics for 3 models\n",
    "res = pd.concat([base_model, base_balanced_model, refined_balanced_model], axis=1)\n",
    "\n",
    "# display the result\n",
    "res"
   ]
  },
  {
   "cell_type": "markdown",
   "id": "7a43b2d9",
   "metadata": {},
   "source": [
    "In the subsequent phase of the analysis, a logistic regression algorithm was employed to construct a classification model for predicting the likelihood of severe chronic kidney disease (CKD) events in patients. Initially, the model was trained using all available features. However, due to imbalanced classes—where the major class constituted 90% (no severe CKD event) and the minor class 10% (severe CKD event)—the resulting high accuracy of 82.83% was misleading. Despite the seemingly strong accuracy, the low Matthews Correlation Coefficient (MCC) value of 0.2211 indicated poor performance in identifying the severe CKD event (minor class). Examination of the confusion matrix revealed a significant imbalance in the normalized values for the minor class (0.18) compared to the major class (0.96).\n",
    "\n",
    "To address this imbalance, the Synthetic Minority Over-sampling Technique (SMOTE) was applied, resulting in a more balanced dataset. However, this adjustment led to a decrease in both accuracy (75.76%) and MCC score (0.1862). Nevertheless, the confusion matrix indicated an improvement in identifying the severe CKD event (normalized value: 0.35), compared to the major class (normalized value: 0.84).\n",
    "\n",
    "To refine the model further, only features identified as statistically significant in the earlier statistical analysis were used for training. This targeted approach resulted in an accuracy of 77.78% and a significantly improved MCC score of 0.3827. The confusion matrix reflected a substantial enhancement in identifying the severe CKD event (normalized value: 0.65) compared to the major class (normalized value: 0.80).\n",
    "\n",
    "The summarized comparison in the table illustrates the trade-offs between different model configurations. While the initial imbalanced model achieved high accuracy, the refined balanced model, leveraging statistically significant features, struck a better balance between precision, recall, and overall performance, as evidenced by the higher MCC score. These insights underscore the importance of considering not only accuracy but also more robust metrics, especially in the context of imbalanced datasets."
   ]
  },
  {
   "cell_type": "markdown",
   "id": "5686171e",
   "metadata": {},
   "source": [
    "#### Future Directions:\n",
    "\n",
    "1. Feature Engineering and Selection: Explore further feature engineering techniques to create new variables that might capture additional information or interactions between existing features. Refine feature selection methods to focus on the most relevant predictors for better model interpretability and potentially enhanced performance.\n",
    "\n",
    "2. Ensemble Methods: Investigate ensemble methods such as Random Forests or Gradient Boosting. Ensemble models can often provide improved predictive performance by combining the strengths of multiple models.\n",
    "\n",
    "3. Advanced Model Architectures: Experiment with more complex model architectures, such as deep learning models, to capture intricate relationships within the data. Neural networks may uncover patterns that traditional models might overlook.\n",
    "\n",
    "4. Resampling Techniques: Consider alternative resampling techniques beyond SMOTE, such as ADASYN or Borderline-SMOTE, to address class imbalance and potentially enhance model generalization.\n",
    "\n",
    "5. Clinical Validation: Collaborate with domain experts or clinicians to validate the model's predictions against clinical knowledge. This can provide valuable insights into the practical utility of the model in a healthcare setting."
   ]
  }
 ],
 "metadata": {
  "kernelspec": {
   "display_name": "Python 3 (ipykernel)",
   "language": "python",
   "name": "python3"
  },
  "language_info": {
   "codemirror_mode": {
    "name": "ipython",
    "version": 3
   },
   "file_extension": ".py",
   "mimetype": "text/x-python",
   "name": "python",
   "nbconvert_exporter": "python",
   "pygments_lexer": "ipython3",
   "version": "3.9.12"
  }
 },
 "nbformat": 4,
 "nbformat_minor": 5
}
