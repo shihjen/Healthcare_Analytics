{
 "cells": [
  {
   "cell_type": "markdown",
   "id": "3006757c-41fb-42e7-ba3b-4681e6c3c7a7",
   "metadata": {},
   "source": [
    "## SEER Breast Cancer Survival Prediction"
   ]
  },
  {
   "cell_type": "markdown",
   "id": "dd2819c7-b32a-415f-836d-69389f014eb7",
   "metadata": {},
   "source": [
    "### Import Essential Libraries"
   ]
  },
  {
   "cell_type": "code",
   "execution_count": 1,
   "id": "77d0599d",
   "metadata": {},
   "outputs": [],
   "source": [
    "# import essential libraries\n",
    "import pandas as pd\n",
    "import numpy as np\n",
    "import matplotlib.pyplot as plt\n",
    "import seaborn as sns\n",
    "\n",
    "%matplotlib inline"
   ]
  },
  {
   "cell_type": "markdown",
   "id": "44ba1e3e-95a2-4ed7-a5f7-eff59994aff6",
   "metadata": {},
   "source": [
    "### Loading Dataset & Data Understanding"
   ]
  },
  {
   "cell_type": "code",
   "execution_count": 33,
   "id": "b3c090f4",
   "metadata": {},
   "outputs": [
    {
     "name": "stdout",
     "output_type": "stream",
     "text": [
      "The dataset contains 4024 rows and 15 columns\n",
      "Attributes in the dataset including: ['Age' 'Race' 'Marital Status' 'T Stage' 'N Stage' '6th Stage' 'Grade'\n",
      " 'A Stage' 'Tumor Size' 'Estrogen Status' 'Progesterone Status'\n",
      " 'Regional Node Examined' 'Regional Node Positive' 'Survival Months'\n",
      " 'Status']\n"
     ]
    },
    {
     "data": {
      "text/html": [
       "<div>\n",
       "<style scoped>\n",
       "    .dataframe tbody tr th:only-of-type {\n",
       "        vertical-align: middle;\n",
       "    }\n",
       "\n",
       "    .dataframe tbody tr th {\n",
       "        vertical-align: top;\n",
       "    }\n",
       "\n",
       "    .dataframe thead th {\n",
       "        text-align: right;\n",
       "    }\n",
       "</style>\n",
       "<table border=\"1\" class=\"dataframe\">\n",
       "  <thead>\n",
       "    <tr style=\"text-align: right;\">\n",
       "      <th></th>\n",
       "      <th>Age</th>\n",
       "      <th>Race</th>\n",
       "      <th>Marital Status</th>\n",
       "      <th>T Stage</th>\n",
       "      <th>N Stage</th>\n",
       "      <th>6th Stage</th>\n",
       "      <th>Grade</th>\n",
       "      <th>A Stage</th>\n",
       "      <th>Tumor Size</th>\n",
       "      <th>Estrogen Status</th>\n",
       "      <th>Progesterone Status</th>\n",
       "      <th>Regional Node Examined</th>\n",
       "      <th>Regional Node Positive</th>\n",
       "      <th>Survival Months</th>\n",
       "      <th>Status</th>\n",
       "    </tr>\n",
       "  </thead>\n",
       "  <tbody>\n",
       "    <tr>\n",
       "      <th>0</th>\n",
       "      <td>43</td>\n",
       "      <td>Other (American Indian/AK Native, Asian/Pacifi...</td>\n",
       "      <td>Married (including common law)</td>\n",
       "      <td>T2</td>\n",
       "      <td>N3</td>\n",
       "      <td>IIIC</td>\n",
       "      <td>Moderately differentiated; Grade II</td>\n",
       "      <td>Regional</td>\n",
       "      <td>40</td>\n",
       "      <td>Positive</td>\n",
       "      <td>Positive</td>\n",
       "      <td>19</td>\n",
       "      <td>11</td>\n",
       "      <td>1</td>\n",
       "      <td>Alive</td>\n",
       "    </tr>\n",
       "    <tr>\n",
       "      <th>1</th>\n",
       "      <td>47</td>\n",
       "      <td>Other (American Indian/AK Native, Asian/Pacifi...</td>\n",
       "      <td>Married (including common law)</td>\n",
       "      <td>T2</td>\n",
       "      <td>N2</td>\n",
       "      <td>IIIA</td>\n",
       "      <td>Moderately differentiated; Grade II</td>\n",
       "      <td>Regional</td>\n",
       "      <td>45</td>\n",
       "      <td>Positive</td>\n",
       "      <td>Positive</td>\n",
       "      <td>25</td>\n",
       "      <td>9</td>\n",
       "      <td>2</td>\n",
       "      <td>Alive</td>\n",
       "    </tr>\n",
       "    <tr>\n",
       "      <th>2</th>\n",
       "      <td>67</td>\n",
       "      <td>White</td>\n",
       "      <td>Married (including common law)</td>\n",
       "      <td>T2</td>\n",
       "      <td>N1</td>\n",
       "      <td>IIB</td>\n",
       "      <td>Poorly differentiated; Grade III</td>\n",
       "      <td>Regional</td>\n",
       "      <td>25</td>\n",
       "      <td>Positive</td>\n",
       "      <td>Positive</td>\n",
       "      <td>4</td>\n",
       "      <td>1</td>\n",
       "      <td>2</td>\n",
       "      <td>Dead</td>\n",
       "    </tr>\n",
       "    <tr>\n",
       "      <th>3</th>\n",
       "      <td>46</td>\n",
       "      <td>White</td>\n",
       "      <td>Divorced</td>\n",
       "      <td>T1</td>\n",
       "      <td>N1</td>\n",
       "      <td>IIA</td>\n",
       "      <td>Moderately differentiated; Grade II</td>\n",
       "      <td>Regional</td>\n",
       "      <td>19</td>\n",
       "      <td>Positive</td>\n",
       "      <td>Positive</td>\n",
       "      <td>26</td>\n",
       "      <td>1</td>\n",
       "      <td>2</td>\n",
       "      <td>Dead</td>\n",
       "    </tr>\n",
       "    <tr>\n",
       "      <th>4</th>\n",
       "      <td>63</td>\n",
       "      <td>White</td>\n",
       "      <td>Married (including common law)</td>\n",
       "      <td>T2</td>\n",
       "      <td>N2</td>\n",
       "      <td>IIIA</td>\n",
       "      <td>Moderately differentiated; Grade II</td>\n",
       "      <td>Regional</td>\n",
       "      <td>35</td>\n",
       "      <td>Positive</td>\n",
       "      <td>Positive</td>\n",
       "      <td>21</td>\n",
       "      <td>5</td>\n",
       "      <td>3</td>\n",
       "      <td>Dead</td>\n",
       "    </tr>\n",
       "  </tbody>\n",
       "</table>\n",
       "</div>"
      ],
      "text/plain": [
       "   Age                                               Race  \\\n",
       "0   43  Other (American Indian/AK Native, Asian/Pacifi...   \n",
       "1   47  Other (American Indian/AK Native, Asian/Pacifi...   \n",
       "2   67                                              White   \n",
       "3   46                                              White   \n",
       "4   63                                              White   \n",
       "\n",
       "                   Marital Status T Stage N Stage 6th Stage  \\\n",
       "0  Married (including common law)      T2      N3      IIIC   \n",
       "1  Married (including common law)      T2      N2      IIIA   \n",
       "2  Married (including common law)      T2      N1       IIB   \n",
       "3                        Divorced      T1      N1       IIA   \n",
       "4  Married (including common law)      T2      N2      IIIA   \n",
       "\n",
       "                                 Grade   A Stage  Tumor Size Estrogen Status  \\\n",
       "0  Moderately differentiated; Grade II  Regional          40        Positive   \n",
       "1  Moderately differentiated; Grade II  Regional          45        Positive   \n",
       "2     Poorly differentiated; Grade III  Regional          25        Positive   \n",
       "3  Moderately differentiated; Grade II  Regional          19        Positive   \n",
       "4  Moderately differentiated; Grade II  Regional          35        Positive   \n",
       "\n",
       "  Progesterone Status  Regional Node Examined  Regional Node Positive  \\\n",
       "0            Positive                      19                      11   \n",
       "1            Positive                      25                       9   \n",
       "2            Positive                       4                       1   \n",
       "3            Positive                      26                       1   \n",
       "4            Positive                      21                       5   \n",
       "\n",
       "   Survival Months Status  \n",
       "0                1  Alive  \n",
       "1                2  Alive  \n",
       "2                2   Dead  \n",
       "3                2   Dead  \n",
       "4                3   Dead  "
      ]
     },
     "execution_count": 33,
     "metadata": {},
     "output_type": "execute_result"
    }
   ],
   "source": [
    "# load the dataset\n",
    "data = pd.read_csv('../data/seer_breastcancer_dataset.csv')\n",
    "\n",
    "# check the dimension of the dataset\n",
    "print('The dataset contains {} rows and {} columns'.format(data.shape[0], data.shape[1]))\n",
    "# check the columns in the dataset\n",
    "print('Attributes in the dataset including:', data.columns.values)\n",
    "      \n",
    "# view the first 5 rows of the dataset\n",
    "data.head()"
   ]
  },
  {
   "cell_type": "code",
   "execution_count": 35,
   "id": "47937932",
   "metadata": {},
   "outputs": [
    {
     "name": "stdout",
     "output_type": "stream",
     "text": [
      "<class 'pandas.core.frame.DataFrame'>\n",
      "RangeIndex: 4024 entries, 0 to 4023\n",
      "Data columns (total 15 columns):\n",
      " #   Column                  Non-Null Count  Dtype \n",
      "---  ------                  --------------  ----- \n",
      " 0   Age                     4024 non-null   int64 \n",
      " 1   Race                    4024 non-null   object\n",
      " 2   Marital Status          4024 non-null   object\n",
      " 3   T Stage                 4024 non-null   object\n",
      " 4   N Stage                 4024 non-null   object\n",
      " 5   6th Stage               4024 non-null   object\n",
      " 6   Grade                   4024 non-null   object\n",
      " 7   A Stage                 4024 non-null   object\n",
      " 8   Tumor Size              4024 non-null   int64 \n",
      " 9   Estrogen Status         4024 non-null   object\n",
      " 10  Progesterone Status     4024 non-null   object\n",
      " 11  Regional Node Examined  4024 non-null   int64 \n",
      " 12  Regional Node Positive  4024 non-null   int64 \n",
      " 13  Survival Months         4024 non-null   int64 \n",
      " 14  Status                  4024 non-null   object\n",
      "dtypes: int64(5), object(10)\n",
      "memory usage: 471.7+ KB\n"
     ]
    }
   ],
   "source": [
    "# summary of the dataset\n",
    "data.info()"
   ]
  },
  {
   "cell_type": "markdown",
   "id": "9c30c585",
   "metadata": {},
   "source": [
    "### Attributes Description:\n",
    "\n",
    "1. `Age` - age of the patient\n",
    "2. `Race` - race of the patient\n",
    "- Category: ['Other (American Indian/AK Native, Asian/Pacific Islander)','White', 'Black']\n",
    "3. `Marital Status` - marital status\n",
    "- Category: ['Married (including common law)','Divorced','Single (never married)','Widowed','Separated']\n",
    "4. `T Stage` - part of the TNM staging system, T stage refers to the size and extent of the primary tumor\n",
    "- Category: ['T2','T1','T3','T4']\n",
    "5. `N Stage` - part of the TNM staging system, N stage refers to the involvement of nearby lymph nodes\n",
    "- Category: ['N3','N2','N1']\n",
    "\n",
    "6. `6th Stage` - breast Adjusted  American Joint Committee on Cancer (AJCC) 6th Stage\n",
    "- Category: ['IIIC','IIIA','IIB','IIA','IIIB']\n",
    "- Stage IIA: Any 1 of these conditions: There is no evidence of a tumor in the breast, but the cancer has spread to 1 to 3 axillary lymph nodes. It has not spread to distant parts of the body (T0, N1, M0). The tumor is 20 mm or smaller and has spread to 1 to 3 axillary lymph nodes (T1, N1, M0). The tumor is larger than 20 mm but not larger than 50 mm and has not spread to the axillary lymph nodes (T2, N0, M0).\n",
    "- Stage IIB: Either of these conditions: The tumor is larger than 20 mm but not larger than 50 mm and has spread to 1 to 3 axillary lymph nodes (T2, N1, M0). The tumor is larger than 50 mm but has not spread to the axillary lymph nodes (T3, N0, M0).\n",
    "- Stage IIIA: The tumor of any size has spread to 4 to 9 axillary lymph nodes or to internal mammary lymph nodes. It has not spread to other parts of the body (T0, T1, T2, or T3; N2; M0). Stage IIIA may also be a tumor larger than 50 mm that has spread to 1 to 3 axillary lymph nodes (T3, N1, M0).\n",
    "- Stage IIIB: The tumor has spread to the chest wall or caused swelling or ulceration of the breast, or it is diagnosed as inflammatory breast cancer. It may or may not have spread to up to 9 axillary or internal mammary lymph nodes. It has not spread to other parts of the body (T4; N0, N1, or N2; M0).\n",
    "- Stage IIIC: A tumor of any size that has spread to 10 or more axillary lymph nodes, the internal mammary lymph nodes, and/or the lymph nodes under the collarbone. It has not spread to other parts of the body (any T, N3, M0).\n",
    "\n",
    "7. `Grade` - the differentiation grade. It refers to how much cancer cells resemble normal, healthy cells in terms of their structure and function. The degree of differentiation is an important characteristic used by pathologists to classify and describe cancer cells.\n",
    "- Category: ['Moderately differentiated; Grade II','Poorly differentiated; Grade III', 'Well differentiated; Grade I','Undifferentiated; anaplastic; Grade IV']\n",
    "- Well-differentiated (Low Grade): Well-differentiated cancer cells closely resemble normal cells in both structure and function. These cells tend to grow and spread at a slower rate compared to less-differentiated cells. In terms of cancer prognosis, well-differentiated cancers often have a better outlook.\n",
    "- Moderately Differentiated (Intermediate Grade): Moderately differentiated cancer cells have some features of normal cells but also exhibit some abnormal characteristics. The degree of abnormality falls between well-differentiated and poorly differentiated cells.\n",
    "- Poorly Differentiated (High Grade): Poorly differentiated cancer cells bear little resemblance to normal cells. They tend to grow and divide rapidly, and their appearance may be quite different from the tissue of origin. Poorly differentiated cancers are often associated with a more aggressive behavior and poorer prognosis.\n",
    "\n",
    "8. `A Stage` \n",
    "- Category: ['Regional','Distant']\n",
    "- Regional — A neoplasm that has extended\n",
    "- Distant — A neoplasm that has spread to parts of the body remote from\n",
    "9. `Tumor Size` - indicates exact size in millimeters\n",
    "10. `Estrogen Status` - estrogen Status \n",
    "- Category: ['Positive','Negative']\n",
    "11. `Progesterone Status` - progestrone status\n",
    "- Category: ['Positive','Negative']\n",
    "12. `Regional Node Examined` - refers to the number of regional lymph nodes that were examined during the diagnostic process.\n",
    "13. `Regional Node Positive` - refers to the presence of cancer cells in the regional lymph nodes.\n",
    "14. `Survival Months` - number of survival months\n",
    "15. `Status` - status of the patient\n",
    "- Category: ['Alive','Dead']"
   ]
  },
  {
   "cell_type": "markdown",
   "id": "91b5446c",
   "metadata": {
    "tags": []
   },
   "source": [
    "#### Data Types for each Feature\n",
    "\n",
    "1. num_feats = ['Age','Tumor Size','Regional Node Examined','Regional Node Positive','Survival Months']\n",
    "2. nominal_feats = ['Race','Marital Status']\n",
    "3. ordinal_feats = ['T Stage','N Stage','6th Stage','differentiate']\n",
    "4. binary_feats = ['A Stage','Estrogen Status','Progesterone Status']\n",
    "5. target_feats = ['Status']"
   ]
  },
  {
   "cell_type": "code",
   "execution_count": 36,
   "id": "018cde34",
   "metadata": {},
   "outputs": [],
   "source": [
    "# convert the feature that is ordinal data to a Categorical type with the specified order\n",
    "# feature that is ordinal data  - ['T Stage','N Stage','6th Stage','Grade']\n",
    "\n",
    "# feature 'T Stage'\n",
    "Tstage_order = ['T1', 'T2', 'T3', 'T4']\n",
    "data['T Stage'] = pd.Categorical(data['T Stage'], categories=Tstage_order, ordered=True)\n",
    "\n",
    "# feature 'N Stage'\n",
    "Nstage_order = ['N1', 'N2', 'N3']\n",
    "data['N Stage'] = pd.Categorical(data['N Stage'], categories=Nstage_order, ordered=True)\n",
    "\n",
    "# feature '6th Stage'\n",
    "sixstage_order = ['IIA','IIB','IIIA','IIIB','IIIC']\n",
    "data['6th Stage'] = pd.Categorical(data['6th Stage'], categories=sixstage_order, ordered=True)\n",
    "\n",
    "# feature 'Grade'\n",
    "grade_order = ['Well differentiated; Grade I','Moderately differentiated; Grade II','Poorly differentiated; Grade III','Undifferentiated; anaplastic; Grade IV']\n",
    "data['Grade'] = pd.Categorical(data['Grade'], categories=grade_order, ordered=True)"
   ]
  },
  {
   "cell_type": "markdown",
   "id": "350b0b53",
   "metadata": {},
   "source": [
    "### Exploratory Data Analysis (EDA)\n",
    "#### Target/Label Feature `Status`"
   ]
  },
  {
   "cell_type": "code",
   "execution_count": 39,
   "id": "b8e2c96f",
   "metadata": {
    "scrolled": true
   },
   "outputs": [
    {
     "data": {
      "image/png": "[encoded data removed]",
      "text/plain": [
       "<Figure size 1080x360 with 2 Axes>"
      ]
     },
     "metadata": {
      "needs_background": "light"
     },
     "output_type": "display_data"
    }
   ],
   "source": [
    "# visualize the sample distribution by the status of the patients\n",
    "status = data['Status'].value_counts()\n",
    "colors = ['lightgreen','lightcoral']\n",
    "\n",
    "figure, axes = plt.subplots(1,2, figsize=(15,5), gridspec_kw={'width_ratios':[1.5,1]})\n",
    "axes[0].barh(y=status.index, width=status.values, color=colors)\n",
    "axes[0].set_xlabel('Frequency')\n",
    "\n",
    "for index, values in enumerate(status):\n",
    "    axes[0].text(values+20, index, str(values), va='center')\n",
    "\n",
    "axes[0].grid(alpha=0.4)\n",
    "\n",
    "axes[1].pie(status.values, labels=status.index, autopct='%.2f%%', explode=([0.05]*len(status.index)), colors=colors)\n",
    "figure.suptitle('Sample Distribution by the Status of Patient (Alive vs Dead)', fontsize=15)\n",
    "plt.tight_layout(pad=1)\n",
    "plt.show()"
   ]
  },
  {
   "cell_type": "markdown",
   "id": "37bc846d",
   "metadata": {},
   "source": [
    "#### Defining Two Helper Functions to Analyze the Relationship between Categorical and Numerical Features with the Target Features"
   ]
  },
  {
   "cell_type": "code",
   "execution_count": 40,
   "id": "bc0929e7",
   "metadata": {},
   "outputs": [],
   "source": [
    "# define a helper function to plot chart and perform Mann Whitney U test to compare numerical features between survived and dead patients\n",
    "from scipy.stats import mannwhitneyu\n",
    "\n",
    "def mwutest(feature):\n",
    "\n",
    "    # visualization (histogram and boxplot)\n",
    "    figure, axes = plt.subplots(1,2, figsize=(15,5), gridspec_kw={'width_ratios':[1.5,1]})\n",
    "    sns.histplot(data=data, x=data[feature], hue=data['Status'], palette=colors, ax=axes[0])\n",
    "    axes[0].grid(alpha=0.4)\n",
    "    sns.boxplot(data=data, x=data['Status'], y=data[feature], palette=colors, ax=axes[1])\n",
    "    axes[1].grid(alpha=0.4)\n",
    "    figure.suptitle(f'Distribution of {feature} of Survived and Dead Patients', fontsize=15)\n",
    "    plt.tight_layout(pad=1)\n",
    "    plt.show()\n",
    "\n",
    "    # grouping the patients by the status\n",
    "    patients = data.groupby('Status')\n",
    "    survived = patients.get_group('Alive')\n",
    "    dead = patients.get_group('Dead')\n",
    "\n",
    "    # display the 5 summary statistic\n",
    "    display(patients[feature].describe())\n",
    "\n",
    "    # perform Mann-Whitney U test to compare the numerical feature of the dead and survived patients\n",
    "    res = mannwhitneyu(survived[feature], dead[feature])\n",
    "    test_stat = round(res[0], 4)\n",
    "    pvalue = round(res[1], 4)\n",
    "\n",
    "    print('Test statistic: ', test_stat)\n",
    "    print('Test p-value: ', pvalue)\n",
    "\n",
    "    alpha = 0.05\n",
    "    if pvalue < alpha:\n",
    "        print(f'''\\nReject null hypothesis. \n",
    "There is a statistically significant difference in the median {feature} between deceased and living cancer patients.\n",
    "This suggests an association between {feature} and the status of cancer patients in the analyzed data.\n",
    "        ''')\n",
    "    else:\n",
    "        print(f'''\\nFailed to reject null hypothesis. \n",
    "There is no enough evidence to conclude a statistical significant association between {feature} and the status of the cancer patients in the analyzed data.\n",
    "        ''')"
   ]
  },
  {
   "cell_type": "code",
   "execution_count": 41,
   "id": "e95523fc",
   "metadata": {},
   "outputs": [],
   "source": [
    "# define a helper function to perform Chi-square test to study the association between categorical features and the target\n",
    "from scipy.stats import chi2_contingency\n",
    "\n",
    "def chi2test(feature, order):\n",
    "    # distribution of samples by race\n",
    "    # visulization (bar chart)\n",
    "    plt.figure(figsize=(15,5))\n",
    "    sns.countplot(data=data, x=data[feature], hue=data['Status'], order=order, palette=colors)\n",
    "    plt.grid(alpha=0.4)\n",
    "    plt.title(f'Distribution of Survived and Dead Patients by {feature}', fontsize=15)\n",
    "    plt.show()\n",
    "\n",
    "    # perform a Chi-square test to investigate the association\n",
    "    contingency_table = pd.crosstab(data[feature],data['Status'])\n",
    "    print('Contingency Table: ')\n",
    "    display(contingency_table)\n",
    "\n",
    "    res = chi2_contingency(contingency_table)\n",
    "    test_stat = round(res[0], 4)\n",
    "    pvalue = round(res[1], 4)\n",
    "    expected_freq = res[3]\n",
    "\n",
    "    print('Expected Frequency:')\n",
    "    display(pd.DataFrame(expected_freq, columns=contingency_table.columns, index=contingency_table.index))\n",
    "\n",
    "    print('Test statistic: ', test_stat)\n",
    "    print('Test p-value:', pvalue)\n",
    "\n",
    "    alpha = 0.05\n",
    "    if pvalue < alpha:\n",
    "        print(f'\\nReject null hypothesis. There is a statistically significant association between {feature} and cancer survival in the analyzed data.')\n",
    "    else:\n",
    "        print(f'\\nFail to reject null hypothesis. There is no enough evidence to conclude a statistically significant association between {feature} and cancer survival in the analyzed data.')"
   ]
  },
  {
   "cell_type": "markdown",
   "id": "251119cb",
   "metadata": {},
   "source": [
    "#### Relationship between Numerical Features with Target Feature\n",
    "#### Question 1 | Is there a statistically significant difference in the median age between deceased and living cancer patients?"
   ]
  },
  {
   "cell_type": "code",
   "execution_count": 42,
   "id": "a747cbd7",
   "metadata": {},
   "outputs": [
    {
     "data": {
      "image/png": "[encoded data removed]",
      "text/plain": [
       "<Figure size 1080x360 with 2 Axes>"
      ]
     },
     "metadata": {
      "needs_background": "light"
     },
     "output_type": "display_data"
    },
    {
     "data": {
      "text/html": [
       "<div>\n",
       "<style scoped>\n",
       "    .dataframe tbody tr th:only-of-type {\n",
       "        vertical-align: middle;\n",
       "    }\n",
       "\n",
       "    .dataframe tbody tr th {\n",
       "        vertical-align: top;\n",
       "    }\n",
       "\n",
       "    .dataframe thead th {\n",
       "        text-align: right;\n",
       "    }\n",
       "</style>\n",
       "<table border=\"1\" class=\"dataframe\">\n",
       "  <thead>\n",
       "    <tr style=\"text-align: right;\">\n",
       "      <th></th>\n",
       "      <th>count</th>\n",
       "      <th>mean</th>\n",
       "      <th>std</th>\n",
       "      <th>min</th>\n",
       "      <th>25%</th>\n",
       "      <th>50%</th>\n",
       "      <th>75%</th>\n",
       "      <th>max</th>\n",
       "    </tr>\n",
       "    <tr>\n",
       "      <th>Status</th>\n",
       "      <th></th>\n",
       "      <th></th>\n",
       "      <th></th>\n",
       "      <th></th>\n",
       "      <th></th>\n",
       "      <th></th>\n",
       "      <th></th>\n",
       "      <th></th>\n",
       "    </tr>\n",
       "  </thead>\n",
       "  <tbody>\n",
       "    <tr>\n",
       "      <th>Alive</th>\n",
       "      <td>3408.0</td>\n",
       "      <td>53.759096</td>\n",
       "      <td>8.808420</td>\n",
       "      <td>30.0</td>\n",
       "      <td>47.0</td>\n",
       "      <td>54.0</td>\n",
       "      <td>61.0</td>\n",
       "      <td>69.0</td>\n",
       "    </tr>\n",
       "    <tr>\n",
       "      <th>Dead</th>\n",
       "      <td>616.0</td>\n",
       "      <td>55.150974</td>\n",
       "      <td>9.698291</td>\n",
       "      <td>30.0</td>\n",
       "      <td>48.0</td>\n",
       "      <td>56.5</td>\n",
       "      <td>63.0</td>\n",
       "      <td>69.0</td>\n",
       "    </tr>\n",
       "  </tbody>\n",
       "</table>\n",
       "</div>"
      ],
      "text/plain": [
       "         count       mean       std   min   25%   50%   75%   max\n",
       "Status                                                           \n",
       "Alive   3408.0  53.759096  8.808420  30.0  47.0  54.0  61.0  69.0\n",
       "Dead     616.0  55.150974  9.698291  30.0  48.0  56.5  63.0  69.0"
      ]
     },
     "metadata": {},
     "output_type": "display_data"
    },
    {
     "name": "stdout",
     "output_type": "stream",
     "text": [
      "Test statistic:  944505.0\n",
      "Test p-value:  0.0001\n",
      "\n",
      "Reject null hypothesis. \n",
      "There is a statistically significant difference in the median Age between deceased and living cancer patients.\n",
      "This suggests an association between Age and the status of cancer patients in the analyzed data.\n",
      "        \n"
     ]
    }
   ],
   "source": [
    "mwutest('Age')"
   ]
  },
  {
   "cell_type": "markdown",
   "id": "6e83b52e",
   "metadata": {},
   "source": [
    "#### Question 2 | Is there a statistically significant difference in the median tumor size between deceased and living cancer patients?"
   ]
  },
  {
   "cell_type": "code",
   "execution_count": 43,
   "id": "032f03cf",
   "metadata": {},
   "outputs": [
    {
     "data": {
      "image/png": "[encoded data removed]",
      "text/plain": [
       "<Figure size 1080x360 with 2 Axes>"
      ]
     },
     "metadata": {
      "needs_background": "light"
     },
     "output_type": "display_data"
    },
    {
     "data": {
      "text/html": [
       "<div>\n",
       "<style scoped>\n",
       "    .dataframe tbody tr th:only-of-type {\n",
       "        vertical-align: middle;\n",
       "    }\n",
       "\n",
       "    .dataframe tbody tr th {\n",
       "        vertical-align: top;\n",
       "    }\n",
       "\n",
       "    .dataframe thead th {\n",
       "        text-align: right;\n",
       "    }\n",
       "</style>\n",
       "<table border=\"1\" class=\"dataframe\">\n",
       "  <thead>\n",
       "    <tr style=\"text-align: right;\">\n",
       "      <th></th>\n",
       "      <th>count</th>\n",
       "      <th>mean</th>\n",
       "      <th>std</th>\n",
       "      <th>min</th>\n",
       "      <th>25%</th>\n",
       "      <th>50%</th>\n",
       "      <th>75%</th>\n",
       "      <th>max</th>\n",
       "    </tr>\n",
       "    <tr>\n",
       "      <th>Status</th>\n",
       "      <th></th>\n",
       "      <th></th>\n",
       "      <th></th>\n",
       "      <th></th>\n",
       "      <th></th>\n",
       "      <th></th>\n",
       "      <th></th>\n",
       "      <th></th>\n",
       "    </tr>\n",
       "  </thead>\n",
       "  <tbody>\n",
       "    <tr>\n",
       "      <th>Alive</th>\n",
       "      <td>3408.0</td>\n",
       "      <td>29.268779</td>\n",
       "      <td>20.303175</td>\n",
       "      <td>1.0</td>\n",
       "      <td>15.0</td>\n",
       "      <td>23.0</td>\n",
       "      <td>35.0</td>\n",
       "      <td>140.0</td>\n",
       "    </tr>\n",
       "    <tr>\n",
       "      <th>Dead</th>\n",
       "      <td>616.0</td>\n",
       "      <td>37.139610</td>\n",
       "      <td>24.116115</td>\n",
       "      <td>1.0</td>\n",
       "      <td>20.0</td>\n",
       "      <td>30.0</td>\n",
       "      <td>50.0</td>\n",
       "      <td>140.0</td>\n",
       "    </tr>\n",
       "  </tbody>\n",
       "</table>\n",
       "</div>"
      ],
      "text/plain": [
       "         count       mean        std  min   25%   50%   75%    max\n",
       "Status                                                            \n",
       "Alive   3408.0  29.268779  20.303175  1.0  15.0  23.0  35.0  140.0\n",
       "Dead     616.0  37.139610  24.116115  1.0  20.0  30.0  50.0  140.0"
      ]
     },
     "metadata": {},
     "output_type": "display_data"
    },
    {
     "name": "stdout",
     "output_type": "stream",
     "text": [
      "Test statistic:  813236.0\n",
      "Test p-value:  0.0\n",
      "\n",
      "Reject null hypothesis. \n",
      "There is a statistically significant difference in the median Tumor Size between deceased and living cancer patients.\n",
      "This suggests an association between Tumor Size and the status of cancer patients in the analyzed data.\n",
      "        \n"
     ]
    }
   ],
   "source": [
    "mwutest('Tumor Size')"
   ]
  },
  {
   "cell_type": "markdown",
   "id": "a8bfa371",
   "metadata": {},
   "source": [
    "#### Question 3 | Is there a statistically significant difference in the median number of regional nodes examined between deceased and living cancer patients?"
   ]
  },
  {
   "cell_type": "code",
   "execution_count": 44,
   "id": "24298483",
   "metadata": {},
   "outputs": [
    {
     "data": {
      "image/png": "[encoded data removed]",
      "text/plain": [
       "<Figure size 1080x360 with 2 Axes>"
      ]
     },
     "metadata": {
      "needs_background": "light"
     },
     "output_type": "display_data"
    },
    {
     "data": {
      "text/html": [
       "<div>\n",
       "<style scoped>\n",
       "    .dataframe tbody tr th:only-of-type {\n",
       "        vertical-align: middle;\n",
       "    }\n",
       "\n",
       "    .dataframe tbody tr th {\n",
       "        vertical-align: top;\n",
       "    }\n",
       "\n",
       "    .dataframe thead th {\n",
       "        text-align: right;\n",
       "    }\n",
       "</style>\n",
       "<table border=\"1\" class=\"dataframe\">\n",
       "  <thead>\n",
       "    <tr style=\"text-align: right;\">\n",
       "      <th></th>\n",
       "      <th>count</th>\n",
       "      <th>mean</th>\n",
       "      <th>std</th>\n",
       "      <th>min</th>\n",
       "      <th>25%</th>\n",
       "      <th>50%</th>\n",
       "      <th>75%</th>\n",
       "      <th>max</th>\n",
       "    </tr>\n",
       "    <tr>\n",
       "      <th>Status</th>\n",
       "      <th></th>\n",
       "      <th></th>\n",
       "      <th></th>\n",
       "      <th></th>\n",
       "      <th></th>\n",
       "      <th></th>\n",
       "      <th></th>\n",
       "      <th></th>\n",
       "    </tr>\n",
       "  </thead>\n",
       "  <tbody>\n",
       "    <tr>\n",
       "      <th>Alive</th>\n",
       "      <td>3408.0</td>\n",
       "      <td>14.237383</td>\n",
       "      <td>8.023208</td>\n",
       "      <td>1.0</td>\n",
       "      <td>9.0</td>\n",
       "      <td>14.0</td>\n",
       "      <td>19.0</td>\n",
       "      <td>61.0</td>\n",
       "    </tr>\n",
       "    <tr>\n",
       "      <th>Dead</th>\n",
       "      <td>616.0</td>\n",
       "      <td>15.019481</td>\n",
       "      <td>8.486600</td>\n",
       "      <td>1.0</td>\n",
       "      <td>9.0</td>\n",
       "      <td>14.0</td>\n",
       "      <td>20.0</td>\n",
       "      <td>57.0</td>\n",
       "    </tr>\n",
       "  </tbody>\n",
       "</table>\n",
       "</div>"
      ],
      "text/plain": [
       "         count       mean       std  min  25%   50%   75%   max\n",
       "Status                                                         \n",
       "Alive   3408.0  14.237383  8.023208  1.0  9.0  14.0  19.0  61.0\n",
       "Dead     616.0  15.019481  8.486600  1.0  9.0  14.0  20.0  57.0"
      ]
     },
     "metadata": {},
     "output_type": "display_data"
    },
    {
     "name": "stdout",
     "output_type": "stream",
     "text": [
      "Test statistic:  1001152.0\n",
      "Test p-value:  0.0673\n",
      "\n",
      "Failed to reject null hypothesis. \n",
      "There is no enough evidence to conclude a statistical significant association between Regional Node Examined and the status of the cancer patients in the analyzed data.\n",
      "        \n"
     ]
    }
   ],
   "source": [
    "mwutest('Regional Node Examined')"
   ]
  },
  {
   "cell_type": "markdown",
   "id": "faab27db",
   "metadata": {},
   "source": [
    "#### Question 4 | Is there a statistically significant difference in the median number of regional nodes examined with cancer cells between deceased and living cancer patients?"
   ]
  },
  {
   "cell_type": "code",
   "execution_count": 45,
   "id": "325b49a7",
   "metadata": {},
   "outputs": [
    {
     "data": {
      "image/png": "[encoded data removed]",
      "text/plain": [
       "<Figure size 1080x360 with 2 Axes>"
      ]
     },
     "metadata": {
      "needs_background": "light"
     },
     "output_type": "display_data"
    },
    {
     "data": {
      "text/html": [
       "<div>\n",
       "<style scoped>\n",
       "    .dataframe tbody tr th:only-of-type {\n",
       "        vertical-align: middle;\n",
       "    }\n",
       "\n",
       "    .dataframe tbody tr th {\n",
       "        vertical-align: top;\n",
       "    }\n",
       "\n",
       "    .dataframe thead th {\n",
       "        text-align: right;\n",
       "    }\n",
       "</style>\n",
       "<table border=\"1\" class=\"dataframe\">\n",
       "  <thead>\n",
       "    <tr style=\"text-align: right;\">\n",
       "      <th></th>\n",
       "      <th>count</th>\n",
       "      <th>mean</th>\n",
       "      <th>std</th>\n",
       "      <th>min</th>\n",
       "      <th>25%</th>\n",
       "      <th>50%</th>\n",
       "      <th>75%</th>\n",
       "      <th>max</th>\n",
       "    </tr>\n",
       "    <tr>\n",
       "      <th>Status</th>\n",
       "      <th></th>\n",
       "      <th></th>\n",
       "      <th></th>\n",
       "      <th></th>\n",
       "      <th></th>\n",
       "      <th></th>\n",
       "      <th></th>\n",
       "      <th></th>\n",
       "    </tr>\n",
       "  </thead>\n",
       "  <tbody>\n",
       "    <tr>\n",
       "      <th>Alive</th>\n",
       "      <td>3408.0</td>\n",
       "      <td>3.600646</td>\n",
       "      <td>4.375180</td>\n",
       "      <td>1.0</td>\n",
       "      <td>1.0</td>\n",
       "      <td>2.0</td>\n",
       "      <td>4.0</td>\n",
       "      <td>41.0</td>\n",
       "    </tr>\n",
       "    <tr>\n",
       "      <th>Dead</th>\n",
       "      <td>616.0</td>\n",
       "      <td>7.241883</td>\n",
       "      <td>7.312642</td>\n",
       "      <td>1.0</td>\n",
       "      <td>2.0</td>\n",
       "      <td>4.0</td>\n",
       "      <td>10.0</td>\n",
       "      <td>46.0</td>\n",
       "    </tr>\n",
       "  </tbody>\n",
       "</table>\n",
       "</div>"
      ],
      "text/plain": [
       "         count      mean       std  min  25%  50%   75%   max\n",
       "Status                                                       \n",
       "Alive   3408.0  3.600646  4.375180  1.0  1.0  2.0   4.0  41.0\n",
       "Dead     616.0  7.241883  7.312642  1.0  2.0  4.0  10.0  46.0"
      ]
     },
     "metadata": {},
     "output_type": "display_data"
    },
    {
     "name": "stdout",
     "output_type": "stream",
     "text": [
      "Test statistic:  692561.5\n",
      "Test p-value:  0.0\n",
      "\n",
      "Reject null hypothesis. \n",
      "There is a statistically significant difference in the median Regional Node Positive between deceased and living cancer patients.\n",
      "This suggests an association between Regional Node Positive and the status of cancer patients in the analyzed data.\n",
      "        \n"
     ]
    }
   ],
   "source": [
    "mwutest('Regional Node Positive')"
   ]
  },
  {
   "cell_type": "markdown",
   "id": "3505f19d",
   "metadata": {},
   "source": [
    "#### Question 5 | Is there a statistically significant difference in the median survival months between deceased and living cancer patients?"
   ]
  },
  {
   "cell_type": "code",
   "execution_count": 46,
   "id": "120fb646",
   "metadata": {},
   "outputs": [
    {
     "data": {
      "image/png": "[encoded data removed]",
      "text/plain": [
       "<Figure size 1080x360 with 2 Axes>"
      ]
     },
     "metadata": {
      "needs_background": "light"
     },
     "output_type": "display_data"
    },
    {
     "data": {
      "text/html": [
       "<div>\n",
       "<style scoped>\n",
       "    .dataframe tbody tr th:only-of-type {\n",
       "        vertical-align: middle;\n",
       "    }\n",
       "\n",
       "    .dataframe tbody tr th {\n",
       "        vertical-align: top;\n",
       "    }\n",
       "\n",
       "    .dataframe thead th {\n",
       "        text-align: right;\n",
       "    }\n",
       "</style>\n",
       "<table border=\"1\" class=\"dataframe\">\n",
       "  <thead>\n",
       "    <tr style=\"text-align: right;\">\n",
       "      <th></th>\n",
       "      <th>count</th>\n",
       "      <th>mean</th>\n",
       "      <th>std</th>\n",
       "      <th>min</th>\n",
       "      <th>25%</th>\n",
       "      <th>50%</th>\n",
       "      <th>75%</th>\n",
       "      <th>max</th>\n",
       "    </tr>\n",
       "    <tr>\n",
       "      <th>Status</th>\n",
       "      <th></th>\n",
       "      <th></th>\n",
       "      <th></th>\n",
       "      <th></th>\n",
       "      <th></th>\n",
       "      <th></th>\n",
       "      <th></th>\n",
       "      <th></th>\n",
       "    </tr>\n",
       "  </thead>\n",
       "  <tbody>\n",
       "    <tr>\n",
       "      <th>Alive</th>\n",
       "      <td>3408.0</td>\n",
       "      <td>75.941021</td>\n",
       "      <td>19.386459</td>\n",
       "      <td>1.0</td>\n",
       "      <td>61.0</td>\n",
       "      <td>77.0</td>\n",
       "      <td>92.0</td>\n",
       "      <td>107.0</td>\n",
       "    </tr>\n",
       "    <tr>\n",
       "      <th>Dead</th>\n",
       "      <td>616.0</td>\n",
       "      <td>45.610390</td>\n",
       "      <td>23.966253</td>\n",
       "      <td>2.0</td>\n",
       "      <td>27.0</td>\n",
       "      <td>44.0</td>\n",
       "      <td>61.0</td>\n",
       "      <td>102.0</td>\n",
       "    </tr>\n",
       "  </tbody>\n",
       "</table>\n",
       "</div>"
      ],
      "text/plain": [
       "         count       mean        std  min   25%   50%   75%    max\n",
       "Status                                                            \n",
       "Alive   3408.0  75.941021  19.386459  1.0  61.0  77.0  92.0  107.0\n",
       "Dead     616.0  45.610390  23.966253  2.0  27.0  44.0  61.0  102.0"
      ]
     },
     "metadata": {},
     "output_type": "display_data"
    },
    {
     "name": "stdout",
     "output_type": "stream",
     "text": [
      "Test statistic:  1748716.0\n",
      "Test p-value:  0.0\n",
      "\n",
      "Reject null hypothesis. \n",
      "There is a statistically significant difference in the median Survival Months between deceased and living cancer patients.\n",
      "This suggests an association between Survival Months and the status of cancer patients in the analyzed data.\n",
      "        \n"
     ]
    }
   ],
   "source": [
    "mwutest('Survival Months')"
   ]
  },
  {
   "cell_type": "markdown",
   "id": "a49da1c4",
   "metadata": {},
   "source": [
    "#### Relationship between Categorical Features with Target Feature\n",
    "#### Question 6 | Is there a statistically significant association between race and cancer survival status (dead or alive) among patients?"
   ]
  },
  {
   "cell_type": "code",
   "execution_count": 47,
   "id": "f8c2990f",
   "metadata": {},
   "outputs": [
    {
     "data": {
      "image/png": "[encoded data removed]",
      "text/plain": [
       "<Figure size 1080x360 with 1 Axes>"
      ]
     },
     "metadata": {
      "needs_background": "light"
     },
     "output_type": "display_data"
    },
    {
     "name": "stdout",
     "output_type": "stream",
     "text": [
      "Contingency Table: \n"
     ]
    },
    {
     "data": {
      "text/html": [
       "<div>\n",
       "<style scoped>\n",
       "    .dataframe tbody tr th:only-of-type {\n",
       "        vertical-align: middle;\n",
       "    }\n",
       "\n",
       "    .dataframe tbody tr th {\n",
       "        vertical-align: top;\n",
       "    }\n",
       "\n",
       "    .dataframe thead th {\n",
       "        text-align: right;\n",
       "    }\n",
       "</style>\n",
       "<table border=\"1\" class=\"dataframe\">\n",
       "  <thead>\n",
       "    <tr style=\"text-align: right;\">\n",
       "      <th>Status</th>\n",
       "      <th>Alive</th>\n",
       "      <th>Dead</th>\n",
       "    </tr>\n",
       "    <tr>\n",
       "      <th>Race</th>\n",
       "      <th></th>\n",
       "      <th></th>\n",
       "    </tr>\n",
       "  </thead>\n",
       "  <tbody>\n",
       "    <tr>\n",
       "      <th>Black</th>\n",
       "      <td>218</td>\n",
       "      <td>73</td>\n",
       "    </tr>\n",
       "    <tr>\n",
       "      <th>Other (American Indian/AK Native, Asian/Pacific Islander)</th>\n",
       "      <td>287</td>\n",
       "      <td>33</td>\n",
       "    </tr>\n",
       "    <tr>\n",
       "      <th>White</th>\n",
       "      <td>2903</td>\n",
       "      <td>510</td>\n",
       "    </tr>\n",
       "  </tbody>\n",
       "</table>\n",
       "</div>"
      ],
      "text/plain": [
       "Status                                              Alive  Dead\n",
       "Race                                                           \n",
       "Black                                                 218    73\n",
       "Other (American Indian/AK Native, Asian/Pacific...    287    33\n",
       "White                                                2903   510"
      ]
     },
     "metadata": {},
     "output_type": "display_data"
    },
    {
     "name": "stdout",
     "output_type": "stream",
     "text": [
      "Expected Frequency:\n"
     ]
    },
    {
     "data": {
      "text/html": [
       "<div>\n",
       "<style scoped>\n",
       "    .dataframe tbody tr th:only-of-type {\n",
       "        vertical-align: middle;\n",
       "    }\n",
       "\n",
       "    .dataframe tbody tr th {\n",
       "        vertical-align: top;\n",
       "    }\n",
       "\n",
       "    .dataframe thead th {\n",
       "        text-align: right;\n",
       "    }\n",
       "</style>\n",
       "<table border=\"1\" class=\"dataframe\">\n",
       "  <thead>\n",
       "    <tr style=\"text-align: right;\">\n",
       "      <th>Status</th>\n",
       "      <th>Alive</th>\n",
       "      <th>Dead</th>\n",
       "    </tr>\n",
       "    <tr>\n",
       "      <th>Race</th>\n",
       "      <th></th>\n",
       "      <th></th>\n",
       "    </tr>\n",
       "  </thead>\n",
       "  <tbody>\n",
       "    <tr>\n",
       "      <th>Black</th>\n",
       "      <td>246.453280</td>\n",
       "      <td>44.546720</td>\n",
       "    </tr>\n",
       "    <tr>\n",
       "      <th>Other (American Indian/AK Native, Asian/Pacific Islander)</th>\n",
       "      <td>271.013917</td>\n",
       "      <td>48.986083</td>\n",
       "    </tr>\n",
       "    <tr>\n",
       "      <th>White</th>\n",
       "      <td>2890.532803</td>\n",
       "      <td>522.467197</td>\n",
       "    </tr>\n",
       "  </tbody>\n",
       "</table>\n",
       "</div>"
      ],
      "text/plain": [
       "Status                                                    Alive        Dead\n",
       "Race                                                                       \n",
       "Black                                                246.453280   44.546720\n",
       "Other (American Indian/AK Native, Asian/Pacific...   271.013917   48.986083\n",
       "White                                               2890.532803  522.467197"
      ]
     },
     "metadata": {},
     "output_type": "display_data"
    },
    {
     "name": "stdout",
     "output_type": "stream",
     "text": [
      "Test statistic:  27.97\n",
      "Test p-value: 0.0\n",
      "\n",
      "Reject null hypothesis. There is a statistically significant association between Race and cancer survival in the analyzed data.\n"
     ]
    }
   ],
   "source": [
    "Race_order = data['Race'].value_counts(ascending=False).index\n",
    "chi2test('Race', Race_order)"
   ]
  },
  {
   "cell_type": "markdown",
   "id": "37534328",
   "metadata": {},
   "source": [
    "#### Question 7 | Is there a statistically significant association between marital status and cancer survival status (dead or alive) among patients?"
   ]
  },
  {
   "cell_type": "code",
   "execution_count": 48,
   "id": "9a120b89",
   "metadata": {},
   "outputs": [
    {
     "data": {
      "image/png": "[encoded data removed]",
      "text/plain": [
       "<Figure size 1080x360 with 1 Axes>"
      ]
     },
     "metadata": {
      "needs_background": "light"
     },
     "output_type": "display_data"
    },
    {
     "name": "stdout",
     "output_type": "stream",
     "text": [
      "Contingency Table: \n"
     ]
    },
    {
     "data": {
      "text/html": [
       "<div>\n",
       "<style scoped>\n",
       "    .dataframe tbody tr th:only-of-type {\n",
       "        vertical-align: middle;\n",
       "    }\n",
       "\n",
       "    .dataframe tbody tr th {\n",
       "        vertical-align: top;\n",
       "    }\n",
       "\n",
       "    .dataframe thead th {\n",
       "        text-align: right;\n",
       "    }\n",
       "</style>\n",
       "<table border=\"1\" class=\"dataframe\">\n",
       "  <thead>\n",
       "    <tr style=\"text-align: right;\">\n",
       "      <th>Status</th>\n",
       "      <th>Alive</th>\n",
       "      <th>Dead</th>\n",
       "    </tr>\n",
       "    <tr>\n",
       "      <th>Marital Status</th>\n",
       "      <th></th>\n",
       "      <th></th>\n",
       "    </tr>\n",
       "  </thead>\n",
       "  <tbody>\n",
       "    <tr>\n",
       "      <th>Divorced</th>\n",
       "      <td>396</td>\n",
       "      <td>90</td>\n",
       "    </tr>\n",
       "    <tr>\n",
       "      <th>Married (including common law)</th>\n",
       "      <td>2285</td>\n",
       "      <td>358</td>\n",
       "    </tr>\n",
       "    <tr>\n",
       "      <th>Separated</th>\n",
       "      <td>30</td>\n",
       "      <td>15</td>\n",
       "    </tr>\n",
       "    <tr>\n",
       "      <th>Single (never married)</th>\n",
       "      <td>511</td>\n",
       "      <td>104</td>\n",
       "    </tr>\n",
       "    <tr>\n",
       "      <th>Widowed</th>\n",
       "      <td>186</td>\n",
       "      <td>49</td>\n",
       "    </tr>\n",
       "  </tbody>\n",
       "</table>\n",
       "</div>"
      ],
      "text/plain": [
       "Status                          Alive  Dead\n",
       "Marital Status                             \n",
       "Divorced                          396    90\n",
       "Married (including common law)   2285   358\n",
       "Separated                          30    15\n",
       "Single (never married)            511   104\n",
       "Widowed                           186    49"
      ]
     },
     "metadata": {},
     "output_type": "display_data"
    },
    {
     "name": "stdout",
     "output_type": "stream",
     "text": [
      "Expected Frequency:\n"
     ]
    },
    {
     "data": {
      "text/html": [
       "<div>\n",
       "<style scoped>\n",
       "    .dataframe tbody tr th:only-of-type {\n",
       "        vertical-align: middle;\n",
       "    }\n",
       "\n",
       "    .dataframe tbody tr th {\n",
       "        vertical-align: top;\n",
       "    }\n",
       "\n",
       "    .dataframe thead th {\n",
       "        text-align: right;\n",
       "    }\n",
       "</style>\n",
       "<table border=\"1\" class=\"dataframe\">\n",
       "  <thead>\n",
       "    <tr style=\"text-align: right;\">\n",
       "      <th>Status</th>\n",
       "      <th>Alive</th>\n",
       "      <th>Dead</th>\n",
       "    </tr>\n",
       "    <tr>\n",
       "      <th>Marital Status</th>\n",
       "      <th></th>\n",
       "      <th></th>\n",
       "    </tr>\n",
       "  </thead>\n",
       "  <tbody>\n",
       "    <tr>\n",
       "      <th>Divorced</th>\n",
       "      <td>411.602386</td>\n",
       "      <td>74.397614</td>\n",
       "    </tr>\n",
       "    <tr>\n",
       "      <th>Married (including common law)</th>\n",
       "      <td>2238.405567</td>\n",
       "      <td>404.594433</td>\n",
       "    </tr>\n",
       "    <tr>\n",
       "      <th>Separated</th>\n",
       "      <td>38.111332</td>\n",
       "      <td>6.888668</td>\n",
       "    </tr>\n",
       "    <tr>\n",
       "      <th>Single (never married)</th>\n",
       "      <td>520.854871</td>\n",
       "      <td>94.145129</td>\n",
       "    </tr>\n",
       "    <tr>\n",
       "      <th>Widowed</th>\n",
       "      <td>199.025845</td>\n",
       "      <td>35.974155</td>\n",
       "    </tr>\n",
       "  </tbody>\n",
       "</table>\n",
       "</div>"
      ],
      "text/plain": [
       "Status                                Alive        Dead\n",
       "Marital Status                                         \n",
       "Divorced                         411.602386   74.397614\n",
       "Married (including common law)  2238.405567  404.594433\n",
       "Separated                         38.111332    6.888668\n",
       "Single (never married)           520.854871   94.145129\n",
       "Widowed                          199.025845   35.974155"
      ]
     },
     "metadata": {},
     "output_type": "display_data"
    },
    {
     "name": "stdout",
     "output_type": "stream",
     "text": [
      "Test statistic:  28.2638\n",
      "Test p-value: 0.0\n",
      "\n",
      "Reject null hypothesis. There is a statistically significant association between Marital Status and cancer survival in the analyzed data.\n"
     ]
    }
   ],
   "source": [
    "marital_order = data['Marital Status'].value_counts(ascending=False).index\n",
    "chi2test('Marital Status', marital_order)"
   ]
  },
  {
   "cell_type": "markdown",
   "id": "6ba00f1d",
   "metadata": {},
   "source": [
    "#### Question 8 | Is there a statistically significant association between estrogen status and cancer survival status (dead or alive) among patients?"
   ]
  },
  {
   "cell_type": "code",
   "execution_count": 49,
   "id": "a5a30b30",
   "metadata": {},
   "outputs": [
    {
     "data": {
      "image/png": "[encoded data removed]",
      "text/plain": [
       "<Figure size 1080x360 with 1 Axes>"
      ]
     },
     "metadata": {
      "needs_background": "light"
     },
     "output_type": "display_data"
    },
    {
     "name": "stdout",
     "output_type": "stream",
     "text": [
      "Contingency Table: \n"
     ]
    },
    {
     "data": {
      "text/html": [
       "<div>\n",
       "<style scoped>\n",
       "    .dataframe tbody tr th:only-of-type {\n",
       "        vertical-align: middle;\n",
       "    }\n",
       "\n",
       "    .dataframe tbody tr th {\n",
       "        vertical-align: top;\n",
       "    }\n",
       "\n",
       "    .dataframe thead th {\n",
       "        text-align: right;\n",
       "    }\n",
       "</style>\n",
       "<table border=\"1\" class=\"dataframe\">\n",
       "  <thead>\n",
       "    <tr style=\"text-align: right;\">\n",
       "      <th>Status</th>\n",
       "      <th>Alive</th>\n",
       "      <th>Dead</th>\n",
       "    </tr>\n",
       "    <tr>\n",
       "      <th>Estrogen Status</th>\n",
       "      <th></th>\n",
       "      <th></th>\n",
       "    </tr>\n",
       "  </thead>\n",
       "  <tbody>\n",
       "    <tr>\n",
       "      <th>Negative</th>\n",
       "      <td>161</td>\n",
       "      <td>108</td>\n",
       "    </tr>\n",
       "    <tr>\n",
       "      <th>Positive</th>\n",
       "      <td>3247</td>\n",
       "      <td>508</td>\n",
       "    </tr>\n",
       "  </tbody>\n",
       "</table>\n",
       "</div>"
      ],
      "text/plain": [
       "Status           Alive  Dead\n",
       "Estrogen Status             \n",
       "Negative           161   108\n",
       "Positive          3247   508"
      ]
     },
     "metadata": {},
     "output_type": "display_data"
    },
    {
     "name": "stdout",
     "output_type": "stream",
     "text": [
      "Expected Frequency:\n"
     ]
    },
    {
     "data": {
      "text/html": [
       "<div>\n",
       "<style scoped>\n",
       "    .dataframe tbody tr th:only-of-type {\n",
       "        vertical-align: middle;\n",
       "    }\n",
       "\n",
       "    .dataframe tbody tr th {\n",
       "        vertical-align: top;\n",
       "    }\n",
       "\n",
       "    .dataframe thead th {\n",
       "        text-align: right;\n",
       "    }\n",
       "</style>\n",
       "<table border=\"1\" class=\"dataframe\">\n",
       "  <thead>\n",
       "    <tr style=\"text-align: right;\">\n",
       "      <th>Status</th>\n",
       "      <th>Alive</th>\n",
       "      <th>Dead</th>\n",
       "    </tr>\n",
       "    <tr>\n",
       "      <th>Estrogen Status</th>\n",
       "      <th></th>\n",
       "      <th></th>\n",
       "    </tr>\n",
       "  </thead>\n",
       "  <tbody>\n",
       "    <tr>\n",
       "      <th>Negative</th>\n",
       "      <td>227.821074</td>\n",
       "      <td>41.178926</td>\n",
       "    </tr>\n",
       "    <tr>\n",
       "      <th>Positive</th>\n",
       "      <td>3180.178926</td>\n",
       "      <td>574.821074</td>\n",
       "    </tr>\n",
       "  </tbody>\n",
       "</table>\n",
       "</div>"
      ],
      "text/plain": [
       "Status                 Alive        Dead\n",
       "Estrogen Status                         \n",
       "Negative          227.821074   41.178926\n",
       "Positive         3180.178926  574.821074"
      ]
     },
     "metadata": {},
     "output_type": "display_data"
    },
    {
     "name": "stdout",
     "output_type": "stream",
     "text": [
      "Test statistic:  135.1557\n",
      "Test p-value: 0.0\n",
      "\n",
      "Reject null hypothesis. There is a statistically significant association between Estrogen Status and cancer survival in the analyzed data.\n"
     ]
    }
   ],
   "source": [
    "estrogen_order = data['Estrogen Status'].value_counts(ascending=False).index\n",
    "chi2test('Estrogen Status', estrogen_order)"
   ]
  },
  {
   "cell_type": "markdown",
   "id": "e573f3aa",
   "metadata": {},
   "source": [
    "#### Question 9 | Is there a statistically significant association between progesterone status and cancer survival status (dead or alive) among patients?"
   ]
  },
  {
   "cell_type": "code",
   "execution_count": 50,
   "id": "47ebc289",
   "metadata": {},
   "outputs": [
    {
     "data": {
      "image/png": "[encoded data removed]",
      "text/plain": [
       "<Figure size 1080x360 with 1 Axes>"
      ]
     },
     "metadata": {
      "needs_background": "light"
     },
     "output_type": "display_data"
    },
    {
     "name": "stdout",
     "output_type": "stream",
     "text": [
      "Contingency Table: \n"
     ]
    },
    {
     "data": {
      "text/html": [
       "<div>\n",
       "<style scoped>\n",
       "    .dataframe tbody tr th:only-of-type {\n",
       "        vertical-align: middle;\n",
       "    }\n",
       "\n",
       "    .dataframe tbody tr th {\n",
       "        vertical-align: top;\n",
       "    }\n",
       "\n",
       "    .dataframe thead th {\n",
       "        text-align: right;\n",
       "    }\n",
       "</style>\n",
       "<table border=\"1\" class=\"dataframe\">\n",
       "  <thead>\n",
       "    <tr style=\"text-align: right;\">\n",
       "      <th>Status</th>\n",
       "      <th>Alive</th>\n",
       "      <th>Dead</th>\n",
       "    </tr>\n",
       "    <tr>\n",
       "      <th>Progesterone Status</th>\n",
       "      <th></th>\n",
       "      <th></th>\n",
       "    </tr>\n",
       "  </thead>\n",
       "  <tbody>\n",
       "    <tr>\n",
       "      <th>Negative</th>\n",
       "      <td>494</td>\n",
       "      <td>204</td>\n",
       "    </tr>\n",
       "    <tr>\n",
       "      <th>Positive</th>\n",
       "      <td>2914</td>\n",
       "      <td>412</td>\n",
       "    </tr>\n",
       "  </tbody>\n",
       "</table>\n",
       "</div>"
      ],
      "text/plain": [
       "Status               Alive  Dead\n",
       "Progesterone Status             \n",
       "Negative               494   204\n",
       "Positive              2914   412"
      ]
     },
     "metadata": {},
     "output_type": "display_data"
    },
    {
     "name": "stdout",
     "output_type": "stream",
     "text": [
      "Expected Frequency:\n"
     ]
    },
    {
     "data": {
      "text/html": [
       "<div>\n",
       "<style scoped>\n",
       "    .dataframe tbody tr th:only-of-type {\n",
       "        vertical-align: middle;\n",
       "    }\n",
       "\n",
       "    .dataframe tbody tr th {\n",
       "        vertical-align: top;\n",
       "    }\n",
       "\n",
       "    .dataframe thead th {\n",
       "        text-align: right;\n",
       "    }\n",
       "</style>\n",
       "<table border=\"1\" class=\"dataframe\">\n",
       "  <thead>\n",
       "    <tr style=\"text-align: right;\">\n",
       "      <th>Status</th>\n",
       "      <th>Alive</th>\n",
       "      <th>Dead</th>\n",
       "    </tr>\n",
       "    <tr>\n",
       "      <th>Progesterone Status</th>\n",
       "      <th></th>\n",
       "      <th></th>\n",
       "    </tr>\n",
       "  </thead>\n",
       "  <tbody>\n",
       "    <tr>\n",
       "      <th>Negative</th>\n",
       "      <td>591.149105</td>\n",
       "      <td>106.850895</td>\n",
       "    </tr>\n",
       "    <tr>\n",
       "      <th>Positive</th>\n",
       "      <td>2816.850895</td>\n",
       "      <td>509.149105</td>\n",
       "    </tr>\n",
       "  </tbody>\n",
       "</table>\n",
       "</div>"
      ],
      "text/plain": [
       "Status                     Alive        Dead\n",
       "Progesterone Status                         \n",
       "Negative              591.149105  106.850895\n",
       "Positive             2816.850895  509.149105"
      ]
     },
     "metadata": {},
     "output_type": "display_data"
    },
    {
     "name": "stdout",
     "output_type": "stream",
     "text": [
      "Test statistic:  124.8854\n",
      "Test p-value: 0.0\n",
      "\n",
      "Reject null hypothesis. There is a statistically significant association between Progesterone Status and cancer survival in the analyzed data.\n"
     ]
    }
   ],
   "source": [
    "progesterone_order = data['Progesterone Status'].value_counts(ascending=False).index\n",
    "chi2test('Progesterone Status', progesterone_order)"
   ]
  },
  {
   "cell_type": "markdown",
   "id": "18522aca",
   "metadata": {},
   "source": [
    "#### Question 10 | Is there a statistically significant association between T stage level and cancer survival status (dead or alive) among patients?"
   ]
  },
  {
   "cell_type": "code",
   "execution_count": 51,
   "id": "d53b7dec",
   "metadata": {},
   "outputs": [
    {
     "data": {
      "image/png": "[encoded data removed]",
      "text/plain": [
       "<Figure size 1080x360 with 1 Axes>"
      ]
     },
     "metadata": {
      "needs_background": "light"
     },
     "output_type": "display_data"
    },
    {
     "name": "stdout",
     "output_type": "stream",
     "text": [
      "Contingency Table: \n"
     ]
    },
    {
     "data": {
      "text/html": [
       "<div>\n",
       "<style scoped>\n",
       "    .dataframe tbody tr th:only-of-type {\n",
       "        vertical-align: middle;\n",
       "    }\n",
       "\n",
       "    .dataframe tbody tr th {\n",
       "        vertical-align: top;\n",
       "    }\n",
       "\n",
       "    .dataframe thead th {\n",
       "        text-align: right;\n",
       "    }\n",
       "</style>\n",
       "<table border=\"1\" class=\"dataframe\">\n",
       "  <thead>\n",
       "    <tr style=\"text-align: right;\">\n",
       "      <th>Status</th>\n",
       "      <th>Alive</th>\n",
       "      <th>Dead</th>\n",
       "    </tr>\n",
       "    <tr>\n",
       "      <th>T Stage</th>\n",
       "      <th></th>\n",
       "      <th></th>\n",
       "    </tr>\n",
       "  </thead>\n",
       "  <tbody>\n",
       "    <tr>\n",
       "      <th>T1</th>\n",
       "      <td>1446</td>\n",
       "      <td>157</td>\n",
       "    </tr>\n",
       "    <tr>\n",
       "      <th>T2</th>\n",
       "      <td>1483</td>\n",
       "      <td>303</td>\n",
       "    </tr>\n",
       "    <tr>\n",
       "      <th>T3</th>\n",
       "      <td>417</td>\n",
       "      <td>116</td>\n",
       "    </tr>\n",
       "    <tr>\n",
       "      <th>T4</th>\n",
       "      <td>62</td>\n",
       "      <td>40</td>\n",
       "    </tr>\n",
       "  </tbody>\n",
       "</table>\n",
       "</div>"
      ],
      "text/plain": [
       "Status   Alive  Dead\n",
       "T Stage             \n",
       "T1        1446   157\n",
       "T2        1483   303\n",
       "T3         417   116\n",
       "T4          62    40"
      ]
     },
     "metadata": {},
     "output_type": "display_data"
    },
    {
     "name": "stdout",
     "output_type": "stream",
     "text": [
      "Expected Frequency:\n"
     ]
    },
    {
     "data": {
      "text/html": [
       "<div>\n",
       "<style scoped>\n",
       "    .dataframe tbody tr th:only-of-type {\n",
       "        vertical-align: middle;\n",
       "    }\n",
       "\n",
       "    .dataframe tbody tr th {\n",
       "        vertical-align: top;\n",
       "    }\n",
       "\n",
       "    .dataframe thead th {\n",
       "        text-align: right;\n",
       "    }\n",
       "</style>\n",
       "<table border=\"1\" class=\"dataframe\">\n",
       "  <thead>\n",
       "    <tr style=\"text-align: right;\">\n",
       "      <th>Status</th>\n",
       "      <th>Alive</th>\n",
       "      <th>Dead</th>\n",
       "    </tr>\n",
       "    <tr>\n",
       "      <th>T Stage</th>\n",
       "      <th></th>\n",
       "      <th></th>\n",
       "    </tr>\n",
       "  </thead>\n",
       "  <tbody>\n",
       "    <tr>\n",
       "      <th>T1</th>\n",
       "      <td>1357.610338</td>\n",
       "      <td>245.389662</td>\n",
       "    </tr>\n",
       "    <tr>\n",
       "      <th>T2</th>\n",
       "      <td>1512.596421</td>\n",
       "      <td>273.403579</td>\n",
       "    </tr>\n",
       "    <tr>\n",
       "      <th>T3</th>\n",
       "      <td>451.407555</td>\n",
       "      <td>81.592445</td>\n",
       "    </tr>\n",
       "    <tr>\n",
       "      <th>T4</th>\n",
       "      <td>86.385686</td>\n",
       "      <td>15.614314</td>\n",
       "    </tr>\n",
       "  </tbody>\n",
       "</table>\n",
       "</div>"
      ],
      "text/plain": [
       "Status         Alive        Dead\n",
       "T Stage                         \n",
       "T1       1357.610338  245.389662\n",
       "T2       1512.596421  273.403579\n",
       "T3        451.407555   81.592445\n",
       "T4         86.385686   15.614314"
      ]
     },
     "metadata": {},
     "output_type": "display_data"
    },
    {
     "name": "stdout",
     "output_type": "stream",
     "text": [
      "Test statistic:  103.4763\n",
      "Test p-value: 0.0\n",
      "\n",
      "Reject null hypothesis. There is a statistically significant association between T Stage and cancer survival in the analyzed data.\n"
     ]
    }
   ],
   "source": [
    "Tstage_order = ['T1', 'T2', 'T3', 'T4']\n",
    "chi2test('T Stage', Tstage_order)"
   ]
  },
  {
   "cell_type": "markdown",
   "id": "9a3be550",
   "metadata": {},
   "source": [
    "#### Question 11 | Is there a statistically significant association between N stage level and cancer survival status (dead or alive) among patients?"
   ]
  },
  {
   "cell_type": "code",
   "execution_count": 52,
   "id": "271e8b3e",
   "metadata": {},
   "outputs": [
    {
     "data": {
      "image/png": "[encoded data removed]",
      "text/plain": [
       "<Figure size 1080x360 with 1 Axes>"
      ]
     },
     "metadata": {
      "needs_background": "light"
     },
     "output_type": "display_data"
    },
    {
     "name": "stdout",
     "output_type": "stream",
     "text": [
      "Contingency Table: \n"
     ]
    },
    {
     "data": {
      "text/html": [
       "<div>\n",
       "<style scoped>\n",
       "    .dataframe tbody tr th:only-of-type {\n",
       "        vertical-align: middle;\n",
       "    }\n",
       "\n",
       "    .dataframe tbody tr th {\n",
       "        vertical-align: top;\n",
       "    }\n",
       "\n",
       "    .dataframe thead th {\n",
       "        text-align: right;\n",
       "    }\n",
       "</style>\n",
       "<table border=\"1\" class=\"dataframe\">\n",
       "  <thead>\n",
       "    <tr style=\"text-align: right;\">\n",
       "      <th>Status</th>\n",
       "      <th>Alive</th>\n",
       "      <th>Dead</th>\n",
       "    </tr>\n",
       "    <tr>\n",
       "      <th>N Stage</th>\n",
       "      <th></th>\n",
       "      <th></th>\n",
       "    </tr>\n",
       "  </thead>\n",
       "  <tbody>\n",
       "    <tr>\n",
       "      <th>N1</th>\n",
       "      <td>2462</td>\n",
       "      <td>270</td>\n",
       "    </tr>\n",
       "    <tr>\n",
       "      <th>N2</th>\n",
       "      <td>655</td>\n",
       "      <td>165</td>\n",
       "    </tr>\n",
       "    <tr>\n",
       "      <th>N3</th>\n",
       "      <td>291</td>\n",
       "      <td>181</td>\n",
       "    </tr>\n",
       "  </tbody>\n",
       "</table>\n",
       "</div>"
      ],
      "text/plain": [
       "Status   Alive  Dead\n",
       "N Stage             \n",
       "N1        2462   270\n",
       "N2         655   165\n",
       "N3         291   181"
      ]
     },
     "metadata": {},
     "output_type": "display_data"
    },
    {
     "name": "stdout",
     "output_type": "stream",
     "text": [
      "Expected Frequency:\n"
     ]
    },
    {
     "data": {
      "text/html": [
       "<div>\n",
       "<style scoped>\n",
       "    .dataframe tbody tr th:only-of-type {\n",
       "        vertical-align: middle;\n",
       "    }\n",
       "\n",
       "    .dataframe tbody tr th {\n",
       "        vertical-align: top;\n",
       "    }\n",
       "\n",
       "    .dataframe thead th {\n",
       "        text-align: right;\n",
       "    }\n",
       "</style>\n",
       "<table border=\"1\" class=\"dataframe\">\n",
       "  <thead>\n",
       "    <tr style=\"text-align: right;\">\n",
       "      <th>Status</th>\n",
       "      <th>Alive</th>\n",
       "      <th>Dead</th>\n",
       "    </tr>\n",
       "    <tr>\n",
       "      <th>N Stage</th>\n",
       "      <th></th>\n",
       "      <th></th>\n",
       "    </tr>\n",
       "  </thead>\n",
       "  <tbody>\n",
       "    <tr>\n",
       "      <th>N1</th>\n",
       "      <td>2313.781312</td>\n",
       "      <td>418.218688</td>\n",
       "    </tr>\n",
       "    <tr>\n",
       "      <th>N2</th>\n",
       "      <td>694.473161</td>\n",
       "      <td>125.526839</td>\n",
       "    </tr>\n",
       "    <tr>\n",
       "      <th>N3</th>\n",
       "      <td>399.745527</td>\n",
       "      <td>72.254473</td>\n",
       "    </tr>\n",
       "  </tbody>\n",
       "</table>\n",
       "</div>"
      ],
      "text/plain": [
       "Status         Alive        Dead\n",
       "N Stage                         \n",
       "N1       2313.781312  418.218688\n",
       "N2        694.473161  125.526839\n",
       "N3        399.745527   72.254473"
      ]
     },
     "metadata": {},
     "output_type": "display_data"
    },
    {
     "name": "stdout",
     "output_type": "stream",
     "text": [
      "Test statistic:  269.9291\n",
      "Test p-value: 0.0\n",
      "\n",
      "Reject null hypothesis. There is a statistically significant association between N Stage and cancer survival in the analyzed data.\n"
     ]
    }
   ],
   "source": [
    "Nstage_order = ['N1', 'N2', 'N3']\n",
    "chi2test('N Stage', Nstage_order)"
   ]
  },
  {
   "cell_type": "markdown",
   "id": "0525c306",
   "metadata": {},
   "source": [
    "#### Question 12 | Is there a statistically significant association between 6th Stage level and cancer survival status (dead or alive) among patients?"
   ]
  },
  {
   "cell_type": "code",
   "execution_count": 53,
   "id": "ae4ae630",
   "metadata": {},
   "outputs": [
    {
     "data": {
      "image/png": "[encoded data removed]",
      "text/plain": [
       "<Figure size 1080x360 with 1 Axes>"
      ]
     },
     "metadata": {
      "needs_background": "light"
     },
     "output_type": "display_data"
    },
    {
     "name": "stdout",
     "output_type": "stream",
     "text": [
      "Contingency Table: \n"
     ]
    },
    {
     "data": {
      "text/html": [
       "<div>\n",
       "<style scoped>\n",
       "    .dataframe tbody tr th:only-of-type {\n",
       "        vertical-align: middle;\n",
       "    }\n",
       "\n",
       "    .dataframe tbody tr th {\n",
       "        vertical-align: top;\n",
       "    }\n",
       "\n",
       "    .dataframe thead th {\n",
       "        text-align: right;\n",
       "    }\n",
       "</style>\n",
       "<table border=\"1\" class=\"dataframe\">\n",
       "  <thead>\n",
       "    <tr style=\"text-align: right;\">\n",
       "      <th>Status</th>\n",
       "      <th>Alive</th>\n",
       "      <th>Dead</th>\n",
       "    </tr>\n",
       "    <tr>\n",
       "      <th>6th Stage</th>\n",
       "      <th></th>\n",
       "      <th></th>\n",
       "    </tr>\n",
       "  </thead>\n",
       "  <tbody>\n",
       "    <tr>\n",
       "      <th>IIA</th>\n",
       "      <td>1209</td>\n",
       "      <td>96</td>\n",
       "    </tr>\n",
       "    <tr>\n",
       "      <th>IIB</th>\n",
       "      <td>995</td>\n",
       "      <td>135</td>\n",
       "    </tr>\n",
       "    <tr>\n",
       "      <th>IIIA</th>\n",
       "      <td>866</td>\n",
       "      <td>184</td>\n",
       "    </tr>\n",
       "    <tr>\n",
       "      <th>IIIB</th>\n",
       "      <td>47</td>\n",
       "      <td>20</td>\n",
       "    </tr>\n",
       "    <tr>\n",
       "      <th>IIIC</th>\n",
       "      <td>291</td>\n",
       "      <td>181</td>\n",
       "    </tr>\n",
       "  </tbody>\n",
       "</table>\n",
       "</div>"
      ],
      "text/plain": [
       "Status     Alive  Dead\n",
       "6th Stage             \n",
       "IIA         1209    96\n",
       "IIB          995   135\n",
       "IIIA         866   184\n",
       "IIIB          47    20\n",
       "IIIC         291   181"
      ]
     },
     "metadata": {},
     "output_type": "display_data"
    },
    {
     "name": "stdout",
     "output_type": "stream",
     "text": [
      "Expected Frequency:\n"
     ]
    },
    {
     "data": {
      "text/html": [
       "<div>\n",
       "<style scoped>\n",
       "    .dataframe tbody tr th:only-of-type {\n",
       "        vertical-align: middle;\n",
       "    }\n",
       "\n",
       "    .dataframe tbody tr th {\n",
       "        vertical-align: top;\n",
       "    }\n",
       "\n",
       "    .dataframe thead th {\n",
       "        text-align: right;\n",
       "    }\n",
       "</style>\n",
       "<table border=\"1\" class=\"dataframe\">\n",
       "  <thead>\n",
       "    <tr style=\"text-align: right;\">\n",
       "      <th>Status</th>\n",
       "      <th>Alive</th>\n",
       "      <th>Dead</th>\n",
       "    </tr>\n",
       "    <tr>\n",
       "      <th>6th Stage</th>\n",
       "      <th></th>\n",
       "      <th></th>\n",
       "    </tr>\n",
       "  </thead>\n",
       "  <tbody>\n",
       "    <tr>\n",
       "      <th>IIA</th>\n",
       "      <td>1105.228628</td>\n",
       "      <td>199.771372</td>\n",
       "    </tr>\n",
       "    <tr>\n",
       "      <th>IIB</th>\n",
       "      <td>957.017893</td>\n",
       "      <td>172.982107</td>\n",
       "    </tr>\n",
       "    <tr>\n",
       "      <th>IIIA</th>\n",
       "      <td>889.264414</td>\n",
       "      <td>160.735586</td>\n",
       "    </tr>\n",
       "    <tr>\n",
       "      <th>IIIB</th>\n",
       "      <td>56.743539</td>\n",
       "      <td>10.256461</td>\n",
       "    </tr>\n",
       "    <tr>\n",
       "      <th>IIIC</th>\n",
       "      <td>399.745527</td>\n",
       "      <td>72.254473</td>\n",
       "    </tr>\n",
       "  </tbody>\n",
       "</table>\n",
       "</div>"
      ],
      "text/plain": [
       "Status           Alive        Dead\n",
       "6th Stage                         \n",
       "IIA        1105.228628  199.771372\n",
       "IIB         957.017893  172.982107\n",
       "IIIA        889.264414  160.735586\n",
       "IIIB         56.743539   10.256461\n",
       "IIIC        399.745527   72.254473"
      ]
     },
     "metadata": {},
     "output_type": "display_data"
    },
    {
     "name": "stdout",
     "output_type": "stream",
     "text": [
      "Test statistic:  281.6484\n",
      "Test p-value: 0.0\n",
      "\n",
      "Reject null hypothesis. There is a statistically significant association between 6th Stage and cancer survival in the analyzed data.\n"
     ]
    }
   ],
   "source": [
    "sixstage_order = ['IIA','IIB','IIIA','IIIB','IIIC']\n",
    "chi2test('6th Stage', sixstage_order)"
   ]
  },
  {
   "cell_type": "markdown",
   "id": "2f3930ec",
   "metadata": {},
   "source": [
    "#### Question 13 | Is there a statistically significant association between A Stage level and cancer survival status (dead or alive) among patients?"
   ]
  },
  {
   "cell_type": "code",
   "execution_count": 54,
   "id": "4280adaf",
   "metadata": {},
   "outputs": [
    {
     "data": {
      "image/png": "[encoded data removed]",
      "text/plain": [
       "<Figure size 1080x360 with 1 Axes>"
      ]
     },
     "metadata": {
      "needs_background": "light"
     },
     "output_type": "display_data"
    },
    {
     "name": "stdout",
     "output_type": "stream",
     "text": [
      "Contingency Table: \n"
     ]
    },
    {
     "data": {
      "text/html": [
       "<div>\n",
       "<style scoped>\n",
       "    .dataframe tbody tr th:only-of-type {\n",
       "        vertical-align: middle;\n",
       "    }\n",
       "\n",
       "    .dataframe tbody tr th {\n",
       "        vertical-align: top;\n",
       "    }\n",
       "\n",
       "    .dataframe thead th {\n",
       "        text-align: right;\n",
       "    }\n",
       "</style>\n",
       "<table border=\"1\" class=\"dataframe\">\n",
       "  <thead>\n",
       "    <tr style=\"text-align: right;\">\n",
       "      <th>Status</th>\n",
       "      <th>Alive</th>\n",
       "      <th>Dead</th>\n",
       "    </tr>\n",
       "    <tr>\n",
       "      <th>A Stage</th>\n",
       "      <th></th>\n",
       "      <th></th>\n",
       "    </tr>\n",
       "  </thead>\n",
       "  <tbody>\n",
       "    <tr>\n",
       "      <th>Distant</th>\n",
       "      <td>57</td>\n",
       "      <td>35</td>\n",
       "    </tr>\n",
       "    <tr>\n",
       "      <th>Regional</th>\n",
       "      <td>3351</td>\n",
       "      <td>581</td>\n",
       "    </tr>\n",
       "  </tbody>\n",
       "</table>\n",
       "</div>"
      ],
      "text/plain": [
       "Status    Alive  Dead\n",
       "A Stage              \n",
       "Distant      57    35\n",
       "Regional   3351   581"
      ]
     },
     "metadata": {},
     "output_type": "display_data"
    },
    {
     "name": "stdout",
     "output_type": "stream",
     "text": [
      "Expected Frequency:\n"
     ]
    },
    {
     "data": {
      "text/html": [
       "<div>\n",
       "<style scoped>\n",
       "    .dataframe tbody tr th:only-of-type {\n",
       "        vertical-align: middle;\n",
       "    }\n",
       "\n",
       "    .dataframe tbody tr th {\n",
       "        vertical-align: top;\n",
       "    }\n",
       "\n",
       "    .dataframe thead th {\n",
       "        text-align: right;\n",
       "    }\n",
       "</style>\n",
       "<table border=\"1\" class=\"dataframe\">\n",
       "  <thead>\n",
       "    <tr style=\"text-align: right;\">\n",
       "      <th>Status</th>\n",
       "      <th>Alive</th>\n",
       "      <th>Dead</th>\n",
       "    </tr>\n",
       "    <tr>\n",
       "      <th>A Stage</th>\n",
       "      <th></th>\n",
       "      <th></th>\n",
       "    </tr>\n",
       "  </thead>\n",
       "  <tbody>\n",
       "    <tr>\n",
       "      <th>Distant</th>\n",
       "      <td>77.916501</td>\n",
       "      <td>14.083499</td>\n",
       "    </tr>\n",
       "    <tr>\n",
       "      <th>Regional</th>\n",
       "      <td>3330.083499</td>\n",
       "      <td>601.916501</td>\n",
       "    </tr>\n",
       "  </tbody>\n",
       "</table>\n",
       "</div>"
      ],
      "text/plain": [
       "Status          Alive        Dead\n",
       "A Stage                          \n",
       "Distant     77.916501   14.083499\n",
       "Regional  3330.083499  601.916501"
      ]
     },
     "metadata": {},
     "output_type": "display_data"
    },
    {
     "name": "stdout",
     "output_type": "stream",
     "text": [
      "Test statistic:  35.7647\n",
      "Test p-value: 0.0\n",
      "\n",
      "Reject null hypothesis. There is a statistically significant association between A Stage and cancer survival in the analyzed data.\n"
     ]
    }
   ],
   "source": [
    "Astage_order = ['Regional','Distant']\n",
    "chi2test('A Stage', Astage_order)"
   ]
  },
  {
   "cell_type": "markdown",
   "id": "bf510bc1",
   "metadata": {},
   "source": [
    "#### Question 14 | Is there a statistically significant association between the differentiated grade and cancer survival status (dead or alive) among patients?"
   ]
  },
  {
   "cell_type": "code",
   "execution_count": 55,
   "id": "889a86db",
   "metadata": {},
   "outputs": [
    {
     "data": {
      "image/png": "[encoded data removed]",
      "text/plain": [
       "<Figure size 1080x360 with 1 Axes>"
      ]
     },
     "metadata": {
      "needs_background": "light"
     },
     "output_type": "display_data"
    },
    {
     "name": "stdout",
     "output_type": "stream",
     "text": [
      "Contingency Table: \n"
     ]
    },
    {
     "data": {
      "text/html": [
       "<div>\n",
       "<style scoped>\n",
       "    .dataframe tbody tr th:only-of-type {\n",
       "        vertical-align: middle;\n",
       "    }\n",
       "\n",
       "    .dataframe tbody tr th {\n",
       "        vertical-align: top;\n",
       "    }\n",
       "\n",
       "    .dataframe thead th {\n",
       "        text-align: right;\n",
       "    }\n",
       "</style>\n",
       "<table border=\"1\" class=\"dataframe\">\n",
       "  <thead>\n",
       "    <tr style=\"text-align: right;\">\n",
       "      <th>Status</th>\n",
       "      <th>Alive</th>\n",
       "      <th>Dead</th>\n",
       "    </tr>\n",
       "    <tr>\n",
       "      <th>Grade</th>\n",
       "      <th></th>\n",
       "      <th></th>\n",
       "    </tr>\n",
       "  </thead>\n",
       "  <tbody>\n",
       "    <tr>\n",
       "      <th>Well differentiated; Grade I</th>\n",
       "      <td>504</td>\n",
       "      <td>39</td>\n",
       "    </tr>\n",
       "    <tr>\n",
       "      <th>Moderately differentiated; Grade II</th>\n",
       "      <td>2046</td>\n",
       "      <td>305</td>\n",
       "    </tr>\n",
       "    <tr>\n",
       "      <th>Poorly differentiated; Grade III</th>\n",
       "      <td>848</td>\n",
       "      <td>263</td>\n",
       "    </tr>\n",
       "    <tr>\n",
       "      <th>Undifferentiated; anaplastic; Grade IV</th>\n",
       "      <td>10</td>\n",
       "      <td>9</td>\n",
       "    </tr>\n",
       "  </tbody>\n",
       "</table>\n",
       "</div>"
      ],
      "text/plain": [
       "Status                                  Alive  Dead\n",
       "Grade                                              \n",
       "Well differentiated; Grade I              504    39\n",
       "Moderately differentiated; Grade II      2046   305\n",
       "Poorly differentiated; Grade III          848   263\n",
       "Undifferentiated; anaplastic; Grade IV     10     9"
      ]
     },
     "metadata": {},
     "output_type": "display_data"
    },
    {
     "name": "stdout",
     "output_type": "stream",
     "text": [
      "Expected Frequency:\n"
     ]
    },
    {
     "data": {
      "text/html": [
       "<div>\n",
       "<style scoped>\n",
       "    .dataframe tbody tr th:only-of-type {\n",
       "        vertical-align: middle;\n",
       "    }\n",
       "\n",
       "    .dataframe tbody tr th {\n",
       "        vertical-align: top;\n",
       "    }\n",
       "\n",
       "    .dataframe thead th {\n",
       "        text-align: right;\n",
       "    }\n",
       "</style>\n",
       "<table border=\"1\" class=\"dataframe\">\n",
       "  <thead>\n",
       "    <tr style=\"text-align: right;\">\n",
       "      <th>Status</th>\n",
       "      <th>Alive</th>\n",
       "      <th>Dead</th>\n",
       "    </tr>\n",
       "    <tr>\n",
       "      <th>Grade</th>\n",
       "      <th></th>\n",
       "      <th></th>\n",
       "    </tr>\n",
       "  </thead>\n",
       "  <tbody>\n",
       "    <tr>\n",
       "      <th>Well differentiated; Grade I</th>\n",
       "      <td>459.876740</td>\n",
       "      <td>83.123260</td>\n",
       "    </tr>\n",
       "    <tr>\n",
       "      <th>Moderately differentiated; Grade II</th>\n",
       "      <td>1991.105368</td>\n",
       "      <td>359.894632</td>\n",
       "    </tr>\n",
       "    <tr>\n",
       "      <th>Poorly differentiated; Grade III</th>\n",
       "      <td>940.926441</td>\n",
       "      <td>170.073559</td>\n",
       "    </tr>\n",
       "    <tr>\n",
       "      <th>Undifferentiated; anaplastic; Grade IV</th>\n",
       "      <td>16.091451</td>\n",
       "      <td>2.908549</td>\n",
       "    </tr>\n",
       "  </tbody>\n",
       "</table>\n",
       "</div>"
      ],
      "text/plain": [
       "Status                                        Alive        Dead\n",
       "Grade                                                          \n",
       "Well differentiated; Grade I             459.876740   83.123260\n",
       "Moderately differentiated; Grade II     1991.105368  359.894632\n",
       "Poorly differentiated; Grade III         940.926441  170.073559\n",
       "Undifferentiated; anaplastic; Grade IV    16.091451    2.908549"
      ]
     },
     "metadata": {},
     "output_type": "display_data"
    },
    {
     "name": "stdout",
     "output_type": "stream",
     "text": [
      "Test statistic:  112.5563\n",
      "Test p-value: 0.0\n",
      "\n",
      "Reject null hypothesis. There is a statistically significant association between Grade and cancer survival in the analyzed data.\n"
     ]
    }
   ],
   "source": [
    "grade_order = ['Well differentiated; Grade I','Moderately differentiated; Grade II','Poorly differentiated; Grade III','Undifferentiated; anaplastic; Grade IV']\n",
    "chi2test('Grade', grade_order)"
   ]
  },
  {
   "cell_type": "markdown",
   "id": "930309b6",
   "metadata": {},
   "source": [
    "#### Relationship between Numerical Features (Correlation)\n",
    "#### Question 15 | Is there any correlation between numerical features ['Age','Tumor Size','Regional Node Examined','Regional Node Positive','Survival Months'] ?"
   ]
  },
  {
   "cell_type": "code",
   "execution_count": 56,
   "id": "156bf5e6",
   "metadata": {},
   "outputs": [
    {
     "data": {
      "image/png": "[encoded data removed]",
      "text/plain": [
       "<Figure size 576x432 with 2 Axes>"
      ]
     },
     "metadata": {
      "needs_background": "light"
     },
     "output_type": "display_data"
    }
   ],
   "source": [
    "data_num = data[['Age','Tumor Size','Regional Node Examined','Regional Node Positive','Survival Months']]\n",
    "\n",
    "# calculate the Pearson's correlation between numerical features\n",
    "correlation = data_num.corr()\n",
    "\n",
    "# visualize the correlation in a heatmap\n",
    "plt.figure(figsize=(8,6))\n",
    "sns.heatmap(correlation, annot=True, cmap='plasma')\n",
    "plt.show()"
   ]
  },
  {
   "cell_type": "markdown",
   "id": "89e9718d",
   "metadata": {},
   "source": [
    "### Classification\n",
    "#### Data Pre-processing for Model Training"
   ]
  },
  {
   "cell_type": "code",
   "execution_count": 63,
   "id": "8d23b163",
   "metadata": {},
   "outputs": [
    {
     "name": "stdout",
     "output_type": "stream",
     "text": [
      "Training data:  (3219, 15)\n",
      "Test data:  (805, 15)\n"
     ]
    }
   ],
   "source": [
    "from sklearn.model_selection import train_test_split\n",
    "\n",
    "# split the dataset into train and test dataset in 80:20 ratios\n",
    "train, test = train_test_split(data, test_size=0.2, stratify=data['Status'], shuffle=True, random_state=122)\n",
    "\n",
    "# check the dimension of the training and test datasets\n",
    "print('Training data: ', train.shape)\n",
    "print('Test data: ', test.shape)"
   ]
  },
  {
   "cell_type": "code",
   "execution_count": 64,
   "id": "947c7824",
   "metadata": {},
   "outputs": [],
   "source": [
    "# segregate the feature matrix and target vector from the train and test datasets\n",
    "Xtrain = train.drop(columns=['Status'], axis=1)\n",
    "ytrain = train['Status']\n",
    "\n",
    "Xtest = test.drop(columns=['Status'], axis=1)\n",
    "ytest = test['Status']"
   ]
  },
  {
   "cell_type": "code",
   "execution_count": 65,
   "id": "ec6e7f10",
   "metadata": {},
   "outputs": [],
   "source": [
    "# create a ColumnTransformer to transform the categorical data\n",
    "from sklearn.compose import ColumnTransformer\n",
    "from sklearn.preprocessing import OrdinalEncoder, OneHotEncoder, LabelEncoder\n",
    "\n",
    "# specify ordinal features and nominal features\n",
    "ordinal_feats = ['T Stage','N Stage','6th Stage','Grade']\n",
    "nominal_feats = ['Race','Marital Status'] + ['A Stage','Estrogen Status','Progesterone Status']\n",
    "\n",
    "# Create a ColumnTransformer\n",
    "preprocessor = ColumnTransformer(\n",
    "    transformers=[\n",
    "        ('ordinal', OrdinalEncoder(), ordinal_feats),\n",
    "        ('nominal', OneHotEncoder(drop='first'), nominal_feats)\n",
    "    ],\n",
    "    remainder='passthrough')"
   ]
  },
  {
   "cell_type": "code",
   "execution_count": 66,
   "id": "a0f5b3f9",
   "metadata": {},
   "outputs": [],
   "source": [
    "# encode the feature matrix (train and test) into numerical format\n",
    "Xtrain_transformed = preprocessor.fit_transform(Xtrain)\n",
    "Xtest_transformed = preprocessor.transform(Xtest)"
   ]
  },
  {
   "cell_type": "code",
   "execution_count": 67,
   "id": "49bdddfe",
   "metadata": {},
   "outputs": [],
   "source": [
    "# encode the target feature (train and test) into numerical format\n",
    "encoder = LabelEncoder()\n",
    "ytrain_encoded = encoder.fit_transform(ytrain)\n",
    "ytest_encoded  = encoder.transform(ytest)"
   ]
  },
  {
   "cell_type": "markdown",
   "id": "c535ca9f",
   "metadata": {},
   "source": [
    "#### Model 1 | Decision Tree"
   ]
  },
  {
   "cell_type": "code",
   "execution_count": 95,
   "id": "aafcd476",
   "metadata": {},
   "outputs": [
    {
     "name": "stdout",
     "output_type": "stream",
     "text": [
      "Best Parameters:  {'criterion': 'gini', 'max_depth': 10, 'min_samples_leaf': 4, 'min_samples_split': 10, 'splitter': 'random'}\n",
      "Best AUROC:  0.8036583065772355\n"
     ]
    }
   ],
   "source": [
    "from sklearn.tree import DecisionTreeClassifier\n",
    "from sklearn.model_selection import GridSearchCV\n",
    "\n",
    "# create a Decision Tree Classifier\n",
    "tree = DecisionTreeClassifier(class_weight='balanced', random_state=122)\n",
    "\n",
    "# Define the hyperparameter grid\n",
    "param_grid = {\n",
    "    'criterion': ['gini', 'entropy'],\n",
    "    'splitter': ['best', 'random'],\n",
    "    'max_depth': [10, 20, 30],\n",
    "    'min_samples_split': [2, 5, 10],\n",
    "    'min_samples_leaf': [2, 4]\n",
    "}\n",
    "\n",
    "# create the GridSearchCV object\n",
    "grid_search_tree = GridSearchCV(tree, param_grid, cv=5, scoring='roc_auc', n_jobs=-1)\n",
    "\n",
    "# fit the grid search to the data\n",
    "grid_search_tree.fit(Xtrain_transformed, ytrain_encoded)\n",
    "\n",
    "# print the best parameters and the corresponding accuracy\n",
    "print('Best Parameters: ', grid_search_tree.best_params_)\n",
    "print('Best AUROC: ', grid_search_tree.best_score_)\n",
    "\n",
    "# get the best model\n",
    "best_tree = grid_search_tree.best_estimator_"
   ]
  },
  {
   "cell_type": "code",
   "execution_count": 96,
   "id": "7ceeb64e",
   "metadata": {},
   "outputs": [
    {
     "name": "stdout",
     "output_type": "stream",
     "text": [
      "Test Accuracy:  0.7888198757763976\n"
     ]
    }
   ],
   "source": [
    "# evaluate the best model on the test set\n",
    "test_accuracy = best_tree.score(Xtest_transformed, ytest_encoded)\n",
    "print('Test Accuracy: ', test_accuracy)"
   ]
  },
  {
   "cell_type": "code",
   "execution_count": 97,
   "id": "1b881e1d",
   "metadata": {},
   "outputs": [
    {
     "data": {
      "image/png": "[encoded data removed]",
      "text/plain": [
       "<Figure size 432x288 with 1 Axes>"
      ]
     },
     "metadata": {
      "needs_background": "light"
     },
     "output_type": "display_data"
    }
   ],
   "source": [
    "from sklearn.metrics import RocCurveDisplay\n",
    "\n",
    "# check the ROC AUC curve\n",
    "RocCurveDisplay.from_estimator(best_tree, Xtest_transformed, ytest_encoded)\n",
    "plt.show()"
   ]
  },
  {
   "cell_type": "code",
   "execution_count": 98,
   "id": "20c3680e",
   "metadata": {
    "scrolled": true
   },
   "outputs": [
    {
     "data": {
      "image/png": "[encoded data removed]",
      "text/plain": [
       "<Figure size 432x288 with 2 Axes>"
      ]
     },
     "metadata": {
      "needs_background": "light"
     },
     "output_type": "display_data"
    }
   ],
   "source": [
    "# visualize the confusion matrix using a heatmap\n",
    "from sklearn.metrics import confusion_matrix\n",
    "\n",
    "ypred_tree = best_tree.predict(Xtest_transformed)\n",
    "\n",
    "labels = ytest.unique()\n",
    "\n",
    "cm_tree = confusion_matrix(ytest_encoded, ypred_tree, normalize='true')\n",
    "plt.figure()\n",
    "sns.heatmap(cm_tree, annot=True, cmap='BuPu', xticklabels=labels, yticklabels=labels)\n",
    "plt.show()"
   ]
  },
  {
   "cell_type": "code",
   "execution_count": 99,
   "id": "862f4b70",
   "metadata": {},
   "outputs": [
    {
     "name": "stdout",
     "output_type": "stream",
     "text": [
      "              precision    recall  f1-score   support\n",
      "\n",
      "           0       0.93      0.82      0.87       682\n",
      "           1       0.38      0.63      0.48       123\n",
      "\n",
      "    accuracy                           0.79       805\n",
      "   macro avg       0.65      0.73      0.67       805\n",
      "weighted avg       0.84      0.79      0.81       805\n",
      "\n"
     ]
    }
   ],
   "source": [
    "from sklearn.metrics import classification_report\n",
    "# classification report\n",
    "print(classification_report(ytest_encoded, ypred_tree))"
   ]
  },
  {
   "cell_type": "markdown",
   "id": "9b6f45de",
   "metadata": {},
   "source": [
    "#### Model 2 | Random Forest"
   ]
  },
  {
   "cell_type": "code",
   "execution_count": 100,
   "id": "d2e8b339",
   "metadata": {},
   "outputs": [
    {
     "name": "stdout",
     "output_type": "stream",
     "text": [
      "Best Parameters:  {'max_depth': 10, 'min_samples_leaf': 4, 'min_samples_split': 2, 'n_estimators': 200}\n",
      "Best AURCO:  0.8588315452048836\n"
     ]
    }
   ],
   "source": [
    "from sklearn.ensemble import RandomForestClassifier\n",
    "\n",
    "# create a Random Forest Classifier\n",
    "forest = RandomForestClassifier(class_weight='balanced', random_state=122)\n",
    "\n",
    "# define the hyperparameter grid\n",
    "param_grid = {\n",
    "    'n_estimators': [100, 200, 300],\n",
    "    'max_depth': [10, 20, 30],\n",
    "    'min_samples_split': [2, 5, 10],\n",
    "    'min_samples_leaf': [2, 4]\n",
    "}\n",
    "\n",
    "# create the GridSearchCV object\n",
    "grid_search_forest = GridSearchCV(forest, param_grid, cv=5, scoring='roc_auc', n_jobs=-1)\n",
    "\n",
    "# fit the grid search to the data\n",
    "grid_search_forest.fit(Xtrain_transformed, ytrain_encoded)\n",
    "\n",
    "# print the best parameters and the corresponding accuracy\n",
    "print('Best Parameters: ', grid_search_forest.best_params_)\n",
    "print('Best AUROC: ', grid_search_forest.best_score_)\n",
    "\n",
    "# get the best model\n",
    "best_forest = grid_search_forest.best_estimator_"
   ]
  },
  {
   "cell_type": "code",
   "execution_count": 101,
   "id": "79535a11",
   "metadata": {},
   "outputs": [
    {
     "name": "stdout",
     "output_type": "stream",
     "text": [
      "Test Accuracy:  0.8993788819875776\n"
     ]
    }
   ],
   "source": [
    "# evaluate the best model on the test set\n",
    "test_accuracy = best_forest.score(Xtest_transformed, ytest_encoded)\n",
    "print('Test Accuracy: ', test_accuracy)"
   ]
  },
  {
   "cell_type": "code",
   "execution_count": 102,
   "id": "c35c1afb",
   "metadata": {},
   "outputs": [
    {
     "data": {
      "image/png": "[encoded data removed]",
      "text/plain": [
       "<Figure size 432x288 with 1 Axes>"
      ]
     },
     "metadata": {
      "needs_background": "light"
     },
     "output_type": "display_data"
    }
   ],
   "source": [
    "from sklearn.metrics import RocCurveDisplay\n",
    "\n",
    "# check the ROC AUC curve\n",
    "RocCurveDisplay.from_estimator(best_forest, Xtest_transformed, ytest_encoded)\n",
    "plt.show()"
   ]
  },
  {
   "cell_type": "code",
   "execution_count": 103,
   "id": "ab038724",
   "metadata": {},
   "outputs": [
    {
     "data": {
      "image/png": "[encoded data removed]",
      "text/plain": [
       "<Figure size 432x288 with 2 Axes>"
      ]
     },
     "metadata": {
      "needs_background": "light"
     },
     "output_type": "display_data"
    }
   ],
   "source": [
    "# visualize the confusion matrix using a heatmap\n",
    "ypred_forest = best_forest.predict(Xtest_transformed)\n",
    "\n",
    "labels = ytest.unique()\n",
    "\n",
    "cm_forest = confusion_matrix(ytest_encoded, ypred_forest, normalize='true')\n",
    "plt.figure()\n",
    "sns.heatmap(cm_forest, annot=True, cmap='BuPu', xticklabels=labels, yticklabels=labels)\n",
    "plt.show()"
   ]
  },
  {
   "cell_type": "code",
   "execution_count": 104,
   "id": "6a395d21",
   "metadata": {},
   "outputs": [
    {
     "name": "stdout",
     "output_type": "stream",
     "text": [
      "              precision    recall  f1-score   support\n",
      "\n",
      "           0       0.93      0.95      0.94       682\n",
      "           1       0.68      0.63      0.66       123\n",
      "\n",
      "    accuracy                           0.90       805\n",
      "   macro avg       0.81      0.79      0.80       805\n",
      "weighted avg       0.90      0.90      0.90       805\n",
      "\n"
     ]
    }
   ],
   "source": [
    "# classification report\n",
    "print(classification_report(ytest_encoded, ypred_forest))"
   ]
  },
  {
   "cell_type": "markdown",
   "id": "d0f4fd31",
   "metadata": {},
   "source": [
    "#### Model 3 | Logistic Regression"
   ]
  },
  {
   "cell_type": "code",
   "execution_count": 78,
   "id": "e5263d88",
   "metadata": {},
   "outputs": [],
   "source": [
    "# scale the feature matrix of train and test for logistic regression\n",
    "from sklearn.preprocessing import MinMaxScaler\n",
    "\n",
    "# create the MinMaxScaler object\n",
    "scaler = MinMaxScaler()\n",
    "Xtrain_scaled = scaler.fit_transform(Xtrain_transformed)\n",
    "Xtest_scaled = scaler.transform(Xtest_transformed)"
   ]
  },
  {
   "cell_type": "code",
   "execution_count": 89,
   "id": "7ca7404c",
   "metadata": {},
   "outputs": [
    {
     "name": "stdout",
     "output_type": "stream",
     "text": [
      "Best Parameters:  {'C': 1, 'penalty': 'l1', 'solver': 'liblinear'}\n",
      "Best AURCO:  0.8549331732986479\n"
     ]
    }
   ],
   "source": [
    "from sklearn.linear_model import LogisticRegression\n",
    "\n",
    "# create a logistic regression Classifier\n",
    "logreg = LogisticRegression(class_weight='balanced', random_state=122, max_iter=5000)\n",
    "\n",
    "# define the hyperparameter grid\n",
    "param_grid = {\n",
    "    'penalty': ['l1', 'l2'],\n",
    "    'C': [0.001, 0.01, 0.1, 1, 10, 100],\n",
    "    'solver': ['liblinear', 'saga']\n",
    "}\n",
    "\n",
    "# create the GridSearchCV object\n",
    "grid_search_logreg = GridSearchCV(logreg, param_grid, cv=5, scoring='roc_auc', n_jobs=-1)\n",
    "\n",
    "# fit the grid search to the data\n",
    "grid_search_logreg.fit(Xtrain_scaled, ytrain_encoded)\n",
    "\n",
    "# print the best parameters and the corresponding accuracy\n",
    "print('Best Parameters: ', grid_search_logreg.best_params_)\n",
    "print('Best AURCO: ', grid_search_logreg.best_score_)\n",
    "\n",
    "# get the best model\n",
    "best_logreg = grid_search_logreg.best_estimator_"
   ]
  },
  {
   "cell_type": "code",
   "execution_count": 90,
   "id": "1f845de3",
   "metadata": {},
   "outputs": [
    {
     "name": "stdout",
     "output_type": "stream",
     "text": [
      "Test Accuracy:  0.8248447204968944\n"
     ]
    }
   ],
   "source": [
    "# evaluate the best model on the test set\n",
    "test_accuracy = best_logreg.score(Xtest_scaled, ytest_encoded)\n",
    "print('Test Accuracy: ', test_accuracy)"
   ]
  },
  {
   "cell_type": "code",
   "execution_count": 91,
   "id": "4ccea754",
   "metadata": {},
   "outputs": [
    {
     "data": {
      "image/png": "[encoded data removed]",
      "text/plain": [
       "<Figure size 432x288 with 1 Axes>"
      ]
     },
     "metadata": {
      "needs_background": "light"
     },
     "output_type": "display_data"
    }
   ],
   "source": [
    "# check the ROC AUC curve\n",
    "\n",
    "RocCurveDisplay.from_estimator(best_logreg, Xtest_scaled, ytest_encoded)\n",
    "plt.show()"
   ]
  },
  {
   "cell_type": "code",
   "execution_count": 92,
   "id": "4608b67b",
   "metadata": {},
   "outputs": [
    {
     "data": {
      "image/png": "[encoded data removed]",
      "text/plain": [
       "<Figure size 432x288 with 2 Axes>"
      ]
     },
     "metadata": {
      "needs_background": "light"
     },
     "output_type": "display_data"
    }
   ],
   "source": [
    "# visualize the confusion matrix using a heatmap\n",
    "ypred_lr = best_logreg.predict(Xtest_scaled)\n",
    "\n",
    "labels = ytest.unique()\n",
    "\n",
    "cm_logistic = confusion_matrix(ytest_encoded, ypred_lr, normalize='true')\n",
    "plt.figure()\n",
    "sns.heatmap(cm_logistic, annot=True, cmap='BuPu', xticklabels=labels, yticklabels=labels)\n",
    "plt.show()"
   ]
  },
  {
   "cell_type": "code",
   "execution_count": 94,
   "id": "b690ba63",
   "metadata": {},
   "outputs": [
    {
     "name": "stdout",
     "output_type": "stream",
     "text": [
      "              precision    recall  f1-score   support\n",
      "\n",
      "           0       0.95      0.83      0.89       682\n",
      "           1       0.46      0.78      0.58       123\n",
      "\n",
      "    accuracy                           0.82       805\n",
      "   macro avg       0.71      0.81      0.73       805\n",
      "weighted avg       0.88      0.82      0.84       805\n",
      "\n"
     ]
    }
   ],
   "source": [
    "# classification report\n",
    "print(classification_report(ytest_encoded, ypred_lr))"
   ]
  },
  {
   "cell_type": "markdown",
   "id": "4fd76430",
   "metadata": {},
   "source": [
    "#### Model 4 | Naive Bayes"
   ]
  },
  {
   "cell_type": "code",
   "execution_count": 84,
   "id": "48d8603b",
   "metadata": {},
   "outputs": [],
   "source": [
    "from sklearn.naive_bayes import ComplementNB\n",
    "\n",
    "clf = ComplementNB()\n",
    "cNB = clf.fit(Xtrain_transformed, ytrain_encoded)"
   ]
  },
  {
   "cell_type": "code",
   "execution_count": 85,
   "id": "05d598fe",
   "metadata": {},
   "outputs": [
    {
     "data": {
      "image/png": "[encoded data removed]",
      "text/plain": [
       "<Figure size 432x288 with 1 Axes>"
      ]
     },
     "metadata": {
      "needs_background": "light"
     },
     "output_type": "display_data"
    }
   ],
   "source": [
    "# check the ROC AUC curve\n",
    "\n",
    "RocCurveDisplay.from_estimator(cNB, Xtest_transformed, ytest_encoded)\n",
    "plt.show()"
   ]
  },
  {
   "cell_type": "code",
   "execution_count": 86,
   "id": "7040541c",
   "metadata": {
    "scrolled": true
   },
   "outputs": [
    {
     "data": {
      "image/png": "[encoded data removed]",
      "text/plain": [
       "<Figure size 432x288 with 2 Axes>"
      ]
     },
     "metadata": {
      "needs_background": "light"
     },
     "output_type": "display_data"
    }
   ],
   "source": [
    "# visualize the confusion matrix using a heatmap\n",
    "ypred_NB = cNB.predict(Xtest_transformed)\n",
    "\n",
    "labels = ytest.unique()\n",
    "\n",
    "cm_cNB = confusion_matrix(ytest_encoded, ypred_NB, normalize='true')\n",
    "plt.figure()\n",
    "sns.heatmap(cm_cNB, annot=True, cmap='BuPu', xticklabels=labels, yticklabels=labels)\n",
    "plt.show()"
   ]
  },
  {
   "cell_type": "code",
   "execution_count": 87,
   "id": "67c5ac5d",
   "metadata": {},
   "outputs": [
    {
     "name": "stdout",
     "output_type": "stream",
     "text": [
      "              precision    recall  f1-score   support\n",
      "\n",
      "           0       0.94      0.85      0.90       682\n",
      "           1       0.47      0.72      0.57       123\n",
      "\n",
      "    accuracy                           0.83       805\n",
      "   macro avg       0.71      0.79      0.73       805\n",
      "weighted avg       0.87      0.83      0.85       805\n",
      "\n"
     ]
    }
   ],
   "source": [
    "# classification report\n",
    "print(classification_report(ytest_encoded, ypred_NB))"
   ]
  },
  {
   "cell_type": "markdown",
   "id": "69812d24",
   "metadata": {},
   "source": [
    "#### Comparison of Various Classification Models"
   ]
  },
  {
   "cell_type": "code",
   "execution_count": 107,
   "id": "e04b8b72",
   "metadata": {},
   "outputs": [],
   "source": [
    "# define a helper function to perform model evaluation based on key metrics\n",
    "from sklearn.metrics import precision_recall_fscore_support\n",
    "\n",
    "def performance_evaluation(X,y,clf,classifier_name=''):\n",
    "    ypred = clf.predict(X)\n",
    "    accuracy = clf.score(X,y)\n",
    "    precision, recall, fscore, support = precision_recall_fscore_support(y, ypred, average='macro', zero_division=0)\n",
    "    metricName = ['Accuracy','Precision','Recall','F1_Score']\n",
    "    metricValue = [accuracy,precision,recall,fscore]\n",
    "    res = pd.DataFrame(metricValue, index=metricName, columns=[classifier_name])\n",
    "    return res"
   ]
  },
  {
   "cell_type": "code",
   "execution_count": 108,
   "id": "bda146cb",
   "metadata": {
    "scrolled": true
   },
   "outputs": [
    {
     "data": {
      "text/html": [
       "<div>\n",
       "<style scoped>\n",
       "    .dataframe tbody tr th:only-of-type {\n",
       "        vertical-align: middle;\n",
       "    }\n",
       "\n",
       "    .dataframe tbody tr th {\n",
       "        vertical-align: top;\n",
       "    }\n",
       "\n",
       "    .dataframe thead th {\n",
       "        text-align: right;\n",
       "    }\n",
       "</style>\n",
       "<table border=\"1\" class=\"dataframe\">\n",
       "  <thead>\n",
       "    <tr style=\"text-align: right;\">\n",
       "      <th></th>\n",
       "      <th>Decision Tree</th>\n",
       "      <th>Random Forest</th>\n",
       "      <th>Logistic Regression</th>\n",
       "      <th>Naive Bayes</th>\n",
       "    </tr>\n",
       "  </thead>\n",
       "  <tbody>\n",
       "    <tr>\n",
       "      <th>Accuracy</th>\n",
       "      <td>0.788820</td>\n",
       "      <td>0.899379</td>\n",
       "      <td>0.824845</td>\n",
       "      <td>0.834783</td>\n",
       "    </tr>\n",
       "    <tr>\n",
       "      <th>Precision</th>\n",
       "      <td>0.654743</td>\n",
       "      <td>0.809544</td>\n",
       "      <td>0.705882</td>\n",
       "      <td>0.709149</td>\n",
       "    </tr>\n",
       "    <tr>\n",
       "      <th>Recall</th>\n",
       "      <td>0.725431</td>\n",
       "      <td>0.790680</td>\n",
       "      <td>0.806666</td>\n",
       "      <td>0.789208</td>\n",
       "    </tr>\n",
       "    <tr>\n",
       "      <th>F1_Score</th>\n",
       "      <td>0.673064</td>\n",
       "      <td>0.799616</td>\n",
       "      <td>0.733081</td>\n",
       "      <td>0.734980</td>\n",
       "    </tr>\n",
       "  </tbody>\n",
       "</table>\n",
       "</div>"
      ],
      "text/plain": [
       "           Decision Tree  Random Forest  Logistic Regression  Naive Bayes\n",
       "Accuracy        0.788820       0.899379             0.824845     0.834783\n",
       "Precision       0.654743       0.809544             0.705882     0.709149\n",
       "Recall          0.725431       0.790680             0.806666     0.789208\n",
       "F1_Score        0.673064       0.799616             0.733081     0.734980"
      ]
     },
     "metadata": {},
     "output_type": "display_data"
    }
   ],
   "source": [
    "# generate the performance summary for various models trained\n",
    "tree_summary = performance_evaluation(Xtest_transformed,ytest_encoded,best_tree,'Decision Tree')\n",
    "forest_summary = performance_evaluation(Xtest_transformed,ytest_encoded,best_forest,'Random Forest')\n",
    "logistic_summary = performance_evaluation(Xtest_scaled,ytest_encoded,best_logreg,'Logistic Regression')\n",
    "naivebayes_summary = performance_evaluation(Xtest_transformed,ytest_encoded,cNB,'Naive Bayes')\n",
    "\n",
    "# combine the summary of each model into a dataframe \n",
    "comparison_df = pd.concat([tree_summary,forest_summary,logistic_summary,naivebayes_summary], axis=1)\n",
    "\n",
    "# disply the summary dafaframe\n",
    "display(comparison_df)"
   ]
  },
  {
   "cell_type": "code",
   "execution_count": 109,
   "id": "57e614cc",
   "metadata": {},
   "outputs": [
    {
     "data": {
      "image/png": "[encoded data removed]",
      "text/plain": [
       "<Figure size 864x720 with 4 Axes>"
      ]
     },
     "metadata": {
      "needs_background": "light"
     },
     "output_type": "display_data"
    }
   ],
   "source": [
    "# confusion matrix for 4 classification models\n",
    "figure, axes = plt.subplots(2,2, figsize=(12,10))\n",
    "sns.heatmap(cm_tree, annot=True, cmap='BuPu', xticklabels=labels, yticklabels=labels, cbar=False, ax=axes[0,0])\n",
    "axes[0,0].set_title('Decision Tree', fontsize=14)\n",
    "sns.heatmap(cm_forest, annot=True, cmap='BuPu', xticklabels=labels, yticklabels=labels, cbar=False, ax=axes[0,1])\n",
    "axes[0,1].set_title('Random Forest', fontsize=14)\n",
    "sns.heatmap(cm_cNB, annot=True, cmap='BuPu', xticklabels=labels, yticklabels=labels, cbar=False, ax=axes[1,0])\n",
    "axes[1,0].set_title('Naive Bayes', fontsize=14)\n",
    "sns.heatmap(cm_logistic, annot=True, cmap='BuPu', xticklabels=labels, yticklabels=labels, cbar=False, ax=axes[1,1])\n",
    "axes[1,1].set_title('Logistic Regression', fontsize=14)\n",
    "figure.suptitle('Confusion Matrix of 4 Classication Models', fontsize=15)\n",
    "plt.tight_layout(pad=3)\n",
    "plt.show()"
   ]
  }
 ],
 "metadata": {
  "kernelspec": {
   "display_name": "Python 3 (ipykernel)",
   "language": "python",
   "name": "python3"
  },
  "language_info": {
   "codemirror_mode": {
    "name": "ipython",
    "version": 3
   },
   "file_extension": ".py",
   "mimetype": "text/x-python",
   "name": "python",
   "nbconvert_exporter": "python",
   "pygments_lexer": "ipython3",
   "version": "3.9.12"
  }
 },
 "nbformat": 4,
 "nbformat_minor": 5
}
